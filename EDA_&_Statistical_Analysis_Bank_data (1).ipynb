{
  "cells": [
    {
      "cell_type": "markdown",
      "source": [
        "Table of content \n",
        "1. Import libraries/dependencies, import dataset \n",
        "2. Data preprocessing \n",
        "3. EDA & Statistical Analysis"
      ],
      "metadata": {
        "id": "6SCdfTxdhmfv"
      }
    },
    {
      "cell_type": "code",
      "execution_count": 1,
      "metadata": {
        "id": "jysuRIOHyWMn",
        "colab": {
          "base_uri": "https://localhost:8080/"
        },
        "outputId": "adea37f8-59c6-4772-a708-f81ac94b8756"
      },
      "outputs": [
        {
          "output_type": "stream",
          "name": "stderr",
          "text": [
            "/usr/local/lib/python3.7/dist-packages/statsmodels/tools/_testing.py:19: FutureWarning: pandas.util.testing is deprecated. Use the functions in the public API at pandas.testing instead.\n",
            "  import pandas.util.testing as tm\n"
          ]
        }
      ],
      "source": [
        "import numpy as np\n",
        "import pandas as pd\n",
        "import seaborn as sns\n",
        "import matplotlib.pyplot as plt\n",
        "from scipy import stats\n",
        "from statsmodels.stats import weightstats as stests\n",
        "from scipy.stats import chi2_contingency\n",
        "import warnings\n",
        "warnings.filterwarnings(\"ignore\")"
      ]
    },
    {
      "cell_type": "code",
      "execution_count": 2,
      "metadata": {
        "colab": {
          "base_uri": "https://localhost:8080/",
          "height": 317
        },
        "id": "Hn8UjZE2ye2U",
        "outputId": "92970b12-c88b-4abd-fbc0-9598981dab41"
      },
      "outputs": [
        {
          "output_type": "execute_result",
          "data": {
            "text/plain": [
              "   age          job  marital            education default housing loan  \\\n",
              "0   48   technician  married  professional.course     yes      no   no   \n",
              "1   42       admin.  married          high.school      no      no   no   \n",
              "2   71       admin.  married             basic.4y      no     yes  yes   \n",
              "3   39  blue-collar  married             basic.9y      no     yes   no   \n",
              "4   67      retired  married  professional.course      no      no   no   \n",
              "\n",
              "     contact month day_of_week  ...  campaign  pdays  previous     poutcome  \\\n",
              "0   cellular   aug         tue  ...         1    999         0  nonexistent   \n",
              "1   cellular   nov         mon  ...         2    999         1      failure   \n",
              "2   cellular   may         fri  ...         4      3         2      success   \n",
              "3  telephone   oct         fri  ...         1    999         0  nonexistent   \n",
              "4  telephone   oct         mon  ...         2    999         0  nonexistent   \n",
              "\n",
              "  emp.var.rate  cons.price.idx  cons.conf.idx  euribor3m  nr.employed    y  \n",
              "0          1.4          93.444          -36.1      4.963       5228.1   no  \n",
              "1         -0.1          93.200          -42.0      4.191       5195.8  yes  \n",
              "2         -1.8          93.876          -40.0      0.684       5008.7  yes  \n",
              "3         -0.1          93.798          -40.4      4.918       5195.8  yes  \n",
              "4         -3.4          92.431          -26.9      0.739       5017.5   no  \n",
              "\n",
              "[5 rows x 21 columns]"
            ],
            "text/html": [
              "\n",
              "  <div id=\"df-4b44487f-0eec-4cc6-891e-362db4f3b068\">\n",
              "    <div class=\"colab-df-container\">\n",
              "      <div>\n",
              "<style scoped>\n",
              "    .dataframe tbody tr th:only-of-type {\n",
              "        vertical-align: middle;\n",
              "    }\n",
              "\n",
              "    .dataframe tbody tr th {\n",
              "        vertical-align: top;\n",
              "    }\n",
              "\n",
              "    .dataframe thead th {\n",
              "        text-align: right;\n",
              "    }\n",
              "</style>\n",
              "<table border=\"1\" class=\"dataframe\">\n",
              "  <thead>\n",
              "    <tr style=\"text-align: right;\">\n",
              "      <th></th>\n",
              "      <th>age</th>\n",
              "      <th>job</th>\n",
              "      <th>marital</th>\n",
              "      <th>education</th>\n",
              "      <th>default</th>\n",
              "      <th>housing</th>\n",
              "      <th>loan</th>\n",
              "      <th>contact</th>\n",
              "      <th>month</th>\n",
              "      <th>day_of_week</th>\n",
              "      <th>...</th>\n",
              "      <th>campaign</th>\n",
              "      <th>pdays</th>\n",
              "      <th>previous</th>\n",
              "      <th>poutcome</th>\n",
              "      <th>emp.var.rate</th>\n",
              "      <th>cons.price.idx</th>\n",
              "      <th>cons.conf.idx</th>\n",
              "      <th>euribor3m</th>\n",
              "      <th>nr.employed</th>\n",
              "      <th>y</th>\n",
              "    </tr>\n",
              "  </thead>\n",
              "  <tbody>\n",
              "    <tr>\n",
              "      <th>0</th>\n",
              "      <td>48</td>\n",
              "      <td>technician</td>\n",
              "      <td>married</td>\n",
              "      <td>professional.course</td>\n",
              "      <td>yes</td>\n",
              "      <td>no</td>\n",
              "      <td>no</td>\n",
              "      <td>cellular</td>\n",
              "      <td>aug</td>\n",
              "      <td>tue</td>\n",
              "      <td>...</td>\n",
              "      <td>1</td>\n",
              "      <td>999</td>\n",
              "      <td>0</td>\n",
              "      <td>nonexistent</td>\n",
              "      <td>1.4</td>\n",
              "      <td>93.444</td>\n",
              "      <td>-36.1</td>\n",
              "      <td>4.963</td>\n",
              "      <td>5228.1</td>\n",
              "      <td>no</td>\n",
              "    </tr>\n",
              "    <tr>\n",
              "      <th>1</th>\n",
              "      <td>42</td>\n",
              "      <td>admin.</td>\n",
              "      <td>married</td>\n",
              "      <td>high.school</td>\n",
              "      <td>no</td>\n",
              "      <td>no</td>\n",
              "      <td>no</td>\n",
              "      <td>cellular</td>\n",
              "      <td>nov</td>\n",
              "      <td>mon</td>\n",
              "      <td>...</td>\n",
              "      <td>2</td>\n",
              "      <td>999</td>\n",
              "      <td>1</td>\n",
              "      <td>failure</td>\n",
              "      <td>-0.1</td>\n",
              "      <td>93.200</td>\n",
              "      <td>-42.0</td>\n",
              "      <td>4.191</td>\n",
              "      <td>5195.8</td>\n",
              "      <td>yes</td>\n",
              "    </tr>\n",
              "    <tr>\n",
              "      <th>2</th>\n",
              "      <td>71</td>\n",
              "      <td>admin.</td>\n",
              "      <td>married</td>\n",
              "      <td>basic.4y</td>\n",
              "      <td>no</td>\n",
              "      <td>yes</td>\n",
              "      <td>yes</td>\n",
              "      <td>cellular</td>\n",
              "      <td>may</td>\n",
              "      <td>fri</td>\n",
              "      <td>...</td>\n",
              "      <td>4</td>\n",
              "      <td>3</td>\n",
              "      <td>2</td>\n",
              "      <td>success</td>\n",
              "      <td>-1.8</td>\n",
              "      <td>93.876</td>\n",
              "      <td>-40.0</td>\n",
              "      <td>0.684</td>\n",
              "      <td>5008.7</td>\n",
              "      <td>yes</td>\n",
              "    </tr>\n",
              "    <tr>\n",
              "      <th>3</th>\n",
              "      <td>39</td>\n",
              "      <td>blue-collar</td>\n",
              "      <td>married</td>\n",
              "      <td>basic.9y</td>\n",
              "      <td>no</td>\n",
              "      <td>yes</td>\n",
              "      <td>no</td>\n",
              "      <td>telephone</td>\n",
              "      <td>oct</td>\n",
              "      <td>fri</td>\n",
              "      <td>...</td>\n",
              "      <td>1</td>\n",
              "      <td>999</td>\n",
              "      <td>0</td>\n",
              "      <td>nonexistent</td>\n",
              "      <td>-0.1</td>\n",
              "      <td>93.798</td>\n",
              "      <td>-40.4</td>\n",
              "      <td>4.918</td>\n",
              "      <td>5195.8</td>\n",
              "      <td>yes</td>\n",
              "    </tr>\n",
              "    <tr>\n",
              "      <th>4</th>\n",
              "      <td>67</td>\n",
              "      <td>retired</td>\n",
              "      <td>married</td>\n",
              "      <td>professional.course</td>\n",
              "      <td>no</td>\n",
              "      <td>no</td>\n",
              "      <td>no</td>\n",
              "      <td>telephone</td>\n",
              "      <td>oct</td>\n",
              "      <td>mon</td>\n",
              "      <td>...</td>\n",
              "      <td>2</td>\n",
              "      <td>999</td>\n",
              "      <td>0</td>\n",
              "      <td>nonexistent</td>\n",
              "      <td>-3.4</td>\n",
              "      <td>92.431</td>\n",
              "      <td>-26.9</td>\n",
              "      <td>0.739</td>\n",
              "      <td>5017.5</td>\n",
              "      <td>no</td>\n",
              "    </tr>\n",
              "  </tbody>\n",
              "</table>\n",
              "<p>5 rows × 21 columns</p>\n",
              "</div>\n",
              "      <button class=\"colab-df-convert\" onclick=\"convertToInteractive('df-4b44487f-0eec-4cc6-891e-362db4f3b068')\"\n",
              "              title=\"Convert this dataframe to an interactive table.\"\n",
              "              style=\"display:none;\">\n",
              "        \n",
              "  <svg xmlns=\"http://www.w3.org/2000/svg\" height=\"24px\"viewBox=\"0 0 24 24\"\n",
              "       width=\"24px\">\n",
              "    <path d=\"M0 0h24v24H0V0z\" fill=\"none\"/>\n",
              "    <path d=\"M18.56 5.44l.94 2.06.94-2.06 2.06-.94-2.06-.94-.94-2.06-.94 2.06-2.06.94zm-11 1L8.5 8.5l.94-2.06 2.06-.94-2.06-.94L8.5 2.5l-.94 2.06-2.06.94zm10 10l.94 2.06.94-2.06 2.06-.94-2.06-.94-.94-2.06-.94 2.06-2.06.94z\"/><path d=\"M17.41 7.96l-1.37-1.37c-.4-.4-.92-.59-1.43-.59-.52 0-1.04.2-1.43.59L10.3 9.45l-7.72 7.72c-.78.78-.78 2.05 0 2.83L4 21.41c.39.39.9.59 1.41.59.51 0 1.02-.2 1.41-.59l7.78-7.78 2.81-2.81c.8-.78.8-2.07 0-2.86zM5.41 20L4 18.59l7.72-7.72 1.47 1.35L5.41 20z\"/>\n",
              "  </svg>\n",
              "      </button>\n",
              "      \n",
              "  <style>\n",
              "    .colab-df-container {\n",
              "      display:flex;\n",
              "      flex-wrap:wrap;\n",
              "      gap: 12px;\n",
              "    }\n",
              "\n",
              "    .colab-df-convert {\n",
              "      background-color: #E8F0FE;\n",
              "      border: none;\n",
              "      border-radius: 50%;\n",
              "      cursor: pointer;\n",
              "      display: none;\n",
              "      fill: #1967D2;\n",
              "      height: 32px;\n",
              "      padding: 0 0 0 0;\n",
              "      width: 32px;\n",
              "    }\n",
              "\n",
              "    .colab-df-convert:hover {\n",
              "      background-color: #E2EBFA;\n",
              "      box-shadow: 0px 1px 2px rgba(60, 64, 67, 0.3), 0px 1px 3px 1px rgba(60, 64, 67, 0.15);\n",
              "      fill: #174EA6;\n",
              "    }\n",
              "\n",
              "    [theme=dark] .colab-df-convert {\n",
              "      background-color: #3B4455;\n",
              "      fill: #D2E3FC;\n",
              "    }\n",
              "\n",
              "    [theme=dark] .colab-df-convert:hover {\n",
              "      background-color: #434B5C;\n",
              "      box-shadow: 0px 1px 3px 1px rgba(0, 0, 0, 0.15);\n",
              "      filter: drop-shadow(0px 1px 2px rgba(0, 0, 0, 0.3));\n",
              "      fill: #FFFFFF;\n",
              "    }\n",
              "  </style>\n",
              "\n",
              "      <script>\n",
              "        const buttonEl =\n",
              "          document.querySelector('#df-4b44487f-0eec-4cc6-891e-362db4f3b068 button.colab-df-convert');\n",
              "        buttonEl.style.display =\n",
              "          google.colab.kernel.accessAllowed ? 'block' : 'none';\n",
              "\n",
              "        async function convertToInteractive(key) {\n",
              "          const element = document.querySelector('#df-4b44487f-0eec-4cc6-891e-362db4f3b068');\n",
              "          const dataTable =\n",
              "            await google.colab.kernel.invokeFunction('convertToInteractive',\n",
              "                                                     [key], {});\n",
              "          if (!dataTable) return;\n",
              "\n",
              "          const docLinkHtml = 'Like what you see? Visit the ' +\n",
              "            '<a target=\"_blank\" href=https://colab.research.google.com/notebooks/data_table.ipynb>data table notebook</a>'\n",
              "            + ' to learn more about interactive tables.';\n",
              "          element.innerHTML = '';\n",
              "          dataTable['output_type'] = 'display_data';\n",
              "          await google.colab.output.renderOutput(dataTable, element);\n",
              "          const docLink = document.createElement('div');\n",
              "          docLink.innerHTML = docLinkHtml;\n",
              "          element.appendChild(docLink);\n",
              "        }\n",
              "      </script>\n",
              "    </div>\n",
              "  </div>\n",
              "  "
            ]
          },
          "metadata": {},
          "execution_count": 2
        }
      ],
      "source": [
        "df = pd.read_csv('/content/bank-additional-balanced.csv')\n",
        "df.head()"
      ]
    },
    {
      "cell_type": "code",
      "execution_count": 3,
      "metadata": {
        "colab": {
          "base_uri": "https://localhost:8080/"
        },
        "id": "zHbqoPNJ6iuu",
        "outputId": "732e93d9-84fc-426d-e61d-85e09b2c2022"
      },
      "outputs": [
        {
          "output_type": "execute_result",
          "data": {
            "text/plain": [
              "age               0\n",
              "job               0\n",
              "marital           0\n",
              "education         0\n",
              "default           0\n",
              "housing           0\n",
              "loan              0\n",
              "contact           0\n",
              "month             0\n",
              "day_of_week       0\n",
              "duration          0\n",
              "campaign          0\n",
              "pdays             0\n",
              "previous          0\n",
              "poutcome          0\n",
              "emp.var.rate      0\n",
              "cons.price.idx    0\n",
              "cons.conf.idx     0\n",
              "euribor3m         0\n",
              "nr.employed       0\n",
              "y                 0\n",
              "dtype: int64"
            ]
          },
          "metadata": {},
          "execution_count": 3
        }
      ],
      "source": [
        "# check for missing values \n",
        "df.isnull().sum()"
      ]
    },
    {
      "cell_type": "code",
      "source": [
        "df.info()"
      ],
      "metadata": {
        "colab": {
          "base_uri": "https://localhost:8080/"
        },
        "id": "guVcjF4l0gkp",
        "outputId": "a639630b-0390-4f14-9296-9757626b1c94"
      },
      "execution_count": 4,
      "outputs": [
        {
          "output_type": "stream",
          "name": "stdout",
          "text": [
            "<class 'pandas.core.frame.DataFrame'>\n",
            "RangeIndex: 4118 entries, 0 to 4117\n",
            "Data columns (total 21 columns):\n",
            " #   Column          Non-Null Count  Dtype  \n",
            "---  ------          --------------  -----  \n",
            " 0   age             4118 non-null   int64  \n",
            " 1   job             4118 non-null   object \n",
            " 2   marital         4118 non-null   object \n",
            " 3   education       4118 non-null   object \n",
            " 4   default         4118 non-null   object \n",
            " 5   housing         4118 non-null   object \n",
            " 6   loan            4118 non-null   object \n",
            " 7   contact         4118 non-null   object \n",
            " 8   month           4118 non-null   object \n",
            " 9   day_of_week     4118 non-null   object \n",
            " 10  duration        4118 non-null   int64  \n",
            " 11  campaign        4118 non-null   int64  \n",
            " 12  pdays           4118 non-null   int64  \n",
            " 13  previous        4118 non-null   int64  \n",
            " 14  poutcome        4118 non-null   object \n",
            " 15  emp.var.rate    4118 non-null   float64\n",
            " 16  cons.price.idx  4118 non-null   float64\n",
            " 17  cons.conf.idx   4118 non-null   float64\n",
            " 18  euribor3m       4118 non-null   float64\n",
            " 19  nr.employed     4118 non-null   float64\n",
            " 20  y               4118 non-null   object \n",
            "dtypes: float64(5), int64(5), object(11)\n",
            "memory usage: 675.7+ KB\n"
          ]
        }
      ]
    },
    {
      "cell_type": "markdown",
      "metadata": {
        "id": "z2wyVm1t6pkI"
      },
      "source": [
        "No missing values!!!! "
      ]
    },
    {
      "cell_type": "code",
      "execution_count": 5,
      "metadata": {
        "colab": {
          "base_uri": "https://localhost:8080/"
        },
        "id": "jr-RTjxJ7teZ",
        "outputId": "d85c0731-de2c-459e-d174-629ba20c6b3a"
      },
      "outputs": [
        {
          "output_type": "execute_result",
          "data": {
            "text/plain": [
              "age                 int64\n",
              "job                object\n",
              "marital            object\n",
              "education          object\n",
              "default            object\n",
              "housing            object\n",
              "loan               object\n",
              "contact            object\n",
              "month              object\n",
              "day_of_week        object\n",
              "duration            int64\n",
              "campaign            int64\n",
              "pdays               int64\n",
              "previous            int64\n",
              "poutcome           object\n",
              "emp.var.rate      float64\n",
              "cons.price.idx    float64\n",
              "cons.conf.idx     float64\n",
              "euribor3m         float64\n",
              "nr.employed       float64\n",
              "y                  object\n",
              "dtype: object"
            ]
          },
          "metadata": {},
          "execution_count": 5
        }
      ],
      "source": [
        "# check the data type for each feature \n",
        "df.dtypes"
      ]
    },
    {
      "cell_type": "code",
      "execution_count": 6,
      "metadata": {
        "colab": {
          "base_uri": "https://localhost:8080/"
        },
        "id": "KOodU4RY_HEY",
        "outputId": "6e37eada-9dfa-41d9-c486-beff3e0e5da2"
      },
      "outputs": [
        {
          "output_type": "stream",
          "name": "stdout",
          "text": [
            "Number of duplicates rows in dataset with same values in all cloumns: 0\n"
          ]
        }
      ],
      "source": [
        "# lets check for duplicates, find rows with duplicates across all columns\n",
        "duplicateRows = df[df.duplicated()] #\n",
        "print('Number of duplicates rows in dataset with same values in all cloumns:',duplicateRows.shape[0])"
      ]
    },
    {
      "cell_type": "code",
      "source": [
        "df.y.value_counts()"
      ],
      "metadata": {
        "colab": {
          "base_uri": "https://localhost:8080/"
        },
        "id": "ckRZAStE0rD3",
        "outputId": "e19e89b3-5678-4319-cca7-24e441fc516d"
      },
      "execution_count": 7,
      "outputs": [
        {
          "output_type": "execute_result",
          "data": {
            "text/plain": [
              "no     2059\n",
              "yes    2059\n",
              "Name: y, dtype: int64"
            ]
          },
          "metadata": {},
          "execution_count": 7
        }
      ]
    },
    {
      "cell_type": "code",
      "execution_count": 8,
      "metadata": {
        "colab": {
          "base_uri": "https://localhost:8080/"
        },
        "id": "YjvkTXG46nkr",
        "outputId": "520e7b94-4386-490b-8f07-3fbef631a593"
      },
      "outputs": [
        {
          "output_type": "stream",
          "name": "stdout",
          "text": [
            "Number of numerical feature in dataset: 10\n",
            "Number of categorical feature in dataset: 11\n"
          ]
        }
      ],
      "source": [
        "Numeric_features = df.select_dtypes(exclude='object')\n",
        "categorical_feature = df.select_dtypes(include='object')\n",
        "print('Number of numerical feature in dataset:', len(Numeric_features.columns))\n",
        "print('Number of categorical feature in dataset:', len(categorical_feature.columns))"
      ]
    },
    {
      "cell_type": "code",
      "execution_count": 9,
      "metadata": {
        "colab": {
          "base_uri": "https://localhost:8080/",
          "height": 424
        },
        "id": "PLjeQD7C8IgJ",
        "outputId": "095d86fd-dd85-4a86-e0c5-574b97071b6c"
      },
      "outputs": [
        {
          "output_type": "execute_result",
          "data": {
            "text/plain": [
              "      age  duration  campaign  pdays  previous  emp.var.rate  cons.price.idx  \\\n",
              "0      48        66         1    999         0           1.4          93.444   \n",
              "1      42       651         2    999         1          -0.1          93.200   \n",
              "2      71       466         4      3         2          -1.8          93.876   \n",
              "3      39       112         1    999         0          -0.1          93.798   \n",
              "4      67       270         2    999         0          -3.4          92.431   \n",
              "...   ...       ...       ...    ...       ...           ...             ...   \n",
              "4113   37       667         2    999         0          -0.1          93.200   \n",
              "4114   45       252         1    999         0          -2.9          92.469   \n",
              "4115   60      1640         1    999         0          -1.1          94.199   \n",
              "4116   49        80         1    999         0          -0.1          93.200   \n",
              "4117   46        60         5      3         1          -1.8          92.893   \n",
              "\n",
              "      cons.conf.idx  euribor3m  nr.employed  \n",
              "0             -36.1      4.963       5228.1  \n",
              "1             -42.0      4.191       5195.8  \n",
              "2             -40.0      0.684       5008.7  \n",
              "3             -40.4      4.918       5195.8  \n",
              "4             -26.9      0.739       5017.5  \n",
              "...             ...        ...          ...  \n",
              "4113          -42.0      4.076       5195.8  \n",
              "4114          -33.6      1.072       5076.2  \n",
              "4115          -37.5      0.876       4963.6  \n",
              "4116          -42.0      4.191       5195.8  \n",
              "4117          -46.2      1.354       5099.1  \n",
              "\n",
              "[4118 rows x 10 columns]"
            ],
            "text/html": [
              "\n",
              "  <div id=\"df-efb07b2b-4bfc-49b9-be97-dfa2147dfdd1\">\n",
              "    <div class=\"colab-df-container\">\n",
              "      <div>\n",
              "<style scoped>\n",
              "    .dataframe tbody tr th:only-of-type {\n",
              "        vertical-align: middle;\n",
              "    }\n",
              "\n",
              "    .dataframe tbody tr th {\n",
              "        vertical-align: top;\n",
              "    }\n",
              "\n",
              "    .dataframe thead th {\n",
              "        text-align: right;\n",
              "    }\n",
              "</style>\n",
              "<table border=\"1\" class=\"dataframe\">\n",
              "  <thead>\n",
              "    <tr style=\"text-align: right;\">\n",
              "      <th></th>\n",
              "      <th>age</th>\n",
              "      <th>duration</th>\n",
              "      <th>campaign</th>\n",
              "      <th>pdays</th>\n",
              "      <th>previous</th>\n",
              "      <th>emp.var.rate</th>\n",
              "      <th>cons.price.idx</th>\n",
              "      <th>cons.conf.idx</th>\n",
              "      <th>euribor3m</th>\n",
              "      <th>nr.employed</th>\n",
              "    </tr>\n",
              "  </thead>\n",
              "  <tbody>\n",
              "    <tr>\n",
              "      <th>0</th>\n",
              "      <td>48</td>\n",
              "      <td>66</td>\n",
              "      <td>1</td>\n",
              "      <td>999</td>\n",
              "      <td>0</td>\n",
              "      <td>1.4</td>\n",
              "      <td>93.444</td>\n",
              "      <td>-36.1</td>\n",
              "      <td>4.963</td>\n",
              "      <td>5228.1</td>\n",
              "    </tr>\n",
              "    <tr>\n",
              "      <th>1</th>\n",
              "      <td>42</td>\n",
              "      <td>651</td>\n",
              "      <td>2</td>\n",
              "      <td>999</td>\n",
              "      <td>1</td>\n",
              "      <td>-0.1</td>\n",
              "      <td>93.200</td>\n",
              "      <td>-42.0</td>\n",
              "      <td>4.191</td>\n",
              "      <td>5195.8</td>\n",
              "    </tr>\n",
              "    <tr>\n",
              "      <th>2</th>\n",
              "      <td>71</td>\n",
              "      <td>466</td>\n",
              "      <td>4</td>\n",
              "      <td>3</td>\n",
              "      <td>2</td>\n",
              "      <td>-1.8</td>\n",
              "      <td>93.876</td>\n",
              "      <td>-40.0</td>\n",
              "      <td>0.684</td>\n",
              "      <td>5008.7</td>\n",
              "    </tr>\n",
              "    <tr>\n",
              "      <th>3</th>\n",
              "      <td>39</td>\n",
              "      <td>112</td>\n",
              "      <td>1</td>\n",
              "      <td>999</td>\n",
              "      <td>0</td>\n",
              "      <td>-0.1</td>\n",
              "      <td>93.798</td>\n",
              "      <td>-40.4</td>\n",
              "      <td>4.918</td>\n",
              "      <td>5195.8</td>\n",
              "    </tr>\n",
              "    <tr>\n",
              "      <th>4</th>\n",
              "      <td>67</td>\n",
              "      <td>270</td>\n",
              "      <td>2</td>\n",
              "      <td>999</td>\n",
              "      <td>0</td>\n",
              "      <td>-3.4</td>\n",
              "      <td>92.431</td>\n",
              "      <td>-26.9</td>\n",
              "      <td>0.739</td>\n",
              "      <td>5017.5</td>\n",
              "    </tr>\n",
              "    <tr>\n",
              "      <th>...</th>\n",
              "      <td>...</td>\n",
              "      <td>...</td>\n",
              "      <td>...</td>\n",
              "      <td>...</td>\n",
              "      <td>...</td>\n",
              "      <td>...</td>\n",
              "      <td>...</td>\n",
              "      <td>...</td>\n",
              "      <td>...</td>\n",
              "      <td>...</td>\n",
              "    </tr>\n",
              "    <tr>\n",
              "      <th>4113</th>\n",
              "      <td>37</td>\n",
              "      <td>667</td>\n",
              "      <td>2</td>\n",
              "      <td>999</td>\n",
              "      <td>0</td>\n",
              "      <td>-0.1</td>\n",
              "      <td>93.200</td>\n",
              "      <td>-42.0</td>\n",
              "      <td>4.076</td>\n",
              "      <td>5195.8</td>\n",
              "    </tr>\n",
              "    <tr>\n",
              "      <th>4114</th>\n",
              "      <td>45</td>\n",
              "      <td>252</td>\n",
              "      <td>1</td>\n",
              "      <td>999</td>\n",
              "      <td>0</td>\n",
              "      <td>-2.9</td>\n",
              "      <td>92.469</td>\n",
              "      <td>-33.6</td>\n",
              "      <td>1.072</td>\n",
              "      <td>5076.2</td>\n",
              "    </tr>\n",
              "    <tr>\n",
              "      <th>4115</th>\n",
              "      <td>60</td>\n",
              "      <td>1640</td>\n",
              "      <td>1</td>\n",
              "      <td>999</td>\n",
              "      <td>0</td>\n",
              "      <td>-1.1</td>\n",
              "      <td>94.199</td>\n",
              "      <td>-37.5</td>\n",
              "      <td>0.876</td>\n",
              "      <td>4963.6</td>\n",
              "    </tr>\n",
              "    <tr>\n",
              "      <th>4116</th>\n",
              "      <td>49</td>\n",
              "      <td>80</td>\n",
              "      <td>1</td>\n",
              "      <td>999</td>\n",
              "      <td>0</td>\n",
              "      <td>-0.1</td>\n",
              "      <td>93.200</td>\n",
              "      <td>-42.0</td>\n",
              "      <td>4.191</td>\n",
              "      <td>5195.8</td>\n",
              "    </tr>\n",
              "    <tr>\n",
              "      <th>4117</th>\n",
              "      <td>46</td>\n",
              "      <td>60</td>\n",
              "      <td>5</td>\n",
              "      <td>3</td>\n",
              "      <td>1</td>\n",
              "      <td>-1.8</td>\n",
              "      <td>92.893</td>\n",
              "      <td>-46.2</td>\n",
              "      <td>1.354</td>\n",
              "      <td>5099.1</td>\n",
              "    </tr>\n",
              "  </tbody>\n",
              "</table>\n",
              "<p>4118 rows × 10 columns</p>\n",
              "</div>\n",
              "      <button class=\"colab-df-convert\" onclick=\"convertToInteractive('df-efb07b2b-4bfc-49b9-be97-dfa2147dfdd1')\"\n",
              "              title=\"Convert this dataframe to an interactive table.\"\n",
              "              style=\"display:none;\">\n",
              "        \n",
              "  <svg xmlns=\"http://www.w3.org/2000/svg\" height=\"24px\"viewBox=\"0 0 24 24\"\n",
              "       width=\"24px\">\n",
              "    <path d=\"M0 0h24v24H0V0z\" fill=\"none\"/>\n",
              "    <path d=\"M18.56 5.44l.94 2.06.94-2.06 2.06-.94-2.06-.94-.94-2.06-.94 2.06-2.06.94zm-11 1L8.5 8.5l.94-2.06 2.06-.94-2.06-.94L8.5 2.5l-.94 2.06-2.06.94zm10 10l.94 2.06.94-2.06 2.06-.94-2.06-.94-.94-2.06-.94 2.06-2.06.94z\"/><path d=\"M17.41 7.96l-1.37-1.37c-.4-.4-.92-.59-1.43-.59-.52 0-1.04.2-1.43.59L10.3 9.45l-7.72 7.72c-.78.78-.78 2.05 0 2.83L4 21.41c.39.39.9.59 1.41.59.51 0 1.02-.2 1.41-.59l7.78-7.78 2.81-2.81c.8-.78.8-2.07 0-2.86zM5.41 20L4 18.59l7.72-7.72 1.47 1.35L5.41 20z\"/>\n",
              "  </svg>\n",
              "      </button>\n",
              "      \n",
              "  <style>\n",
              "    .colab-df-container {\n",
              "      display:flex;\n",
              "      flex-wrap:wrap;\n",
              "      gap: 12px;\n",
              "    }\n",
              "\n",
              "    .colab-df-convert {\n",
              "      background-color: #E8F0FE;\n",
              "      border: none;\n",
              "      border-radius: 50%;\n",
              "      cursor: pointer;\n",
              "      display: none;\n",
              "      fill: #1967D2;\n",
              "      height: 32px;\n",
              "      padding: 0 0 0 0;\n",
              "      width: 32px;\n",
              "    }\n",
              "\n",
              "    .colab-df-convert:hover {\n",
              "      background-color: #E2EBFA;\n",
              "      box-shadow: 0px 1px 2px rgba(60, 64, 67, 0.3), 0px 1px 3px 1px rgba(60, 64, 67, 0.15);\n",
              "      fill: #174EA6;\n",
              "    }\n",
              "\n",
              "    [theme=dark] .colab-df-convert {\n",
              "      background-color: #3B4455;\n",
              "      fill: #D2E3FC;\n",
              "    }\n",
              "\n",
              "    [theme=dark] .colab-df-convert:hover {\n",
              "      background-color: #434B5C;\n",
              "      box-shadow: 0px 1px 3px 1px rgba(0, 0, 0, 0.15);\n",
              "      filter: drop-shadow(0px 1px 2px rgba(0, 0, 0, 0.3));\n",
              "      fill: #FFFFFF;\n",
              "    }\n",
              "  </style>\n",
              "\n",
              "      <script>\n",
              "        const buttonEl =\n",
              "          document.querySelector('#df-efb07b2b-4bfc-49b9-be97-dfa2147dfdd1 button.colab-df-convert');\n",
              "        buttonEl.style.display =\n",
              "          google.colab.kernel.accessAllowed ? 'block' : 'none';\n",
              "\n",
              "        async function convertToInteractive(key) {\n",
              "          const element = document.querySelector('#df-efb07b2b-4bfc-49b9-be97-dfa2147dfdd1');\n",
              "          const dataTable =\n",
              "            await google.colab.kernel.invokeFunction('convertToInteractive',\n",
              "                                                     [key], {});\n",
              "          if (!dataTable) return;\n",
              "\n",
              "          const docLinkHtml = 'Like what you see? Visit the ' +\n",
              "            '<a target=\"_blank\" href=https://colab.research.google.com/notebooks/data_table.ipynb>data table notebook</a>'\n",
              "            + ' to learn more about interactive tables.';\n",
              "          element.innerHTML = '';\n",
              "          dataTable['output_type'] = 'display_data';\n",
              "          await google.colab.output.renderOutput(dataTable, element);\n",
              "          const docLink = document.createElement('div');\n",
              "          docLink.innerHTML = docLinkHtml;\n",
              "          element.appendChild(docLink);\n",
              "        }\n",
              "      </script>\n",
              "    </div>\n",
              "  </div>\n",
              "  "
            ]
          },
          "metadata": {},
          "execution_count": 9
        }
      ],
      "source": [
        "# check out the numerical feature\n",
        "Numeric_features"
      ]
    },
    {
      "cell_type": "markdown",
      "metadata": {
        "id": "AD7f81mi9ott"
      },
      "source": [
        "Univariate analysis of numerical features:\n",
        "\n",
        "1. Check for spread/distribution \n",
        "2. Check for central tendencies\n",
        "3. Check for outliers"
      ]
    },
    {
      "cell_type": "code",
      "execution_count": 10,
      "metadata": {
        "colab": {
          "base_uri": "https://localhost:8080/"
        },
        "id": "_v-UJB76--fi",
        "outputId": "95278400-b3c8-452e-a3fa-71c1debb65db"
      },
      "outputs": [
        {
          "output_type": "stream",
          "name": "stdout",
          "text": [
            "Descriptive Statistics for age feature \n",
            " count    4118.00000\n",
            "mean       40.35017\n",
            "std        11.96551\n",
            "min        17.00000\n",
            "25%        31.00000\n",
            "50%        38.00000\n",
            "75%        48.00000\n",
            "max        98.00000\n",
            "Name: age, dtype: float64\n",
            "\n",
            "\n",
            "Descriptive Statistics for duration feature \n",
            " count    4118.000000\n",
            "mean      383.201797\n",
            "std       358.455961\n",
            "min         4.000000\n",
            "25%       143.000000\n",
            "50%       260.000000\n",
            "75%       522.000000\n",
            "max      3631.000000\n",
            "Name: duration, dtype: float64\n",
            "\n",
            "\n",
            "Descriptive Statistics for campaign feature \n",
            " count    4118.000000\n",
            "mean        2.307188\n",
            "std         2.256688\n",
            "min         1.000000\n",
            "25%         1.000000\n",
            "50%         2.000000\n",
            "75%         3.000000\n",
            "max        32.000000\n",
            "Name: campaign, dtype: float64\n",
            "\n",
            "\n",
            "Descriptive Statistics for pdays feature \n",
            " count    4118.000000\n",
            "mean      888.314230\n",
            "std       312.552613\n",
            "min         0.000000\n",
            "25%       999.000000\n",
            "50%       999.000000\n",
            "75%       999.000000\n",
            "max       999.000000\n",
            "Name: pdays, dtype: float64\n",
            "\n",
            "\n",
            "Descriptive Statistics for previous feature \n",
            " count    4118.000000\n",
            "mean        0.316659\n",
            "std         0.698567\n",
            "min         0.000000\n",
            "25%         0.000000\n",
            "50%         0.000000\n",
            "75%         0.000000\n",
            "max         6.000000\n",
            "Name: previous, dtype: float64\n",
            "\n",
            "\n",
            "Descriptive Statistics for emp.var.rate feature \n",
            " count    4118.000000\n",
            "mean       -0.505804\n",
            "std         1.711502\n",
            "min        -3.400000\n",
            "25%        -1.800000\n",
            "50%        -1.100000\n",
            "75%         1.400000\n",
            "max         1.400000\n",
            "Name: emp.var.rate, dtype: float64\n",
            "\n",
            "\n",
            "Descriptive Statistics for cons.price.idx feature \n",
            " count    4118.000000\n",
            "mean       93.475465\n",
            "std         0.623478\n",
            "min        92.201000\n",
            "25%        92.893000\n",
            "50%        93.444000\n",
            "75%        93.994000\n",
            "max        94.767000\n",
            "Name: cons.price.idx, dtype: float64\n",
            "\n",
            "\n",
            "Descriptive Statistics for cons.conf.idx feature \n",
            " count    4118.000000\n",
            "mean      -40.265857\n",
            "std         5.331657\n",
            "min       -50.800000\n",
            "25%       -42.700000\n",
            "50%       -41.800000\n",
            "75%       -36.400000\n",
            "max       -26.900000\n",
            "Name: cons.conf.idx, dtype: float64\n",
            "\n",
            "\n",
            "Descriptive Statistics for euribor3m feature \n",
            " count    4118.000000\n",
            "mean        2.945781\n",
            "std         1.886556\n",
            "min         0.634000\n",
            "25%         1.244000\n",
            "50%         1.799000\n",
            "75%         4.958000\n",
            "max         5.045000\n",
            "Name: euribor3m, dtype: float64\n",
            "\n",
            "\n",
            "Descriptive Statistics for nr.employed feature \n",
            " count    4118.000000\n",
            "mean     5134.785648\n",
            "std        86.847482\n",
            "min      4963.600000\n",
            "25%      5076.200000\n",
            "50%      5099.100000\n",
            "75%      5228.100000\n",
            "max      5228.100000\n",
            "Name: nr.employed, dtype: float64\n"
          ]
        }
      ],
      "source": [
        "# Check for spread/distrubtion and central tendencies of each numerical feature \n",
        "print('Descriptive Statistics for age feature','\\n', Numeric_features.age.describe())\n",
        "print('\\n')\n",
        "print('Descriptive Statistics for duration feature','\\n', Numeric_features.duration.describe())\n",
        "print('\\n')\n",
        "print('Descriptive Statistics for campaign feature','\\n', Numeric_features.campaign.describe())\n",
        "print('\\n')\n",
        "print('Descriptive Statistics for pdays feature', '\\n',Numeric_features.pdays.describe())\n",
        "print('\\n')\n",
        "print('Descriptive Statistics for previous feature', '\\n',Numeric_features.previous.describe())\n",
        "print('\\n')\n",
        "print('Descriptive Statistics for emp.var.rate feature', '\\n',Numeric_features['emp.var.rate'].describe())\n",
        "print('\\n')\n",
        "print('Descriptive Statistics for cons.price.idx feature', '\\n',Numeric_features['cons.price.idx'].describe())\n",
        "print('\\n')\n",
        "print('Descriptive Statistics for cons.conf.idx feature', '\\n',Numeric_features['cons.conf.idx'].describe())\n",
        "print('\\n')\n",
        "print('Descriptive Statistics for euribor3m feature', '\\n',Numeric_features['euribor3m'].describe())\n",
        "print('\\n')\n",
        "print('Descriptive Statistics for nr.employed feature', '\\n',Numeric_features['nr.employed'].describe())"
      ]
    },
    {
      "cell_type": "code",
      "execution_count": 11,
      "metadata": {
        "colab": {
          "base_uri": "https://localhost:8080/",
          "height": 514
        },
        "id": "ti6T-POuJc8G",
        "outputId": "963724a1-f297-4598-dd1f-1e020e9e2afe"
      },
      "outputs": [
        {
          "output_type": "execute_result",
          "data": {
            "text/plain": [
              "<matplotlib.axes._subplots.AxesSubplot at 0x7f72aba806d0>"
            ]
          },
          "metadata": {},
          "execution_count": 11
        },
        {
          "output_type": "display_data",
          "data": {
            "text/plain": [
              "<Figure size 1080x576 with 6 Axes>"
            ],
            "image/png": "[encoded data removed]"
          },
          "metadata": {
            "needs_background": "light"
          }
        }
      ],
      "source": [
        "fig = plt.figure(figsize=(15,8))\n",
        "\n",
        "plt.subplot(231)\n",
        "sns.boxplot(x=Numeric_features[\"age\"])\n",
        "\n",
        "plt.subplot(2,3,2)\n",
        "sns.boxplot(x=Numeric_features[\"duration\"])\n",
        "\n",
        "plt.subplot(233)\n",
        "sns.boxplot(x=Numeric_features[\"campaign\"])\n",
        "\n",
        "plt.subplot(2,3,4)\n",
        "sns.boxplot(x=Numeric_features[\"pdays\"])\n",
        "\n",
        "plt.subplot(235)\n",
        "sns.boxplot(x=Numeric_features[\"previous\"])\n",
        "\n",
        "plt.subplot(2,3,6)\n",
        "sns.boxplot(x=Numeric_features[\"emp.var.rate\"])\n"
      ]
    },
    {
      "cell_type": "code",
      "source": [
        "fig = plt.figure(figsize=(15,8))\n",
        "\n",
        "plt.subplot(231)\n",
        "sns.boxplot(x=Numeric_features[\"cons.price.idx\"])\n",
        "\n",
        "plt.subplot(2,3,2)\n",
        "sns.boxplot(x=Numeric_features[\"cons.conf.idx\"])\n",
        "\n",
        "plt.subplot(233)\n",
        "sns.boxplot(x=Numeric_features[\"euribor3m\"])\n",
        "\n",
        "plt.subplot(2,3,4)\n",
        "sns.boxplot(x=Numeric_features[\"nr.employed\"])\n",
        "\n"
      ],
      "metadata": {
        "colab": {
          "base_uri": "https://localhost:8080/",
          "height": 514
        },
        "id": "sQVRjuNo3F91",
        "outputId": "afe207c9-cd10-4067-e87a-25bb2edb6add"
      },
      "execution_count": 12,
      "outputs": [
        {
          "output_type": "execute_result",
          "data": {
            "text/plain": [
              "<matplotlib.axes._subplots.AxesSubplot at 0x7f72ab3cc250>"
            ]
          },
          "metadata": {},
          "execution_count": 12
        },
        {
          "output_type": "display_data",
          "data": {
            "text/plain": [
              "<Figure size 1080x576 with 4 Axes>"
            ],
            "image/png": "[encoded data removed]"
          },
          "metadata": {
            "needs_background": "light"
          }
        }
      ]
    },
    {
      "cell_type": "code",
      "source": [
        "#\n",
        "fig = plt.figure(figsize=(15,8))\n",
        "\n",
        "plt.subplot(231)\n",
        "sns.histplot(x=Numeric_features[\"age\"])\n",
        "\n",
        "plt.subplot(2,3,2)\n",
        "sns.histplot(x=Numeric_features[\"duration\"])\n",
        "\n",
        "plt.subplot(233)\n",
        "sns.histplot(x=Numeric_features[\"campaign\"])\n",
        "\n",
        "plt.subplot(2,3,4)\n",
        "sns.histplot(x=Numeric_features[\"pdays\"])\n",
        "\n",
        "plt.subplot(235)\n",
        "sns.histplot(x=Numeric_features[\"previous\"])\n",
        "\n",
        "plt.subplot(2,3,6)\n",
        "sns.histplot(x=Numeric_features[\"emp.var.rate\"])"
      ],
      "metadata": {
        "colab": {
          "base_uri": "https://localhost:8080/",
          "height": 514
        },
        "id": "yCapk4XPYM_b",
        "outputId": "660ac1a3-ff10-4fbf-cb07-3c45216c24b4"
      },
      "execution_count": 13,
      "outputs": [
        {
          "output_type": "execute_result",
          "data": {
            "text/plain": [
              "<matplotlib.axes._subplots.AxesSubplot at 0x7f72aae68490>"
            ]
          },
          "metadata": {},
          "execution_count": 13
        },
        {
          "output_type": "display_data",
          "data": {
            "text/plain": [
              "<Figure size 1080x576 with 6 Axes>"
            ],
            "image/png": "[encoded data removed]"
          },
          "metadata": {
            "needs_background": "light"
          }
        }
      ]
    },
    {
      "cell_type": "code",
      "source": [
        "fig = plt.figure(figsize=(15,8))\n",
        "\n",
        "plt.subplot(231)\n",
        "sns.histplot(x=Numeric_features[\"cons.price.idx\"])\n",
        "\n",
        "plt.subplot(2,3,2)\n",
        "sns.histplot(x=Numeric_features[\"cons.conf.idx\"])\n",
        "\n",
        "plt.subplot(233)\n",
        "sns.histplot(x=Numeric_features[\"euribor3m\"])\n",
        "\n",
        "plt.subplot(2,3,4)\n",
        "sns.histplot(x=Numeric_features[\"nr.employed\"])"
      ],
      "metadata": {
        "colab": {
          "base_uri": "https://localhost:8080/",
          "height": 514
        },
        "id": "q4MKLI-tYaI0",
        "outputId": "070ecb17-8269-41d8-fd63-daedc09c3d02"
      },
      "execution_count": 14,
      "outputs": [
        {
          "output_type": "execute_result",
          "data": {
            "text/plain": [
              "<matplotlib.axes._subplots.AxesSubplot at 0x7f72aac67f10>"
            ]
          },
          "metadata": {},
          "execution_count": 14
        },
        {
          "output_type": "display_data",
          "data": {
            "text/plain": [
              "<Figure size 1080x576 with 4 Axes>"
            ],
            "image/png": "[encoded data removed]"
          },
          "metadata": {
            "needs_background": "light"
          }
        }
      ]
    },
    {
      "cell_type": "markdown",
      "source": [
        "Outlier detection - Tukey IQR Method \n",
        "- Outliers/ extreme values in data are defined as: Values below Q1-1.5(Q3-Q1) or above Q3+1.5(Q3-Q1)"
      ],
      "metadata": {
        "id": "wqlurEjJVaei"
      }
    },
    {
      "cell_type": "code",
      "source": [
        "# function to help Identify outliers \n",
        "def find_outliers_tukey(x):\n",
        "    q1 = np.percentile(x, 25)\n",
        "    q3 = np.percentile(x, 75)\n",
        "    iqr = q3-q1 \n",
        "    floor = q1 - 1.5*iqr\n",
        "    ceiling = q3 + 1.5*iqr\n",
        "    outlier_indices = list(x.index[(x < floor)|(x > ceiling)])\n",
        "    outlier_values = list(x[outlier_indices])\n",
        "\n",
        "    return outlier_indices, outlier_values\n"
      ],
      "metadata": {
        "id": "Tp-gIV8aVdve"
      },
      "execution_count": 15,
      "outputs": []
    },
    {
      "cell_type": "code",
      "source": [
        "tukey_indices, tukey_values = find_outliers_tukey(df['age'])\n",
        "print(np.sort(tukey_values))\n",
        "print('\\n')\n",
        "print(len(tukey_values),'Outliers detected for age feature using tukey fance method')\n"
      ],
      "metadata": {
        "colab": {
          "base_uri": "https://localhost:8080/"
        },
        "id": "g3OpSPNwVgVR",
        "outputId": "99f79f08-fbf7-44bc-bdf3-6b3d7559830d"
      },
      "execution_count": 16,
      "outputs": [
        {
          "output_type": "stream",
          "name": "stdout",
          "text": [
            "[74 74 74 74 74 74 74 74 75 75 75 75 76 76 76 76 76 76 76 76 76 76 76 77\n",
            " 77 77 77 77 77 77 78 78 78 78 78 78 78 78 78 79 80 80 80 80 80 80 80 81\n",
            " 81 81 81 81 82 82 82 82 82 82 82 83 83 83 85 85 85 86 86 86 88 88 88 88\n",
            " 88 89 92 98 98]\n",
            "\n",
            "\n",
            "77 Outliers detected for age feature using tukey fance method\n"
          ]
        }
      ]
    },
    {
      "cell_type": "code",
      "source": [
        "tukey_indices, tukey_values = find_outliers_tukey(df['duration'])\n",
        "print(np.sort(tukey_values))\n",
        "print('\\n')\n",
        "print(len(tukey_values),'Outliers detected for duration feature using tukey fance method')"
      ],
      "metadata": {
        "colab": {
          "base_uri": "https://localhost:8080/"
        },
        "id": "H63cX-zzVuw4",
        "outputId": "bbc0a018-dc28-4c8a-c1fd-b42131e6f626"
      },
      "execution_count": 17,
      "outputs": [
        {
          "output_type": "stream",
          "name": "stdout",
          "text": [
            "[1092 1093 1094 1094 1095 1101 1104 1105 1106 1109 1109 1110 1111 1112\n",
            " 1118 1119 1120 1123 1125 1126 1127 1127 1129 1130 1130 1132 1132 1133\n",
            " 1134 1134 1135 1139 1139 1141 1142 1143 1143 1148 1149 1152 1152 1153\n",
            " 1153 1156 1156 1161 1166 1171 1174 1176 1178 1178 1180 1181 1182 1183\n",
            " 1184 1190 1192 1199 1201 1201 1203 1205 1206 1207 1210 1210 1211 1212\n",
            " 1217 1222 1224 1226 1227 1230 1236 1240 1242 1242 1246 1248 1254 1257\n",
            " 1258 1260 1262 1268 1275 1276 1285 1288 1288 1290 1297 1302 1303 1306\n",
            " 1307 1311 1317 1319 1321 1327 1332 1333 1334 1334 1336 1336 1340 1352\n",
            " 1353 1356 1357 1359 1359 1360 1360 1363 1363 1369 1370 1370 1391 1394\n",
            " 1395 1399 1407 1426 1435 1439 1440 1441 1446 1448 1452 1460 1461 1463\n",
            " 1469 1471 1472 1488 1489 1490 1491 1500 1505 1528 1531 1532 1543 1548\n",
            " 1550 1554 1574 1575 1584 1602 1608 1613 1624 1640 1642 1642 1649 1663\n",
            " 1665 1669 1689 1707 1723 1730 1735 1767 1777 1806 1833 1834 1855 1871\n",
            " 1946 1970 1973 1975 2015 2016 2028 2055 2089 2122 2203 2231 2301 2316\n",
            " 2372 2456 2462 2769 3076 3094 3183 3284 3631]\n",
            "\n",
            "\n",
            "205 Outliers detected for duration feature using tukey fance method\n"
          ]
        }
      ]
    },
    {
      "cell_type": "code",
      "source": [
        "tukey_indices, tukey_values = find_outliers_tukey(df['campaign'])\n",
        "print(np.sort(tukey_values))\n",
        "print('\\n')\n",
        "print(len(tukey_values),'Outliers detected for campaign feature using tukey fance method')"
      ],
      "metadata": {
        "colab": {
          "base_uri": "https://localhost:8080/"
        },
        "id": "Cqxm9qPnWMkO",
        "outputId": "6535e392-f887-4a91-f4da-906c243a69ca"
      },
      "execution_count": 18,
      "outputs": [
        {
          "output_type": "stream",
          "name": "stdout",
          "text": [
            "[ 7  7  7  7  7  7  7  7  7  7  7  7  7  7  7  7  7  7  7  7  7  7  7  7\n",
            "  7  7  7  7  7  7  7  7  7  7  7  7  7  7  7  7  7  7  7  7  7  8  8  8\n",
            "  8  8  8  8  8  8  8  8  8  8  8  8  8  8  8  8  8  8  8  8  8  8  8  8\n",
            "  8  9  9  9  9  9  9  9  9  9  9  9  9  9  9  9  9  9  9  9  9  9  9 10\n",
            " 10 10 10 10 10 10 10 10 10 10 10 10 10 10 10 10 10 11 11 11 11 11 11 11\n",
            " 11 11 11 11 11 11 11 12 12 12 12 12 13 13 13 14 14 14 14 14 14 14 15 15\n",
            " 16 16 16 16 16 17 17 17 17 18 18 19 20 20 21 21 24 26 27 27 28 32]\n",
            "\n",
            "\n",
            "166 Outliers detected for campaign feature using tukey fance method\n"
          ]
        }
      ]
    },
    {
      "cell_type": "code",
      "source": [
        "tukey_indices, tukey_values = find_outliers_tukey(df['pdays'])\n",
        "print(np.sort(tukey_values))\n",
        "print('\\n')\n",
        "print(len(tukey_values),'Outliers detected for pdays feature using tukey fance method')"
      ],
      "metadata": {
        "colab": {
          "base_uri": "https://localhost:8080/"
        },
        "id": "5Pmj6T6CWfS1",
        "outputId": "9fa53493-0c1a-43db-b7e9-ba75b03ade5e"
      },
      "execution_count": 19,
      "outputs": [
        {
          "output_type": "stream",
          "name": "stdout",
          "text": [
            "[ 0  0  0  0  1  1  1  1  2  2  2  2  2  2  2  2  2  2  2  2  2  2  2  2\n",
            "  2  2  2  3  3  3  3  3  3  3  3  3  3  3  3  3  3  3  3  3  3  3  3  3\n",
            "  3  3  3  3  3  3  3  3  3  3  3  3  3  3  3  3  3  3  3  3  3  3  3  3\n",
            "  3  3  3  3  3  3  3  3  3  3  3  3  3  3  3  3  3  3  3  3  3  3  3  3\n",
            "  3  3  3  3  3  3  3  3  3  3  3  3  3  3  3  3  3  3  3  3  3  3  3  3\n",
            "  3  3  3  3  3  3  3  3  3  3  3  3  3  3  3  3  3  3  3  3  3  3  3  3\n",
            "  3  3  3  3  3  3  3  3  3  3  3  3  3  3  3  3  3  3  3  3  3  3  3  3\n",
            "  3  3  3  3  3  3  3  4  4  4  4  4  4  4  4  4  4  4  4  4  4  4  4  4\n",
            "  4  4  4  4  4  4  4  4  4  4  4  5  5  5  5  5  5  5  5  5  5  5  5  5\n",
            "  5  5  6  6  6  6  6  6  6  6  6  6  6  6  6  6  6  6  6  6  6  6  6  6\n",
            "  6  6  6  6  6  6  6  6  6  6  6  6  6  6  6  6  6  6  6  6  6  6  6  6\n",
            "  6  6  6  6  6  6  6  6  6  6  6  6  6  6  6  6  6  6  6  6  6  6  6  6\n",
            "  6  6  6  6  6  6  6  6  6  6  6  6  6  6  6  6  6  6  6  6  6  6  6  6\n",
            "  6  6  6  6  6  6  6  6  6  6  6  6  6  6  6  6  6  6  6  6  6  6  6  6\n",
            "  6  6  6  6  6  6  6  6  6  6  6  7  7  7  7  7  7  7  7  7  7  7  7  7\n",
            "  7  7  7  7  7  7  7  7  8  8  9  9  9  9  9  9  9  9  9  9  9  9  9 10\n",
            " 10 10 10 10 10 10 10 10 10 10 10 11 11 11 11 11 11 11 11 12 12 12 12 12\n",
            " 12 12 12 12 12 12 12 12 12 12 13 13 13 13 13 13 13 13 13 13 13 13 13 13\n",
            " 13 13 13 14 14 14 14 14 15 15 15 15 15 15 15 15 16 16 16 16 17 18 18 21\n",
            " 22 25 26]\n",
            "\n",
            "\n",
            "459 Outliers detected for pdays feature using tukey fance method\n"
          ]
        }
      ]
    },
    {
      "cell_type": "code",
      "source": [
        "tukey_indices, tukey_values = find_outliers_tukey(df['previous'])\n",
        "print(np.sort(tukey_values))\n",
        "print('\\n')\n",
        "print(len(tukey_values),'Outliers detected for previous feature using tukey fance method')"
      ],
      "metadata": {
        "colab": {
          "base_uri": "https://localhost:8080/"
        },
        "id": "7qK18-rLWiGA",
        "outputId": "b8bb3884-cb63-4d74-c166-b4d55beaedb0"
      },
      "execution_count": 20,
      "outputs": [
        {
          "output_type": "stream",
          "name": "stdout",
          "text": [
            "[1 1 1 1 1 1 1 1 1 1 1 1 1 1 1 1 1 1 1 1 1 1 1 1 1 1 1 1 1 1 1 1 1 1 1 1 1\n",
            " 1 1 1 1 1 1 1 1 1 1 1 1 1 1 1 1 1 1 1 1 1 1 1 1 1 1 1 1 1 1 1 1 1 1 1 1 1\n",
            " 1 1 1 1 1 1 1 1 1 1 1 1 1 1 1 1 1 1 1 1 1 1 1 1 1 1 1 1 1 1 1 1 1 1 1 1 1\n",
            " 1 1 1 1 1 1 1 1 1 1 1 1 1 1 1 1 1 1 1 1 1 1 1 1 1 1 1 1 1 1 1 1 1 1 1 1 1\n",
            " 1 1 1 1 1 1 1 1 1 1 1 1 1 1 1 1 1 1 1 1 1 1 1 1 1 1 1 1 1 1 1 1 1 1 1 1 1\n",
            " 1 1 1 1 1 1 1 1 1 1 1 1 1 1 1 1 1 1 1 1 1 1 1 1 1 1 1 1 1 1 1 1 1 1 1 1 1\n",
            " 1 1 1 1 1 1 1 1 1 1 1 1 1 1 1 1 1 1 1 1 1 1 1 1 1 1 1 1 1 1 1 1 1 1 1 1 1\n",
            " 1 1 1 1 1 1 1 1 1 1 1 1 1 1 1 1 1 1 1 1 1 1 1 1 1 1 1 1 1 1 1 1 1 1 1 1 1\n",
            " 1 1 1 1 1 1 1 1 1 1 1 1 1 1 1 1 1 1 1 1 1 1 1 1 1 1 1 1 1 1 1 1 1 1 1 1 1\n",
            " 1 1 1 1 1 1 1 1 1 1 1 1 1 1 1 1 1 1 1 1 1 1 1 1 1 1 1 1 1 1 1 1 1 1 1 1 1\n",
            " 1 1 1 1 1 1 1 1 1 1 1 1 1 1 1 1 1 1 1 1 1 1 1 1 1 1 1 1 1 1 1 1 1 1 1 1 1\n",
            " 1 1 1 1 1 1 1 1 1 1 1 1 1 1 1 1 1 1 1 1 1 1 1 1 1 1 1 1 1 1 1 1 1 1 1 1 1\n",
            " 1 1 1 1 1 1 1 1 1 1 1 1 1 1 1 1 1 1 1 1 1 1 1 1 1 1 1 1 1 1 1 1 1 1 1 1 1\n",
            " 1 1 1 1 1 1 1 1 1 1 1 1 1 1 1 1 1 1 1 1 1 1 1 1 1 1 1 1 1 1 1 1 1 1 1 1 1\n",
            " 1 1 1 1 1 1 1 1 1 1 1 1 1 1 1 1 1 1 1 1 1 1 1 1 1 1 1 1 1 1 1 1 1 1 1 1 1\n",
            " 1 1 1 1 1 1 1 1 1 1 1 1 1 1 1 1 1 1 1 1 1 1 1 1 1 1 1 1 1 1 1 1 1 1 1 1 1\n",
            " 1 1 1 1 1 1 1 1 1 1 1 1 1 1 1 1 1 1 1 1 1 1 1 1 1 1 1 1 1 1 1 1 1 1 1 1 1\n",
            " 1 1 1 1 1 1 1 1 1 1 1 1 1 1 1 1 1 1 1 1 1 1 1 1 1 1 2 2 2 2 2 2 2 2 2 2 2\n",
            " 2 2 2 2 2 2 2 2 2 2 2 2 2 2 2 2 2 2 2 2 2 2 2 2 2 2 2 2 2 2 2 2 2 2 2 2 2\n",
            " 2 2 2 2 2 2 2 2 2 2 2 2 2 2 2 2 2 2 2 2 2 2 2 2 2 2 2 2 2 2 2 2 2 2 2 2 2\n",
            " 2 2 2 2 2 2 2 2 2 2 2 2 2 2 2 2 2 2 2 2 2 2 2 2 2 2 2 2 2 2 2 2 2 2 2 2 2\n",
            " 2 2 2 2 2 2 2 2 2 2 2 2 2 2 2 2 2 2 2 2 2 2 2 2 2 2 2 2 2 2 2 2 2 2 2 2 2\n",
            " 2 2 2 2 2 2 2 2 2 2 2 2 2 2 3 3 3 3 3 3 3 3 3 3 3 3 3 3 3 3 3 3 3 3 3 3 3\n",
            " 3 3 3 3 3 3 3 3 3 3 3 3 3 3 3 3 3 3 3 3 3 3 3 3 3 3 3 3 3 3 3 3 3 3 3 3 3\n",
            " 3 3 3 4 4 4 4 4 4 4 4 4 4 4 4 4 4 4 4 4 5 5 5 5 5 5 5 5 6]\n",
            "\n",
            "\n",
            "917 Outliers detected for previous feature using tukey fance method\n"
          ]
        }
      ]
    },
    {
      "cell_type": "code",
      "source": [
        "tukey_indices, tukey_values = find_outliers_tukey(df['emp.var.rate'])\n",
        "print(np.sort(tukey_values))\n",
        "print('\\n')\n",
        "print(len(tukey_values),'Outliers detected for emp.var.rate feature using tukey fance method')"
      ],
      "metadata": {
        "colab": {
          "base_uri": "https://localhost:8080/"
        },
        "id": "CL-pRs5kauXa",
        "outputId": "bd8f1fc2-81da-41ae-c2e2-e1cb5482345d"
      },
      "execution_count": 21,
      "outputs": [
        {
          "output_type": "stream",
          "name": "stdout",
          "text": [
            "[]\n",
            "\n",
            "\n",
            "0 Outliers detected for emp.var.rate feature using tukey fance method\n"
          ]
        }
      ]
    },
    {
      "cell_type": "code",
      "source": [
        "tukey_indices, tukey_values = find_outliers_tukey(df['cons.price.idx'])\n",
        "print(np.sort(tukey_values))\n",
        "print('\\n')\n",
        "print(len(tukey_values),'Outliers detected for cons.price.idx feature using tukey fance method')"
      ],
      "metadata": {
        "colab": {
          "base_uri": "https://localhost:8080/"
        },
        "id": "U6onjNp3ax8t",
        "outputId": "740497a1-21ec-4b81-a40f-c09e42b746fd"
      },
      "execution_count": 22,
      "outputs": [
        {
          "output_type": "stream",
          "name": "stdout",
          "text": [
            "[]\n",
            "\n",
            "\n",
            "0 Outliers detected for cons.price.idx feature using tukey fance method\n"
          ]
        }
      ]
    },
    {
      "cell_type": "code",
      "source": [
        "tukey_indices, tukey_values = find_outliers_tukey(df['cons.conf.idx'])\n",
        "print(np.sort(tukey_values))\n",
        "print('\\n')\n",
        "print(len(tukey_values),'Outliers detected for cons.conf.idx feature using tukey fance method')"
      ],
      "metadata": {
        "colab": {
          "base_uri": "https://localhost:8080/"
        },
        "id": "UQvJWo8Ka0KA",
        "outputId": "36888524-54c9-40e3-9c78-8b8d610615c5"
      },
      "execution_count": 23,
      "outputs": [
        {
          "output_type": "stream",
          "name": "stdout",
          "text": [
            "[-26.9 -26.9 -26.9 -26.9 -26.9 -26.9 -26.9 -26.9 -26.9 -26.9 -26.9 -26.9\n",
            " -26.9 -26.9 -26.9 -26.9 -26.9 -26.9 -26.9 -26.9 -26.9 -26.9 -26.9 -26.9\n",
            " -26.9 -26.9 -26.9 -26.9 -26.9 -26.9 -26.9 -26.9 -26.9 -26.9 -26.9 -26.9\n",
            " -26.9 -26.9 -26.9 -26.9 -26.9 -26.9 -26.9 -26.9 -26.9 -26.9 -26.9 -26.9\n",
            " -26.9 -26.9 -26.9 -26.9 -26.9 -26.9 -26.9 -26.9 -26.9 -26.9 -26.9 -26.9\n",
            " -26.9 -26.9 -26.9 -26.9 -26.9 -26.9 -26.9 -26.9 -26.9 -26.9 -26.9 -26.9\n",
            " -26.9 -26.9 -26.9 -26.9 -26.9 -26.9 -26.9 -26.9 -26.9 -26.9 -26.9 -26.9\n",
            " -26.9 -26.9 -26.9 -26.9 -26.9 -26.9 -26.9 -26.9 -26.9 -26.9 -26.9]\n",
            "\n",
            "\n",
            "95 Outliers detected for cons.conf.idx feature using tukey fance method\n"
          ]
        }
      ]
    },
    {
      "cell_type": "code",
      "source": [
        "tukey_indices, tukey_values = find_outliers_tukey(df['euribor3m'])\n",
        "print(np.sort(tukey_values))\n",
        "print('\\n')\n",
        "print(len(tukey_values),'Outliers detected for euribor3m feature using tukey fance method')"
      ],
      "metadata": {
        "colab": {
          "base_uri": "https://localhost:8080/"
        },
        "id": "xtsF-RdJa12D",
        "outputId": "6dc0f7cb-3cc8-4113-a7e2-97b95399477e"
      },
      "execution_count": 24,
      "outputs": [
        {
          "output_type": "stream",
          "name": "stdout",
          "text": [
            "[]\n",
            "\n",
            "\n",
            "0 Outliers detected for euribor3m feature using tukey fance method\n"
          ]
        }
      ]
    },
    {
      "cell_type": "code",
      "source": [
        "tukey_indices, tukey_values = find_outliers_tukey(df['nr.employed'])\n",
        "print(np.sort(tukey_values))\n",
        "print('\\n')\n",
        "print(len(tukey_values),'Outliers detected for nr.employed feature using tukey fance method')"
      ],
      "metadata": {
        "colab": {
          "base_uri": "https://localhost:8080/"
        },
        "id": "wiT7lWZxa4Va",
        "outputId": "20c75569-b188-469d-9a8c-5d78cc968cef"
      },
      "execution_count": 25,
      "outputs": [
        {
          "output_type": "stream",
          "name": "stdout",
          "text": [
            "[]\n",
            "\n",
            "\n",
            "0 Outliers detected for nr.employed feature using tukey fance method\n"
          ]
        }
      ]
    },
    {
      "cell_type": "markdown",
      "source": [
        "Numeric to numeric bivariate statistics"
      ],
      "metadata": {
        "id": "Y32p0Qz4i96n"
      }
    },
    {
      "cell_type": "code",
      "execution_count": 26,
      "metadata": {
        "colab": {
          "base_uri": "https://localhost:8080/",
          "height": 612
        },
        "id": "QxiBppRLOYAm",
        "outputId": "5deeded3-e4e6-4a6d-fa10-b64c4d7403d4"
      },
      "outputs": [
        {
          "output_type": "execute_result",
          "data": {
            "text/plain": [
              "<matplotlib.axes._subplots.AxesSubplot at 0x7f72ab185c90>"
            ]
          },
          "metadata": {},
          "execution_count": 26
        },
        {
          "output_type": "display_data",
          "data": {
            "text/plain": [
              "<Figure size 1440x720 with 2 Axes>"
            ],
            "image/png": "[encoded data removed]"
          },
          "metadata": {
            "needs_background": "light"
          }
        }
      ],
      "source": [
        "#plot corrlation using heatmap \n",
        "plt.figure(figsize=(20,10))\n",
        "corr = Numeric_features.corr()\n",
        "sns.heatmap(corr,annot= True, cmap = 'YlGnBu', linewidths=1)"
      ]
    },
    {
      "cell_type": "code",
      "source": [
        "Numeric_features.corr()"
      ],
      "metadata": {
        "colab": {
          "base_uri": "https://localhost:8080/",
          "height": 363
        },
        "id": "91uHHK9x3oGo",
        "outputId": "3403a34d-0c86-4b7c-d52f-013837e407d8"
      },
      "execution_count": 27,
      "outputs": [
        {
          "output_type": "execute_result",
          "data": {
            "text/plain": [
              "                     age  duration  campaign     pdays  previous  \\\n",
              "age             1.000000  0.005834  0.011163 -0.063067  0.073240   \n",
              "duration        0.005834  1.000000 -0.026167  0.033681 -0.052713   \n",
              "campaign        0.011163 -0.026167  1.000000  0.077691 -0.094846   \n",
              "pdays          -0.063067  0.033681  0.077691  1.000000 -0.706837   \n",
              "previous        0.073240 -0.052713 -0.094846 -0.706837  1.000000   \n",
              "emp.var.rate   -0.050321  0.069354  0.180624  0.329867 -0.386271   \n",
              "cons.price.idx -0.007546  0.059919  0.121671  0.035100 -0.062805   \n",
              "cons.conf.idx   0.132429 -0.063948 -0.035025 -0.153717  0.071722   \n",
              "euribor3m      -0.052888  0.054998  0.168272  0.380717 -0.450920   \n",
              "nr.employed    -0.087067  0.058492  0.169426  0.465027 -0.521944   \n",
              "\n",
              "                emp.var.rate  cons.price.idx  cons.conf.idx  euribor3m  \\\n",
              "age                -0.050321       -0.007546       0.132429  -0.052888   \n",
              "duration            0.069354        0.059919      -0.063948   0.054998   \n",
              "campaign            0.180624        0.121671      -0.035025   0.168272   \n",
              "pdays               0.329867        0.035100      -0.153717   0.380717   \n",
              "previous           -0.386271       -0.062805       0.071722  -0.450920   \n",
              "emp.var.rate        1.000000        0.708890      -0.031439   0.957492   \n",
              "cons.price.idx      0.708890        1.000000      -0.127598   0.557035   \n",
              "cons.conf.idx      -0.031439       -0.127598       1.000000   0.070534   \n",
              "euribor3m           0.957492        0.557035       0.070534   1.000000   \n",
              "nr.employed         0.865720        0.330437      -0.069622   0.939952   \n",
              "\n",
              "                nr.employed  \n",
              "age               -0.087067  \n",
              "duration           0.058492  \n",
              "campaign           0.169426  \n",
              "pdays              0.465027  \n",
              "previous          -0.521944  \n",
              "emp.var.rate       0.865720  \n",
              "cons.price.idx     0.330437  \n",
              "cons.conf.idx     -0.069622  \n",
              "euribor3m          0.939952  \n",
              "nr.employed        1.000000  "
            ],
            "text/html": [
              "\n",
              "  <div id=\"df-3f62625d-6fee-42d4-85c2-1ee0f3cd0959\">\n",
              "    <div class=\"colab-df-container\">\n",
              "      <div>\n",
              "<style scoped>\n",
              "    .dataframe tbody tr th:only-of-type {\n",
              "        vertical-align: middle;\n",
              "    }\n",
              "\n",
              "    .dataframe tbody tr th {\n",
              "        vertical-align: top;\n",
              "    }\n",
              "\n",
              "    .dataframe thead th {\n",
              "        text-align: right;\n",
              "    }\n",
              "</style>\n",
              "<table border=\"1\" class=\"dataframe\">\n",
              "  <thead>\n",
              "    <tr style=\"text-align: right;\">\n",
              "      <th></th>\n",
              "      <th>age</th>\n",
              "      <th>duration</th>\n",
              "      <th>campaign</th>\n",
              "      <th>pdays</th>\n",
              "      <th>previous</th>\n",
              "      <th>emp.var.rate</th>\n",
              "      <th>cons.price.idx</th>\n",
              "      <th>cons.conf.idx</th>\n",
              "      <th>euribor3m</th>\n",
              "      <th>nr.employed</th>\n",
              "    </tr>\n",
              "  </thead>\n",
              "  <tbody>\n",
              "    <tr>\n",
              "      <th>age</th>\n",
              "      <td>1.000000</td>\n",
              "      <td>0.005834</td>\n",
              "      <td>0.011163</td>\n",
              "      <td>-0.063067</td>\n",
              "      <td>0.073240</td>\n",
              "      <td>-0.050321</td>\n",
              "      <td>-0.007546</td>\n",
              "      <td>0.132429</td>\n",
              "      <td>-0.052888</td>\n",
              "      <td>-0.087067</td>\n",
              "    </tr>\n",
              "    <tr>\n",
              "      <th>duration</th>\n",
              "      <td>0.005834</td>\n",
              "      <td>1.000000</td>\n",
              "      <td>-0.026167</td>\n",
              "      <td>0.033681</td>\n",
              "      <td>-0.052713</td>\n",
              "      <td>0.069354</td>\n",
              "      <td>0.059919</td>\n",
              "      <td>-0.063948</td>\n",
              "      <td>0.054998</td>\n",
              "      <td>0.058492</td>\n",
              "    </tr>\n",
              "    <tr>\n",
              "      <th>campaign</th>\n",
              "      <td>0.011163</td>\n",
              "      <td>-0.026167</td>\n",
              "      <td>1.000000</td>\n",
              "      <td>0.077691</td>\n",
              "      <td>-0.094846</td>\n",
              "      <td>0.180624</td>\n",
              "      <td>0.121671</td>\n",
              "      <td>-0.035025</td>\n",
              "      <td>0.168272</td>\n",
              "      <td>0.169426</td>\n",
              "    </tr>\n",
              "    <tr>\n",
              "      <th>pdays</th>\n",
              "      <td>-0.063067</td>\n",
              "      <td>0.033681</td>\n",
              "      <td>0.077691</td>\n",
              "      <td>1.000000</td>\n",
              "      <td>-0.706837</td>\n",
              "      <td>0.329867</td>\n",
              "      <td>0.035100</td>\n",
              "      <td>-0.153717</td>\n",
              "      <td>0.380717</td>\n",
              "      <td>0.465027</td>\n",
              "    </tr>\n",
              "    <tr>\n",
              "      <th>previous</th>\n",
              "      <td>0.073240</td>\n",
              "      <td>-0.052713</td>\n",
              "      <td>-0.094846</td>\n",
              "      <td>-0.706837</td>\n",
              "      <td>1.000000</td>\n",
              "      <td>-0.386271</td>\n",
              "      <td>-0.062805</td>\n",
              "      <td>0.071722</td>\n",
              "      <td>-0.450920</td>\n",
              "      <td>-0.521944</td>\n",
              "    </tr>\n",
              "    <tr>\n",
              "      <th>emp.var.rate</th>\n",
              "      <td>-0.050321</td>\n",
              "      <td>0.069354</td>\n",
              "      <td>0.180624</td>\n",
              "      <td>0.329867</td>\n",
              "      <td>-0.386271</td>\n",
              "      <td>1.000000</td>\n",
              "      <td>0.708890</td>\n",
              "      <td>-0.031439</td>\n",
              "      <td>0.957492</td>\n",
              "      <td>0.865720</td>\n",
              "    </tr>\n",
              "    <tr>\n",
              "      <th>cons.price.idx</th>\n",
              "      <td>-0.007546</td>\n",
              "      <td>0.059919</td>\n",
              "      <td>0.121671</td>\n",
              "      <td>0.035100</td>\n",
              "      <td>-0.062805</td>\n",
              "      <td>0.708890</td>\n",
              "      <td>1.000000</td>\n",
              "      <td>-0.127598</td>\n",
              "      <td>0.557035</td>\n",
              "      <td>0.330437</td>\n",
              "    </tr>\n",
              "    <tr>\n",
              "      <th>cons.conf.idx</th>\n",
              "      <td>0.132429</td>\n",
              "      <td>-0.063948</td>\n",
              "      <td>-0.035025</td>\n",
              "      <td>-0.153717</td>\n",
              "      <td>0.071722</td>\n",
              "      <td>-0.031439</td>\n",
              "      <td>-0.127598</td>\n",
              "      <td>1.000000</td>\n",
              "      <td>0.070534</td>\n",
              "      <td>-0.069622</td>\n",
              "    </tr>\n",
              "    <tr>\n",
              "      <th>euribor3m</th>\n",
              "      <td>-0.052888</td>\n",
              "      <td>0.054998</td>\n",
              "      <td>0.168272</td>\n",
              "      <td>0.380717</td>\n",
              "      <td>-0.450920</td>\n",
              "      <td>0.957492</td>\n",
              "      <td>0.557035</td>\n",
              "      <td>0.070534</td>\n",
              "      <td>1.000000</td>\n",
              "      <td>0.939952</td>\n",
              "    </tr>\n",
              "    <tr>\n",
              "      <th>nr.employed</th>\n",
              "      <td>-0.087067</td>\n",
              "      <td>0.058492</td>\n",
              "      <td>0.169426</td>\n",
              "      <td>0.465027</td>\n",
              "      <td>-0.521944</td>\n",
              "      <td>0.865720</td>\n",
              "      <td>0.330437</td>\n",
              "      <td>-0.069622</td>\n",
              "      <td>0.939952</td>\n",
              "      <td>1.000000</td>\n",
              "    </tr>\n",
              "  </tbody>\n",
              "</table>\n",
              "</div>\n",
              "      <button class=\"colab-df-convert\" onclick=\"convertToInteractive('df-3f62625d-6fee-42d4-85c2-1ee0f3cd0959')\"\n",
              "              title=\"Convert this dataframe to an interactive table.\"\n",
              "              style=\"display:none;\">\n",
              "        \n",
              "  <svg xmlns=\"http://www.w3.org/2000/svg\" height=\"24px\"viewBox=\"0 0 24 24\"\n",
              "       width=\"24px\">\n",
              "    <path d=\"M0 0h24v24H0V0z\" fill=\"none\"/>\n",
              "    <path d=\"M18.56 5.44l.94 2.06.94-2.06 2.06-.94-2.06-.94-.94-2.06-.94 2.06-2.06.94zm-11 1L8.5 8.5l.94-2.06 2.06-.94-2.06-.94L8.5 2.5l-.94 2.06-2.06.94zm10 10l.94 2.06.94-2.06 2.06-.94-2.06-.94-.94-2.06-.94 2.06-2.06.94z\"/><path d=\"M17.41 7.96l-1.37-1.37c-.4-.4-.92-.59-1.43-.59-.52 0-1.04.2-1.43.59L10.3 9.45l-7.72 7.72c-.78.78-.78 2.05 0 2.83L4 21.41c.39.39.9.59 1.41.59.51 0 1.02-.2 1.41-.59l7.78-7.78 2.81-2.81c.8-.78.8-2.07 0-2.86zM5.41 20L4 18.59l7.72-7.72 1.47 1.35L5.41 20z\"/>\n",
              "  </svg>\n",
              "      </button>\n",
              "      \n",
              "  <style>\n",
              "    .colab-df-container {\n",
              "      display:flex;\n",
              "      flex-wrap:wrap;\n",
              "      gap: 12px;\n",
              "    }\n",
              "\n",
              "    .colab-df-convert {\n",
              "      background-color: #E8F0FE;\n",
              "      border: none;\n",
              "      border-radius: 50%;\n",
              "      cursor: pointer;\n",
              "      display: none;\n",
              "      fill: #1967D2;\n",
              "      height: 32px;\n",
              "      padding: 0 0 0 0;\n",
              "      width: 32px;\n",
              "    }\n",
              "\n",
              "    .colab-df-convert:hover {\n",
              "      background-color: #E2EBFA;\n",
              "      box-shadow: 0px 1px 2px rgba(60, 64, 67, 0.3), 0px 1px 3px 1px rgba(60, 64, 67, 0.15);\n",
              "      fill: #174EA6;\n",
              "    }\n",
              "\n",
              "    [theme=dark] .colab-df-convert {\n",
              "      background-color: #3B4455;\n",
              "      fill: #D2E3FC;\n",
              "    }\n",
              "\n",
              "    [theme=dark] .colab-df-convert:hover {\n",
              "      background-color: #434B5C;\n",
              "      box-shadow: 0px 1px 3px 1px rgba(0, 0, 0, 0.15);\n",
              "      filter: drop-shadow(0px 1px 2px rgba(0, 0, 0, 0.3));\n",
              "      fill: #FFFFFF;\n",
              "    }\n",
              "  </style>\n",
              "\n",
              "      <script>\n",
              "        const buttonEl =\n",
              "          document.querySelector('#df-3f62625d-6fee-42d4-85c2-1ee0f3cd0959 button.colab-df-convert');\n",
              "        buttonEl.style.display =\n",
              "          google.colab.kernel.accessAllowed ? 'block' : 'none';\n",
              "\n",
              "        async function convertToInteractive(key) {\n",
              "          const element = document.querySelector('#df-3f62625d-6fee-42d4-85c2-1ee0f3cd0959');\n",
              "          const dataTable =\n",
              "            await google.colab.kernel.invokeFunction('convertToInteractive',\n",
              "                                                     [key], {});\n",
              "          if (!dataTable) return;\n",
              "\n",
              "          const docLinkHtml = 'Like what you see? Visit the ' +\n",
              "            '<a target=\"_blank\" href=https://colab.research.google.com/notebooks/data_table.ipynb>data table notebook</a>'\n",
              "            + ' to learn more about interactive tables.';\n",
              "          element.innerHTML = '';\n",
              "          dataTable['output_type'] = 'display_data';\n",
              "          await google.colab.output.renderOutput(dataTable, element);\n",
              "          const docLink = document.createElement('div');\n",
              "          docLink.innerHTML = docLinkHtml;\n",
              "          element.appendChild(docLink);\n",
              "        }\n",
              "      </script>\n",
              "    </div>\n",
              "  </div>\n",
              "  "
            ]
          },
          "metadata": {},
          "execution_count": 27
        }
      ]
    },
    {
      "cell_type": "code",
      "source": [
        " # function to help Identify feautres with .50% or higher correlation\n",
        "indices = np.where(corr > 0.5)\n",
        "indices = [(corr.index[x], corr.columns[y]) for x, y in zip(*indices) if x != y and x < y]\n",
        "indices"
      ],
      "metadata": {
        "colab": {
          "base_uri": "https://localhost:8080/"
        },
        "id": "6DoXRNhcdRNg",
        "outputId": "a5f457ab-e866-4a08-91ea-4d2a0e29f72f"
      },
      "execution_count": 28,
      "outputs": [
        {
          "output_type": "execute_result",
          "data": {
            "text/plain": [
              "[('emp.var.rate', 'cons.price.idx'),\n",
              " ('emp.var.rate', 'euribor3m'),\n",
              " ('emp.var.rate', 'nr.employed'),\n",
              " ('cons.price.idx', 'euribor3m'),\n",
              " ('euribor3m', 'nr.employed')]"
            ]
          },
          "metadata": {},
          "execution_count": 28
        }
      ]
    },
    {
      "cell_type": "code",
      "source": [
        "# scatterplot for feautres with .50% or higher correlation\n",
        "fig = plt.figure(figsize=(15,8))\n",
        "\n",
        "plt.subplot(231)\n",
        "sns.regplot(x=\"emp.var.rate\", y=\"cons.price.idx\", data=Numeric_features, scatter_kws={\"color\": \"blue\"}, line_kws={\"color\": \"green\"})\n",
        "\n",
        "plt.subplot(2,3,2)\n",
        "sns.regplot(x=\"emp.var.rate\", y=\"cons.price.idx\", data=Numeric_features, scatter_kws={\"color\": \"blue\"}, line_kws={\"color\": \"green\"})\n",
        "\n",
        "plt.subplot(233)\n",
        "sns.regplot(x=\"emp.var.rate\", y=\"cons.price.idx\", data=Numeric_features, scatter_kws={\"color\": \"blue\"}, line_kws={\"color\": \"green\"})\n",
        "\n",
        "plt.subplot(2,3,4)\n",
        "sns.regplot(x=\"cons.price.idx\", y=\"euribor3m\", data=Numeric_features, scatter_kws={\"color\": \"blue\"}, line_kws={\"color\": \"green\"})\n",
        "\n",
        "plt.subplot(235)\n",
        "sns.regplot(x=\"euribor3m\", y=\"nr.employed\", data=Numeric_features, scatter_kws={\"color\": \"blue\"}, line_kws={\"color\": \"green\"})\n"
      ],
      "metadata": {
        "colab": {
          "base_uri": "https://localhost:8080/",
          "height": 514
        },
        "id": "QqafBsVcbUpw",
        "outputId": "8ea49866-b8f1-4add-e0b6-e231fb1d7e78"
      },
      "execution_count": 29,
      "outputs": [
        {
          "output_type": "execute_result",
          "data": {
            "text/plain": [
              "<matplotlib.axes._subplots.AxesSubplot at 0x7f72a682ef90>"
            ]
          },
          "metadata": {},
          "execution_count": 29
        },
        {
          "output_type": "display_data",
          "data": {
            "text/plain": [
              "<Figure size 1080x576 with 5 Axes>"
            ],
            "image/png": "[encoded data removed]"
          },
          "metadata": {
            "needs_background": "light"
          }
        }
      ]
    },
    {
      "cell_type": "markdown",
      "source": [
        "Numeric to target variable (Categorical): bivariate statistics\n",
        "- Run Z-test and T-test for numerical features with target variable. This there a statistical significance different for target variable 'yes' or 'no' in terms of the numerical features. Using a 0.05 critical level "
      ],
      "metadata": {
        "id": "PGhfuO1tm5Dx"
      }
    },
    {
      "cell_type": "code",
      "source": [
        "# split each numerical feature based on weather target variable is 'yes' or 'no\n",
        "\n",
        "yes_age = df.loc[df['y'] == 'yes']\n",
        "yes_age = yes_age['age']\n",
        "no_age = df.loc[df['y'] == 'no']\n",
        "no_age = no_age['age']\n",
        "\n",
        "\n",
        "yes_duration = df.loc[df['y'] == 'yes']\n",
        "yes_duration = yes_duration['duration']\n",
        "no_duration = df.loc[df['y'] == 'no']\n",
        "no_duration = no_duration['duration']\n",
        "\n",
        "\n",
        "yes_campaign = df.loc[df['y'] == 'yes']\n",
        "yes_campaign = yes_campaign['campaign']\n",
        "no_campaign = df.loc[df['y'] == 'no']\n",
        "no_campaign = no_campaign['campaign']\n",
        "\n",
        "\n",
        "yes_pdays = df.loc[df['y'] == 'yes']\n",
        "yes_pdays = yes_pdays['pdays']\n",
        "no_pdays = df.loc[df['y'] == 'no']\n",
        "no_pdays = no_pdays['pdays']\n",
        "\n",
        "yes_previous = df.loc[df['y'] == 'yes']\n",
        "yes_previous = yes_previous['previous']\n",
        "no_previous = df.loc[df['y'] == 'no']\n",
        "no_previous = no_previous['previous']\n",
        "\n",
        "yes_rate = df.loc[df['y'] == 'yes']\n",
        "yes_rate = yes_rate['emp.var.rate']\n",
        "no_rate = df.loc[df['y'] == 'no']\n",
        "no_rate = no_rate['emp.var.rate']\n",
        "\n",
        "\n",
        "yes_price = df.loc[df['y'] == 'yes']\n",
        "yes_price = yes_price['cons.price.idx']\n",
        "no_price = df.loc[df['y'] == 'no']\n",
        "no_price = no_price['cons.price.idx']\n",
        "\n",
        "\n",
        "yes_conf = df.loc[df['y'] == 'yes']\n",
        "yes_conf = yes_conf['cons.conf.idx']\n",
        "no_conf = df.loc[df['y'] == 'no']\n",
        "no_conf = no_conf['cons.conf.idx']\n",
        "\n",
        "\n",
        "yes_euribor3m = df.loc[df['y'] == 'yes']\n",
        "yes_euribor3m = yes_euribor3m['euribor3m']\n",
        "no_euribor3m = df.loc[df['y'] == 'no']\n",
        "no_euribor3m = no_euribor3m['euribor3m']\n",
        "\n",
        "\n",
        "yes_employed = df.loc[df['y'] == 'yes']\n",
        "yes_employed = yes_employed['nr.employed']\n",
        "no_employed = df.loc[df['y'] == 'no']\n",
        "no_employed = no_employed['nr.employed']"
      ],
      "metadata": {
        "id": "H5pGJJz3m4Bl"
      },
      "execution_count": 30,
      "outputs": []
    },
    {
      "cell_type": "code",
      "source": [
        "# two-sided z-test for a numerical features in the dataset \n",
        "\n",
        "ztest , propability_value = stests.ztest(x1=yes_age, x2=no_age, value=0, alternative='two-sided')\n",
        "print(propability_value)\n",
        "if propability_value < 0.05:\n",
        "  print(\"Null hyphothesis is rejected for age, Alternative hyphothesis accepted\")\n",
        "else:\n",
        "  print(\"Null hyphothesis is accepted for age, Alternative hyphothesis rejected\")\n",
        "\n",
        "print('\\n')\n",
        "\n",
        "ztest , propability_value = stests.ztest(x1=yes_duration, x2=no_duration, value=0, alternative='two-sided')\n",
        "print(propability_value)\n",
        "if propability_value < 0.05:\n",
        "  print(\"Null hyphothesis is rejected for duration, Alternative hyphothesis accepted\")\n",
        "else:\n",
        "  print(\"Null hyphothesis is accepted for duration, Alternative hyphothesis rejected\")\n",
        "\n",
        "print('\\n')\n",
        "\n",
        "ztest , propability_value = stests.ztest(x1=yes_campaign, x2=no_campaign, value=0, alternative='two-sided')\n",
        "print(propability_value)\n",
        "if propability_value < 0.05:\n",
        "  print(\"Null hyphothesis is rejected for campaign, Alternative hyphothesis accepted\")\n",
        "else:\n",
        "  print(\"Null hyphothesis is accepted for campaign, Alternative hyphothesis rejected\")\n",
        "\n",
        "print('\\n')\n",
        "\n",
        "ztest , propability_value = stests.ztest(x1=yes_pdays, x2=no_pdays, value=0, alternative='two-sided')\n",
        "print(propability_value)\n",
        "if propability_value < 0.05:\n",
        "  print(\"Null hyphothesis is rejected for pdays, Alternative hyphothesis accepted\")\n",
        "else:\n",
        "  print(\"Null hyphothesis is accepted for pdays, Alternative hyphothesis rejected\")\n",
        "\n",
        "print('\\n')\n",
        "\n",
        "ztest , propability_value = stests.ztest(x1=yes_previous, x2=no_previous, value=0, alternative='two-sided')\n",
        "print(propability_value)\n",
        "if propability_value < 0.05:\n",
        "  print(\"Null hyphothesis is rejected for previous, Alternative hyphothesis accepted\")\n",
        "else:\n",
        "  print(\"Null hyphothesis is accepted for previous, Alternative hyphothesis rejected\")\n",
        "\n",
        "print('\\n')\n",
        "\n",
        "ztest , propability_value = stests.ztest(x1=yes_rate, x2=no_rate, value=0, alternative='two-sided')\n",
        "print(propability_value)\n",
        "if propability_value < 0.05:\n",
        "  print(\"Null hyphothesis is rejected for emp.var.rate, Alternative hyphothesis accepted\")\n",
        "else:\n",
        "  print(\"Null hyphothesis is accepted for emp.var.rate, Alternative hyphothesis rejected\")\n",
        "\n",
        "print('\\n')\n",
        "\n",
        "ztest , propability_value = stests.ztest(x1=yes_price, x2=no_price, value=0, alternative='two-sided')\n",
        "print(propability_value)\n",
        "if propability_value < 0.05:\n",
        "  print(\"Null hyphothesis is rejected for cons.price.idx, Alternative hyphothesis accepted\")\n",
        "else:\n",
        "  print(\"Null hyphothesis is accepted for cons.price.idx, Alternative hyphothesis rejected\")\n",
        "\n",
        "print('\\n')\n",
        "\n",
        "ztest , propability_value = stests.ztest(x1=yes_conf, x2=no_conf, value=0, alternative='two-sided')\n",
        "print(propability_value)\n",
        "if propability_value < 0.05:\n",
        "  print(\"Null hyphothesis is rejected for cons.conf.idx, Alternative hyphothesis accepted\")\n",
        "else:\n",
        "  print(\"Null hyphothesis is accepted for cons.conf.idx, Alternative hyphothesis rejected\")\n",
        "\n",
        "print('\\n')\n",
        "\n",
        "ztest , propability_value = stests.ztest(x1=yes_euribor3m, x2=no_euribor3m, value=0, alternative='two-sided')\n",
        "print(propability_value)\n",
        "if propability_value < 0.05:\n",
        "  print(\"Null hyphothesis is rejected for euribor3m, Alternative hyphothesis accepted\")\n",
        "else:\n",
        "  print(\"Null hyphothesis is accepted for euribor3m, Alternative hyphothesis rejected\")\n",
        "\n",
        "print('\\n')\n",
        "\n",
        "ztest , propability_value = stests.ztest(x1=yes_employed, x2=no_employed, value=0, alternative='two-sided')\n",
        "print(propability_value)\n",
        "if propability_value < 0.05:\n",
        "  print(\"Null hyphothesis is rejected for nr.employed, Alternative hyphothesis accepted\")\n",
        "else:\n",
        "  print(\"Null hyphothesis is accepted for nr.employed, Alternative hyphothesis rejected\")\n"
      ],
      "metadata": {
        "colab": {
          "base_uri": "https://localhost:8080/"
        },
        "id": "ZTjjkRV8BmoF",
        "outputId": "01070419-b2e3-4a58-ec93-67ddfbbd2972"
      },
      "execution_count": 31,
      "outputs": [
        {
          "output_type": "stream",
          "name": "stdout",
          "text": [
            "0.0013890320521125542\n",
            "Null hyphothesis is rejected for age, Alternative hyphothesis accepted\n",
            "\n",
            "\n",
            "9.88469330557495e-255\n",
            "Null hyphothesis is rejected for duration, Alternative hyphothesis accepted\n",
            "\n",
            "\n",
            "3.3176705773092475e-14\n",
            "Null hyphothesis is rejected for campaign, Alternative hyphothesis accepted\n",
            "\n",
            "\n",
            "9.970631156720149e-95\n",
            "Null hyphothesis is rejected for pdays, Alternative hyphothesis accepted\n",
            "\n",
            "\n",
            "2.076625554907347e-65\n",
            "Null hyphothesis is rejected for previous, Alternative hyphothesis accepted\n",
            "\n",
            "\n",
            "8.587670226748278e-186\n",
            "Null hyphothesis is rejected for emp.var.rate, Alternative hyphothesis accepted\n",
            "\n",
            "\n",
            "8.531964985988673e-26\n",
            "Null hyphothesis is rejected for cons.price.idx, Alternative hyphothesis accepted\n",
            "\n",
            "\n",
            "2.918778146013509e-05\n",
            "Null hyphothesis is rejected for cons.conf.idx, Alternative hyphothesis accepted\n",
            "\n",
            "\n",
            "1.3205570460257533e-208\n",
            "Null hyphothesis is rejected for euribor3m, Alternative hyphothesis accepted\n",
            "\n",
            "\n",
            "6.817350264902169e-239\n",
            "Null hyphothesis is rejected for nr.employed, Alternative hyphothesis accepted\n"
          ]
        }
      ]
    },
    {
      "cell_type": "code",
      "source": [
        "plt.figure(figsize=(15,7))\n",
        "sns.distplot(yes_age, label='Yes')\n",
        "sns.distplot(no_age, label='No')\n",
        "plt.xlim(10,90)\n",
        "\n",
        "print(stats.ttest_ind(yes_age, no_age))\n",
        "print('\\n')\n",
        "t, p = stats.ttest_ind(yes_age, no_age)\n",
        "print('p-value = %.10f' % (p))\n",
        "if p < .05:\n",
        "  print('In target variable there is a statistical significance difference between yes and no age feature')\n",
        "else:\n",
        "  print('In target variable there is no statistical significance difference between yes and no age feature')\n",
        "  "
      ],
      "metadata": {
        "colab": {
          "base_uri": "https://localhost:8080/",
          "height": 530
        },
        "id": "JYpHKQEzomBP",
        "outputId": "136dbade-7b94-44ac-dbe3-8fc79c9224e0"
      },
      "execution_count": 32,
      "outputs": [
        {
          "output_type": "stream",
          "name": "stdout",
          "text": [
            "Ttest_indResult(statistic=3.1969204972671794, pvalue=0.001399546277276899)\n",
            "\n",
            "\n",
            "p-value = 0.0013995463\n",
            "In target variable there is a statistical significance difference between yes and no age feature\n"
          ]
        },
        {
          "output_type": "display_data",
          "data": {
            "text/plain": [
              "<Figure size 1080x504 with 1 Axes>"
            ],
            "image/png": "[encoded data removed]"
          },
          "metadata": {
            "needs_background": "light"
          }
        }
      ]
    },
    {
      "cell_type": "code",
      "source": [
        "plt.figure(figsize=(15,7))\n",
        "sns.distplot(yes_duration, label='Yes')\n",
        "sns.distplot(no_duration, label='No')\n",
        "plt.xlim(-1000,3000)\n",
        "\n",
        "print(stats.ttest_ind(yes_duration, no_duration))\n",
        "print('\\n')\n",
        "t, p = stats.ttest_ind(yes_duration, no_duration)\n",
        "print('p-value = %.10f' % (p))\n",
        "if p < .05:\n",
        "  print('In target variable there is a statistical significance difference between yes and no duration feature')\n",
        "else:\n",
        "  print('In target variable there is no statistical significance difference between yes and no duration feature')\n",
        "  "
      ],
      "metadata": {
        "colab": {
          "base_uri": "https://localhost:8080/",
          "height": 529
        },
        "id": "zTdKGI7NqAGl",
        "outputId": "d96def5c-bdc5-4158-ca6e-1faf24467a3a"
      },
      "execution_count": 33,
      "outputs": [
        {
          "output_type": "stream",
          "name": "stdout",
          "text": [
            "Ttest_indResult(statistic=34.09142166489391, pvalue=1.3586368326163754e-224)\n",
            "\n",
            "\n",
            "p-value = 0.0000000000\n",
            "In target variable there is a statistical significance difference between yes and no duration feature\n"
          ]
        },
        {
          "output_type": "display_data",
          "data": {
            "text/plain": [
              "<Figure size 1080x504 with 1 Axes>"
            ],
            "image/png": "[encoded data removed]"
          },
          "metadata": {
            "needs_background": "light"
          }
        }
      ]
    },
    {
      "cell_type": "code",
      "source": [
        "plt.figure(figsize=(15,7))\n",
        "sns.distplot(yes_campaign, label='Yes')\n",
        "sns.distplot(no_campaign, label='No')\n",
        "plt.xlim(-5,15)\n",
        "\n",
        "print(stats.ttest_ind(yes_campaign, no_campaign))\n",
        "print('\\n')\n",
        "t, p = stats.ttest_ind(yes_campaign, no_campaign)\n",
        "print('p-value = %.10f' % (p))\n",
        "if p < .05:\n",
        "  print('In target variable there is a statistical significance difference between yes and no campaign feature')\n",
        "else:\n",
        "  print('In target variable there is no statistical significance difference between yes and no campaign feature')\n",
        "  "
      ],
      "metadata": {
        "colab": {
          "base_uri": "https://localhost:8080/",
          "height": 529
        },
        "id": "PjHrWcZ4ri2c",
        "outputId": "81d29fd3-0af1-4fbc-e8d0-f7d28f1ac8bb"
      },
      "execution_count": 34,
      "outputs": [
        {
          "output_type": "stream",
          "name": "stdout",
          "text": [
            "Ttest_indResult(statistic=-7.585281075971684, pvalue=4.077027074673504e-14)\n",
            "\n",
            "\n",
            "p-value = 0.0000000000\n",
            "In target variable there is a statistical significance difference between yes and no campaign feature\n"
          ]
        },
        {
          "output_type": "display_data",
          "data": {
            "text/plain": [
              "<Figure size 1080x504 with 1 Axes>"
            ],
            "image/png": "[encoded data removed]"
          },
          "metadata": {
            "needs_background": "light"
          }
        }
      ]
    },
    {
      "cell_type": "code",
      "source": [
        "plt.figure(figsize=(15,7))\n",
        "sns.distplot(yes_pdays, label='Yes')\n",
        "sns.distplot(no_pdays, label='No')\n",
        "\n",
        "print(stats.ttest_ind(yes_pdays, no_pdays))\n",
        "print('\\n')\n",
        "t, p = stats.ttest_ind(yes_pdays, no_pdays)\n",
        "print('p-value = %.10f' % (p))\n",
        "if p < .05:\n",
        "  print('In target variable there is a statistical significance difference between yes and no pdays feature')\n",
        "else:\n",
        "  print('In target variable there is no statistical significance difference between yes and no pdays feature')\n",
        "  "
      ],
      "metadata": {
        "colab": {
          "base_uri": "https://localhost:8080/",
          "height": 529
        },
        "id": "6Sw2jL5oP8_O",
        "outputId": "b6d3e3d9-a0d6-49ca-9dfc-7211dc6bc3bb"
      },
      "execution_count": 35,
      "outputs": [
        {
          "output_type": "stream",
          "name": "stdout",
          "text": [
            "Ttest_indResult(statistic=-20.648978232690855, pvalue=3.2231768934944163e-90)\n",
            "\n",
            "\n",
            "p-value = 0.0000000000\n",
            "In target variable there is a statistical significance difference between yes and no pdays feature\n"
          ]
        },
        {
          "output_type": "display_data",
          "data": {
            "text/plain": [
              "<Figure size 1080x504 with 1 Axes>"
            ],
            "image/png": "[encoded data removed]"
          },
          "metadata": {
            "needs_background": "light"
          }
        }
      ]
    },
    {
      "cell_type": "code",
      "source": [
        "plt.figure(figsize=(15,7))\n",
        "sns.distplot(yes_previous, label='Yes')\n",
        "sns.distplot(no_previous, label='No')\n",
        "plt.xlim(-1, 5)\n",
        "\n",
        "print(stats.ttest_ind(yes_previous, no_previous))\n",
        "print('\\n')\n",
        "t, p = stats.ttest_ind(yes_previous, no_previous)\n",
        "print('p-value = %.10f' % (p))\n",
        "if p < .05:\n",
        "  print('In target variable there is a statistical significance difference between yes and no previous feature')\n",
        "else:\n",
        "  print('In target variable there is no statistical significance difference between yes and no previous feature')\n",
        "  "
      ],
      "metadata": {
        "colab": {
          "base_uri": "https://localhost:8080/",
          "height": 529
        },
        "id": "sADLQqMFQA1u",
        "outputId": "71918076-c9b9-40dc-c808-ef99ba49b5f8"
      },
      "execution_count": 36,
      "outputs": [
        {
          "output_type": "stream",
          "name": "stdout",
          "text": [
            "Ttest_indResult(statistic=17.080407756602767, pvalue=2.9962859023875863e-63)\n",
            "\n",
            "\n",
            "p-value = 0.0000000000\n",
            "In target variable there is a statistical significance difference between yes and no previous feature\n"
          ]
        },
        {
          "output_type": "display_data",
          "data": {
            "text/plain": [
              "<Figure size 1080x504 with 1 Axes>"
            ],
            "image/png": "[encoded data removed]"
          },
          "metadata": {
            "needs_background": "light"
          }
        }
      ]
    },
    {
      "cell_type": "code",
      "source": [
        "plt.figure(figsize=(15,7))\n",
        "sns.distplot(yes_rate, label='Yes')\n",
        "sns.distplot(no_rate, label='No')\n",
        "\n",
        "print(stats.ttest_ind(yes_rate, no_rate))\n",
        "print('\\n')\n",
        "t, p = stats.ttest_ind(yes_rate, no_rate)\n",
        "print('p-value = %.10f' % (p))\n",
        "if p < .05:\n",
        "  print('In target variable there is a statistical significance difference between yes and no emp.var.rate feature')\n",
        "else:\n",
        "  print('In target variable there is no statistical significance difference between yes and no emp.var.rate feature')\n",
        "  "
      ],
      "metadata": {
        "colab": {
          "base_uri": "https://localhost:8080/",
          "height": 529
        },
        "id": "pHTH4uz_QBO2",
        "outputId": "c140fb69-1975-494c-9138-9888e23dd741"
      },
      "execution_count": 37,
      "outputs": [
        {
          "output_type": "stream",
          "name": "stdout",
          "text": [
            "Ttest_indResult(statistic=-29.070047136921964, pvalue=3.7597048983977387e-169)\n",
            "\n",
            "\n",
            "p-value = 0.0000000000\n",
            "In target variable there is a statistical significance difference between yes and no emp.var.rate feature\n"
          ]
        },
        {
          "output_type": "display_data",
          "data": {
            "text/plain": [
              "<Figure size 1080x504 with 1 Axes>"
            ],
            "image/png": "[encoded data removed]"
          },
          "metadata": {
            "needs_background": "light"
          }
        }
      ]
    },
    {
      "cell_type": "code",
      "source": [
        "plt.figure(figsize=(15,7))\n",
        "sns.distplot(yes_price, label='Yes')\n",
        "sns.distplot(no_price, label='No')\n",
        "\n",
        "print(stats.ttest_ind(yes_price, no_price))\n",
        "print('\\n')\n",
        "t, p = stats.ttest_ind(yes_price, no_price)\n",
        "print('p-value = %.10f' % (p))\n",
        "if p < .05:\n",
        "  print('In target variable there is a statistical significance difference between yes and no cons.price.idx feature')\n",
        "else:\n",
        "  print('In target variable there is no statistical significance difference between yes and no cons.price.idx feature')\n",
        "  "
      ],
      "metadata": {
        "colab": {
          "base_uri": "https://localhost:8080/",
          "height": 529
        },
        "id": "IXtZZOdZQBg5",
        "outputId": "979d38f5-41e9-4106-dcde-eec83d85e272"
      },
      "execution_count": 38,
      "outputs": [
        {
          "output_type": "stream",
          "name": "stdout",
          "text": [
            "Ttest_indResult(statistic=-10.501166004511111, pvalue=1.7861704085183388e-25)\n",
            "\n",
            "\n",
            "p-value = 0.0000000000\n",
            "In target variable there is a statistical significance difference between yes and no cons.price.idx feature\n"
          ]
        },
        {
          "output_type": "display_data",
          "data": {
            "text/plain": [
              "<Figure size 1080x504 with 1 Axes>"
            ],
            "image/png": "[encoded data removed]"
          },
          "metadata": {
            "needs_background": "light"
          }
        }
      ]
    },
    {
      "cell_type": "code",
      "source": [
        "plt.figure(figsize=(15,7))\n",
        "sns.distplot(yes_conf, label='Yes')\n",
        "sns.distplot(no_conf, label='No')\n",
        "\n",
        "print(stats.ttest_ind(yes_conf, no_conf))\n",
        "print('\\n')\n",
        "t, p = stats.ttest_ind(yes_conf, no_conf)\n",
        "print('p-value = %.10f' % (p))\n",
        "if p < .05:\n",
        "  print('In target variable there is a statistical significance difference between yes and no cons.conf.idx feature')\n",
        "else:\n",
        "  print('In target variable there is no statistical significance difference between yes and no cons.conf.idx feature')\n",
        "  "
      ],
      "metadata": {
        "colab": {
          "base_uri": "https://localhost:8080/",
          "height": 529
        },
        "id": "Q5xyMi-gQB4V",
        "outputId": "1ed71884-781b-4de9-9440-8e1adee4f02a"
      },
      "execution_count": 39,
      "outputs": [
        {
          "output_type": "stream",
          "name": "stdout",
          "text": [
            "Ttest_indResult(statistic=4.179712539806568, pvalue=2.9794142290539373e-05)\n",
            "\n",
            "\n",
            "p-value = 0.0000297941\n",
            "In target variable there is a statistical significance difference between yes and no cons.conf.idx feature\n"
          ]
        },
        {
          "output_type": "display_data",
          "data": {
            "text/plain": [
              "<Figure size 1080x504 with 1 Axes>"
            ],
            "image/png": "[encoded data removed]"
          },
          "metadata": {
            "needs_background": "light"
          }
        }
      ]
    },
    {
      "cell_type": "code",
      "source": [
        "plt.figure(figsize=(15,7))\n",
        "sns.distplot(yes_euribor3m, label='Yes')\n",
        "sns.distplot(no_euribor3m, label='No')\n",
        "\n",
        "print(stats.ttest_ind(yes_euribor3m, no_euribor3m))\n",
        "print('\\n')\n",
        "t, p = stats.ttest_ind(yes_euribor3m, no_euribor3m)\n",
        "print('p-value = %.10f' % (p))\n",
        "if p < .05:\n",
        "  print('In target variable there is a statistical significance difference between yes and no euribor3m feature')\n",
        "else:\n",
        "  print('In target variable there is no statistical significance difference between yes and no euribor3m feature')\n",
        "  "
      ],
      "metadata": {
        "colab": {
          "base_uri": "https://localhost:8080/",
          "height": 529
        },
        "id": "zoUhD1TUQhG6",
        "outputId": "a0a0b346-0de3-4a9f-a56d-f7d702eaccb6"
      },
      "execution_count": 40,
      "outputs": [
        {
          "output_type": "stream",
          "name": "stdout",
          "text": [
            "Ttest_indResult(statistic=-30.822218241744668, pvalue=7.005337136043677e-188)\n",
            "\n",
            "\n",
            "p-value = 0.0000000000\n",
            "In target variable there is a statistical significance difference between yes and no euribor3m feature\n"
          ]
        },
        {
          "output_type": "display_data",
          "data": {
            "text/plain": [
              "<Figure size 1080x504 with 1 Axes>"
            ],
            "image/png": "[encoded data removed]"
          },
          "metadata": {
            "needs_background": "light"
          }
        }
      ]
    },
    {
      "cell_type": "code",
      "source": [
        "plt.figure(figsize=(15,7))\n",
        "sns.distplot(yes_employed, label='Yes')\n",
        "sns.distplot(no_employed, label='No')\n",
        "\n",
        "print(stats.ttest_ind(yes_employed, no_employed))\n",
        "print('\\n')\n",
        "t, p = stats.ttest_ind(yes_employed, no_employed)\n",
        "print('p-value = %.10f' % (p))\n",
        "if p < .05:\n",
        "  print('In target variable there is a statistical significance difference between yes and no nr.employed feature')\n",
        "else:\n",
        "  print('In target variable there is no statistical significance difference between yes and no nr.employed feature')\n",
        "  "
      ],
      "metadata": {
        "colab": {
          "base_uri": "https://localhost:8080/",
          "height": 529
        },
        "id": "ik1WTXqBQn4W",
        "outputId": "b31ca4d3-30e3-4a4d-b827-dd6a4aa29713"
      },
      "execution_count": 41,
      "outputs": [
        {
          "output_type": "stream",
          "name": "stdout",
          "text": [
            "Ttest_indResult(statistic=-33.00530232838989, pvalue=3.7175570219341017e-212)\n",
            "\n",
            "\n",
            "p-value = 0.0000000000\n",
            "In target variable there is a statistical significance difference between yes and no nr.employed feature\n"
          ]
        },
        {
          "output_type": "display_data",
          "data": {
            "text/plain": [
              "<Figure size 1080x504 with 1 Axes>"
            ],
            "image/png": "[encoded data removed]"
          },
          "metadata": {
            "needs_background": "light"
          }
        }
      ]
    },
    {
      "cell_type": "markdown",
      "source": [
        "Categorical to Categorical bivariate statistics \n",
        "- Distribution of each categorical feature\n",
        "- Group each categorical feature by Age feature as age has a normal distribution\n",
        "- Distribution of each categorical feature with respect to target variable \n",
        "- Run a Chi-Square Test between Categorical features and target variable using a 0.05 critical level "
      ],
      "metadata": {
        "id": "NqF_V6F_tASD"
      }
    },
    {
      "cell_type": "code",
      "source": [
        "# Lets check the number of distinct values in each qualitative feautres\n",
        "uniqueValues = categorical_feature.nunique()\n",
        "uniqueValues = uniqueValues.to_frame()\n",
        "print('Number of distinct value in each qualitative column:')\n",
        "print('\\n')\n",
        "uniqueValues"
      ],
      "metadata": {
        "colab": {
          "base_uri": "https://localhost:8080/",
          "height": 446
        },
        "id": "XpozTkEqtCDD",
        "outputId": "557d1a55-acbf-49a2-850e-d3899498a39b"
      },
      "execution_count": 42,
      "outputs": [
        {
          "output_type": "stream",
          "name": "stdout",
          "text": [
            "Number of distinct value in each qualitative column:\n",
            "\n",
            "\n"
          ]
        },
        {
          "output_type": "execute_result",
          "data": {
            "text/plain": [
              "              0\n",
              "job          12\n",
              "marital       4\n",
              "education     8\n",
              "default       3\n",
              "housing       3\n",
              "loan          3\n",
              "contact       2\n",
              "month        10\n",
              "day_of_week   5\n",
              "poutcome      3\n",
              "y             2"
            ],
            "text/html": [
              "\n",
              "  <div id=\"df-578258e3-807d-4e58-9529-a12715da9ef4\">\n",
              "    <div class=\"colab-df-container\">\n",
              "      <div>\n",
              "<style scoped>\n",
              "    .dataframe tbody tr th:only-of-type {\n",
              "        vertical-align: middle;\n",
              "    }\n",
              "\n",
              "    .dataframe tbody tr th {\n",
              "        vertical-align: top;\n",
              "    }\n",
              "\n",
              "    .dataframe thead th {\n",
              "        text-align: right;\n",
              "    }\n",
              "</style>\n",
              "<table border=\"1\" class=\"dataframe\">\n",
              "  <thead>\n",
              "    <tr style=\"text-align: right;\">\n",
              "      <th></th>\n",
              "      <th>0</th>\n",
              "    </tr>\n",
              "  </thead>\n",
              "  <tbody>\n",
              "    <tr>\n",
              "      <th>job</th>\n",
              "      <td>12</td>\n",
              "    </tr>\n",
              "    <tr>\n",
              "      <th>marital</th>\n",
              "      <td>4</td>\n",
              "    </tr>\n",
              "    <tr>\n",
              "      <th>education</th>\n",
              "      <td>8</td>\n",
              "    </tr>\n",
              "    <tr>\n",
              "      <th>default</th>\n",
              "      <td>3</td>\n",
              "    </tr>\n",
              "    <tr>\n",
              "      <th>housing</th>\n",
              "      <td>3</td>\n",
              "    </tr>\n",
              "    <tr>\n",
              "      <th>loan</th>\n",
              "      <td>3</td>\n",
              "    </tr>\n",
              "    <tr>\n",
              "      <th>contact</th>\n",
              "      <td>2</td>\n",
              "    </tr>\n",
              "    <tr>\n",
              "      <th>month</th>\n",
              "      <td>10</td>\n",
              "    </tr>\n",
              "    <tr>\n",
              "      <th>day_of_week</th>\n",
              "      <td>5</td>\n",
              "    </tr>\n",
              "    <tr>\n",
              "      <th>poutcome</th>\n",
              "      <td>3</td>\n",
              "    </tr>\n",
              "    <tr>\n",
              "      <th>y</th>\n",
              "      <td>2</td>\n",
              "    </tr>\n",
              "  </tbody>\n",
              "</table>\n",
              "</div>\n",
              "      <button class=\"colab-df-convert\" onclick=\"convertToInteractive('df-578258e3-807d-4e58-9529-a12715da9ef4')\"\n",
              "              title=\"Convert this dataframe to an interactive table.\"\n",
              "              style=\"display:none;\">\n",
              "        \n",
              "  <svg xmlns=\"http://www.w3.org/2000/svg\" height=\"24px\"viewBox=\"0 0 24 24\"\n",
              "       width=\"24px\">\n",
              "    <path d=\"M0 0h24v24H0V0z\" fill=\"none\"/>\n",
              "    <path d=\"M18.56 5.44l.94 2.06.94-2.06 2.06-.94-2.06-.94-.94-2.06-.94 2.06-2.06.94zm-11 1L8.5 8.5l.94-2.06 2.06-.94-2.06-.94L8.5 2.5l-.94 2.06-2.06.94zm10 10l.94 2.06.94-2.06 2.06-.94-2.06-.94-.94-2.06-.94 2.06-2.06.94z\"/><path d=\"M17.41 7.96l-1.37-1.37c-.4-.4-.92-.59-1.43-.59-.52 0-1.04.2-1.43.59L10.3 9.45l-7.72 7.72c-.78.78-.78 2.05 0 2.83L4 21.41c.39.39.9.59 1.41.59.51 0 1.02-.2 1.41-.59l7.78-7.78 2.81-2.81c.8-.78.8-2.07 0-2.86zM5.41 20L4 18.59l7.72-7.72 1.47 1.35L5.41 20z\"/>\n",
              "  </svg>\n",
              "      </button>\n",
              "      \n",
              "  <style>\n",
              "    .colab-df-container {\n",
              "      display:flex;\n",
              "      flex-wrap:wrap;\n",
              "      gap: 12px;\n",
              "    }\n",
              "\n",
              "    .colab-df-convert {\n",
              "      background-color: #E8F0FE;\n",
              "      border: none;\n",
              "      border-radius: 50%;\n",
              "      cursor: pointer;\n",
              "      display: none;\n",
              "      fill: #1967D2;\n",
              "      height: 32px;\n",
              "      padding: 0 0 0 0;\n",
              "      width: 32px;\n",
              "    }\n",
              "\n",
              "    .colab-df-convert:hover {\n",
              "      background-color: #E2EBFA;\n",
              "      box-shadow: 0px 1px 2px rgba(60, 64, 67, 0.3), 0px 1px 3px 1px rgba(60, 64, 67, 0.15);\n",
              "      fill: #174EA6;\n",
              "    }\n",
              "\n",
              "    [theme=dark] .colab-df-convert {\n",
              "      background-color: #3B4455;\n",
              "      fill: #D2E3FC;\n",
              "    }\n",
              "\n",
              "    [theme=dark] .colab-df-convert:hover {\n",
              "      background-color: #434B5C;\n",
              "      box-shadow: 0px 1px 3px 1px rgba(0, 0, 0, 0.15);\n",
              "      filter: drop-shadow(0px 1px 2px rgba(0, 0, 0, 0.3));\n",
              "      fill: #FFFFFF;\n",
              "    }\n",
              "  </style>\n",
              "\n",
              "      <script>\n",
              "        const buttonEl =\n",
              "          document.querySelector('#df-578258e3-807d-4e58-9529-a12715da9ef4 button.colab-df-convert');\n",
              "        buttonEl.style.display =\n",
              "          google.colab.kernel.accessAllowed ? 'block' : 'none';\n",
              "\n",
              "        async function convertToInteractive(key) {\n",
              "          const element = document.querySelector('#df-578258e3-807d-4e58-9529-a12715da9ef4');\n",
              "          const dataTable =\n",
              "            await google.colab.kernel.invokeFunction('convertToInteractive',\n",
              "                                                     [key], {});\n",
              "          if (!dataTable) return;\n",
              "\n",
              "          const docLinkHtml = 'Like what you see? Visit the ' +\n",
              "            '<a target=\"_blank\" href=https://colab.research.google.com/notebooks/data_table.ipynb>data table notebook</a>'\n",
              "            + ' to learn more about interactive tables.';\n",
              "          element.innerHTML = '';\n",
              "          dataTable['output_type'] = 'display_data';\n",
              "          await google.colab.output.renderOutput(dataTable, element);\n",
              "          const docLink = document.createElement('div');\n",
              "          docLink.innerHTML = docLinkHtml;\n",
              "          element.appendChild(docLink);\n",
              "        }\n",
              "      </script>\n",
              "    </div>\n",
              "  </div>\n",
              "  "
            ]
          },
          "metadata": {},
          "execution_count": 42
        }
      ]
    },
    {
      "cell_type": "code",
      "source": [
        "# lets look at job feature that has 12 distinct values and there distribution \n",
        "job = categorical_feature['job'].value_counts().to_frame()\n",
        "job['Percent of all job types'] = job['job'] / sum(job['job'])\n",
        "job"
      ],
      "metadata": {
        "colab": {
          "base_uri": "https://localhost:8080/",
          "height": 426
        },
        "id": "C3HVBGLxQ4xn",
        "outputId": "5bb8ab44-04ee-43b8-a089-6ff94ea28d52"
      },
      "execution_count": 43,
      "outputs": [
        {
          "output_type": "execute_result",
          "data": {
            "text/plain": [
              "                job  Percent of all job types\n",
              "admin.         1118                  0.271491\n",
              "blue-collar     770                  0.186984\n",
              "technician      624                  0.151530\n",
              "services        378                  0.091792\n",
              "management      292                  0.070908\n",
              "retired         268                  0.065080\n",
              "student         152                  0.036911\n",
              "entrepreneur    145                  0.035211\n",
              "self-employed   129                  0.031326\n",
              "unemployed      114                  0.027683\n",
              "housemaid        96                  0.023312\n",
              "unknown          32                  0.007771"
            ],
            "text/html": [
              "\n",
              "  <div id=\"df-2f284473-85a1-4abd-8d41-33d7cab14ecc\">\n",
              "    <div class=\"colab-df-container\">\n",
              "      <div>\n",
              "<style scoped>\n",
              "    .dataframe tbody tr th:only-of-type {\n",
              "        vertical-align: middle;\n",
              "    }\n",
              "\n",
              "    .dataframe tbody tr th {\n",
              "        vertical-align: top;\n",
              "    }\n",
              "\n",
              "    .dataframe thead th {\n",
              "        text-align: right;\n",
              "    }\n",
              "</style>\n",
              "<table border=\"1\" class=\"dataframe\">\n",
              "  <thead>\n",
              "    <tr style=\"text-align: right;\">\n",
              "      <th></th>\n",
              "      <th>job</th>\n",
              "      <th>Percent of all job types</th>\n",
              "    </tr>\n",
              "  </thead>\n",
              "  <tbody>\n",
              "    <tr>\n",
              "      <th>admin.</th>\n",
              "      <td>1118</td>\n",
              "      <td>0.271491</td>\n",
              "    </tr>\n",
              "    <tr>\n",
              "      <th>blue-collar</th>\n",
              "      <td>770</td>\n",
              "      <td>0.186984</td>\n",
              "    </tr>\n",
              "    <tr>\n",
              "      <th>technician</th>\n",
              "      <td>624</td>\n",
              "      <td>0.151530</td>\n",
              "    </tr>\n",
              "    <tr>\n",
              "      <th>services</th>\n",
              "      <td>378</td>\n",
              "      <td>0.091792</td>\n",
              "    </tr>\n",
              "    <tr>\n",
              "      <th>management</th>\n",
              "      <td>292</td>\n",
              "      <td>0.070908</td>\n",
              "    </tr>\n",
              "    <tr>\n",
              "      <th>retired</th>\n",
              "      <td>268</td>\n",
              "      <td>0.065080</td>\n",
              "    </tr>\n",
              "    <tr>\n",
              "      <th>student</th>\n",
              "      <td>152</td>\n",
              "      <td>0.036911</td>\n",
              "    </tr>\n",
              "    <tr>\n",
              "      <th>entrepreneur</th>\n",
              "      <td>145</td>\n",
              "      <td>0.035211</td>\n",
              "    </tr>\n",
              "    <tr>\n",
              "      <th>self-employed</th>\n",
              "      <td>129</td>\n",
              "      <td>0.031326</td>\n",
              "    </tr>\n",
              "    <tr>\n",
              "      <th>unemployed</th>\n",
              "      <td>114</td>\n",
              "      <td>0.027683</td>\n",
              "    </tr>\n",
              "    <tr>\n",
              "      <th>housemaid</th>\n",
              "      <td>96</td>\n",
              "      <td>0.023312</td>\n",
              "    </tr>\n",
              "    <tr>\n",
              "      <th>unknown</th>\n",
              "      <td>32</td>\n",
              "      <td>0.007771</td>\n",
              "    </tr>\n",
              "  </tbody>\n",
              "</table>\n",
              "</div>\n",
              "      <button class=\"colab-df-convert\" onclick=\"convertToInteractive('df-2f284473-85a1-4abd-8d41-33d7cab14ecc')\"\n",
              "              title=\"Convert this dataframe to an interactive table.\"\n",
              "              style=\"display:none;\">\n",
              "        \n",
              "  <svg xmlns=\"http://www.w3.org/2000/svg\" height=\"24px\"viewBox=\"0 0 24 24\"\n",
              "       width=\"24px\">\n",
              "    <path d=\"M0 0h24v24H0V0z\" fill=\"none\"/>\n",
              "    <path d=\"M18.56 5.44l.94 2.06.94-2.06 2.06-.94-2.06-.94-.94-2.06-.94 2.06-2.06.94zm-11 1L8.5 8.5l.94-2.06 2.06-.94-2.06-.94L8.5 2.5l-.94 2.06-2.06.94zm10 10l.94 2.06.94-2.06 2.06-.94-2.06-.94-.94-2.06-.94 2.06-2.06.94z\"/><path d=\"M17.41 7.96l-1.37-1.37c-.4-.4-.92-.59-1.43-.59-.52 0-1.04.2-1.43.59L10.3 9.45l-7.72 7.72c-.78.78-.78 2.05 0 2.83L4 21.41c.39.39.9.59 1.41.59.51 0 1.02-.2 1.41-.59l7.78-7.78 2.81-2.81c.8-.78.8-2.07 0-2.86zM5.41 20L4 18.59l7.72-7.72 1.47 1.35L5.41 20z\"/>\n",
              "  </svg>\n",
              "      </button>\n",
              "      \n",
              "  <style>\n",
              "    .colab-df-container {\n",
              "      display:flex;\n",
              "      flex-wrap:wrap;\n",
              "      gap: 12px;\n",
              "    }\n",
              "\n",
              "    .colab-df-convert {\n",
              "      background-color: #E8F0FE;\n",
              "      border: none;\n",
              "      border-radius: 50%;\n",
              "      cursor: pointer;\n",
              "      display: none;\n",
              "      fill: #1967D2;\n",
              "      height: 32px;\n",
              "      padding: 0 0 0 0;\n",
              "      width: 32px;\n",
              "    }\n",
              "\n",
              "    .colab-df-convert:hover {\n",
              "      background-color: #E2EBFA;\n",
              "      box-shadow: 0px 1px 2px rgba(60, 64, 67, 0.3), 0px 1px 3px 1px rgba(60, 64, 67, 0.15);\n",
              "      fill: #174EA6;\n",
              "    }\n",
              "\n",
              "    [theme=dark] .colab-df-convert {\n",
              "      background-color: #3B4455;\n",
              "      fill: #D2E3FC;\n",
              "    }\n",
              "\n",
              "    [theme=dark] .colab-df-convert:hover {\n",
              "      background-color: #434B5C;\n",
              "      box-shadow: 0px 1px 3px 1px rgba(0, 0, 0, 0.15);\n",
              "      filter: drop-shadow(0px 1px 2px rgba(0, 0, 0, 0.3));\n",
              "      fill: #FFFFFF;\n",
              "    }\n",
              "  </style>\n",
              "\n",
              "      <script>\n",
              "        const buttonEl =\n",
              "          document.querySelector('#df-2f284473-85a1-4abd-8d41-33d7cab14ecc button.colab-df-convert');\n",
              "        buttonEl.style.display =\n",
              "          google.colab.kernel.accessAllowed ? 'block' : 'none';\n",
              "\n",
              "        async function convertToInteractive(key) {\n",
              "          const element = document.querySelector('#df-2f284473-85a1-4abd-8d41-33d7cab14ecc');\n",
              "          const dataTable =\n",
              "            await google.colab.kernel.invokeFunction('convertToInteractive',\n",
              "                                                     [key], {});\n",
              "          if (!dataTable) return;\n",
              "\n",
              "          const docLinkHtml = 'Like what you see? Visit the ' +\n",
              "            '<a target=\"_blank\" href=https://colab.research.google.com/notebooks/data_table.ipynb>data table notebook</a>'\n",
              "            + ' to learn more about interactive tables.';\n",
              "          element.innerHTML = '';\n",
              "          dataTable['output_type'] = 'display_data';\n",
              "          await google.colab.output.renderOutput(dataTable, element);\n",
              "          const docLink = document.createElement('div');\n",
              "          docLink.innerHTML = docLinkHtml;\n",
              "          element.appendChild(docLink);\n",
              "        }\n",
              "      </script>\n",
              "    </div>\n",
              "  </div>\n",
              "  "
            ]
          },
          "metadata": {},
          "execution_count": 43
        }
      ]
    },
    {
      "cell_type": "code",
      "source": [
        "# group by age and job \n",
        "job_age = df.groupby(\"job\")[\"age\"].mean()\n",
        "job_age"
      ],
      "metadata": {
        "colab": {
          "base_uri": "https://localhost:8080/"
        },
        "id": "FhKcBC6KT53s",
        "outputId": "dabe79b9-006e-41b3-8aaa-7a80a0394da6"
      },
      "execution_count": 44,
      "outputs": [
        {
          "output_type": "execute_result",
          "data": {
            "text/plain": [
              "job\n",
              "admin.           38.021467\n",
              "blue-collar      39.441558\n",
              "entrepreneur     41.303448\n",
              "housemaid        47.864583\n",
              "management       42.236301\n",
              "retired          65.735075\n",
              "self-employed    38.852713\n",
              "services         36.804233\n",
              "student          25.296053\n",
              "technician       38.397436\n",
              "unemployed       40.359649\n",
              "unknown          44.375000\n",
              "Name: age, dtype: float64"
            ]
          },
          "metadata": {},
          "execution_count": 44
        }
      ]
    },
    {
      "cell_type": "code",
      "source": [
        "plt.figure(figsize=(15,7))\n",
        "sns.countplot(x ='job', hue = \"y\", data = df, palette = 'deep')"
      ],
      "metadata": {
        "colab": {
          "base_uri": "https://localhost:8080/",
          "height": 459
        },
        "id": "OhX5DTLiRI0J",
        "outputId": "01953e1c-935a-457b-f4a5-8ac2f78b8274"
      },
      "execution_count": 45,
      "outputs": [
        {
          "output_type": "execute_result",
          "data": {
            "text/plain": [
              "<matplotlib.axes._subplots.AxesSubplot at 0x7f72a5f42710>"
            ]
          },
          "metadata": {},
          "execution_count": 45
        },
        {
          "output_type": "display_data",
          "data": {
            "text/plain": [
              "<Figure size 1080x504 with 1 Axes>"
            ],
            "image/png": "[encoded data removed]"
          },
          "metadata": {
            "needs_background": "light"
          }
        }
      ]
    },
    {
      "cell_type": "code",
      "source": [
        "chi_sq_job_y = pd.crosstab(df['job'],df['y'])\n",
        "\n",
        "chiVal, pVal, d_f, exp = chi2_contingency(chi_sq_job_y)\n",
        "chiVal, pVal, d_f, exp\n",
        "print('Chi Value:',chiVal)\n",
        "print(pVal)\n",
        "print('\\n')\n",
        "\n",
        "if pVal < .05:\n",
        "  print('This indicates there is an association between the two variables (one has an impact on the other)')\n",
        "else:\n",
        "  print('This indicates there is no association between the two variables (one has an impact on the other)')\n",
        "  \n"
      ],
      "metadata": {
        "colab": {
          "base_uri": "https://localhost:8080/"
        },
        "id": "Au357x0UJ8aj",
        "outputId": "88625778-e6c4-4b6b-e5a2-24b0a83447b4"
      },
      "execution_count": 46,
      "outputs": [
        {
          "output_type": "stream",
          "name": "stdout",
          "text": [
            "Chi Value: 172.9610355531096\n",
            "2.898597847740572e-31\n",
            "\n",
            "\n",
            "This indicates there is an association between the two variables (one has an impact on the other)\n"
          ]
        }
      ]
    },
    {
      "cell_type": "code",
      "source": [
        "# lets look at marital feature that has 4 distinct values and there distribution \n",
        "marital = categorical_feature['marital'].value_counts().to_frame()\n",
        "marital['Percent of all marital types'] = marital['marital'] / sum(marital['marital'])\n",
        "marital"
      ],
      "metadata": {
        "colab": {
          "base_uri": "https://localhost:8080/",
          "height": 175
        },
        "id": "937YPjPatKcN",
        "outputId": "41be3449-51da-4699-b2d2-abd3c8de52a9"
      },
      "execution_count": 47,
      "outputs": [
        {
          "output_type": "execute_result",
          "data": {
            "text/plain": [
              "          marital  Percent of all marital types\n",
              "married      2409                      0.584993\n",
              "single       1270                      0.308402\n",
              "divorced      427                      0.103691\n",
              "unknown        12                      0.002914"
            ],
            "text/html": [
              "\n",
              "  <div id=\"df-9a95703b-ee2d-431d-a8a2-07b1b210e800\">\n",
              "    <div class=\"colab-df-container\">\n",
              "      <div>\n",
              "<style scoped>\n",
              "    .dataframe tbody tr th:only-of-type {\n",
              "        vertical-align: middle;\n",
              "    }\n",
              "\n",
              "    .dataframe tbody tr th {\n",
              "        vertical-align: top;\n",
              "    }\n",
              "\n",
              "    .dataframe thead th {\n",
              "        text-align: right;\n",
              "    }\n",
              "</style>\n",
              "<table border=\"1\" class=\"dataframe\">\n",
              "  <thead>\n",
              "    <tr style=\"text-align: right;\">\n",
              "      <th></th>\n",
              "      <th>marital</th>\n",
              "      <th>Percent of all marital types</th>\n",
              "    </tr>\n",
              "  </thead>\n",
              "  <tbody>\n",
              "    <tr>\n",
              "      <th>married</th>\n",
              "      <td>2409</td>\n",
              "      <td>0.584993</td>\n",
              "    </tr>\n",
              "    <tr>\n",
              "      <th>single</th>\n",
              "      <td>1270</td>\n",
              "      <td>0.308402</td>\n",
              "    </tr>\n",
              "    <tr>\n",
              "      <th>divorced</th>\n",
              "      <td>427</td>\n",
              "      <td>0.103691</td>\n",
              "    </tr>\n",
              "    <tr>\n",
              "      <th>unknown</th>\n",
              "      <td>12</td>\n",
              "      <td>0.002914</td>\n",
              "    </tr>\n",
              "  </tbody>\n",
              "</table>\n",
              "</div>\n",
              "      <button class=\"colab-df-convert\" onclick=\"convertToInteractive('df-9a95703b-ee2d-431d-a8a2-07b1b210e800')\"\n",
              "              title=\"Convert this dataframe to an interactive table.\"\n",
              "              style=\"display:none;\">\n",
              "        \n",
              "  <svg xmlns=\"http://www.w3.org/2000/svg\" height=\"24px\"viewBox=\"0 0 24 24\"\n",
              "       width=\"24px\">\n",
              "    <path d=\"M0 0h24v24H0V0z\" fill=\"none\"/>\n",
              "    <path d=\"M18.56 5.44l.94 2.06.94-2.06 2.06-.94-2.06-.94-.94-2.06-.94 2.06-2.06.94zm-11 1L8.5 8.5l.94-2.06 2.06-.94-2.06-.94L8.5 2.5l-.94 2.06-2.06.94zm10 10l.94 2.06.94-2.06 2.06-.94-2.06-.94-.94-2.06-.94 2.06-2.06.94z\"/><path d=\"M17.41 7.96l-1.37-1.37c-.4-.4-.92-.59-1.43-.59-.52 0-1.04.2-1.43.59L10.3 9.45l-7.72 7.72c-.78.78-.78 2.05 0 2.83L4 21.41c.39.39.9.59 1.41.59.51 0 1.02-.2 1.41-.59l7.78-7.78 2.81-2.81c.8-.78.8-2.07 0-2.86zM5.41 20L4 18.59l7.72-7.72 1.47 1.35L5.41 20z\"/>\n",
              "  </svg>\n",
              "      </button>\n",
              "      \n",
              "  <style>\n",
              "    .colab-df-container {\n",
              "      display:flex;\n",
              "      flex-wrap:wrap;\n",
              "      gap: 12px;\n",
              "    }\n",
              "\n",
              "    .colab-df-convert {\n",
              "      background-color: #E8F0FE;\n",
              "      border: none;\n",
              "      border-radius: 50%;\n",
              "      cursor: pointer;\n",
              "      display: none;\n",
              "      fill: #1967D2;\n",
              "      height: 32px;\n",
              "      padding: 0 0 0 0;\n",
              "      width: 32px;\n",
              "    }\n",
              "\n",
              "    .colab-df-convert:hover {\n",
              "      background-color: #E2EBFA;\n",
              "      box-shadow: 0px 1px 2px rgba(60, 64, 67, 0.3), 0px 1px 3px 1px rgba(60, 64, 67, 0.15);\n",
              "      fill: #174EA6;\n",
              "    }\n",
              "\n",
              "    [theme=dark] .colab-df-convert {\n",
              "      background-color: #3B4455;\n",
              "      fill: #D2E3FC;\n",
              "    }\n",
              "\n",
              "    [theme=dark] .colab-df-convert:hover {\n",
              "      background-color: #434B5C;\n",
              "      box-shadow: 0px 1px 3px 1px rgba(0, 0, 0, 0.15);\n",
              "      filter: drop-shadow(0px 1px 2px rgba(0, 0, 0, 0.3));\n",
              "      fill: #FFFFFF;\n",
              "    }\n",
              "  </style>\n",
              "\n",
              "      <script>\n",
              "        const buttonEl =\n",
              "          document.querySelector('#df-9a95703b-ee2d-431d-a8a2-07b1b210e800 button.colab-df-convert');\n",
              "        buttonEl.style.display =\n",
              "          google.colab.kernel.accessAllowed ? 'block' : 'none';\n",
              "\n",
              "        async function convertToInteractive(key) {\n",
              "          const element = document.querySelector('#df-9a95703b-ee2d-431d-a8a2-07b1b210e800');\n",
              "          const dataTable =\n",
              "            await google.colab.kernel.invokeFunction('convertToInteractive',\n",
              "                                                     [key], {});\n",
              "          if (!dataTable) return;\n",
              "\n",
              "          const docLinkHtml = 'Like what you see? Visit the ' +\n",
              "            '<a target=\"_blank\" href=https://colab.research.google.com/notebooks/data_table.ipynb>data table notebook</a>'\n",
              "            + ' to learn more about interactive tables.';\n",
              "          element.innerHTML = '';\n",
              "          dataTable['output_type'] = 'display_data';\n",
              "          await google.colab.output.renderOutput(dataTable, element);\n",
              "          const docLink = document.createElement('div');\n",
              "          docLink.innerHTML = docLinkHtml;\n",
              "          element.appendChild(docLink);\n",
              "        }\n",
              "      </script>\n",
              "    </div>\n",
              "  </div>\n",
              "  "
            ]
          },
          "metadata": {},
          "execution_count": 47
        }
      ]
    },
    {
      "cell_type": "code",
      "source": [
        "# group by age and marital \n",
        "marital_age = df.groupby(\"marital\")[\"age\"].mean()\n",
        "marital_age"
      ],
      "metadata": {
        "colab": {
          "base_uri": "https://localhost:8080/"
        },
        "id": "MbhvlW02moZ5",
        "outputId": "0034f6f7-5371-4288-c497-7240670c2d61"
      },
      "execution_count": 48,
      "outputs": [
        {
          "output_type": "execute_result",
          "data": {
            "text/plain": [
              "marital\n",
              "divorced    46.562061\n",
              "married     43.503528\n",
              "single      32.287402\n",
              "unknown     39.583333\n",
              "Name: age, dtype: float64"
            ]
          },
          "metadata": {},
          "execution_count": 48
        }
      ]
    },
    {
      "cell_type": "code",
      "source": [
        "plt.figure(figsize=(15,7))\n",
        "sns.countplot(x ='marital', hue = \"y\", data = df, palette = 'deep')"
      ],
      "metadata": {
        "colab": {
          "base_uri": "https://localhost:8080/",
          "height": 459
        },
        "id": "eHISz_xZxvvZ",
        "outputId": "ecc7f33d-4b91-451f-d496-de9d6efcff8a"
      },
      "execution_count": 49,
      "outputs": [
        {
          "output_type": "execute_result",
          "data": {
            "text/plain": [
              "<matplotlib.axes._subplots.AxesSubplot at 0x7f72a5df3210>"
            ]
          },
          "metadata": {},
          "execution_count": 49
        },
        {
          "output_type": "display_data",
          "data": {
            "text/plain": [
              "<Figure size 1080x504 with 1 Axes>"
            ],
            "image/png": "[encoded data removed]"
          },
          "metadata": {
            "needs_background": "light"
          }
        }
      ]
    },
    {
      "cell_type": "code",
      "source": [
        "chi_sq_marital_y = pd.crosstab(df['marital'], df['y'])\n",
        "\n",
        "chiVal, pVal, d_f, exp = chi2_contingency(chi_sq_marital_y)\n",
        "chiVal, pVal, d_f, exp\n",
        "print('Chi Value:',chiVal)\n",
        "print(pVal)\n",
        "print('\\n')\n",
        "\n",
        "if pVal < .05:\n",
        "  print('This indicates there is an association between the two variables (one has an impact on the other)')\n",
        "else:\n",
        "  print('This indicates there is no association between the two variables (one has an impact on the other)')\n",
        "  \n"
      ],
      "metadata": {
        "colab": {
          "base_uri": "https://localhost:8080/"
        },
        "id": "2TjUm27FLkJV",
        "outputId": "db3a9bb1-9a1a-46d8-c6e8-421562e5ec19"
      },
      "execution_count": 50,
      "outputs": [
        {
          "output_type": "stream",
          "name": "stdout",
          "text": [
            "Chi Value: 36.801828197153654\n",
            "5.067724096634085e-08\n",
            "\n",
            "\n",
            "This indicates there is an association between the two variables (one has an impact on the other)\n"
          ]
        }
      ]
    },
    {
      "cell_type": "code",
      "source": [
        "# lets look at education feature that has 8 distinct values and there distribution \n",
        "education = categorical_feature['education'].value_counts().to_frame()\n",
        "education['Percent of all education types'] = education['education'] / sum(education['education'])\n",
        "education"
      ],
      "metadata": {
        "colab": {
          "base_uri": "https://localhost:8080/",
          "height": 300
        },
        "id": "xfMBBie3tuYR",
        "outputId": "088cfb1d-0464-435e-f71c-57b1fa5f6f56"
      },
      "execution_count": 51,
      "outputs": [
        {
          "output_type": "execute_result",
          "data": {
            "text/plain": [
              "                     education  Percent of all education types\n",
              "university.degree         1328                        0.322487\n",
              "high.school                960                        0.233123\n",
              "basic.9y                   532                        0.129189\n",
              "professional.course        500                        0.121418\n",
              "basic.4y                   404                        0.098106\n",
              "unknown                    199                        0.048324\n",
              "basic.6y                   194                        0.047110\n",
              "illiterate                   1                        0.000243"
            ],
            "text/html": [
              "\n",
              "  <div id=\"df-262a3ba1-7f49-4c28-a7e6-81715a8a2b99\">\n",
              "    <div class=\"colab-df-container\">\n",
              "      <div>\n",
              "<style scoped>\n",
              "    .dataframe tbody tr th:only-of-type {\n",
              "        vertical-align: middle;\n",
              "    }\n",
              "\n",
              "    .dataframe tbody tr th {\n",
              "        vertical-align: top;\n",
              "    }\n",
              "\n",
              "    .dataframe thead th {\n",
              "        text-align: right;\n",
              "    }\n",
              "</style>\n",
              "<table border=\"1\" class=\"dataframe\">\n",
              "  <thead>\n",
              "    <tr style=\"text-align: right;\">\n",
              "      <th></th>\n",
              "      <th>education</th>\n",
              "      <th>Percent of all education types</th>\n",
              "    </tr>\n",
              "  </thead>\n",
              "  <tbody>\n",
              "    <tr>\n",
              "      <th>university.degree</th>\n",
              "      <td>1328</td>\n",
              "      <td>0.322487</td>\n",
              "    </tr>\n",
              "    <tr>\n",
              "      <th>high.school</th>\n",
              "      <td>960</td>\n",
              "      <td>0.233123</td>\n",
              "    </tr>\n",
              "    <tr>\n",
              "      <th>basic.9y</th>\n",
              "      <td>532</td>\n",
              "      <td>0.129189</td>\n",
              "    </tr>\n",
              "    <tr>\n",
              "      <th>professional.course</th>\n",
              "      <td>500</td>\n",
              "      <td>0.121418</td>\n",
              "    </tr>\n",
              "    <tr>\n",
              "      <th>basic.4y</th>\n",
              "      <td>404</td>\n",
              "      <td>0.098106</td>\n",
              "    </tr>\n",
              "    <tr>\n",
              "      <th>unknown</th>\n",
              "      <td>199</td>\n",
              "      <td>0.048324</td>\n",
              "    </tr>\n",
              "    <tr>\n",
              "      <th>basic.6y</th>\n",
              "      <td>194</td>\n",
              "      <td>0.047110</td>\n",
              "    </tr>\n",
              "    <tr>\n",
              "      <th>illiterate</th>\n",
              "      <td>1</td>\n",
              "      <td>0.000243</td>\n",
              "    </tr>\n",
              "  </tbody>\n",
              "</table>\n",
              "</div>\n",
              "      <button class=\"colab-df-convert\" onclick=\"convertToInteractive('df-262a3ba1-7f49-4c28-a7e6-81715a8a2b99')\"\n",
              "              title=\"Convert this dataframe to an interactive table.\"\n",
              "              style=\"display:none;\">\n",
              "        \n",
              "  <svg xmlns=\"http://www.w3.org/2000/svg\" height=\"24px\"viewBox=\"0 0 24 24\"\n",
              "       width=\"24px\">\n",
              "    <path d=\"M0 0h24v24H0V0z\" fill=\"none\"/>\n",
              "    <path d=\"M18.56 5.44l.94 2.06.94-2.06 2.06-.94-2.06-.94-.94-2.06-.94 2.06-2.06.94zm-11 1L8.5 8.5l.94-2.06 2.06-.94-2.06-.94L8.5 2.5l-.94 2.06-2.06.94zm10 10l.94 2.06.94-2.06 2.06-.94-2.06-.94-.94-2.06-.94 2.06-2.06.94z\"/><path d=\"M17.41 7.96l-1.37-1.37c-.4-.4-.92-.59-1.43-.59-.52 0-1.04.2-1.43.59L10.3 9.45l-7.72 7.72c-.78.78-.78 2.05 0 2.83L4 21.41c.39.39.9.59 1.41.59.51 0 1.02-.2 1.41-.59l7.78-7.78 2.81-2.81c.8-.78.8-2.07 0-2.86zM5.41 20L4 18.59l7.72-7.72 1.47 1.35L5.41 20z\"/>\n",
              "  </svg>\n",
              "      </button>\n",
              "      \n",
              "  <style>\n",
              "    .colab-df-container {\n",
              "      display:flex;\n",
              "      flex-wrap:wrap;\n",
              "      gap: 12px;\n",
              "    }\n",
              "\n",
              "    .colab-df-convert {\n",
              "      background-color: #E8F0FE;\n",
              "      border: none;\n",
              "      border-radius: 50%;\n",
              "      cursor: pointer;\n",
              "      display: none;\n",
              "      fill: #1967D2;\n",
              "      height: 32px;\n",
              "      padding: 0 0 0 0;\n",
              "      width: 32px;\n",
              "    }\n",
              "\n",
              "    .colab-df-convert:hover {\n",
              "      background-color: #E2EBFA;\n",
              "      box-shadow: 0px 1px 2px rgba(60, 64, 67, 0.3), 0px 1px 3px 1px rgba(60, 64, 67, 0.15);\n",
              "      fill: #174EA6;\n",
              "    }\n",
              "\n",
              "    [theme=dark] .colab-df-convert {\n",
              "      background-color: #3B4455;\n",
              "      fill: #D2E3FC;\n",
              "    }\n",
              "\n",
              "    [theme=dark] .colab-df-convert:hover {\n",
              "      background-color: #434B5C;\n",
              "      box-shadow: 0px 1px 3px 1px rgba(0, 0, 0, 0.15);\n",
              "      filter: drop-shadow(0px 1px 2px rgba(0, 0, 0, 0.3));\n",
              "      fill: #FFFFFF;\n",
              "    }\n",
              "  </style>\n",
              "\n",
              "      <script>\n",
              "        const buttonEl =\n",
              "          document.querySelector('#df-262a3ba1-7f49-4c28-a7e6-81715a8a2b99 button.colab-df-convert');\n",
              "        buttonEl.style.display =\n",
              "          google.colab.kernel.accessAllowed ? 'block' : 'none';\n",
              "\n",
              "        async function convertToInteractive(key) {\n",
              "          const element = document.querySelector('#df-262a3ba1-7f49-4c28-a7e6-81715a8a2b99');\n",
              "          const dataTable =\n",
              "            await google.colab.kernel.invokeFunction('convertToInteractive',\n",
              "                                                     [key], {});\n",
              "          if (!dataTable) return;\n",
              "\n",
              "          const docLinkHtml = 'Like what you see? Visit the ' +\n",
              "            '<a target=\"_blank\" href=https://colab.research.google.com/notebooks/data_table.ipynb>data table notebook</a>'\n",
              "            + ' to learn more about interactive tables.';\n",
              "          element.innerHTML = '';\n",
              "          dataTable['output_type'] = 'display_data';\n",
              "          await google.colab.output.renderOutput(dataTable, element);\n",
              "          const docLink = document.createElement('div');\n",
              "          docLink.innerHTML = docLinkHtml;\n",
              "          element.appendChild(docLink);\n",
              "        }\n",
              "      </script>\n",
              "    </div>\n",
              "  </div>\n",
              "  "
            ]
          },
          "metadata": {},
          "execution_count": 51
        }
      ]
    },
    {
      "cell_type": "code",
      "source": [
        "# group by age and education \n",
        "education_age = df.groupby(\"education\")[\"age\"].mean()\n",
        "education_age"
      ],
      "metadata": {
        "colab": {
          "base_uri": "https://localhost:8080/"
        },
        "id": "Iwi36aP9mxn1",
        "outputId": "60d5e593-870f-48ac-d12f-3e39205743d4"
      },
      "execution_count": 52,
      "outputs": [
        {
          "output_type": "execute_result",
          "data": {
            "text/plain": [
              "education\n",
              "basic.4y               51.893564\n",
              "basic.6y               40.154639\n",
              "basic.9y               38.500000\n",
              "high.school            37.633333\n",
              "illiterate             44.000000\n",
              "professional.course    40.710000\n",
              "university.degree      38.875000\n",
              "unknown                44.080402\n",
              "Name: age, dtype: float64"
            ]
          },
          "metadata": {},
          "execution_count": 52
        }
      ]
    },
    {
      "cell_type": "code",
      "source": [
        "plt.figure(figsize=(15,7))\n",
        "sns.countplot(x ='education', hue = \"y\", data = df, palette = 'deep')"
      ],
      "metadata": {
        "colab": {
          "base_uri": "https://localhost:8080/",
          "height": 459
        },
        "id": "7M7Gi8H9yTRZ",
        "outputId": "c2aec383-1473-4836-b06a-3c28e66c5e22"
      },
      "execution_count": 53,
      "outputs": [
        {
          "output_type": "execute_result",
          "data": {
            "text/plain": [
              "<matplotlib.axes._subplots.AxesSubplot at 0x7f72a5daf6d0>"
            ]
          },
          "metadata": {},
          "execution_count": 53
        },
        {
          "output_type": "display_data",
          "data": {
            "text/plain": [
              "<Figure size 1080x504 with 1 Axes>"
            ],
            "image/png": "[encoded data removed]"
          },
          "metadata": {
            "needs_background": "light"
          }
        }
      ]
    },
    {
      "cell_type": "code",
      "source": [
        "chi_sq_education_y = pd.crosstab(df['education'], df['y'])\n",
        "\n",
        "chiVal, pVal, d_f, exp = chi2_contingency(chi_sq_education_y)\n",
        "chiVal, pVal, d_f, exp\n",
        "print('Chi Value:',chiVal)\n",
        "print(pVal)\n",
        "print('\\n')\n",
        "\n",
        "if pVal < .05:\n",
        "  print('This indicates there is an association between the two variables (one has an impact on the other)')\n",
        "else:\n",
        "  print('This indicates there is no association between the two variables (one has an impact on the other)')\n",
        "  \n"
      ],
      "metadata": {
        "colab": {
          "base_uri": "https://localhost:8080/"
        },
        "id": "G2HpTHjJMAqY",
        "outputId": "c21cab2b-421b-43d1-dd42-c1cd0acdd68b"
      },
      "execution_count": 54,
      "outputs": [
        {
          "output_type": "stream",
          "name": "stdout",
          "text": [
            "Chi Value: 59.26124062804794\n",
            "2.1197013522356735e-10\n",
            "\n",
            "\n",
            "This indicates there is an association between the two variables (one has an impact on the other)\n"
          ]
        }
      ]
    },
    {
      "cell_type": "code",
      "source": [
        "# lets look at default feature that has 3 distinct values and there distribution \n",
        "default = categorical_feature['default'].value_counts().to_frame()\n",
        "default['Percent of all default types'] = default['default'] / sum(default['default'])\n",
        "default"
      ],
      "metadata": {
        "colab": {
          "base_uri": "https://localhost:8080/",
          "height": 143
        },
        "id": "8e1q8xRhuK8O",
        "outputId": "1166c031-2a45-4642-fbbb-4decb25de28e"
      },
      "execution_count": 55,
      "outputs": [
        {
          "output_type": "execute_result",
          "data": {
            "text/plain": [
              "         default  Percent of all default types\n",
              "no          3433                      0.833657\n",
              "unknown      684                      0.166100\n",
              "yes            1                      0.000243"
            ],
            "text/html": [
              "\n",
              "  <div id=\"df-ab92cdf6-3480-4b30-9562-0c9a1af83d8b\">\n",
              "    <div class=\"colab-df-container\">\n",
              "      <div>\n",
              "<style scoped>\n",
              "    .dataframe tbody tr th:only-of-type {\n",
              "        vertical-align: middle;\n",
              "    }\n",
              "\n",
              "    .dataframe tbody tr th {\n",
              "        vertical-align: top;\n",
              "    }\n",
              "\n",
              "    .dataframe thead th {\n",
              "        text-align: right;\n",
              "    }\n",
              "</style>\n",
              "<table border=\"1\" class=\"dataframe\">\n",
              "  <thead>\n",
              "    <tr style=\"text-align: right;\">\n",
              "      <th></th>\n",
              "      <th>default</th>\n",
              "      <th>Percent of all default types</th>\n",
              "    </tr>\n",
              "  </thead>\n",
              "  <tbody>\n",
              "    <tr>\n",
              "      <th>no</th>\n",
              "      <td>3433</td>\n",
              "      <td>0.833657</td>\n",
              "    </tr>\n",
              "    <tr>\n",
              "      <th>unknown</th>\n",
              "      <td>684</td>\n",
              "      <td>0.166100</td>\n",
              "    </tr>\n",
              "    <tr>\n",
              "      <th>yes</th>\n",
              "      <td>1</td>\n",
              "      <td>0.000243</td>\n",
              "    </tr>\n",
              "  </tbody>\n",
              "</table>\n",
              "</div>\n",
              "      <button class=\"colab-df-convert\" onclick=\"convertToInteractive('df-ab92cdf6-3480-4b30-9562-0c9a1af83d8b')\"\n",
              "              title=\"Convert this dataframe to an interactive table.\"\n",
              "              style=\"display:none;\">\n",
              "        \n",
              "  <svg xmlns=\"http://www.w3.org/2000/svg\" height=\"24px\"viewBox=\"0 0 24 24\"\n",
              "       width=\"24px\">\n",
              "    <path d=\"M0 0h24v24H0V0z\" fill=\"none\"/>\n",
              "    <path d=\"M18.56 5.44l.94 2.06.94-2.06 2.06-.94-2.06-.94-.94-2.06-.94 2.06-2.06.94zm-11 1L8.5 8.5l.94-2.06 2.06-.94-2.06-.94L8.5 2.5l-.94 2.06-2.06.94zm10 10l.94 2.06.94-2.06 2.06-.94-2.06-.94-.94-2.06-.94 2.06-2.06.94z\"/><path d=\"M17.41 7.96l-1.37-1.37c-.4-.4-.92-.59-1.43-.59-.52 0-1.04.2-1.43.59L10.3 9.45l-7.72 7.72c-.78.78-.78 2.05 0 2.83L4 21.41c.39.39.9.59 1.41.59.51 0 1.02-.2 1.41-.59l7.78-7.78 2.81-2.81c.8-.78.8-2.07 0-2.86zM5.41 20L4 18.59l7.72-7.72 1.47 1.35L5.41 20z\"/>\n",
              "  </svg>\n",
              "      </button>\n",
              "      \n",
              "  <style>\n",
              "    .colab-df-container {\n",
              "      display:flex;\n",
              "      flex-wrap:wrap;\n",
              "      gap: 12px;\n",
              "    }\n",
              "\n",
              "    .colab-df-convert {\n",
              "      background-color: #E8F0FE;\n",
              "      border: none;\n",
              "      border-radius: 50%;\n",
              "      cursor: pointer;\n",
              "      display: none;\n",
              "      fill: #1967D2;\n",
              "      height: 32px;\n",
              "      padding: 0 0 0 0;\n",
              "      width: 32px;\n",
              "    }\n",
              "\n",
              "    .colab-df-convert:hover {\n",
              "      background-color: #E2EBFA;\n",
              "      box-shadow: 0px 1px 2px rgba(60, 64, 67, 0.3), 0px 1px 3px 1px rgba(60, 64, 67, 0.15);\n",
              "      fill: #174EA6;\n",
              "    }\n",
              "\n",
              "    [theme=dark] .colab-df-convert {\n",
              "      background-color: #3B4455;\n",
              "      fill: #D2E3FC;\n",
              "    }\n",
              "\n",
              "    [theme=dark] .colab-df-convert:hover {\n",
              "      background-color: #434B5C;\n",
              "      box-shadow: 0px 1px 3px 1px rgba(0, 0, 0, 0.15);\n",
              "      filter: drop-shadow(0px 1px 2px rgba(0, 0, 0, 0.3));\n",
              "      fill: #FFFFFF;\n",
              "    }\n",
              "  </style>\n",
              "\n",
              "      <script>\n",
              "        const buttonEl =\n",
              "          document.querySelector('#df-ab92cdf6-3480-4b30-9562-0c9a1af83d8b button.colab-df-convert');\n",
              "        buttonEl.style.display =\n",
              "          google.colab.kernel.accessAllowed ? 'block' : 'none';\n",
              "\n",
              "        async function convertToInteractive(key) {\n",
              "          const element = document.querySelector('#df-ab92cdf6-3480-4b30-9562-0c9a1af83d8b');\n",
              "          const dataTable =\n",
              "            await google.colab.kernel.invokeFunction('convertToInteractive',\n",
              "                                                     [key], {});\n",
              "          if (!dataTable) return;\n",
              "\n",
              "          const docLinkHtml = 'Like what you see? Visit the ' +\n",
              "            '<a target=\"_blank\" href=https://colab.research.google.com/notebooks/data_table.ipynb>data table notebook</a>'\n",
              "            + ' to learn more about interactive tables.';\n",
              "          element.innerHTML = '';\n",
              "          dataTable['output_type'] = 'display_data';\n",
              "          await google.colab.output.renderOutput(dataTable, element);\n",
              "          const docLink = document.createElement('div');\n",
              "          docLink.innerHTML = docLinkHtml;\n",
              "          element.appendChild(docLink);\n",
              "        }\n",
              "      </script>\n",
              "    </div>\n",
              "  </div>\n",
              "  "
            ]
          },
          "metadata": {},
          "execution_count": 55
        }
      ]
    },
    {
      "cell_type": "code",
      "source": [
        "# group by age and default \n",
        "default_age = df.groupby(\"default\")[\"age\"].mean()\n",
        "default_age"
      ],
      "metadata": {
        "colab": {
          "base_uri": "https://localhost:8080/"
        },
        "id": "Mls2eIVOm2_4",
        "outputId": "a7c6d2bb-e0dd-4cde-a5d0-03e5fd1d155d"
      },
      "execution_count": 56,
      "outputs": [
        {
          "output_type": "execute_result",
          "data": {
            "text/plain": [
              "default\n",
              "no         39.750655\n",
              "unknown    43.347953\n",
              "yes        48.000000\n",
              "Name: age, dtype: float64"
            ]
          },
          "metadata": {},
          "execution_count": 56
        }
      ]
    },
    {
      "cell_type": "code",
      "source": [
        "plt.figure(figsize=(15,7))\n",
        "sns.countplot(x ='default', hue = \"y\", data = df, palette = 'deep')"
      ],
      "metadata": {
        "colab": {
          "base_uri": "https://localhost:8080/",
          "height": 459
        },
        "id": "VAE0bTsgycAV",
        "outputId": "1a0bf582-71ce-4ea3-df95-095a9ddc951a"
      },
      "execution_count": 57,
      "outputs": [
        {
          "output_type": "execute_result",
          "data": {
            "text/plain": [
              "<matplotlib.axes._subplots.AxesSubplot at 0x7f72a5c5f1d0>"
            ]
          },
          "metadata": {},
          "execution_count": 57
        },
        {
          "output_type": "display_data",
          "data": {
            "text/plain": [
              "<Figure size 1080x504 with 1 Axes>"
            ],
            "image/png": "[encoded data removed]"
          },
          "metadata": {
            "needs_background": "light"
          }
        }
      ]
    },
    {
      "cell_type": "code",
      "source": [
        "chi_sq_default_y = pd.crosstab(df['default'], df['y'])\n",
        "\n",
        "chiVal, pVal, d_f, exp = chi2_contingency(chi_sq_default_y)\n",
        "chiVal, pVal, d_f, exp\n",
        "print('Chi Value:',chiVal)\n",
        "print(pVal)\n",
        "print('\\n')\n",
        "\n",
        "if pVal < .05:\n",
        "  print('This indicates there is an association between the two variables (one has an impact on the other)')\n",
        "else:\n",
        "  print('This indicates there is no association between the two variables (one has an impact on the other)')\n",
        "  \n"
      ],
      "metadata": {
        "colab": {
          "base_uri": "https://localhost:8080/"
        },
        "id": "hr_2Z88GMJQJ",
        "outputId": "9c228020-516c-4eed-ff56-fa170db6ef7c"
      },
      "execution_count": 58,
      "outputs": [
        {
          "output_type": "stream",
          "name": "stdout",
          "text": [
            "Chi Value: 127.08391378485051\n",
            "2.535588376785913e-28\n",
            "\n",
            "\n",
            "This indicates there is an association between the two variables (one has an impact on the other)\n"
          ]
        }
      ]
    },
    {
      "cell_type": "code",
      "source": [
        "# lets look at housing feature that has 3 distinct values and there distribution \n",
        "housing = categorical_feature['housing'].value_counts().to_frame()\n",
        "housing['Percent of all housing types'] = housing['housing'] / sum(housing['housing'])\n",
        "housing"
      ],
      "metadata": {
        "colab": {
          "base_uri": "https://localhost:8080/",
          "height": 143
        },
        "id": "3DBiXcIjt6IU",
        "outputId": "7c69f827-853f-4090-a442-378b9ed5968c"
      },
      "execution_count": 59,
      "outputs": [
        {
          "output_type": "execute_result",
          "data": {
            "text/plain": [
              "         housing  Percent of all housing types\n",
              "yes         2175                      0.528169\n",
              "no          1855                      0.450461\n",
              "unknown       88                      0.021370"
            ],
            "text/html": [
              "\n",
              "  <div id=\"df-b33174aa-2d44-45b6-8356-c1e47a57c49c\">\n",
              "    <div class=\"colab-df-container\">\n",
              "      <div>\n",
              "<style scoped>\n",
              "    .dataframe tbody tr th:only-of-type {\n",
              "        vertical-align: middle;\n",
              "    }\n",
              "\n",
              "    .dataframe tbody tr th {\n",
              "        vertical-align: top;\n",
              "    }\n",
              "\n",
              "    .dataframe thead th {\n",
              "        text-align: right;\n",
              "    }\n",
              "</style>\n",
              "<table border=\"1\" class=\"dataframe\">\n",
              "  <thead>\n",
              "    <tr style=\"text-align: right;\">\n",
              "      <th></th>\n",
              "      <th>housing</th>\n",
              "      <th>Percent of all housing types</th>\n",
              "    </tr>\n",
              "  </thead>\n",
              "  <tbody>\n",
              "    <tr>\n",
              "      <th>yes</th>\n",
              "      <td>2175</td>\n",
              "      <td>0.528169</td>\n",
              "    </tr>\n",
              "    <tr>\n",
              "      <th>no</th>\n",
              "      <td>1855</td>\n",
              "      <td>0.450461</td>\n",
              "    </tr>\n",
              "    <tr>\n",
              "      <th>unknown</th>\n",
              "      <td>88</td>\n",
              "      <td>0.021370</td>\n",
              "    </tr>\n",
              "  </tbody>\n",
              "</table>\n",
              "</div>\n",
              "      <button class=\"colab-df-convert\" onclick=\"convertToInteractive('df-b33174aa-2d44-45b6-8356-c1e47a57c49c')\"\n",
              "              title=\"Convert this dataframe to an interactive table.\"\n",
              "              style=\"display:none;\">\n",
              "        \n",
              "  <svg xmlns=\"http://www.w3.org/2000/svg\" height=\"24px\"viewBox=\"0 0 24 24\"\n",
              "       width=\"24px\">\n",
              "    <path d=\"M0 0h24v24H0V0z\" fill=\"none\"/>\n",
              "    <path d=\"M18.56 5.44l.94 2.06.94-2.06 2.06-.94-2.06-.94-.94-2.06-.94 2.06-2.06.94zm-11 1L8.5 8.5l.94-2.06 2.06-.94-2.06-.94L8.5 2.5l-.94 2.06-2.06.94zm10 10l.94 2.06.94-2.06 2.06-.94-2.06-.94-.94-2.06-.94 2.06-2.06.94z\"/><path d=\"M17.41 7.96l-1.37-1.37c-.4-.4-.92-.59-1.43-.59-.52 0-1.04.2-1.43.59L10.3 9.45l-7.72 7.72c-.78.78-.78 2.05 0 2.83L4 21.41c.39.39.9.59 1.41.59.51 0 1.02-.2 1.41-.59l7.78-7.78 2.81-2.81c.8-.78.8-2.07 0-2.86zM5.41 20L4 18.59l7.72-7.72 1.47 1.35L5.41 20z\"/>\n",
              "  </svg>\n",
              "      </button>\n",
              "      \n",
              "  <style>\n",
              "    .colab-df-container {\n",
              "      display:flex;\n",
              "      flex-wrap:wrap;\n",
              "      gap: 12px;\n",
              "    }\n",
              "\n",
              "    .colab-df-convert {\n",
              "      background-color: #E8F0FE;\n",
              "      border: none;\n",
              "      border-radius: 50%;\n",
              "      cursor: pointer;\n",
              "      display: none;\n",
              "      fill: #1967D2;\n",
              "      height: 32px;\n",
              "      padding: 0 0 0 0;\n",
              "      width: 32px;\n",
              "    }\n",
              "\n",
              "    .colab-df-convert:hover {\n",
              "      background-color: #E2EBFA;\n",
              "      box-shadow: 0px 1px 2px rgba(60, 64, 67, 0.3), 0px 1px 3px 1px rgba(60, 64, 67, 0.15);\n",
              "      fill: #174EA6;\n",
              "    }\n",
              "\n",
              "    [theme=dark] .colab-df-convert {\n",
              "      background-color: #3B4455;\n",
              "      fill: #D2E3FC;\n",
              "    }\n",
              "\n",
              "    [theme=dark] .colab-df-convert:hover {\n",
              "      background-color: #434B5C;\n",
              "      box-shadow: 0px 1px 3px 1px rgba(0, 0, 0, 0.15);\n",
              "      filter: drop-shadow(0px 1px 2px rgba(0, 0, 0, 0.3));\n",
              "      fill: #FFFFFF;\n",
              "    }\n",
              "  </style>\n",
              "\n",
              "      <script>\n",
              "        const buttonEl =\n",
              "          document.querySelector('#df-b33174aa-2d44-45b6-8356-c1e47a57c49c button.colab-df-convert');\n",
              "        buttonEl.style.display =\n",
              "          google.colab.kernel.accessAllowed ? 'block' : 'none';\n",
              "\n",
              "        async function convertToInteractive(key) {\n",
              "          const element = document.querySelector('#df-b33174aa-2d44-45b6-8356-c1e47a57c49c');\n",
              "          const dataTable =\n",
              "            await google.colab.kernel.invokeFunction('convertToInteractive',\n",
              "                                                     [key], {});\n",
              "          if (!dataTable) return;\n",
              "\n",
              "          const docLinkHtml = 'Like what you see? Visit the ' +\n",
              "            '<a target=\"_blank\" href=https://colab.research.google.com/notebooks/data_table.ipynb>data table notebook</a>'\n",
              "            + ' to learn more about interactive tables.';\n",
              "          element.innerHTML = '';\n",
              "          dataTable['output_type'] = 'display_data';\n",
              "          await google.colab.output.renderOutput(dataTable, element);\n",
              "          const docLink = document.createElement('div');\n",
              "          docLink.innerHTML = docLinkHtml;\n",
              "          element.appendChild(docLink);\n",
              "        }\n",
              "      </script>\n",
              "    </div>\n",
              "  </div>\n",
              "  "
            ]
          },
          "metadata": {},
          "execution_count": 59
        }
      ]
    },
    {
      "cell_type": "code",
      "source": [
        "# group by age and housing \n",
        "housing_age = df.groupby(\"housing\")[\"age\"].mean()\n",
        "housing_age"
      ],
      "metadata": {
        "colab": {
          "base_uri": "https://localhost:8080/"
        },
        "id": "wHudvHSTm6TF",
        "outputId": "ee6c5b0a-5717-498d-9eb9-4846781a34e8"
      },
      "execution_count": 60,
      "outputs": [
        {
          "output_type": "execute_result",
          "data": {
            "text/plain": [
              "housing\n",
              "no         40.166038\n",
              "unknown    39.954545\n",
              "yes        40.523218\n",
              "Name: age, dtype: float64"
            ]
          },
          "metadata": {},
          "execution_count": 60
        }
      ]
    },
    {
      "cell_type": "code",
      "source": [
        "plt.figure(figsize=(15,7))\n",
        "sns.countplot(x ='housing', hue = \"y\", data = df, palette = 'deep')"
      ],
      "metadata": {
        "colab": {
          "base_uri": "https://localhost:8080/",
          "height": 459
        },
        "id": "YmWIJrhryfXx",
        "outputId": "357619d9-819b-42bd-8bb7-4da4339c82ab"
      },
      "execution_count": 61,
      "outputs": [
        {
          "output_type": "execute_result",
          "data": {
            "text/plain": [
              "<matplotlib.axes._subplots.AxesSubplot at 0x7f72a5b7f190>"
            ]
          },
          "metadata": {},
          "execution_count": 61
        },
        {
          "output_type": "display_data",
          "data": {
            "text/plain": [
              "<Figure size 1080x504 with 1 Axes>"
            ],
            "image/png": "[encoded data removed]"
          },
          "metadata": {
            "needs_background": "light"
          }
        }
      ]
    },
    {
      "cell_type": "code",
      "source": [
        "chi_sq_housing_y = pd.crosstab(df['housing'], df['y'])\n",
        "\n",
        "chiVal, pVal, d_f, exp = chi2_contingency(chi_sq_housing_y)\n",
        "chiVal, pVal, d_f, exp\n",
        "print('Chi Value:',chiVal)\n",
        "print(pVal)\n",
        "print('\\n')\n",
        "\n",
        "if pVal < .05:\n",
        "  print('This indicates there is an association between the two variables (one has an impact on the other)')\n",
        "else:\n",
        "  print('This indicates there is no association between the two variables (one has an impact on the other)')\n",
        "  \n"
      ],
      "metadata": {
        "colab": {
          "base_uri": "https://localhost:8080/"
        },
        "id": "d-maPYszMPoX",
        "outputId": "2b608c95-8c5d-4b8a-f720-1b85bf6797d2"
      },
      "execution_count": 62,
      "outputs": [
        {
          "output_type": "stream",
          "name": "stdout",
          "text": [
            "Chi Value: 1.7446636642472688\n",
            "0.417975762694221\n",
            "\n",
            "\n",
            "This indicates there is no association between the two variables (one has an impact on the other)\n"
          ]
        }
      ]
    },
    {
      "cell_type": "code",
      "source": [
        "# lets look at loan feature that has 3 distinct values and there distribution \n",
        "loan = categorical_feature['loan'].value_counts().to_frame()\n",
        "loan['Percent of all loan types'] = loan['loan'] / sum(loan['loan'])\n",
        "loan"
      ],
      "metadata": {
        "colab": {
          "base_uri": "https://localhost:8080/",
          "height": 143
        },
        "id": "y7C7WcsGuiF1",
        "outputId": "1a03134e-bf79-42c7-ae7d-c037d3e04947"
      },
      "execution_count": 63,
      "outputs": [
        {
          "output_type": "execute_result",
          "data": {
            "text/plain": [
              "         loan  Percent of all loan types\n",
              "no       3417                   0.829772\n",
              "yes       613                   0.148859\n",
              "unknown    88                   0.021370"
            ],
            "text/html": [
              "\n",
              "  <div id=\"df-91c8afc9-ba82-43bd-9d03-d04afe34f5c4\">\n",
              "    <div class=\"colab-df-container\">\n",
              "      <div>\n",
              "<style scoped>\n",
              "    .dataframe tbody tr th:only-of-type {\n",
              "        vertical-align: middle;\n",
              "    }\n",
              "\n",
              "    .dataframe tbody tr th {\n",
              "        vertical-align: top;\n",
              "    }\n",
              "\n",
              "    .dataframe thead th {\n",
              "        text-align: right;\n",
              "    }\n",
              "</style>\n",
              "<table border=\"1\" class=\"dataframe\">\n",
              "  <thead>\n",
              "    <tr style=\"text-align: right;\">\n",
              "      <th></th>\n",
              "      <th>loan</th>\n",
              "      <th>Percent of all loan types</th>\n",
              "    </tr>\n",
              "  </thead>\n",
              "  <tbody>\n",
              "    <tr>\n",
              "      <th>no</th>\n",
              "      <td>3417</td>\n",
              "      <td>0.829772</td>\n",
              "    </tr>\n",
              "    <tr>\n",
              "      <th>yes</th>\n",
              "      <td>613</td>\n",
              "      <td>0.148859</td>\n",
              "    </tr>\n",
              "    <tr>\n",
              "      <th>unknown</th>\n",
              "      <td>88</td>\n",
              "      <td>0.021370</td>\n",
              "    </tr>\n",
              "  </tbody>\n",
              "</table>\n",
              "</div>\n",
              "      <button class=\"colab-df-convert\" onclick=\"convertToInteractive('df-91c8afc9-ba82-43bd-9d03-d04afe34f5c4')\"\n",
              "              title=\"Convert this dataframe to an interactive table.\"\n",
              "              style=\"display:none;\">\n",
              "        \n",
              "  <svg xmlns=\"http://www.w3.org/2000/svg\" height=\"24px\"viewBox=\"0 0 24 24\"\n",
              "       width=\"24px\">\n",
              "    <path d=\"M0 0h24v24H0V0z\" fill=\"none\"/>\n",
              "    <path d=\"M18.56 5.44l.94 2.06.94-2.06 2.06-.94-2.06-.94-.94-2.06-.94 2.06-2.06.94zm-11 1L8.5 8.5l.94-2.06 2.06-.94-2.06-.94L8.5 2.5l-.94 2.06-2.06.94zm10 10l.94 2.06.94-2.06 2.06-.94-2.06-.94-.94-2.06-.94 2.06-2.06.94z\"/><path d=\"M17.41 7.96l-1.37-1.37c-.4-.4-.92-.59-1.43-.59-.52 0-1.04.2-1.43.59L10.3 9.45l-7.72 7.72c-.78.78-.78 2.05 0 2.83L4 21.41c.39.39.9.59 1.41.59.51 0 1.02-.2 1.41-.59l7.78-7.78 2.81-2.81c.8-.78.8-2.07 0-2.86zM5.41 20L4 18.59l7.72-7.72 1.47 1.35L5.41 20z\"/>\n",
              "  </svg>\n",
              "      </button>\n",
              "      \n",
              "  <style>\n",
              "    .colab-df-container {\n",
              "      display:flex;\n",
              "      flex-wrap:wrap;\n",
              "      gap: 12px;\n",
              "    }\n",
              "\n",
              "    .colab-df-convert {\n",
              "      background-color: #E8F0FE;\n",
              "      border: none;\n",
              "      border-radius: 50%;\n",
              "      cursor: pointer;\n",
              "      display: none;\n",
              "      fill: #1967D2;\n",
              "      height: 32px;\n",
              "      padding: 0 0 0 0;\n",
              "      width: 32px;\n",
              "    }\n",
              "\n",
              "    .colab-df-convert:hover {\n",
              "      background-color: #E2EBFA;\n",
              "      box-shadow: 0px 1px 2px rgba(60, 64, 67, 0.3), 0px 1px 3px 1px rgba(60, 64, 67, 0.15);\n",
              "      fill: #174EA6;\n",
              "    }\n",
              "\n",
              "    [theme=dark] .colab-df-convert {\n",
              "      background-color: #3B4455;\n",
              "      fill: #D2E3FC;\n",
              "    }\n",
              "\n",
              "    [theme=dark] .colab-df-convert:hover {\n",
              "      background-color: #434B5C;\n",
              "      box-shadow: 0px 1px 3px 1px rgba(0, 0, 0, 0.15);\n",
              "      filter: drop-shadow(0px 1px 2px rgba(0, 0, 0, 0.3));\n",
              "      fill: #FFFFFF;\n",
              "    }\n",
              "  </style>\n",
              "\n",
              "      <script>\n",
              "        const buttonEl =\n",
              "          document.querySelector('#df-91c8afc9-ba82-43bd-9d03-d04afe34f5c4 button.colab-df-convert');\n",
              "        buttonEl.style.display =\n",
              "          google.colab.kernel.accessAllowed ? 'block' : 'none';\n",
              "\n",
              "        async function convertToInteractive(key) {\n",
              "          const element = document.querySelector('#df-91c8afc9-ba82-43bd-9d03-d04afe34f5c4');\n",
              "          const dataTable =\n",
              "            await google.colab.kernel.invokeFunction('convertToInteractive',\n",
              "                                                     [key], {});\n",
              "          if (!dataTable) return;\n",
              "\n",
              "          const docLinkHtml = 'Like what you see? Visit the ' +\n",
              "            '<a target=\"_blank\" href=https://colab.research.google.com/notebooks/data_table.ipynb>data table notebook</a>'\n",
              "            + ' to learn more about interactive tables.';\n",
              "          element.innerHTML = '';\n",
              "          dataTable['output_type'] = 'display_data';\n",
              "          await google.colab.output.renderOutput(dataTable, element);\n",
              "          const docLink = document.createElement('div');\n",
              "          docLink.innerHTML = docLinkHtml;\n",
              "          element.appendChild(docLink);\n",
              "        }\n",
              "      </script>\n",
              "    </div>\n",
              "  </div>\n",
              "  "
            ]
          },
          "metadata": {},
          "execution_count": 63
        }
      ]
    },
    {
      "cell_type": "code",
      "source": [
        "# group by age and loan \n",
        "loan_age = df.groupby(\"loan\")[\"age\"].mean()\n",
        "loan_age"
      ],
      "metadata": {
        "colab": {
          "base_uri": "https://localhost:8080/"
        },
        "id": "tRTp1oMGm99v",
        "outputId": "85b1300c-7188-465c-95e7-aa4c75d9ca25"
      },
      "execution_count": 64,
      "outputs": [
        {
          "output_type": "execute_result",
          "data": {
            "text/plain": [
              "loan\n",
              "no         40.411765\n",
              "unknown    39.954545\n",
              "yes        40.063622\n",
              "Name: age, dtype: float64"
            ]
          },
          "metadata": {},
          "execution_count": 64
        }
      ]
    },
    {
      "cell_type": "code",
      "source": [
        "plt.figure(figsize=(15,7))\n",
        "sns.countplot(x ='loan', hue = \"y\", data = df, palette = 'deep')"
      ],
      "metadata": {
        "colab": {
          "base_uri": "https://localhost:8080/",
          "height": 459
        },
        "id": "WsC22TUURpuk",
        "outputId": "44501a03-08ee-40ba-a351-baa3bdbce106"
      },
      "execution_count": 65,
      "outputs": [
        {
          "output_type": "execute_result",
          "data": {
            "text/plain": [
              "<matplotlib.axes._subplots.AxesSubplot at 0x7f72a5e9c8d0>"
            ]
          },
          "metadata": {},
          "execution_count": 65
        },
        {
          "output_type": "display_data",
          "data": {
            "text/plain": [
              "<Figure size 1080x504 with 1 Axes>"
            ],
            "image/png": "[encoded data removed]"
          },
          "metadata": {
            "needs_background": "light"
          }
        }
      ]
    },
    {
      "cell_type": "code",
      "source": [
        "chi_sq_loan_y = pd.crosstab(df['loan'], df['y'])\n",
        "\n",
        "chiVal, pVal, d_f, exp = chi2_contingency(chi_sq_loan_y)\n",
        "chiVal, pVal, d_f, exp\n",
        "print('Chi Value:',chiVal)\n",
        "print(pVal)\n",
        "print('\\n')\n",
        "\n",
        "if pVal < .05:\n",
        "  print('This indicates there is an association between the two variables (one has an impact on the other)')\n",
        "else:\n",
        "  print('This indicates there is no association between the two variables (one has an impact on the other)')\n",
        "  "
      ],
      "metadata": {
        "colab": {
          "base_uri": "https://localhost:8080/"
        },
        "id": "0xxPi3tRMUG6",
        "outputId": "6548c6dd-48de-42cb-9599-bfa944f28049"
      },
      "execution_count": 66,
      "outputs": [
        {
          "output_type": "stream",
          "name": "stdout",
          "text": [
            "Chi Value: 2.857834250856664\n",
            "0.23956820414998056\n",
            "\n",
            "\n",
            "This indicates there is no association between the two variables (one has an impact on the other)\n"
          ]
        }
      ]
    },
    {
      "cell_type": "code",
      "source": [
        "# lets look at contact feature that has 2 distinct values and there distribution \n",
        "contact = categorical_feature['contact'].value_counts().to_frame()\n",
        "contact['Percent of all contact types'] = contact['contact'] / sum(contact['contact'])\n",
        "contact"
      ],
      "metadata": {
        "colab": {
          "base_uri": "https://localhost:8080/",
          "height": 112
        },
        "id": "jXJ4R3PSuolO",
        "outputId": "79705475-558d-4020-9722-670108e5cdfe"
      },
      "execution_count": 67,
      "outputs": [
        {
          "output_type": "execute_result",
          "data": {
            "text/plain": [
              "           contact  Percent of all contact types\n",
              "cellular      2984                      0.724624\n",
              "telephone     1134                      0.275376"
            ],
            "text/html": [
              "\n",
              "  <div id=\"df-81f9e68f-39e6-459b-b2cd-1b137e7b01c7\">\n",
              "    <div class=\"colab-df-container\">\n",
              "      <div>\n",
              "<style scoped>\n",
              "    .dataframe tbody tr th:only-of-type {\n",
              "        vertical-align: middle;\n",
              "    }\n",
              "\n",
              "    .dataframe tbody tr th {\n",
              "        vertical-align: top;\n",
              "    }\n",
              "\n",
              "    .dataframe thead th {\n",
              "        text-align: right;\n",
              "    }\n",
              "</style>\n",
              "<table border=\"1\" class=\"dataframe\">\n",
              "  <thead>\n",
              "    <tr style=\"text-align: right;\">\n",
              "      <th></th>\n",
              "      <th>contact</th>\n",
              "      <th>Percent of all contact types</th>\n",
              "    </tr>\n",
              "  </thead>\n",
              "  <tbody>\n",
              "    <tr>\n",
              "      <th>cellular</th>\n",
              "      <td>2984</td>\n",
              "      <td>0.724624</td>\n",
              "    </tr>\n",
              "    <tr>\n",
              "      <th>telephone</th>\n",
              "      <td>1134</td>\n",
              "      <td>0.275376</td>\n",
              "    </tr>\n",
              "  </tbody>\n",
              "</table>\n",
              "</div>\n",
              "      <button class=\"colab-df-convert\" onclick=\"convertToInteractive('df-81f9e68f-39e6-459b-b2cd-1b137e7b01c7')\"\n",
              "              title=\"Convert this dataframe to an interactive table.\"\n",
              "              style=\"display:none;\">\n",
              "        \n",
              "  <svg xmlns=\"http://www.w3.org/2000/svg\" height=\"24px\"viewBox=\"0 0 24 24\"\n",
              "       width=\"24px\">\n",
              "    <path d=\"M0 0h24v24H0V0z\" fill=\"none\"/>\n",
              "    <path d=\"M18.56 5.44l.94 2.06.94-2.06 2.06-.94-2.06-.94-.94-2.06-.94 2.06-2.06.94zm-11 1L8.5 8.5l.94-2.06 2.06-.94-2.06-.94L8.5 2.5l-.94 2.06-2.06.94zm10 10l.94 2.06.94-2.06 2.06-.94-2.06-.94-.94-2.06-.94 2.06-2.06.94z\"/><path d=\"M17.41 7.96l-1.37-1.37c-.4-.4-.92-.59-1.43-.59-.52 0-1.04.2-1.43.59L10.3 9.45l-7.72 7.72c-.78.78-.78 2.05 0 2.83L4 21.41c.39.39.9.59 1.41.59.51 0 1.02-.2 1.41-.59l7.78-7.78 2.81-2.81c.8-.78.8-2.07 0-2.86zM5.41 20L4 18.59l7.72-7.72 1.47 1.35L5.41 20z\"/>\n",
              "  </svg>\n",
              "      </button>\n",
              "      \n",
              "  <style>\n",
              "    .colab-df-container {\n",
              "      display:flex;\n",
              "      flex-wrap:wrap;\n",
              "      gap: 12px;\n",
              "    }\n",
              "\n",
              "    .colab-df-convert {\n",
              "      background-color: #E8F0FE;\n",
              "      border: none;\n",
              "      border-radius: 50%;\n",
              "      cursor: pointer;\n",
              "      display: none;\n",
              "      fill: #1967D2;\n",
              "      height: 32px;\n",
              "      padding: 0 0 0 0;\n",
              "      width: 32px;\n",
              "    }\n",
              "\n",
              "    .colab-df-convert:hover {\n",
              "      background-color: #E2EBFA;\n",
              "      box-shadow: 0px 1px 2px rgba(60, 64, 67, 0.3), 0px 1px 3px 1px rgba(60, 64, 67, 0.15);\n",
              "      fill: #174EA6;\n",
              "    }\n",
              "\n",
              "    [theme=dark] .colab-df-convert {\n",
              "      background-color: #3B4455;\n",
              "      fill: #D2E3FC;\n",
              "    }\n",
              "\n",
              "    [theme=dark] .colab-df-convert:hover {\n",
              "      background-color: #434B5C;\n",
              "      box-shadow: 0px 1px 3px 1px rgba(0, 0, 0, 0.15);\n",
              "      filter: drop-shadow(0px 1px 2px rgba(0, 0, 0, 0.3));\n",
              "      fill: #FFFFFF;\n",
              "    }\n",
              "  </style>\n",
              "\n",
              "      <script>\n",
              "        const buttonEl =\n",
              "          document.querySelector('#df-81f9e68f-39e6-459b-b2cd-1b137e7b01c7 button.colab-df-convert');\n",
              "        buttonEl.style.display =\n",
              "          google.colab.kernel.accessAllowed ? 'block' : 'none';\n",
              "\n",
              "        async function convertToInteractive(key) {\n",
              "          const element = document.querySelector('#df-81f9e68f-39e6-459b-b2cd-1b137e7b01c7');\n",
              "          const dataTable =\n",
              "            await google.colab.kernel.invokeFunction('convertToInteractive',\n",
              "                                                     [key], {});\n",
              "          if (!dataTable) return;\n",
              "\n",
              "          const docLinkHtml = 'Like what you see? Visit the ' +\n",
              "            '<a target=\"_blank\" href=https://colab.research.google.com/notebooks/data_table.ipynb>data table notebook</a>'\n",
              "            + ' to learn more about interactive tables.';\n",
              "          element.innerHTML = '';\n",
              "          dataTable['output_type'] = 'display_data';\n",
              "          await google.colab.output.renderOutput(dataTable, element);\n",
              "          const docLink = document.createElement('div');\n",
              "          docLink.innerHTML = docLinkHtml;\n",
              "          element.appendChild(docLink);\n",
              "        }\n",
              "      </script>\n",
              "    </div>\n",
              "  </div>\n",
              "  "
            ]
          },
          "metadata": {},
          "execution_count": 67
        }
      ]
    },
    {
      "cell_type": "code",
      "source": [
        "# group by age and contact \n",
        "contact_age = df.groupby(\"contact\")[\"age\"].mean()\n",
        "contact_age"
      ],
      "metadata": {
        "colab": {
          "base_uri": "https://localhost:8080/"
        },
        "id": "7pRn9417nJ9e",
        "outputId": "213ab348-36c7-4d58-9a08-52e12df1b3e4"
      },
      "execution_count": 68,
      "outputs": [
        {
          "output_type": "execute_result",
          "data": {
            "text/plain": [
              "contact\n",
              "cellular     40.447721\n",
              "telephone    40.093474\n",
              "Name: age, dtype: float64"
            ]
          },
          "metadata": {},
          "execution_count": 68
        }
      ]
    },
    {
      "cell_type": "code",
      "source": [
        "plt.figure(figsize=(15,7))\n",
        "sns.countplot(x ='contact', hue = \"y\", data = df, palette = 'deep')"
      ],
      "metadata": {
        "colab": {
          "base_uri": "https://localhost:8080/",
          "height": 459
        },
        "id": "yEz6m4DDRsUB",
        "outputId": "11a1becb-31e4-4305-f125-d1fe50f3a5ba"
      },
      "execution_count": 69,
      "outputs": [
        {
          "output_type": "execute_result",
          "data": {
            "text/plain": [
              "<matplotlib.axes._subplots.AxesSubplot at 0x7f72a60006d0>"
            ]
          },
          "metadata": {},
          "execution_count": 69
        },
        {
          "output_type": "display_data",
          "data": {
            "text/plain": [
              "<Figure size 1080x504 with 1 Axes>"
            ],
            "image/png": "[encoded data removed]"
          },
          "metadata": {
            "needs_background": "light"
          }
        }
      ]
    },
    {
      "cell_type": "code",
      "source": [
        "chi_sq_contact_y = pd.crosstab(df['contact'], df['y'])\n",
        "\n",
        "chiVal, pVal, d_f, exp = chi2_contingency(chi_sq_contact_y)\n",
        "chiVal, pVal, d_f, exp\n",
        "print('Chi Value:',chiVal)\n",
        "print(pVal)\n",
        "print('\\n')\n",
        "\n",
        "if pVal < .05:\n",
        "  print('This indicates there is an association between the two variables (one has an impact on the other)')\n",
        "else:\n",
        "  print('This indicates there is no association between the two variables (one has an impact on the other)')\n",
        "  "
      ],
      "metadata": {
        "colab": {
          "base_uri": "https://localhost:8080/"
        },
        "id": "GZdLrrDZMX3T",
        "outputId": "1c67a5a4-e9f0-4658-8386-0cad6938fc75"
      },
      "execution_count": 70,
      "outputs": [
        {
          "output_type": "stream",
          "name": "stdout",
          "text": [
            "Chi Value: 223.9695891314524\n",
            "1.2318258179733102e-50\n",
            "\n",
            "\n",
            "This indicates there is an association between the two variables (one has an impact on the other)\n"
          ]
        }
      ]
    },
    {
      "cell_type": "code",
      "source": [
        "# lets look at month feature that has 12 distinct values and there distribution \n",
        "month = categorical_feature['month'].value_counts().to_frame()\n",
        "month['Percent of all month types'] = month['month'] / sum(month['month'])\n",
        "month"
      ],
      "metadata": {
        "colab": {
          "base_uri": "https://localhost:8080/",
          "height": 363
        },
        "id": "UjwkH19sv8CP",
        "outputId": "0b7dc0a0-d7ce-4f80-8311-e00819f0e4c9"
      },
      "execution_count": 71,
      "outputs": [
        {
          "output_type": "execute_result",
          "data": {
            "text/plain": [
              "     month  Percent of all month types\n",
              "may   1130                    0.274405\n",
              "jul    645                    0.156629\n",
              "aug    595                    0.144488\n",
              "jun    510                    0.123847\n",
              "apr    380                    0.092278\n",
              "nov    378                    0.091792\n",
              "oct    165                    0.040068\n",
              "sep    141                    0.034240\n",
              "mar    139                    0.033754\n",
              "dec     35                    0.008499"
            ],
            "text/html": [
              "\n",
              "  <div id=\"df-04db6aeb-091b-4af1-ac15-0e54d5e88136\">\n",
              "    <div class=\"colab-df-container\">\n",
              "      <div>\n",
              "<style scoped>\n",
              "    .dataframe tbody tr th:only-of-type {\n",
              "        vertical-align: middle;\n",
              "    }\n",
              "\n",
              "    .dataframe tbody tr th {\n",
              "        vertical-align: top;\n",
              "    }\n",
              "\n",
              "    .dataframe thead th {\n",
              "        text-align: right;\n",
              "    }\n",
              "</style>\n",
              "<table border=\"1\" class=\"dataframe\">\n",
              "  <thead>\n",
              "    <tr style=\"text-align: right;\">\n",
              "      <th></th>\n",
              "      <th>month</th>\n",
              "      <th>Percent of all month types</th>\n",
              "    </tr>\n",
              "  </thead>\n",
              "  <tbody>\n",
              "    <tr>\n",
              "      <th>may</th>\n",
              "      <td>1130</td>\n",
              "      <td>0.274405</td>\n",
              "    </tr>\n",
              "    <tr>\n",
              "      <th>jul</th>\n",
              "      <td>645</td>\n",
              "      <td>0.156629</td>\n",
              "    </tr>\n",
              "    <tr>\n",
              "      <th>aug</th>\n",
              "      <td>595</td>\n",
              "      <td>0.144488</td>\n",
              "    </tr>\n",
              "    <tr>\n",
              "      <th>jun</th>\n",
              "      <td>510</td>\n",
              "      <td>0.123847</td>\n",
              "    </tr>\n",
              "    <tr>\n",
              "      <th>apr</th>\n",
              "      <td>380</td>\n",
              "      <td>0.092278</td>\n",
              "    </tr>\n",
              "    <tr>\n",
              "      <th>nov</th>\n",
              "      <td>378</td>\n",
              "      <td>0.091792</td>\n",
              "    </tr>\n",
              "    <tr>\n",
              "      <th>oct</th>\n",
              "      <td>165</td>\n",
              "      <td>0.040068</td>\n",
              "    </tr>\n",
              "    <tr>\n",
              "      <th>sep</th>\n",
              "      <td>141</td>\n",
              "      <td>0.034240</td>\n",
              "    </tr>\n",
              "    <tr>\n",
              "      <th>mar</th>\n",
              "      <td>139</td>\n",
              "      <td>0.033754</td>\n",
              "    </tr>\n",
              "    <tr>\n",
              "      <th>dec</th>\n",
              "      <td>35</td>\n",
              "      <td>0.008499</td>\n",
              "    </tr>\n",
              "  </tbody>\n",
              "</table>\n",
              "</div>\n",
              "      <button class=\"colab-df-convert\" onclick=\"convertToInteractive('df-04db6aeb-091b-4af1-ac15-0e54d5e88136')\"\n",
              "              title=\"Convert this dataframe to an interactive table.\"\n",
              "              style=\"display:none;\">\n",
              "        \n",
              "  <svg xmlns=\"http://www.w3.org/2000/svg\" height=\"24px\"viewBox=\"0 0 24 24\"\n",
              "       width=\"24px\">\n",
              "    <path d=\"M0 0h24v24H0V0z\" fill=\"none\"/>\n",
              "    <path d=\"M18.56 5.44l.94 2.06.94-2.06 2.06-.94-2.06-.94-.94-2.06-.94 2.06-2.06.94zm-11 1L8.5 8.5l.94-2.06 2.06-.94-2.06-.94L8.5 2.5l-.94 2.06-2.06.94zm10 10l.94 2.06.94-2.06 2.06-.94-2.06-.94-.94-2.06-.94 2.06-2.06.94z\"/><path d=\"M17.41 7.96l-1.37-1.37c-.4-.4-.92-.59-1.43-.59-.52 0-1.04.2-1.43.59L10.3 9.45l-7.72 7.72c-.78.78-.78 2.05 0 2.83L4 21.41c.39.39.9.59 1.41.59.51 0 1.02-.2 1.41-.59l7.78-7.78 2.81-2.81c.8-.78.8-2.07 0-2.86zM5.41 20L4 18.59l7.72-7.72 1.47 1.35L5.41 20z\"/>\n",
              "  </svg>\n",
              "      </button>\n",
              "      \n",
              "  <style>\n",
              "    .colab-df-container {\n",
              "      display:flex;\n",
              "      flex-wrap:wrap;\n",
              "      gap: 12px;\n",
              "    }\n",
              "\n",
              "    .colab-df-convert {\n",
              "      background-color: #E8F0FE;\n",
              "      border: none;\n",
              "      border-radius: 50%;\n",
              "      cursor: pointer;\n",
              "      display: none;\n",
              "      fill: #1967D2;\n",
              "      height: 32px;\n",
              "      padding: 0 0 0 0;\n",
              "      width: 32px;\n",
              "    }\n",
              "\n",
              "    .colab-df-convert:hover {\n",
              "      background-color: #E2EBFA;\n",
              "      box-shadow: 0px 1px 2px rgba(60, 64, 67, 0.3), 0px 1px 3px 1px rgba(60, 64, 67, 0.15);\n",
              "      fill: #174EA6;\n",
              "    }\n",
              "\n",
              "    [theme=dark] .colab-df-convert {\n",
              "      background-color: #3B4455;\n",
              "      fill: #D2E3FC;\n",
              "    }\n",
              "\n",
              "    [theme=dark] .colab-df-convert:hover {\n",
              "      background-color: #434B5C;\n",
              "      box-shadow: 0px 1px 3px 1px rgba(0, 0, 0, 0.15);\n",
              "      filter: drop-shadow(0px 1px 2px rgba(0, 0, 0, 0.3));\n",
              "      fill: #FFFFFF;\n",
              "    }\n",
              "  </style>\n",
              "\n",
              "      <script>\n",
              "        const buttonEl =\n",
              "          document.querySelector('#df-04db6aeb-091b-4af1-ac15-0e54d5e88136 button.colab-df-convert');\n",
              "        buttonEl.style.display =\n",
              "          google.colab.kernel.accessAllowed ? 'block' : 'none';\n",
              "\n",
              "        async function convertToInteractive(key) {\n",
              "          const element = document.querySelector('#df-04db6aeb-091b-4af1-ac15-0e54d5e88136');\n",
              "          const dataTable =\n",
              "            await google.colab.kernel.invokeFunction('convertToInteractive',\n",
              "                                                     [key], {});\n",
              "          if (!dataTable) return;\n",
              "\n",
              "          const docLinkHtml = 'Like what you see? Visit the ' +\n",
              "            '<a target=\"_blank\" href=https://colab.research.google.com/notebooks/data_table.ipynb>data table notebook</a>'\n",
              "            + ' to learn more about interactive tables.';\n",
              "          element.innerHTML = '';\n",
              "          dataTable['output_type'] = 'display_data';\n",
              "          await google.colab.output.renderOutput(dataTable, element);\n",
              "          const docLink = document.createElement('div');\n",
              "          docLink.innerHTML = docLinkHtml;\n",
              "          element.appendChild(docLink);\n",
              "        }\n",
              "      </script>\n",
              "    </div>\n",
              "  </div>\n",
              "  "
            ]
          },
          "metadata": {},
          "execution_count": 71
        }
      ]
    },
    {
      "cell_type": "code",
      "source": [
        "# group by age and month \n",
        "month_age = df.groupby(\"month\")[\"age\"].mean()\n",
        "month_age"
      ],
      "metadata": {
        "colab": {
          "base_uri": "https://localhost:8080/"
        },
        "id": "txD3SYPcnOm4",
        "outputId": "1bb9466b-6248-49d9-b2b6-ca8dafc94d0a"
      },
      "execution_count": 72,
      "outputs": [
        {
          "output_type": "execute_result",
          "data": {
            "text/plain": [
              "month\n",
              "apr    40.786842\n",
              "aug    42.223529\n",
              "dec    46.657143\n",
              "jul    39.468217\n",
              "jun    39.170588\n",
              "mar    42.510791\n",
              "may    38.650442\n",
              "nov    41.399471\n",
              "oct    44.078788\n",
              "sep    42.319149\n",
              "Name: age, dtype: float64"
            ]
          },
          "metadata": {},
          "execution_count": 72
        }
      ]
    },
    {
      "cell_type": "code",
      "source": [
        "plt.figure(figsize=(15,7))\n",
        "sns.countplot(x ='month', hue = \"y\", data = df, palette = 'deep')"
      ],
      "metadata": {
        "colab": {
          "base_uri": "https://localhost:8080/",
          "height": 459
        },
        "id": "5jnYVUpxRyPO",
        "outputId": "6aa0394a-3a80-4012-ed65-edd88032a41f"
      },
      "execution_count": 73,
      "outputs": [
        {
          "output_type": "execute_result",
          "data": {
            "text/plain": [
              "<matplotlib.axes._subplots.AxesSubplot at 0x7f72a600cfd0>"
            ]
          },
          "metadata": {},
          "execution_count": 73
        },
        {
          "output_type": "display_data",
          "data": {
            "text/plain": [
              "<Figure size 1080x504 with 1 Axes>"
            ],
            "image/png": "[encoded data removed]"
          },
          "metadata": {
            "needs_background": "light"
          }
        }
      ]
    },
    {
      "cell_type": "code",
      "source": [
        "chi_sq_month_y = pd.crosstab(df['month'], df['y'])\n",
        "\n",
        "chiVal, pVal, d_f, exp = chi2_contingency(chi_sq_month_y)\n",
        "chiVal, pVal, d_f, exp\n",
        "print('Chi Value:',chiVal)\n",
        "print(pVal)\n",
        "print('\\n')\n",
        "\n",
        "if pVal < .05:\n",
        "  print('This indicates there is an association between the two variables (one has an impact on the other)')\n",
        "else:\n",
        "  print('This indicates there is no association between the two variables (one has an impact on the other)')\n",
        "  "
      ],
      "metadata": {
        "colab": {
          "base_uri": "https://localhost:8080/"
        },
        "id": "VoSuiPdAMc4B",
        "outputId": "3a554e36-55ac-4953-f16a-e6a507e5a069"
      },
      "execution_count": 74,
      "outputs": [
        {
          "output_type": "stream",
          "name": "stdout",
          "text": [
            "Chi Value: 413.73746778349073\n",
            "1.6021841101376811e-83\n",
            "\n",
            "\n",
            "This indicates there is an association between the two variables (one has an impact on the other)\n"
          ]
        }
      ]
    },
    {
      "cell_type": "code",
      "source": [
        "# lets look at poutcome feature that has 4 distinct values and there distribution \n",
        "poutcome = categorical_feature['poutcome'].value_counts().to_frame()\n",
        "poutcome['Percent of all poutcome types'] = poutcome['poutcome'] / sum(poutcome['poutcome'])\n",
        "poutcome"
      ],
      "metadata": {
        "colab": {
          "base_uri": "https://localhost:8080/",
          "height": 143
        },
        "id": "k-5S3ujTvttc",
        "outputId": "c0bcef67-f0d4-4a8e-a401-cf135ea43967"
      },
      "execution_count": 75,
      "outputs": [
        {
          "output_type": "execute_result",
          "data": {
            "text/plain": [
              "             poutcome  Percent of all poutcome types\n",
              "nonexistent      3201                       0.777319\n",
              "failure           488                       0.118504\n",
              "success           429                       0.104177"
            ],
            "text/html": [
              "\n",
              "  <div id=\"df-dd897e55-5472-4682-a9b5-c33af123c8e3\">\n",
              "    <div class=\"colab-df-container\">\n",
              "      <div>\n",
              "<style scoped>\n",
              "    .dataframe tbody tr th:only-of-type {\n",
              "        vertical-align: middle;\n",
              "    }\n",
              "\n",
              "    .dataframe tbody tr th {\n",
              "        vertical-align: top;\n",
              "    }\n",
              "\n",
              "    .dataframe thead th {\n",
              "        text-align: right;\n",
              "    }\n",
              "</style>\n",
              "<table border=\"1\" class=\"dataframe\">\n",
              "  <thead>\n",
              "    <tr style=\"text-align: right;\">\n",
              "      <th></th>\n",
              "      <th>poutcome</th>\n",
              "      <th>Percent of all poutcome types</th>\n",
              "    </tr>\n",
              "  </thead>\n",
              "  <tbody>\n",
              "    <tr>\n",
              "      <th>nonexistent</th>\n",
              "      <td>3201</td>\n",
              "      <td>0.777319</td>\n",
              "    </tr>\n",
              "    <tr>\n",
              "      <th>failure</th>\n",
              "      <td>488</td>\n",
              "      <td>0.118504</td>\n",
              "    </tr>\n",
              "    <tr>\n",
              "      <th>success</th>\n",
              "      <td>429</td>\n",
              "      <td>0.104177</td>\n",
              "    </tr>\n",
              "  </tbody>\n",
              "</table>\n",
              "</div>\n",
              "      <button class=\"colab-df-convert\" onclick=\"convertToInteractive('df-dd897e55-5472-4682-a9b5-c33af123c8e3')\"\n",
              "              title=\"Convert this dataframe to an interactive table.\"\n",
              "              style=\"display:none;\">\n",
              "        \n",
              "  <svg xmlns=\"http://www.w3.org/2000/svg\" height=\"24px\"viewBox=\"0 0 24 24\"\n",
              "       width=\"24px\">\n",
              "    <path d=\"M0 0h24v24H0V0z\" fill=\"none\"/>\n",
              "    <path d=\"M18.56 5.44l.94 2.06.94-2.06 2.06-.94-2.06-.94-.94-2.06-.94 2.06-2.06.94zm-11 1L8.5 8.5l.94-2.06 2.06-.94-2.06-.94L8.5 2.5l-.94 2.06-2.06.94zm10 10l.94 2.06.94-2.06 2.06-.94-2.06-.94-.94-2.06-.94 2.06-2.06.94z\"/><path d=\"M17.41 7.96l-1.37-1.37c-.4-.4-.92-.59-1.43-.59-.52 0-1.04.2-1.43.59L10.3 9.45l-7.72 7.72c-.78.78-.78 2.05 0 2.83L4 21.41c.39.39.9.59 1.41.59.51 0 1.02-.2 1.41-.59l7.78-7.78 2.81-2.81c.8-.78.8-2.07 0-2.86zM5.41 20L4 18.59l7.72-7.72 1.47 1.35L5.41 20z\"/>\n",
              "  </svg>\n",
              "      </button>\n",
              "      \n",
              "  <style>\n",
              "    .colab-df-container {\n",
              "      display:flex;\n",
              "      flex-wrap:wrap;\n",
              "      gap: 12px;\n",
              "    }\n",
              "\n",
              "    .colab-df-convert {\n",
              "      background-color: #E8F0FE;\n",
              "      border: none;\n",
              "      border-radius: 50%;\n",
              "      cursor: pointer;\n",
              "      display: none;\n",
              "      fill: #1967D2;\n",
              "      height: 32px;\n",
              "      padding: 0 0 0 0;\n",
              "      width: 32px;\n",
              "    }\n",
              "\n",
              "    .colab-df-convert:hover {\n",
              "      background-color: #E2EBFA;\n",
              "      box-shadow: 0px 1px 2px rgba(60, 64, 67, 0.3), 0px 1px 3px 1px rgba(60, 64, 67, 0.15);\n",
              "      fill: #174EA6;\n",
              "    }\n",
              "\n",
              "    [theme=dark] .colab-df-convert {\n",
              "      background-color: #3B4455;\n",
              "      fill: #D2E3FC;\n",
              "    }\n",
              "\n",
              "    [theme=dark] .colab-df-convert:hover {\n",
              "      background-color: #434B5C;\n",
              "      box-shadow: 0px 1px 3px 1px rgba(0, 0, 0, 0.15);\n",
              "      filter: drop-shadow(0px 1px 2px rgba(0, 0, 0, 0.3));\n",
              "      fill: #FFFFFF;\n",
              "    }\n",
              "  </style>\n",
              "\n",
              "      <script>\n",
              "        const buttonEl =\n",
              "          document.querySelector('#df-dd897e55-5472-4682-a9b5-c33af123c8e3 button.colab-df-convert');\n",
              "        buttonEl.style.display =\n",
              "          google.colab.kernel.accessAllowed ? 'block' : 'none';\n",
              "\n",
              "        async function convertToInteractive(key) {\n",
              "          const element = document.querySelector('#df-dd897e55-5472-4682-a9b5-c33af123c8e3');\n",
              "          const dataTable =\n",
              "            await google.colab.kernel.invokeFunction('convertToInteractive',\n",
              "                                                     [key], {});\n",
              "          if (!dataTable) return;\n",
              "\n",
              "          const docLinkHtml = 'Like what you see? Visit the ' +\n",
              "            '<a target=\"_blank\" href=https://colab.research.google.com/notebooks/data_table.ipynb>data table notebook</a>'\n",
              "            + ' to learn more about interactive tables.';\n",
              "          element.innerHTML = '';\n",
              "          dataTable['output_type'] = 'display_data';\n",
              "          await google.colab.output.renderOutput(dataTable, element);\n",
              "          const docLink = document.createElement('div');\n",
              "          docLink.innerHTML = docLinkHtml;\n",
              "          element.appendChild(docLink);\n",
              "        }\n",
              "      </script>\n",
              "    </div>\n",
              "  </div>\n",
              "  "
            ]
          },
          "metadata": {},
          "execution_count": 75
        }
      ]
    },
    {
      "cell_type": "code",
      "source": [
        "# group by age and poutcome \n",
        "poutcome_age = df.groupby(\"poutcome\")[\"age\"].mean()\n",
        "poutcome_age"
      ],
      "metadata": {
        "colab": {
          "base_uri": "https://localhost:8080/"
        },
        "id": "7XHHICD_nUeG",
        "outputId": "08b5a069-3066-4a03-80a4-b1de16daaa5b"
      },
      "execution_count": 76,
      "outputs": [
        {
          "output_type": "execute_result",
          "data": {
            "text/plain": [
              "poutcome\n",
              "failure        41.385246\n",
              "nonexistent    39.905342\n",
              "success        42.491841\n",
              "Name: age, dtype: float64"
            ]
          },
          "metadata": {},
          "execution_count": 76
        }
      ]
    },
    {
      "cell_type": "code",
      "source": [
        "plt.figure(figsize=(15,7))\n",
        "sns.countplot(x ='poutcome', hue = \"y\", data = df, palette = 'deep')"
      ],
      "metadata": {
        "colab": {
          "base_uri": "https://localhost:8080/",
          "height": 459
        },
        "id": "ZOFXaG1tSnz2",
        "outputId": "0aecbbd8-e813-45c3-8788-1ccc9f0eac80"
      },
      "execution_count": 77,
      "outputs": [
        {
          "output_type": "execute_result",
          "data": {
            "text/plain": [
              "<matplotlib.axes._subplots.AxesSubplot at 0x7f72aade8150>"
            ]
          },
          "metadata": {},
          "execution_count": 77
        },
        {
          "output_type": "display_data",
          "data": {
            "text/plain": [
              "<Figure size 1080x504 with 1 Axes>"
            ],
            "image/png": "[encoded data removed]"
          },
          "metadata": {
            "needs_background": "light"
          }
        }
      ]
    },
    {
      "cell_type": "code",
      "source": [
        "chi_sq_poutcome_y = pd.crosstab(df['poutcome'], df['y'])\n",
        "\n",
        "chiVal, pVal, d_f, exp = chi2_contingency(chi_sq_poutcome_y)\n",
        "chiVal, pVal, d_f, exp\n",
        "print('Chi Value:',chiVal)\n",
        "print(pVal)\n",
        "print('\\n')\n",
        "\n",
        "if pVal < .05:\n",
        "  print('This indicates there is an association between the two variables (one has an impact on the other)')\n",
        "else:\n",
        "  print('This indicates there is no association between the two variables (one has an impact on the other)')\n",
        "  "
      ],
      "metadata": {
        "colab": {
          "base_uri": "https://localhost:8080/"
        },
        "id": "HnTCb9W9Mg87",
        "outputId": "f736f382-5bc8-4311-c4bd-eb29d8e2dae6"
      },
      "execution_count": 78,
      "outputs": [
        {
          "output_type": "stream",
          "name": "stdout",
          "text": [
            "Chi Value: 378.3031012140358\n",
            "7.120743267568573e-83\n",
            "\n",
            "\n",
            "This indicates there is an association between the two variables (one has an impact on the other)\n"
          ]
        }
      ]
    },
    {
      "cell_type": "code",
      "source": [
        "# lets look at day_of_week feature that has 5 distinct values and there distribution \n",
        "day_of_week = categorical_feature['day_of_week'].value_counts().to_frame()\n",
        "day_of_week['Percent of all day_of_week types'] = day_of_week['day_of_week'] / sum(day_of_week['day_of_week'])\n",
        "day_of_week"
      ],
      "metadata": {
        "colab": {
          "base_uri": "https://localhost:8080/",
          "height": 206
        },
        "id": "r2DeP-VeSd6C",
        "outputId": "b4de1427-7717-488a-dde8-852eb4ca240e"
      },
      "execution_count": 79,
      "outputs": [
        {
          "output_type": "execute_result",
          "data": {
            "text/plain": [
              "     day_of_week  Percent of all day_of_week types\n",
              "thu          876                          0.212725\n",
              "wed          861                          0.209082\n",
              "tue          819                          0.198883\n",
              "mon          809                          0.196455\n",
              "fri          753                          0.182856"
            ],
            "text/html": [
              "\n",
              "  <div id=\"df-1af791a4-a763-4f35-99fb-c09cbd075f45\">\n",
              "    <div class=\"colab-df-container\">\n",
              "      <div>\n",
              "<style scoped>\n",
              "    .dataframe tbody tr th:only-of-type {\n",
              "        vertical-align: middle;\n",
              "    }\n",
              "\n",
              "    .dataframe tbody tr th {\n",
              "        vertical-align: top;\n",
              "    }\n",
              "\n",
              "    .dataframe thead th {\n",
              "        text-align: right;\n",
              "    }\n",
              "</style>\n",
              "<table border=\"1\" class=\"dataframe\">\n",
              "  <thead>\n",
              "    <tr style=\"text-align: right;\">\n",
              "      <th></th>\n",
              "      <th>day_of_week</th>\n",
              "      <th>Percent of all day_of_week types</th>\n",
              "    </tr>\n",
              "  </thead>\n",
              "  <tbody>\n",
              "    <tr>\n",
              "      <th>thu</th>\n",
              "      <td>876</td>\n",
              "      <td>0.212725</td>\n",
              "    </tr>\n",
              "    <tr>\n",
              "      <th>wed</th>\n",
              "      <td>861</td>\n",
              "      <td>0.209082</td>\n",
              "    </tr>\n",
              "    <tr>\n",
              "      <th>tue</th>\n",
              "      <td>819</td>\n",
              "      <td>0.198883</td>\n",
              "    </tr>\n",
              "    <tr>\n",
              "      <th>mon</th>\n",
              "      <td>809</td>\n",
              "      <td>0.196455</td>\n",
              "    </tr>\n",
              "    <tr>\n",
              "      <th>fri</th>\n",
              "      <td>753</td>\n",
              "      <td>0.182856</td>\n",
              "    </tr>\n",
              "  </tbody>\n",
              "</table>\n",
              "</div>\n",
              "      <button class=\"colab-df-convert\" onclick=\"convertToInteractive('df-1af791a4-a763-4f35-99fb-c09cbd075f45')\"\n",
              "              title=\"Convert this dataframe to an interactive table.\"\n",
              "              style=\"display:none;\">\n",
              "        \n",
              "  <svg xmlns=\"http://www.w3.org/2000/svg\" height=\"24px\"viewBox=\"0 0 24 24\"\n",
              "       width=\"24px\">\n",
              "    <path d=\"M0 0h24v24H0V0z\" fill=\"none\"/>\n",
              "    <path d=\"M18.56 5.44l.94 2.06.94-2.06 2.06-.94-2.06-.94-.94-2.06-.94 2.06-2.06.94zm-11 1L8.5 8.5l.94-2.06 2.06-.94-2.06-.94L8.5 2.5l-.94 2.06-2.06.94zm10 10l.94 2.06.94-2.06 2.06-.94-2.06-.94-.94-2.06-.94 2.06-2.06.94z\"/><path d=\"M17.41 7.96l-1.37-1.37c-.4-.4-.92-.59-1.43-.59-.52 0-1.04.2-1.43.59L10.3 9.45l-7.72 7.72c-.78.78-.78 2.05 0 2.83L4 21.41c.39.39.9.59 1.41.59.51 0 1.02-.2 1.41-.59l7.78-7.78 2.81-2.81c.8-.78.8-2.07 0-2.86zM5.41 20L4 18.59l7.72-7.72 1.47 1.35L5.41 20z\"/>\n",
              "  </svg>\n",
              "      </button>\n",
              "      \n",
              "  <style>\n",
              "    .colab-df-container {\n",
              "      display:flex;\n",
              "      flex-wrap:wrap;\n",
              "      gap: 12px;\n",
              "    }\n",
              "\n",
              "    .colab-df-convert {\n",
              "      background-color: #E8F0FE;\n",
              "      border: none;\n",
              "      border-radius: 50%;\n",
              "      cursor: pointer;\n",
              "      display: none;\n",
              "      fill: #1967D2;\n",
              "      height: 32px;\n",
              "      padding: 0 0 0 0;\n",
              "      width: 32px;\n",
              "    }\n",
              "\n",
              "    .colab-df-convert:hover {\n",
              "      background-color: #E2EBFA;\n",
              "      box-shadow: 0px 1px 2px rgba(60, 64, 67, 0.3), 0px 1px 3px 1px rgba(60, 64, 67, 0.15);\n",
              "      fill: #174EA6;\n",
              "    }\n",
              "\n",
              "    [theme=dark] .colab-df-convert {\n",
              "      background-color: #3B4455;\n",
              "      fill: #D2E3FC;\n",
              "    }\n",
              "\n",
              "    [theme=dark] .colab-df-convert:hover {\n",
              "      background-color: #434B5C;\n",
              "      box-shadow: 0px 1px 3px 1px rgba(0, 0, 0, 0.15);\n",
              "      filter: drop-shadow(0px 1px 2px rgba(0, 0, 0, 0.3));\n",
              "      fill: #FFFFFF;\n",
              "    }\n",
              "  </style>\n",
              "\n",
              "      <script>\n",
              "        const buttonEl =\n",
              "          document.querySelector('#df-1af791a4-a763-4f35-99fb-c09cbd075f45 button.colab-df-convert');\n",
              "        buttonEl.style.display =\n",
              "          google.colab.kernel.accessAllowed ? 'block' : 'none';\n",
              "\n",
              "        async function convertToInteractive(key) {\n",
              "          const element = document.querySelector('#df-1af791a4-a763-4f35-99fb-c09cbd075f45');\n",
              "          const dataTable =\n",
              "            await google.colab.kernel.invokeFunction('convertToInteractive',\n",
              "                                                     [key], {});\n",
              "          if (!dataTable) return;\n",
              "\n",
              "          const docLinkHtml = 'Like what you see? Visit the ' +\n",
              "            '<a target=\"_blank\" href=https://colab.research.google.com/notebooks/data_table.ipynb>data table notebook</a>'\n",
              "            + ' to learn more about interactive tables.';\n",
              "          element.innerHTML = '';\n",
              "          dataTable['output_type'] = 'display_data';\n",
              "          await google.colab.output.renderOutput(dataTable, element);\n",
              "          const docLink = document.createElement('div');\n",
              "          docLink.innerHTML = docLinkHtml;\n",
              "          element.appendChild(docLink);\n",
              "        }\n",
              "      </script>\n",
              "    </div>\n",
              "  </div>\n",
              "  "
            ]
          },
          "metadata": {},
          "execution_count": 79
        }
      ]
    },
    {
      "cell_type": "code",
      "source": [
        "# group by age and day_of_week \n",
        "day_of_week_age = df.groupby(\"day_of_week\")[\"age\"].mean()\n",
        "day_of_week_age"
      ],
      "metadata": {
        "colab": {
          "base_uri": "https://localhost:8080/"
        },
        "id": "ErELRV76nZK2",
        "outputId": "b4ebd514-d903-479e-9e27-53a906c5902d"
      },
      "execution_count": 80,
      "outputs": [
        {
          "output_type": "execute_result",
          "data": {
            "text/plain": [
              "day_of_week\n",
              "fri    40.290837\n",
              "mon    40.886279\n",
              "thu    40.038813\n",
              "tue    40.566545\n",
              "wed    40.009292\n",
              "Name: age, dtype: float64"
            ]
          },
          "metadata": {},
          "execution_count": 80
        }
      ]
    },
    {
      "cell_type": "code",
      "source": [
        "plt.figure(figsize=(15,7))\n",
        "sns.countplot(x ='day_of_week', hue = \"y\", data = df, palette = 'deep')"
      ],
      "metadata": {
        "colab": {
          "base_uri": "https://localhost:8080/",
          "height": 460
        },
        "id": "Ftm1iKULSq4-",
        "outputId": "1d20efb5-5eb7-4662-89fd-9e3036e5f2ae"
      },
      "execution_count": 81,
      "outputs": [
        {
          "output_type": "execute_result",
          "data": {
            "text/plain": [
              "<matplotlib.axes._subplots.AxesSubplot at 0x7f72a6180590>"
            ]
          },
          "metadata": {},
          "execution_count": 81
        },
        {
          "output_type": "display_data",
          "data": {
            "text/plain": [
              "<Figure size 1080x504 with 1 Axes>"
            ],
            "image/png": "[encoded data removed]"
          },
          "metadata": {
            "needs_background": "light"
          }
        }
      ]
    },
    {
      "cell_type": "code",
      "source": [
        "chi_sq_day_of_week_y = pd.crosstab(df['day_of_week'], df['y'])\n",
        "\n",
        "chiVal, pVal, d_f, exp = chi2_contingency(chi_sq_day_of_week_y)\n",
        "chiVal, pVal, d_f, exp\n",
        "print('Chi Value:',chiVal)\n",
        "print(pVal)\n",
        "print('\\n')\n",
        "\n",
        "if pVal < .05:\n",
        "  print('This indicates there is an association between the two variables (one has an impact on the other)')\n",
        "else:\n",
        "  print('This indicates there is no association between the two variables (one has an impact on the other)')\n",
        "  "
      ],
      "metadata": {
        "colab": {
          "base_uri": "https://localhost:8080/"
        },
        "id": "_KaucZ3QMmcO",
        "outputId": "feacd9ec-a44e-4cef-b6b7-d5634fd5a5c4"
      },
      "execution_count": 82,
      "outputs": [
        {
          "output_type": "stream",
          "name": "stdout",
          "text": [
            "Chi Value: 8.514199300138793\n",
            "0.07445799242293076\n",
            "\n",
            "\n",
            "This indicates there is no association between the two variables (one has an impact on the other)\n"
          ]
        }
      ]
    }
  ],
  "metadata": {
    "colab": {
      "collapsed_sections": [],
      "name": "EDA & Statistical Analysis Bank_data.ipynb",
      "provenance": []
    },
    "kernelspec": {
      "display_name": "Python 3",
      "name": "python3"
    },
    "language_info": {
      "name": "python"
    }
  },
  "nbformat": 4,
  "nbformat_minor": 0
}