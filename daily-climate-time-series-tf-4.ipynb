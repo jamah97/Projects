{
 "cells": [
  {
   "cell_type": "code",
   "execution_count": 1,
   "id": "1538c407",
   "metadata": {
    "_cell_guid": "b1076dfc-b9ad-4769-8c92-a6c4dae69d19",
    "_uuid": "8f2839f25d086af736a60e9eeb907d3b93b6e0e5",
    "execution": {
     "iopub.execute_input": "2022-01-25T08:34:35.097424Z",
     "iopub.status.busy": "2022-01-25T08:34:35.096102Z",
     "iopub.status.idle": "2022-01-25T08:34:35.120071Z",
     "shell.execute_reply": "2022-01-25T08:34:35.120722Z",
     "shell.execute_reply.started": "2022-01-25T08:24:37.755318Z"
    },
    "papermill": {
     "duration": 0.046598,
     "end_time": "2022-01-25T08:34:35.121031",
     "exception": false,
     "start_time": "2022-01-25T08:34:35.074433",
     "status": "completed"
    },
    "tags": []
   },
   "outputs": [
    {
     "name": "stdout",
     "output_type": "stream",
     "text": [
      "/kaggle/input/daily-climate-time-series-data/DailyDelhiClimateTrain.csv\n",
      "/kaggle/input/daily-climate-time-series-data/DailyDelhiClimateTest.csv\n"
     ]
    }
   ],
   "source": [
    "# This Python 3 environment comes with many helpful analytics libraries installed\n",
    "# It is defined by the kaggle/python Docker image: https://github.com/kaggle/docker-python\n",
    "# For example, here's several helpful packages to load\n",
    "\n",
    "import numpy as np # linear algebra\n",
    "import pandas as pd # data processing, CSV file I/O (e.g. pd.read_csv)\n",
    "\n",
    "# Input data files are available in the read-only \"../input/\" directory\n",
    "# For example, running this (by clicking run or pressing Shift+Enter) will list all files under the input directory\n",
    "\n",
    "import os\n",
    "for dirname, _, filenames in os.walk('/kaggle/input'):\n",
    "    for filename in filenames:\n",
    "        print(os.path.join(dirname, filename))\n",
    "\n",
    "# You can write up to 20GB to the current directory (/kaggle/working/) that gets preserved as output when you create a version using \"Save & Run All\" \n",
    "# You can also write temporary files to /kaggle/temp/, but they won't be saved outside of the current session"
   ]
  },
  {
   "cell_type": "code",
   "execution_count": 2,
   "id": "35365775",
   "metadata": {
    "execution": {
     "iopub.execute_input": "2022-01-25T08:34:35.161692Z",
     "iopub.status.busy": "2022-01-25T08:34:35.158991Z",
     "iopub.status.idle": "2022-01-25T08:34:40.536242Z",
     "shell.execute_reply": "2022-01-25T08:34:40.536746Z",
     "shell.execute_reply.started": "2022-01-25T08:24:37.772207Z"
    },
    "papermill": {
     "duration": 5.397918,
     "end_time": "2022-01-25T08:34:40.536948",
     "exception": false,
     "start_time": "2022-01-25T08:34:35.139030",
     "status": "completed"
    },
    "tags": []
   },
   "outputs": [],
   "source": [
    "# import libraries\n",
    "import numpy as np\n",
    "import pandas as pd \n",
    "import tensorflow as tf\n",
    "from dateutil.parser import parse\n",
    "dateparse=lambda dates:parse(dates)\n",
    "import matplotlib.pyplot as plt"
   ]
  },
  {
   "cell_type": "code",
   "execution_count": 3,
   "id": "2b5b2500",
   "metadata": {
    "execution": {
     "iopub.execute_input": "2022-01-25T08:34:40.576575Z",
     "iopub.status.busy": "2022-01-25T08:34:40.575858Z",
     "iopub.status.idle": "2022-01-25T08:34:40.702889Z",
     "shell.execute_reply": "2022-01-25T08:34:40.703397Z",
     "shell.execute_reply.started": "2022-01-25T08:24:37.782608Z"
    },
    "papermill": {
     "duration": 0.149222,
     "end_time": "2022-01-25T08:34:40.703568",
     "exception": false,
     "start_time": "2022-01-25T08:34:40.554346",
     "status": "completed"
    },
    "tags": []
   },
   "outputs": [
    {
     "data": {
      "text/html": [
       "<div>\n",
       "<style scoped>\n",
       "    .dataframe tbody tr th:only-of-type {\n",
       "        vertical-align: middle;\n",
       "    }\n",
       "\n",
       "    .dataframe tbody tr th {\n",
       "        vertical-align: top;\n",
       "    }\n",
       "\n",
       "    .dataframe thead th {\n",
       "        text-align: right;\n",
       "    }\n",
       "</style>\n",
       "<table border=\"1\" class=\"dataframe\">\n",
       "  <thead>\n",
       "    <tr style=\"text-align: right;\">\n",
       "      <th></th>\n",
       "      <th>date</th>\n",
       "      <th>meantemp</th>\n",
       "      <th>humidity</th>\n",
       "      <th>wind_speed</th>\n",
       "      <th>meanpressure</th>\n",
       "    </tr>\n",
       "  </thead>\n",
       "  <tbody>\n",
       "    <tr>\n",
       "      <th>0</th>\n",
       "      <td>2013-01-01</td>\n",
       "      <td>10.000000</td>\n",
       "      <td>84.500000</td>\n",
       "      <td>0.000000</td>\n",
       "      <td>1015.666667</td>\n",
       "    </tr>\n",
       "    <tr>\n",
       "      <th>1</th>\n",
       "      <td>2013-01-02</td>\n",
       "      <td>7.400000</td>\n",
       "      <td>92.000000</td>\n",
       "      <td>2.980000</td>\n",
       "      <td>1017.800000</td>\n",
       "    </tr>\n",
       "    <tr>\n",
       "      <th>2</th>\n",
       "      <td>2013-01-03</td>\n",
       "      <td>7.166667</td>\n",
       "      <td>87.000000</td>\n",
       "      <td>4.633333</td>\n",
       "      <td>1018.666667</td>\n",
       "    </tr>\n",
       "    <tr>\n",
       "      <th>3</th>\n",
       "      <td>2013-01-04</td>\n",
       "      <td>8.666667</td>\n",
       "      <td>71.333333</td>\n",
       "      <td>1.233333</td>\n",
       "      <td>1017.166667</td>\n",
       "    </tr>\n",
       "    <tr>\n",
       "      <th>4</th>\n",
       "      <td>2013-01-05</td>\n",
       "      <td>6.000000</td>\n",
       "      <td>86.833333</td>\n",
       "      <td>3.700000</td>\n",
       "      <td>1016.500000</td>\n",
       "    </tr>\n",
       "    <tr>\n",
       "      <th>...</th>\n",
       "      <td>...</td>\n",
       "      <td>...</td>\n",
       "      <td>...</td>\n",
       "      <td>...</td>\n",
       "      <td>...</td>\n",
       "    </tr>\n",
       "    <tr>\n",
       "      <th>1457</th>\n",
       "      <td>2016-12-28</td>\n",
       "      <td>17.217391</td>\n",
       "      <td>68.043478</td>\n",
       "      <td>3.547826</td>\n",
       "      <td>1015.565217</td>\n",
       "    </tr>\n",
       "    <tr>\n",
       "      <th>1458</th>\n",
       "      <td>2016-12-29</td>\n",
       "      <td>15.238095</td>\n",
       "      <td>87.857143</td>\n",
       "      <td>6.000000</td>\n",
       "      <td>1016.904762</td>\n",
       "    </tr>\n",
       "    <tr>\n",
       "      <th>1459</th>\n",
       "      <td>2016-12-30</td>\n",
       "      <td>14.095238</td>\n",
       "      <td>89.666667</td>\n",
       "      <td>6.266667</td>\n",
       "      <td>1017.904762</td>\n",
       "    </tr>\n",
       "    <tr>\n",
       "      <th>1460</th>\n",
       "      <td>2016-12-31</td>\n",
       "      <td>15.052632</td>\n",
       "      <td>87.000000</td>\n",
       "      <td>7.325000</td>\n",
       "      <td>1016.100000</td>\n",
       "    </tr>\n",
       "    <tr>\n",
       "      <th>1461</th>\n",
       "      <td>2017-01-01</td>\n",
       "      <td>10.000000</td>\n",
       "      <td>100.000000</td>\n",
       "      <td>0.000000</td>\n",
       "      <td>1016.000000</td>\n",
       "    </tr>\n",
       "  </tbody>\n",
       "</table>\n",
       "<p>1462 rows × 5 columns</p>\n",
       "</div>"
      ],
      "text/plain": [
       "           date   meantemp    humidity  wind_speed  meanpressure\n",
       "0    2013-01-01  10.000000   84.500000    0.000000   1015.666667\n",
       "1    2013-01-02   7.400000   92.000000    2.980000   1017.800000\n",
       "2    2013-01-03   7.166667   87.000000    4.633333   1018.666667\n",
       "3    2013-01-04   8.666667   71.333333    1.233333   1017.166667\n",
       "4    2013-01-05   6.000000   86.833333    3.700000   1016.500000\n",
       "...         ...        ...         ...         ...           ...\n",
       "1457 2016-12-28  17.217391   68.043478    3.547826   1015.565217\n",
       "1458 2016-12-29  15.238095   87.857143    6.000000   1016.904762\n",
       "1459 2016-12-30  14.095238   89.666667    6.266667   1017.904762\n",
       "1460 2016-12-31  15.052632   87.000000    7.325000   1016.100000\n",
       "1461 2017-01-01  10.000000  100.000000    0.000000   1016.000000\n",
       "\n",
       "[1462 rows x 5 columns]"
      ]
     },
     "execution_count": 3,
     "metadata": {},
     "output_type": "execute_result"
    }
   ],
   "source": [
    "# load data from csv file and parse dates \n",
    "train_data = pd.read_csv('../input/daily-climate-time-series-data/DailyDelhiClimateTrain.csv',\n",
    "                         parse_dates=['date'],date_parser=dateparse)\n",
    "train_data"
   ]
  },
  {
   "cell_type": "code",
   "execution_count": 4,
   "id": "1b80119c",
   "metadata": {
    "execution": {
     "iopub.execute_input": "2022-01-25T08:34:40.742324Z",
     "iopub.status.busy": "2022-01-25T08:34:40.741676Z",
     "iopub.status.idle": "2022-01-25T08:34:40.776394Z",
     "shell.execute_reply": "2022-01-25T08:34:40.775662Z",
     "shell.execute_reply.started": "2022-01-25T08:24:37.890523Z"
    },
    "papermill": {
     "duration": 0.055031,
     "end_time": "2022-01-25T08:34:40.776542",
     "exception": false,
     "start_time": "2022-01-25T08:34:40.721511",
     "status": "completed"
    },
    "tags": []
   },
   "outputs": [
    {
     "data": {
      "text/html": [
       "<div>\n",
       "<style scoped>\n",
       "    .dataframe tbody tr th:only-of-type {\n",
       "        vertical-align: middle;\n",
       "    }\n",
       "\n",
       "    .dataframe tbody tr th {\n",
       "        vertical-align: top;\n",
       "    }\n",
       "\n",
       "    .dataframe thead th {\n",
       "        text-align: right;\n",
       "    }\n",
       "</style>\n",
       "<table border=\"1\" class=\"dataframe\">\n",
       "  <thead>\n",
       "    <tr style=\"text-align: right;\">\n",
       "      <th></th>\n",
       "      <th>date</th>\n",
       "      <th>meantemp</th>\n",
       "      <th>humidity</th>\n",
       "      <th>wind_speed</th>\n",
       "      <th>meanpressure</th>\n",
       "    </tr>\n",
       "  </thead>\n",
       "  <tbody>\n",
       "    <tr>\n",
       "      <th>0</th>\n",
       "      <td>2017-01-01</td>\n",
       "      <td>15.913043</td>\n",
       "      <td>85.869565</td>\n",
       "      <td>2.743478</td>\n",
       "      <td>59.000000</td>\n",
       "    </tr>\n",
       "    <tr>\n",
       "      <th>1</th>\n",
       "      <td>2017-01-02</td>\n",
       "      <td>18.500000</td>\n",
       "      <td>77.222222</td>\n",
       "      <td>2.894444</td>\n",
       "      <td>1018.277778</td>\n",
       "    </tr>\n",
       "    <tr>\n",
       "      <th>2</th>\n",
       "      <td>2017-01-03</td>\n",
       "      <td>17.111111</td>\n",
       "      <td>81.888889</td>\n",
       "      <td>4.016667</td>\n",
       "      <td>1018.333333</td>\n",
       "    </tr>\n",
       "    <tr>\n",
       "      <th>3</th>\n",
       "      <td>2017-01-04</td>\n",
       "      <td>18.700000</td>\n",
       "      <td>70.050000</td>\n",
       "      <td>4.545000</td>\n",
       "      <td>1015.700000</td>\n",
       "    </tr>\n",
       "    <tr>\n",
       "      <th>4</th>\n",
       "      <td>2017-01-05</td>\n",
       "      <td>18.388889</td>\n",
       "      <td>74.944444</td>\n",
       "      <td>3.300000</td>\n",
       "      <td>1014.333333</td>\n",
       "    </tr>\n",
       "    <tr>\n",
       "      <th>...</th>\n",
       "      <td>...</td>\n",
       "      <td>...</td>\n",
       "      <td>...</td>\n",
       "      <td>...</td>\n",
       "      <td>...</td>\n",
       "    </tr>\n",
       "    <tr>\n",
       "      <th>109</th>\n",
       "      <td>2017-04-20</td>\n",
       "      <td>34.500000</td>\n",
       "      <td>27.500000</td>\n",
       "      <td>5.562500</td>\n",
       "      <td>998.625000</td>\n",
       "    </tr>\n",
       "    <tr>\n",
       "      <th>110</th>\n",
       "      <td>2017-04-21</td>\n",
       "      <td>34.250000</td>\n",
       "      <td>39.375000</td>\n",
       "      <td>6.962500</td>\n",
       "      <td>999.875000</td>\n",
       "    </tr>\n",
       "    <tr>\n",
       "      <th>111</th>\n",
       "      <td>2017-04-22</td>\n",
       "      <td>32.900000</td>\n",
       "      <td>40.900000</td>\n",
       "      <td>8.890000</td>\n",
       "      <td>1001.600000</td>\n",
       "    </tr>\n",
       "    <tr>\n",
       "      <th>112</th>\n",
       "      <td>2017-04-23</td>\n",
       "      <td>32.875000</td>\n",
       "      <td>27.500000</td>\n",
       "      <td>9.962500</td>\n",
       "      <td>1002.125000</td>\n",
       "    </tr>\n",
       "    <tr>\n",
       "      <th>113</th>\n",
       "      <td>2017-04-24</td>\n",
       "      <td>32.000000</td>\n",
       "      <td>27.142857</td>\n",
       "      <td>12.157143</td>\n",
       "      <td>1004.142857</td>\n",
       "    </tr>\n",
       "  </tbody>\n",
       "</table>\n",
       "<p>114 rows × 5 columns</p>\n",
       "</div>"
      ],
      "text/plain": [
       "          date   meantemp   humidity  wind_speed  meanpressure\n",
       "0   2017-01-01  15.913043  85.869565    2.743478     59.000000\n",
       "1   2017-01-02  18.500000  77.222222    2.894444   1018.277778\n",
       "2   2017-01-03  17.111111  81.888889    4.016667   1018.333333\n",
       "3   2017-01-04  18.700000  70.050000    4.545000   1015.700000\n",
       "4   2017-01-05  18.388889  74.944444    3.300000   1014.333333\n",
       "..         ...        ...        ...         ...           ...\n",
       "109 2017-04-20  34.500000  27.500000    5.562500    998.625000\n",
       "110 2017-04-21  34.250000  39.375000    6.962500    999.875000\n",
       "111 2017-04-22  32.900000  40.900000    8.890000   1001.600000\n",
       "112 2017-04-23  32.875000  27.500000    9.962500   1002.125000\n",
       "113 2017-04-24  32.000000  27.142857   12.157143   1004.142857\n",
       "\n",
       "[114 rows x 5 columns]"
      ]
     },
     "execution_count": 4,
     "metadata": {},
     "output_type": "execute_result"
    }
   ],
   "source": [
    "test_data = pd.read_csv('../input/daily-climate-time-series-data/DailyDelhiClimateTest.csv',\n",
    "                         parse_dates=['date'],date_parser=dateparse)\n",
    "test_data"
   ]
  },
  {
   "cell_type": "code",
   "execution_count": 5,
   "id": "237a80d7",
   "metadata": {
    "execution": {
     "iopub.execute_input": "2022-01-25T08:34:40.816101Z",
     "iopub.status.busy": "2022-01-25T08:34:40.815439Z",
     "iopub.status.idle": "2022-01-25T08:34:40.823033Z",
     "shell.execute_reply": "2022-01-25T08:34:40.822319Z",
     "shell.execute_reply.started": "2022-01-25T08:24:37.921057Z"
    },
    "papermill": {
     "duration": 0.028551,
     "end_time": "2022-01-25T08:34:40.823204",
     "exception": false,
     "start_time": "2022-01-25T08:34:40.794653",
     "status": "completed"
    },
    "tags": []
   },
   "outputs": [
    {
     "name": "stdout",
     "output_type": "stream",
     "text": [
      "date            datetime64[ns]\n",
      "meantemp               float64\n",
      "humidity               float64\n",
      "wind_speed             float64\n",
      "meanpressure           float64\n",
      "dtype: object\n",
      "date            datetime64[ns]\n",
      "meantemp               float64\n",
      "humidity               float64\n",
      "wind_speed             float64\n",
      "meanpressure           float64\n",
      "dtype: object\n"
     ]
    }
   ],
   "source": [
    "# check cloumn data types\n",
    "print(train_data.dtypes)\n",
    "print(test_data.dtypes)"
   ]
  },
  {
   "cell_type": "code",
   "execution_count": 6,
   "id": "5136f383",
   "metadata": {
    "execution": {
     "iopub.execute_input": "2022-01-25T08:34:40.864980Z",
     "iopub.status.busy": "2022-01-25T08:34:40.863930Z",
     "iopub.status.idle": "2022-01-25T08:34:40.872827Z",
     "shell.execute_reply": "2022-01-25T08:34:40.873414Z",
     "shell.execute_reply.started": "2022-01-25T08:24:37.929694Z"
    },
    "papermill": {
     "duration": 0.030902,
     "end_time": "2022-01-25T08:34:40.873585",
     "exception": false,
     "start_time": "2022-01-25T08:34:40.842683",
     "status": "completed"
    },
    "tags": []
   },
   "outputs": [],
   "source": [
    "# convert data and menatemp column into numpy arraies for both test and training dfs\n",
    "train_series = np.array(train_data.meantemp)\n",
    "train_time = np.array(train_data.date)\n",
    "test_series = np.array(test_data.meantemp)\n",
    "test_time = np.array(test_data.date)"
   ]
  },
  {
   "cell_type": "code",
   "execution_count": 7,
   "id": "17896e87",
   "metadata": {
    "execution": {
     "iopub.execute_input": "2022-01-25T08:34:40.915341Z",
     "iopub.status.busy": "2022-01-25T08:34:40.914276Z",
     "iopub.status.idle": "2022-01-25T08:34:40.921360Z",
     "shell.execute_reply": "2022-01-25T08:34:40.922312Z",
     "shell.execute_reply.started": "2022-01-25T08:24:37.944263Z"
    },
    "papermill": {
     "duration": 0.030606,
     "end_time": "2022-01-25T08:34:40.922542",
     "exception": false,
     "start_time": "2022-01-25T08:34:40.891936",
     "status": "completed"
    },
    "tags": []
   },
   "outputs": [
    {
     "name": "stdout",
     "output_type": "stream",
     "text": [
      "(1462,)\n",
      "(114,)\n",
      "(1462,)\n",
      "(114,)\n"
     ]
    }
   ],
   "source": [
    "# print shapes \n",
    "print(train_series.shape)\n",
    "print(test_series.shape)\n",
    "print(train_time.shape)\n",
    "print(test_time.shape)"
   ]
  },
  {
   "cell_type": "code",
   "execution_count": 8,
   "id": "354e08ea",
   "metadata": {
    "execution": {
     "iopub.execute_input": "2022-01-25T08:34:40.964904Z",
     "iopub.status.busy": "2022-01-25T08:34:40.963868Z",
     "iopub.status.idle": "2022-01-25T08:34:41.277119Z",
     "shell.execute_reply": "2022-01-25T08:34:41.277634Z",
     "shell.execute_reply.started": "2022-01-25T08:24:37.957466Z"
    },
    "papermill": {
     "duration": 0.336051,
     "end_time": "2022-01-25T08:34:41.277805",
     "exception": false,
     "start_time": "2022-01-25T08:34:40.941754",
     "status": "completed"
    },
    "tags": []
   },
   "outputs": [
    {
     "data": {
      "image/png": "[encoded data removed]",
      "text/plain": [
       "<Figure size 720x432 with 1 Axes>"
      ]
     },
     "metadata": {
      "needs_background": "light"
     },
     "output_type": "display_data"
    }
   ],
   "source": [
    "# plot meantep and date columns \n",
    "plt.figure(figsize=(10, 6))\n",
    "plt.plot(train_time,train_series)\n",
    "plt.show()"
   ]
  },
  {
   "cell_type": "code",
   "execution_count": 9,
   "id": "a62fa850",
   "metadata": {
    "execution": {
     "iopub.execute_input": "2022-01-25T08:34:41.323458Z",
     "iopub.status.busy": "2022-01-25T08:34:41.322478Z",
     "iopub.status.idle": "2022-01-25T08:34:41.326775Z",
     "shell.execute_reply": "2022-01-25T08:34:41.327371Z",
     "shell.execute_reply.started": "2022-01-25T08:24:38.245167Z"
    },
    "papermill": {
     "duration": 0.028236,
     "end_time": "2022-01-25T08:34:41.327547",
     "exception": false,
     "start_time": "2022-01-25T08:34:41.299311",
     "status": "completed"
    },
    "tags": []
   },
   "outputs": [],
   "source": [
    "window_size = 33 # 33 time steps that will be used as features to predict the next time step in the time series \n",
    "batch_size = 50 # the number of training examples in one forward/backward pass throught the network.\n",
    "                # 1000/50 = 20 groups of 50 will be proagated throught the network \n",
    "shuffle_buffer_size = 500 # shuffle data so that its not in any order "
   ]
  },
  {
   "cell_type": "code",
   "execution_count": 10,
   "id": "cf2aa111",
   "metadata": {
    "execution": {
     "iopub.execute_input": "2022-01-25T08:34:41.377089Z",
     "iopub.status.busy": "2022-01-25T08:34:41.376035Z",
     "iopub.status.idle": "2022-01-25T08:34:41.377958Z",
     "shell.execute_reply": "2022-01-25T08:34:41.378510Z",
     "shell.execute_reply.started": "2022-01-25T08:24:38.252650Z"
    },
    "papermill": {
     "duration": 0.030779,
     "end_time": "2022-01-25T08:34:41.378688",
     "exception": false,
     "start_time": "2022-01-25T08:34:41.347909",
     "status": "completed"
    },
    "tags": []
   },
   "outputs": [],
   "source": [
    "# convert dataset into training data that the model can use\n",
    "\n",
    "# function inputs: data series, size of the window,The size of the batches to use when training,\n",
    "# the size of the shuffle buffer, which determines how the data will be shuffled.\n",
    "# Expand the dimensions of the series\n",
    "# Create dataset ds from the series\n",
    "# Slice the data up into the appropriate windows, shifted by one time set.\n",
    "# keep them all the same size by setting drop remainder to true.\n",
    "# flatten the data into numpy array in the size of our window_size + 1.\n",
    "# shuffle data so that its not in order\n",
    "# than split data into features and labels  \n",
    "\n",
    "def windowed_dataset(series, window_size, batch_size, shuffle_buffer_size):\n",
    "    series = tf.expand_dims(series, axis=-1)\n",
    "    ds = tf.data.Dataset.from_tensor_slices(series)\n",
    "    ds = ds.window(window_size + 1, shift=1, drop_remainder=True)\n",
    "    ds = ds.flat_map(lambda w: w.batch(window_size + 1))\n",
    "    ds = ds.shuffle(shuffle_buffer_size)\n",
    "    ds = ds.map(lambda w: (w[:-1], w[1:]))\n",
    "    return ds.batch(batch_size).prefetch(1)"
   ]
  },
  {
   "cell_type": "code",
   "execution_count": 11,
   "id": "31debf5b",
   "metadata": {
    "execution": {
     "iopub.execute_input": "2022-01-25T08:34:41.423463Z",
     "iopub.status.busy": "2022-01-25T08:34:41.422502Z",
     "iopub.status.idle": "2022-01-25T08:34:41.428326Z",
     "shell.execute_reply": "2022-01-25T08:34:41.428832Z",
     "shell.execute_reply.started": "2022-01-25T08:24:38.264590Z"
    },
    "papermill": {
     "duration": 0.029723,
     "end_time": "2022-01-25T08:34:41.429001",
     "exception": false,
     "start_time": "2022-01-25T08:34:41.399278",
     "status": "completed"
    },
    "tags": []
   },
   "outputs": [],
   "source": [
    "# helper function that can preform forecasting after training model\n",
    "def model_forecast(model, series, window_size):\n",
    "    ds = tf.data.Dataset.from_tensor_slices(series)\n",
    "    ds = ds.window(window_size, shift=1, drop_remainder=True)\n",
    "    ds = ds.flat_map(lambda w: w.batch(window_size))\n",
    "    ds = ds.batch(50).prefetch(1)\n",
    "    forecast = model.predict(ds)\n",
    "    return forecast"
   ]
  },
  {
   "cell_type": "code",
   "execution_count": 12,
   "id": "9636ce89",
   "metadata": {
    "execution": {
     "iopub.execute_input": "2022-01-25T08:34:41.474952Z",
     "iopub.status.busy": "2022-01-25T08:34:41.473889Z",
     "iopub.status.idle": "2022-01-25T08:39:07.504042Z",
     "shell.execute_reply": "2022-01-25T08:39:07.503467Z",
     "shell.execute_reply.started": "2022-01-25T08:24:38.276593Z"
    },
    "papermill": {
     "duration": 266.054513,
     "end_time": "2022-01-25T08:39:07.504231",
     "exception": false,
     "start_time": "2022-01-25T08:34:41.449718",
     "status": "completed"
    },
    "tags": []
   },
   "outputs": [
    {
     "name": "stderr",
     "output_type": "stream",
     "text": [
      "\n",
      "User settings:\n",
      "\n",
      "   KMP_AFFINITY=granularity=fine,verbose,compact,1,0\n",
      "   KMP_BLOCKTIME=0\n",
      "   KMP_SETTINGS=1\n",
      "   KMP_WARNINGS=0\n",
      "\n",
      "Effective settings:\n",
      "\n",
      "   KMP_ABORT_DELAY=0\n",
      "   KMP_ADAPTIVE_LOCK_PROPS='1,1024'\n",
      "   KMP_ALIGN_ALLOC=64\n",
      "   KMP_ALL_THREADPRIVATE=128\n",
      "   KMP_ATOMIC_MODE=2\n",
      "   KMP_BLOCKTIME=0\n",
      "   KMP_CPUINFO_FILE: value is not defined\n",
      "   KMP_DETERMINISTIC_REDUCTION=false\n",
      "   KMP_DEVICE_THREAD_LIMIT=2147483647\n",
      "   KMP_DISP_NUM_BUFFERS=7\n",
      "   KMP_DUPLICATE_LIB_OK=false\n",
      "   KMP_ENABLE_TASK_THROTTLING=true\n",
      "   KMP_FORCE_REDUCTION: value is not defined\n",
      "   KMP_FOREIGN_THREADS_THREADPRIVATE=true\n",
      "   KMP_FORKJOIN_BARRIER='2,2'\n",
      "   KMP_FORKJOIN_BARRIER_PATTERN='hyper,hyper'\n",
      "   KMP_GTID_MODE=3\n",
      "   KMP_HANDLE_SIGNALS=false\n",
      "   KMP_HOT_TEAMS_MAX_LEVEL=1\n",
      "   KMP_HOT_TEAMS_MODE=0\n",
      "   KMP_INIT_AT_FORK=true\n",
      "   KMP_LIBRARY=throughput\n",
      "   KMP_LOCK_KIND=queuing\n",
      "   KMP_MALLOC_POOL_INCR=1M\n",
      "   KMP_NUM_LOCKS_IN_BLOCK=1\n",
      "   KMP_PLAIN_BARRIER='2,2'\n",
      "   KMP_PLAIN_BARRIER_PATTERN='hyper,hyper'\n",
      "   KMP_REDUCTION_BARRIER='1,1'\n",
      "   KMP_REDUCTION_BARRIER_PATTERN='hyper,hyper'\n",
      "   KMP_SCHEDULE='static,balanced;guided,iterative'\n",
      "   KMP_SETTINGS=true\n",
      "   KMP_SPIN_BACKOFF_PARAMS='4096,100'\n",
      "   KMP_STACKOFFSET=64\n",
      "   KMP_STACKPAD=0\n",
      "   KMP_STACKSIZE=8M\n",
      "   KMP_STORAGE_MAP=false\n",
      "   KMP_TASKING=2\n",
      "   KMP_TASKLOOP_MIN_TASKS=0\n",
      "   KMP_TASK_STEALING_CONSTRAINT=1\n",
      "   KMP_TEAMS_THREAD_LIMIT=4\n",
      "   KMP_TOPOLOGY_METHOD=all\n",
      "   KMP_USE_YIELD=1\n",
      "   KMP_VERSION=false\n",
      "   KMP_WARNINGS=false\n",
      "   OMP_AFFINITY_FORMAT='OMP: pid %P tid %i thread %n bound to OS proc set {%A}'\n",
      "   OMP_ALLOCATOR=omp_default_mem_alloc\n",
      "   OMP_CANCELLATION=false\n",
      "   OMP_DEFAULT_DEVICE=0\n",
      "   OMP_DISPLAY_AFFINITY=false\n",
      "   OMP_DISPLAY_ENV=false\n",
      "   OMP_DYNAMIC=false\n",
      "   OMP_MAX_ACTIVE_LEVELS=1\n",
      "   OMP_MAX_TASK_PRIORITY=0\n",
      "   OMP_NESTED: deprecated; max-active-levels-var=1\n",
      "   OMP_NUM_THREADS: value is not defined\n",
      "   OMP_PLACES: value is not defined\n",
      "   OMP_PROC_BIND='intel'\n",
      "   OMP_SCHEDULE='static'\n",
      "   OMP_STACKSIZE=8M\n",
      "   OMP_TARGET_OFFLOAD=DEFAULT\n",
      "   OMP_THREAD_LIMIT=2147483647\n",
      "   OMP_WAIT_POLICY=PASSIVE\n",
      "   KMP_AFFINITY='verbose,warnings,respect,granularity=fine,compact,1,0'\n",
      "\n",
      "2022-01-25 08:34:42.856691: I tensorflow/core/common_runtime/process_util.cc:146] Creating new thread pool with default inter op setting: 2. Tune using inter_op_parallelism_threads for best performance.\n"
     ]
    },
    {
     "name": "stdout",
     "output_type": "stream",
     "text": [
      "<PrefetchDataset shapes: ((None, None, 1), (None, None, 1)), types: (tf.float64, tf.float64)>\n",
      "(1462,)\n"
     ]
    },
    {
     "name": "stderr",
     "output_type": "stream",
     "text": [
      "2022-01-25 08:34:43.672715: I tensorflow/compiler/mlir/mlir_graph_optimization_pass.cc:185] None of the MLIR Optimization Passes are enabled (registered 2)\n"
     ]
    },
    {
     "name": "stdout",
     "output_type": "stream",
     "text": [
      "Epoch 1/100\n",
      "29/29 [==============================] - 7s 70ms/step - loss: 28.2614 - mae: 28.7614\n",
      "Epoch 2/100\n",
      "29/29 [==============================] - 2s 70ms/step - loss: 27.8850 - mae: 28.3850\n",
      "Epoch 3/100\n",
      "29/29 [==============================] - 2s 68ms/step - loss: 27.4286 - mae: 27.9286\n",
      "Epoch 4/100\n",
      "29/29 [==============================] - 2s 72ms/step - loss: 26.9119 - mae: 27.4119\n",
      "Epoch 5/100\n",
      "29/29 [==============================] - 2s 70ms/step - loss: 26.3226 - mae: 26.8226\n",
      "Epoch 6/100\n",
      "29/29 [==============================] - 2s 70ms/step - loss: 25.6270 - mae: 26.1270\n",
      "Epoch 7/100\n",
      "29/29 [==============================] - 2s 68ms/step - loss: 24.7913 - mae: 25.2913\n",
      "Epoch 8/100\n",
      "29/29 [==============================] - 2s 72ms/step - loss: 23.8507 - mae: 24.3507\n",
      "Epoch 9/100\n",
      "29/29 [==============================] - 2s 69ms/step - loss: 22.9428 - mae: 23.4428\n",
      "Epoch 10/100\n",
      "29/29 [==============================] - 2s 70ms/step - loss: 22.0562 - mae: 22.5562\n",
      "Epoch 11/100\n",
      "29/29 [==============================] - 2s 68ms/step - loss: 21.1756 - mae: 21.6756\n",
      "Epoch 12/100\n",
      "29/29 [==============================] - 2s 69ms/step - loss: 20.2872 - mae: 20.7872\n",
      "Epoch 13/100\n",
      "29/29 [==============================] - 3s 89ms/step - loss: 19.3757 - mae: 19.8757\n",
      "Epoch 14/100\n",
      "29/29 [==============================] - 2s 71ms/step - loss: 18.4241 - mae: 18.9241\n",
      "Epoch 15/100\n",
      "29/29 [==============================] - 2s 70ms/step - loss: 17.4142 - mae: 17.9142\n",
      "Epoch 16/100\n",
      "29/29 [==============================] - 2s 72ms/step - loss: 16.3247 - mae: 16.8247\n",
      "Epoch 17/100\n",
      "29/29 [==============================] - 2s 70ms/step - loss: 15.1258 - mae: 15.6257\n",
      "Epoch 18/100\n",
      "29/29 [==============================] - 2s 67ms/step - loss: 13.7786 - mae: 14.2780\n",
      "Epoch 19/100\n",
      "29/29 [==============================] - 2s 68ms/step - loss: 12.1804 - mae: 12.6785\n",
      "Epoch 20/100\n",
      "29/29 [==============================] - 2s 71ms/step - loss: 10.0506 - mae: 10.5448\n",
      "Epoch 21/100\n",
      "29/29 [==============================] - 2s 70ms/step - loss: 6.9288 - mae: 7.4140\n",
      "Epoch 22/100\n",
      "29/29 [==============================] - 2s 68ms/step - loss: 5.1532 - mae: 5.6360\n",
      "Epoch 23/100\n",
      "29/29 [==============================] - 2s 68ms/step - loss: 4.6662 - mae: 5.1449\n",
      "Epoch 24/100\n",
      "29/29 [==============================] - 2s 69ms/step - loss: 4.4909 - mae: 4.9662\n",
      "Epoch 25/100\n",
      "29/29 [==============================] - 3s 90ms/step - loss: 4.3435 - mae: 4.8174\n",
      "Epoch 26/100\n",
      "29/29 [==============================] - 2s 68ms/step - loss: 4.2006 - mae: 4.6721\n",
      "Epoch 27/100\n",
      "29/29 [==============================] - 2s 68ms/step - loss: 4.0626 - mae: 4.5316\n",
      "Epoch 28/100\n",
      "29/29 [==============================] - 2s 72ms/step - loss: 3.9290 - mae: 4.3967\n",
      "Epoch 29/100\n",
      "29/29 [==============================] - 2s 67ms/step - loss: 3.8044 - mae: 4.2705\n",
      "Epoch 30/100\n",
      "29/29 [==============================] - 2s 66ms/step - loss: 3.6943 - mae: 4.1592\n",
      "Epoch 31/100\n",
      "29/29 [==============================] - 2s 66ms/step - loss: 3.5921 - mae: 4.0556\n",
      "Epoch 32/100\n",
      "29/29 [==============================] - 2s 66ms/step - loss: 3.5087 - mae: 3.9717\n",
      "Epoch 33/100\n",
      "29/29 [==============================] - 2s 71ms/step - loss: 3.4252 - mae: 3.8879\n",
      "Epoch 34/100\n",
      "29/29 [==============================] - 2s 69ms/step - loss: 3.3530 - mae: 3.8151\n",
      "Epoch 35/100\n",
      "29/29 [==============================] - 2s 66ms/step - loss: 3.2839 - mae: 3.7457\n",
      "Epoch 36/100\n",
      "29/29 [==============================] - 2s 67ms/step - loss: 3.2096 - mae: 3.6706\n",
      "Epoch 37/100\n",
      "29/29 [==============================] - 2s 72ms/step - loss: 3.1379 - mae: 3.5989\n",
      "Epoch 38/100\n",
      "29/29 [==============================] - 2s 70ms/step - loss: 3.0599 - mae: 3.5201\n",
      "Epoch 39/100\n",
      "29/29 [==============================] - 2s 68ms/step - loss: 2.9869 - mae: 3.4468\n",
      "Epoch 40/100\n",
      "29/29 [==============================] - 2s 69ms/step - loss: 2.8894 - mae: 3.3486\n",
      "Epoch 41/100\n",
      "29/29 [==============================] - 2s 68ms/step - loss: 2.8032 - mae: 3.2613\n",
      "Epoch 42/100\n",
      "29/29 [==============================] - 2s 71ms/step - loss: 2.7133 - mae: 3.1711\n",
      "Epoch 43/100\n",
      "29/29 [==============================] - 2s 68ms/step - loss: 2.6258 - mae: 3.0818\n",
      "Epoch 44/100\n",
      "29/29 [==============================] - 2s 67ms/step - loss: 2.5300 - mae: 2.9846\n",
      "Epoch 45/100\n",
      "29/29 [==============================] - 2s 77ms/step - loss: 2.4296 - mae: 2.8822\n",
      "Epoch 46/100\n",
      "29/29 [==============================] - 2s 71ms/step - loss: 2.3357 - mae: 2.7865\n",
      "Epoch 47/100\n",
      "29/29 [==============================] - 2s 67ms/step - loss: 2.2390 - mae: 2.6880\n",
      "Epoch 48/100\n",
      "29/29 [==============================] - 2s 68ms/step - loss: 2.1463 - mae: 2.5936\n",
      "Epoch 49/100\n",
      "29/29 [==============================] - 2s 66ms/step - loss: 2.0730 - mae: 2.5204\n",
      "Epoch 50/100\n",
      "29/29 [==============================] - 2s 67ms/step - loss: 1.9833 - mae: 2.4282\n",
      "Epoch 51/100\n",
      "29/29 [==============================] - 3s 91ms/step - loss: 1.8724 - mae: 2.3144\n",
      "Epoch 52/100\n",
      "29/29 [==============================] - 2s 69ms/step - loss: 1.8139 - mae: 2.2549\n",
      "Epoch 53/100\n",
      "29/29 [==============================] - 2s 72ms/step - loss: 1.8128 - mae: 2.2547\n",
      "Epoch 54/100\n",
      "29/29 [==============================] - 2s 68ms/step - loss: 1.7477 - mae: 2.1898\n",
      "Epoch 55/100\n",
      "29/29 [==============================] - 2s 70ms/step - loss: 1.6783 - mae: 2.1178\n",
      "Epoch 56/100\n",
      "29/29 [==============================] - 2s 69ms/step - loss: 1.5859 - mae: 2.0210\n",
      "Epoch 57/100\n",
      "29/29 [==============================] - 2s 71ms/step - loss: 1.5491 - mae: 1.9838\n",
      "Epoch 58/100\n",
      "29/29 [==============================] - 2s 70ms/step - loss: 1.5314 - mae: 1.9664\n",
      "Epoch 59/100\n",
      "29/29 [==============================] - 2s 69ms/step - loss: 1.4760 - mae: 1.9087\n",
      "Epoch 60/100\n",
      "29/29 [==============================] - 2s 68ms/step - loss: 1.4484 - mae: 1.8797\n",
      "Epoch 61/100\n",
      "29/29 [==============================] - 2s 69ms/step - loss: 1.4297 - mae: 1.8617\n",
      "Epoch 62/100\n",
      "29/29 [==============================] - 2s 69ms/step - loss: 1.4495 - mae: 1.8852\n",
      "Epoch 63/100\n",
      "29/29 [==============================] - 2s 69ms/step - loss: 1.3930 - mae: 1.8245\n",
      "Epoch 64/100\n",
      "29/29 [==============================] - 3s 91ms/step - loss: 1.3654 - mae: 1.7960\n",
      "Epoch 65/100\n",
      "29/29 [==============================] - 2s 70ms/step - loss: 1.4893 - mae: 1.9292\n",
      "Epoch 66/100\n",
      "29/29 [==============================] - 2s 72ms/step - loss: 1.3278 - mae: 1.7564\n",
      "Epoch 67/100\n",
      "29/29 [==============================] - 2s 74ms/step - loss: 1.3752 - mae: 1.8082\n",
      "Epoch 68/100\n",
      "29/29 [==============================] - 2s 69ms/step - loss: 1.4063 - mae: 1.8413\n",
      "Epoch 69/100\n",
      "29/29 [==============================] - 2s 69ms/step - loss: 1.5554 - mae: 1.9990\n",
      "Epoch 70/100\n",
      "29/29 [==============================] - 2s 68ms/step - loss: 1.3383 - mae: 1.7713\n",
      "Epoch 71/100\n",
      "29/29 [==============================] - 2s 68ms/step - loss: 1.4101 - mae: 1.8478\n",
      "Epoch 72/100\n",
      "29/29 [==============================] - 2s 71ms/step - loss: 1.4825 - mae: 1.9250\n",
      "Epoch 73/100\n",
      "29/29 [==============================] - 2s 67ms/step - loss: 1.6637 - mae: 2.1116\n",
      "Epoch 74/100\n",
      "29/29 [==============================] - 2s 70ms/step - loss: 1.4423 - mae: 1.8833\n",
      "Epoch 75/100\n",
      "29/29 [==============================] - 2s 69ms/step - loss: 1.5033 - mae: 1.9459\n",
      "Epoch 76/100\n",
      "29/29 [==============================] - 2s 73ms/step - loss: 1.5936 - mae: 2.0406\n",
      "Epoch 77/100\n",
      "29/29 [==============================] - 3s 89ms/step - loss: 1.5896 - mae: 2.0387\n",
      "Epoch 78/100\n",
      "29/29 [==============================] - 2s 68ms/step - loss: 2.1198 - mae: 2.5789\n",
      "Epoch 79/100\n",
      "29/29 [==============================] - 2s 69ms/step - loss: 1.8518 - mae: 2.3037\n",
      "Epoch 80/100\n",
      "29/29 [==============================] - 2s 76ms/step - loss: 1.4195 - mae: 1.8599\n",
      "Epoch 81/100\n",
      "29/29 [==============================] - 2s 69ms/step - loss: 1.3249 - mae: 1.7618\n",
      "Epoch 82/100\n",
      "29/29 [==============================] - 2s 67ms/step - loss: 1.3678 - mae: 1.8059\n",
      "Epoch 83/100\n",
      "29/29 [==============================] - 2s 67ms/step - loss: 1.3485 - mae: 1.7888\n",
      "Epoch 84/100\n",
      "29/29 [==============================] - 2s 76ms/step - loss: 1.3874 - mae: 1.8292\n",
      "Epoch 85/100\n",
      "29/29 [==============================] - 2s 73ms/step - loss: 1.4184 - mae: 1.8618\n",
      "Epoch 86/100\n",
      "29/29 [==============================] - 2s 70ms/step - loss: 1.3429 - mae: 1.7836\n",
      "Epoch 87/100\n",
      "29/29 [==============================] - 2s 73ms/step - loss: 1.3614 - mae: 1.8019\n",
      "Epoch 88/100\n",
      "29/29 [==============================] - 2s 72ms/step - loss: 2.3522 - mae: 2.8092\n",
      "Epoch 89/100\n",
      "29/29 [==============================] - 3s 91ms/step - loss: 2.2699 - mae: 2.7298\n",
      "Epoch 90/100\n",
      "29/29 [==============================] - 2s 69ms/step - loss: 1.5437 - mae: 1.9903\n",
      "Epoch 91/100\n",
      "29/29 [==============================] - 2s 72ms/step - loss: 1.8944 - mae: 2.3508\n",
      "Epoch 92/100\n",
      "29/29 [==============================] - 2s 70ms/step - loss: 1.4957 - mae: 1.9418\n",
      "Epoch 93/100\n",
      "29/29 [==============================] - 2s 73ms/step - loss: 2.2174 - mae: 2.6751\n",
      "Epoch 94/100\n",
      "29/29 [==============================] - 2s 67ms/step - loss: 3.5186 - mae: 3.9953\n",
      "Epoch 95/100\n",
      "29/29 [==============================] - 2s 67ms/step - loss: 2.9240 - mae: 3.3910\n",
      "Epoch 96/100\n",
      "29/29 [==============================] - 2s 69ms/step - loss: 2.3902 - mae: 2.8531\n",
      "Epoch 97/100\n",
      "29/29 [==============================] - 2s 71ms/step - loss: 1.9413 - mae: 2.3993\n",
      "Epoch 98/100\n",
      "29/29 [==============================] - 2s 69ms/step - loss: 2.1470 - mae: 2.6084\n",
      "Epoch 99/100\n",
      "29/29 [==============================] - 2s 69ms/step - loss: 2.1929 - mae: 2.6540\n",
      "Epoch 100/100\n",
      "29/29 [==============================] - 2s 67ms/step - loss: 3.7834 - mae: 4.2569\n"
     ]
    }
   ],
   "source": [
    "# used to find the optimum learning rate for the optimizer (form of hyperparameter tuning) using conv1D, LSTM, and dense layer\n",
    "tf.keras.backend.clear_session() # this helps avoid clutter from old models and layers\n",
    "tf.random.set_seed(51)  # to get reproducable results \n",
    "np.random.seed(51)  # generate pseudo-random numbers \n",
    "\n",
    "train_set = windowed_dataset(train_series, window_size, batch_size, shuffle_buffer_size)\n",
    "print(train_set)\n",
    "print(train_series.shape)\n",
    "\n",
    "model = tf.keras.models.Sequential([\n",
    "  tf.keras.layers.Conv1D(filters=32, kernel_size=5,\n",
    "                      strides=1, padding=\"causal\",\n",
    "                      activation=\"relu\",\n",
    "                      input_shape=[None, 1]),\n",
    "  tf.keras.layers.LSTM(64, return_sequences=True),\n",
    "  tf.keras.layers.LSTM(64, return_sequences=True),\n",
    "  tf.keras.layers.Dense(30, activation=\"relu\"),\n",
    "  tf.keras.layers.Dense(10, activation=\"relu\"),\n",
    "  tf.keras.layers.Dense(1),\n",
    "  tf.keras.layers.Lambda(lambda x: x * 100) # scale outputs by 100 using lambda layer \n",
    "])\n",
    "\n",
    "lr_schedule = tf.keras.callbacks.LearningRateScheduler(\n",
    "    lambda epoch: 1e-8 * 10**(epoch / 20)) # to tune the learning rate set up a callback \n",
    "\n",
    "optimizer = tf.keras.optimizers.SGD(learning_rate=1e-8, momentum=0.9)\n",
    "model.compile(loss=tf.keras.losses.Huber(),\n",
    "              optimizer=optimizer,\n",
    "              metrics=[\"mae\"])\n",
    "history = model.fit(train_set, epochs=100, callbacks=[lr_schedule])"
   ]
  },
  {
   "cell_type": "code",
   "execution_count": 13,
   "id": "cbcee87e",
   "metadata": {
    "execution": {
     "iopub.execute_input": "2022-01-25T08:39:09.387284Z",
     "iopub.status.busy": "2022-01-25T08:39:09.386592Z",
     "iopub.status.idle": "2022-01-25T08:39:10.353613Z",
     "shell.execute_reply": "2022-01-25T08:39:10.353045Z",
     "shell.execute_reply.started": "2022-01-25T08:28:20.573396Z"
    },
    "papermill": {
     "duration": 1.910422,
     "end_time": "2022-01-25T08:39:10.353771",
     "exception": false,
     "start_time": "2022-01-25T08:39:08.443349",
     "status": "completed"
    },
    "tags": []
   },
   "outputs": [
    {
     "data": {
      "text/plain": [
       "(1e-08, 0.001, 0.0, 30.0)"
      ]
     },
     "execution_count": 13,
     "metadata": {},
     "output_type": "execute_result"
    },
    {
     "data": {
      "image/png": "[encoded data removed]",
      "text/plain": [
       "<Figure size 432x288 with 1 Axes>"
      ]
     },
     "metadata": {
      "needs_background": "light"
     },
     "output_type": "display_data"
    }
   ],
   "source": [
    "# plot the learning rate loss \n",
    "plt.semilogx(history.history[\"lr\"], history.history[\"loss\"])\n",
    "plt.axis([1e-8, 1e-3, 0, 30])"
   ]
  },
  {
   "cell_type": "code",
   "execution_count": 14,
   "id": "eaa60f86",
   "metadata": {
    "execution": {
     "iopub.execute_input": "2022-01-25T08:39:12.297663Z",
     "iopub.status.busy": "2022-01-25T08:39:12.296951Z",
     "iopub.status.idle": "2022-01-25T08:42:33.235747Z",
     "shell.execute_reply": "2022-01-25T08:42:33.235041Z",
     "shell.execute_reply.started": "2022-01-25T08:28:21.187158Z"
    },
    "papermill": {
     "duration": 201.900739,
     "end_time": "2022-01-25T08:42:33.235968",
     "exception": false,
     "start_time": "2022-01-25T08:39:11.335229",
     "status": "completed"
    },
    "tags": []
   },
   "outputs": [
    {
     "name": "stdout",
     "output_type": "stream",
     "text": [
      "Epoch 1/100\n",
      "29/29 [==============================] - 6s 59ms/step - loss: 7.7141 - mae: 8.2000\n",
      "Epoch 2/100\n",
      "29/29 [==============================] - 2s 61ms/step - loss: 3.3567 - mae: 3.8299\n",
      "Epoch 3/100\n",
      "29/29 [==============================] - 2s 64ms/step - loss: 2.0627 - mae: 2.5202\n",
      "Epoch 4/100\n",
      "29/29 [==============================] - 2s 61ms/step - loss: 2.1129 - mae: 2.5718\n",
      "Epoch 5/100\n",
      "29/29 [==============================] - 2s 59ms/step - loss: 1.9388 - mae: 2.3941\n",
      "Epoch 6/100\n",
      "29/29 [==============================] - 2s 60ms/step - loss: 2.3005 - mae: 2.7636\n",
      "Epoch 7/100\n",
      "29/29 [==============================] - 2s 61ms/step - loss: 2.2732 - mae: 2.7348\n",
      "Epoch 8/100\n",
      "29/29 [==============================] - 2s 62ms/step - loss: 1.6883 - mae: 2.1389\n",
      "Epoch 9/100\n",
      "29/29 [==============================] - 2s 63ms/step - loss: 1.5841 - mae: 2.0304\n",
      "Epoch 10/100\n",
      "29/29 [==============================] - 2s 60ms/step - loss: 1.5678 - mae: 2.0138\n",
      "Epoch 11/100\n",
      "29/29 [==============================] - 2s 60ms/step - loss: 1.7682 - mae: 2.2214\n",
      "Epoch 12/100\n",
      "29/29 [==============================] - 2s 60ms/step - loss: 1.4594 - mae: 1.9028\n",
      "Epoch 13/100\n",
      "29/29 [==============================] - 2s 61ms/step - loss: 1.7442 - mae: 2.1970\n",
      "Epoch 14/100\n",
      "29/29 [==============================] - 2s 71ms/step - loss: 1.6061 - mae: 2.0564\n",
      "Epoch 15/100\n",
      "29/29 [==============================] - 2s 59ms/step - loss: 1.4929 - mae: 1.9395\n",
      "Epoch 16/100\n",
      "29/29 [==============================] - 2s 79ms/step - loss: 1.6910 - mae: 2.1440\n",
      "Epoch 17/100\n",
      "29/29 [==============================] - 2s 63ms/step - loss: 1.4250 - mae: 1.8687\n",
      "Epoch 18/100\n",
      "29/29 [==============================] - 2s 63ms/step - loss: 1.5595 - mae: 2.0079\n",
      "Epoch 19/100\n",
      "29/29 [==============================] - 2s 63ms/step - loss: 1.5979 - mae: 2.0497\n",
      "Epoch 20/100\n",
      "29/29 [==============================] - 2s 61ms/step - loss: 1.4994 - mae: 1.9470\n",
      "Epoch 21/100\n",
      "29/29 [==============================] - 2s 59ms/step - loss: 1.4678 - mae: 1.9125\n",
      "Epoch 22/100\n",
      "29/29 [==============================] - 2s 60ms/step - loss: 1.5983 - mae: 2.0466\n",
      "Epoch 23/100\n",
      "29/29 [==============================] - 2s 63ms/step - loss: 1.2740 - mae: 1.7111\n",
      "Epoch 24/100\n",
      "29/29 [==============================] - 2s 62ms/step - loss: 1.4377 - mae: 1.8825\n",
      "Epoch 25/100\n",
      "29/29 [==============================] - 2s 62ms/step - loss: 1.3392 - mae: 1.7811\n",
      "Epoch 26/100\n",
      "29/29 [==============================] - 2s 58ms/step - loss: 1.2067 - mae: 1.6412\n",
      "Epoch 27/100\n",
      "29/29 [==============================] - 2s 58ms/step - loss: 1.2230 - mae: 1.6596\n",
      "Epoch 28/100\n",
      "29/29 [==============================] - 2s 60ms/step - loss: 1.5715 - mae: 2.0209\n",
      "Epoch 29/100\n",
      "29/29 [==============================] - 2s 61ms/step - loss: 1.4737 - mae: 1.9214\n",
      "Epoch 30/100\n",
      "29/29 [==============================] - 2s 71ms/step - loss: 1.1621 - mae: 1.5941\n",
      "Epoch 31/100\n",
      "29/29 [==============================] - 2s 62ms/step - loss: 1.4465 - mae: 1.8917\n",
      "Epoch 32/100\n",
      "29/29 [==============================] - 2s 60ms/step - loss: 1.1972 - mae: 1.6313\n",
      "Epoch 33/100\n",
      "29/29 [==============================] - 2s 59ms/step - loss: 1.2115 - mae: 1.6464\n",
      "Epoch 34/100\n",
      "29/29 [==============================] - 2s 60ms/step - loss: 1.1653 - mae: 1.5980\n",
      "Epoch 35/100\n",
      "29/29 [==============================] - 2s 59ms/step - loss: 1.1531 - mae: 1.5860\n",
      "Epoch 36/100\n",
      "29/29 [==============================] - 2s 62ms/step - loss: 1.2412 - mae: 1.6789\n",
      "Epoch 37/100\n",
      "29/29 [==============================] - 2s 60ms/step - loss: 1.4259 - mae: 1.8710\n",
      "Epoch 38/100\n",
      "29/29 [==============================] - 2s 61ms/step - loss: 1.0387 - mae: 1.4647\n",
      "Epoch 39/100\n",
      "29/29 [==============================] - 2s 63ms/step - loss: 1.2291 - mae: 1.6685\n",
      "Epoch 40/100\n",
      "29/29 [==============================] - 2s 62ms/step - loss: 1.1082 - mae: 1.5381\n",
      "Epoch 41/100\n",
      "29/29 [==============================] - 2s 60ms/step - loss: 1.1533 - mae: 1.5867\n",
      "Epoch 42/100\n",
      "29/29 [==============================] - 2s 61ms/step - loss: 1.2104 - mae: 1.6454\n",
      "Epoch 43/100\n",
      "29/29 [==============================] - 2s 59ms/step - loss: 1.1518 - mae: 1.5838\n",
      "Epoch 44/100\n",
      "29/29 [==============================] - 2s 60ms/step - loss: 1.1553 - mae: 1.5897\n",
      "Epoch 45/100\n",
      "29/29 [==============================] - 2s 59ms/step - loss: 1.0945 - mae: 1.5266\n",
      "Epoch 46/100\n",
      "29/29 [==============================] - 2s 60ms/step - loss: 1.0703 - mae: 1.4989\n",
      "Epoch 47/100\n",
      "29/29 [==============================] - 2s 66ms/step - loss: 1.2142 - mae: 1.6508\n",
      "Epoch 48/100\n",
      "29/29 [==============================] - 2s 64ms/step - loss: 1.2844 - mae: 1.7242\n",
      "Epoch 49/100\n",
      "29/29 [==============================] - 2s 60ms/step - loss: 1.2166 - mae: 1.6546\n",
      "Epoch 50/100\n",
      "29/29 [==============================] - 2s 65ms/step - loss: 1.1444 - mae: 1.5766\n",
      "Epoch 51/100\n",
      "29/29 [==============================] - 2s 61ms/step - loss: 1.0913 - mae: 1.5213\n",
      "Epoch 52/100\n",
      "29/29 [==============================] - 2s 61ms/step - loss: 1.0506 - mae: 1.4779\n",
      "Epoch 53/100\n",
      "29/29 [==============================] - 2s 64ms/step - loss: 1.0932 - mae: 1.5237\n",
      "Epoch 54/100\n",
      "29/29 [==============================] - 2s 62ms/step - loss: 1.0299 - mae: 1.4551\n",
      "Epoch 55/100\n",
      "29/29 [==============================] - 2s 61ms/step - loss: 1.1479 - mae: 1.5827\n",
      "Epoch 56/100\n",
      "29/29 [==============================] - 2s 60ms/step - loss: 1.0270 - mae: 1.4541\n",
      "Epoch 57/100\n",
      "29/29 [==============================] - 2s 58ms/step - loss: 1.0633 - mae: 1.4918\n",
      "Epoch 58/100\n",
      "29/29 [==============================] - 2s 59ms/step - loss: 1.0112 - mae: 1.4361\n",
      "Epoch 59/100\n",
      "29/29 [==============================] - 2s 62ms/step - loss: 1.0646 - mae: 1.4949\n",
      "Epoch 60/100\n",
      "29/29 [==============================] - 2s 60ms/step - loss: 1.0063 - mae: 1.4312\n",
      "Epoch 61/100\n",
      "29/29 [==============================] - 2s 59ms/step - loss: 0.9468 - mae: 1.3669\n",
      "Epoch 62/100\n",
      "29/29 [==============================] - 2s 59ms/step - loss: 1.0317 - mae: 1.4599\n",
      "Epoch 63/100\n",
      "29/29 [==============================] - 2s 59ms/step - loss: 1.0464 - mae: 1.4747\n",
      "Epoch 64/100\n",
      "29/29 [==============================] - 2s 61ms/step - loss: 0.9715 - mae: 1.3937\n",
      "Epoch 65/100\n",
      "29/29 [==============================] - 2s 62ms/step - loss: 0.9521 - mae: 1.3728\n",
      "Epoch 66/100\n",
      "29/29 [==============================] - 2s 59ms/step - loss: 1.0701 - mae: 1.4999\n",
      "Epoch 67/100\n",
      "29/29 [==============================] - 2s 78ms/step - loss: 1.0637 - mae: 1.4926\n",
      "Epoch 68/100\n",
      "29/29 [==============================] - 2s 61ms/step - loss: 0.9864 - mae: 1.4113\n",
      "Epoch 69/100\n",
      "29/29 [==============================] - 2s 60ms/step - loss: 0.9368 - mae: 1.3555\n",
      "Epoch 70/100\n",
      "29/29 [==============================] - 2s 64ms/step - loss: 1.0368 - mae: 1.4646\n",
      "Epoch 71/100\n",
      "29/29 [==============================] - 2s 59ms/step - loss: 1.0580 - mae: 1.4868\n",
      "Epoch 72/100\n",
      "29/29 [==============================] - 2s 59ms/step - loss: 0.9395 - mae: 1.3580\n",
      "Epoch 73/100\n",
      "29/29 [==============================] - 2s 59ms/step - loss: 1.1172 - mae: 1.5496\n",
      "Epoch 74/100\n",
      "29/29 [==============================] - 2s 60ms/step - loss: 0.9645 - mae: 1.3871\n",
      "Epoch 75/100\n",
      "29/29 [==============================] - 2s 60ms/step - loss: 0.9050 - mae: 1.3218\n",
      "Epoch 76/100\n",
      "29/29 [==============================] - 2s 62ms/step - loss: 0.9688 - mae: 1.3904\n",
      "Epoch 77/100\n",
      "29/29 [==============================] - 2s 58ms/step - loss: 1.0030 - mae: 1.4289\n",
      "Epoch 78/100\n",
      "29/29 [==============================] - 2s 58ms/step - loss: 0.9028 - mae: 1.3174\n",
      "Epoch 79/100\n",
      "29/29 [==============================] - 2s 59ms/step - loss: 0.8826 - mae: 1.2964\n",
      "Epoch 80/100\n",
      "29/29 [==============================] - 2s 59ms/step - loss: 1.0171 - mae: 1.4418\n",
      "Epoch 81/100\n",
      "29/29 [==============================] - 2s 65ms/step - loss: 0.8912 - mae: 1.3059\n",
      "Epoch 82/100\n",
      "29/29 [==============================] - 2s 60ms/step - loss: 1.0820 - mae: 1.5123\n",
      "Epoch 83/100\n",
      "29/29 [==============================] - 2s 60ms/step - loss: 0.9981 - mae: 1.4217\n",
      "Epoch 84/100\n",
      "29/29 [==============================] - 2s 60ms/step - loss: 0.9916 - mae: 1.4171\n",
      "Epoch 85/100\n",
      "29/29 [==============================] - 2s 63ms/step - loss: 1.0348 - mae: 1.4621\n",
      "Epoch 86/100\n",
      "29/29 [==============================] - 2s 61ms/step - loss: 0.9819 - mae: 1.4050\n",
      "Epoch 87/100\n",
      "29/29 [==============================] - 2s 65ms/step - loss: 0.8671 - mae: 1.2800\n",
      "Epoch 88/100\n",
      "29/29 [==============================] - 2s 62ms/step - loss: 0.9661 - mae: 1.3889\n",
      "Epoch 89/100\n",
      "29/29 [==============================] - 2s 60ms/step - loss: 0.8987 - mae: 1.3134\n",
      "Epoch 90/100\n",
      "29/29 [==============================] - 2s 64ms/step - loss: 1.0219 - mae: 1.4488\n",
      "Epoch 91/100\n",
      "29/29 [==============================] - 2s 61ms/step - loss: 0.9065 - mae: 1.3236\n",
      "Epoch 92/100\n",
      "29/29 [==============================] - 2s 67ms/step - loss: 0.9377 - mae: 1.3588\n",
      "Epoch 93/100\n",
      "29/29 [==============================] - 2s 63ms/step - loss: 0.9262 - mae: 1.3455\n",
      "Epoch 94/100\n",
      "29/29 [==============================] - 2s 62ms/step - loss: 0.8414 - mae: 1.2501\n",
      "Epoch 95/100\n",
      "29/29 [==============================] - 2s 64ms/step - loss: 0.9069 - mae: 1.3232\n",
      "Epoch 96/100\n",
      "29/29 [==============================] - 2s 64ms/step - loss: 0.9698 - mae: 1.3940\n",
      "Epoch 97/100\n",
      "29/29 [==============================] - 2s 65ms/step - loss: 0.9833 - mae: 1.4065\n",
      "Epoch 98/100\n",
      "29/29 [==============================] - 2s 63ms/step - loss: 0.9008 - mae: 1.3169\n",
      "Epoch 99/100\n",
      "29/29 [==============================] - 2s 60ms/step - loss: 0.8659 - mae: 1.2760\n",
      "Epoch 100/100\n",
      "29/29 [==============================] - 2s 61ms/step - loss: 0.9186 - mae: 1.3353\n"
     ]
    }
   ],
   "source": [
    "# optimum learning rate found was headed towards 1e-4 \n",
    "tf.keras.backend.clear_session() # this helps avoid clutter from old models and layers\n",
    "tf.random.set_seed(51)\n",
    "np.random.seed(51)\n",
    "#batch_size = 16\n",
    "dataset = windowed_dataset(train_series, window_size, batch_size, shuffle_buffer_size)\n",
    "\n",
    "model = tf.keras.models.Sequential([\n",
    "  tf.keras.layers.Conv1D(filters=32, kernel_size=3,\n",
    "                      strides=1, padding=\"causal\",\n",
    "                      activation=\"relu\",\n",
    "                      input_shape=[None, 1]),\n",
    "  tf.keras.layers.LSTM(32, return_sequences=True),\n",
    "  tf.keras.layers.LSTM(32, return_sequences=True),\n",
    "  tf.keras.layers.Dense(1),\n",
    "  tf.keras.layers.Lambda(lambda x: x * 100)\n",
    "])\n",
    "\n",
    "optimizer = tf.keras.optimizers.SGD(learning_rate=1e-4, momentum=0.9)\n",
    "model.compile(loss=tf.keras.losses.Huber(),\n",
    "              optimizer=optimizer,\n",
    "              metrics=[\"mae\"])\n",
    "history = model.fit(dataset,epochs=100)"
   ]
  },
  {
   "cell_type": "code",
   "execution_count": 15,
   "id": "d6c51727",
   "metadata": {
    "execution": {
     "iopub.execute_input": "2022-01-25T08:42:37.215363Z",
     "iopub.status.busy": "2022-01-25T08:42:37.214316Z",
     "iopub.status.idle": "2022-01-25T08:42:38.172116Z",
     "shell.execute_reply": "2022-01-25T08:42:38.172925Z",
     "shell.execute_reply.started": "2022-01-25T08:31:28.705430Z"
    },
    "papermill": {
     "duration": 2.886198,
     "end_time": "2022-01-25T08:42:38.173192",
     "exception": false,
     "start_time": "2022-01-25T08:42:35.286994",
     "status": "completed"
    },
    "tags": []
   },
   "outputs": [
    {
     "name": "stdout",
     "output_type": "stream",
     "text": [
      "(112,)\n"
     ]
    }
   ],
   "source": [
    "window_size = 1\n",
    "forecast = model_forecast(model, test_series[..., np.newaxis], window_size)\n",
    "forecast = forecast[window_size:-1, -1, 0]\n",
    "print(forecast.shape)"
   ]
  },
  {
   "cell_type": "code",
   "execution_count": 16,
   "id": "8d8e0d5f",
   "metadata": {
    "execution": {
     "iopub.execute_input": "2022-01-25T08:42:42.097132Z",
     "iopub.status.busy": "2022-01-25T08:42:42.096407Z",
     "iopub.status.idle": "2022-01-25T08:42:42.341276Z",
     "shell.execute_reply": "2022-01-25T08:42:42.340539Z",
     "shell.execute_reply.started": "2022-01-25T08:31:29.604531Z"
    },
    "papermill": {
     "duration": 2.236865,
     "end_time": "2022-01-25T08:42:42.341443",
     "exception": false,
     "start_time": "2022-01-25T08:42:40.104578",
     "status": "completed"
    },
    "tags": []
   },
   "outputs": [
    {
     "data": {
      "image/png": "[encoded data removed]",
      "text/plain": [
       "<Figure size 720x432 with 1 Axes>"
      ]
     },
     "metadata": {
      "needs_background": "light"
     },
     "output_type": "display_data"
    }
   ],
   "source": [
    "plt.figure(figsize=(10, 6))\n",
    "plt.plot(test_time, test_series) #  plot test time and its corrsponding meantep as test_series\n",
    "plt.plot(test_time[:112], forecast) #  plot test time first 112 and the predicted meantep \n",
    "plt.show()"
   ]
  },
  {
   "cell_type": "code",
   "execution_count": 17,
   "id": "3835f00e",
   "metadata": {
    "execution": {
     "iopub.execute_input": "2022-01-25T08:42:46.257426Z",
     "iopub.status.busy": "2022-01-25T08:42:46.256638Z",
     "iopub.status.idle": "2022-01-25T08:42:46.260900Z",
     "shell.execute_reply": "2022-01-25T08:42:46.260134Z",
     "shell.execute_reply.started": "2022-01-25T08:31:29.809663Z"
    },
    "papermill": {
     "duration": 1.951434,
     "end_time": "2022-01-25T08:42:46.261090",
     "exception": false,
     "start_time": "2022-01-25T08:42:44.309656",
     "status": "completed"
    },
    "tags": []
   },
   "outputs": [
    {
     "name": "stdout",
     "output_type": "stream",
     "text": [
      "First 7 Predictions : \n",
      " [19.027834 17.631493 19.231213 18.915024 19.86177  15.348058 16.24744 ]\n",
      "\n",
      "Actual first 7 values: \n",
      " [15.91304348 18.5        17.11111111 18.7        18.38888889 19.31818182\n",
      " 14.70833333]\n"
     ]
    }
   ],
   "source": [
    "print(\"First 7 Predictions :\",\"\\n\", forecast[:7])\n",
    "print('')\n",
    "print('Actual first 7 values:', \"\\n\", test_series[:7])"
   ]
  },
  {
   "cell_type": "code",
   "execution_count": 18,
   "id": "cc4b7d2a",
   "metadata": {
    "execution": {
     "iopub.execute_input": "2022-01-25T08:42:50.118742Z",
     "iopub.status.busy": "2022-01-25T08:42:50.117975Z",
     "iopub.status.idle": "2022-01-25T08:42:50.124250Z",
     "shell.execute_reply": "2022-01-25T08:42:50.124818Z",
     "shell.execute_reply.started": "2022-01-25T08:31:29.820222Z"
    },
    "papermill": {
     "duration": 1.965004,
     "end_time": "2022-01-25T08:42:50.125025",
     "exception": false,
     "start_time": "2022-01-25T08:42:48.160021",
     "status": "completed"
    },
    "tags": []
   },
   "outputs": [
    {
     "name": "stdout",
     "output_type": "stream",
     "text": [
      "Mean absolute error:\n"
     ]
    },
    {
     "data": {
      "text/plain": [
       "1.3984083"
      ]
     },
     "execution_count": 18,
     "metadata": {},
     "output_type": "execute_result"
    }
   ],
   "source": [
    "print('Mean absolute error:')\n",
    "tf.keras.metrics.mean_absolute_error(test_series[:112], forecast).numpy()"
   ]
  },
  {
   "cell_type": "code",
   "execution_count": 19,
   "id": "7186068d",
   "metadata": {
    "execution": {
     "iopub.execute_input": "2022-01-25T08:42:54.096875Z",
     "iopub.status.busy": "2022-01-25T08:42:54.095818Z",
     "iopub.status.idle": "2022-01-25T08:42:54.100973Z",
     "shell.execute_reply": "2022-01-25T08:42:54.101611Z",
     "shell.execute_reply.started": "2022-01-25T08:31:29.835405Z"
    },
    "papermill": {
     "duration": 1.98231,
     "end_time": "2022-01-25T08:42:54.101781",
     "exception": false,
     "start_time": "2022-01-25T08:42:52.119471",
     "status": "completed"
    },
    "tags": []
   },
   "outputs": [
    {
     "data": {
      "text/plain": [
       "15.913043    19.027834\n",
       "18.500000    17.631493\n",
       "17.111111    19.231213\n",
       "18.700000    18.915024\n",
       "18.388889    19.861771\n",
       "               ...    \n",
       "34.000000    32.436199\n",
       "33.500000    33.097183\n",
       "34.500000    32.934883\n",
       "34.250000    32.024372\n",
       "32.900000    32.006962\n",
       "Length: 112, dtype: float32"
      ]
     },
     "execution_count": 19,
     "metadata": {},
     "output_type": "execute_result"
    }
   ],
   "source": [
    "# predictions on the left and actual values on the right \n",
    "m_p = pd.Series(forecast,test_series[:112])\n",
    "m_p"
   ]
  }
 ],
 "metadata": {
  "kernelspec": {
   "display_name": "Python 3",
   "language": "python",
   "name": "python3"
  },
  "language_info": {
   "codemirror_mode": {
    "name": "ipython",
    "version": 3
   },
   "file_extension": ".py",
   "mimetype": "text/x-python",
   "name": "python",
   "nbconvert_exporter": "python",
   "pygments_lexer": "ipython3",
   "version": "3.7.12"
  },
  "papermill": {
   "default_parameters": {},
   "duration": 514.500012,
   "end_time": "2022-01-25T08:42:59.457301",
   "environment_variables": {},
   "exception": null,
   "input_path": "__notebook__.ipynb",
   "output_path": "__notebook__.ipynb",
   "parameters": {},
   "start_time": "2022-01-25T08:34:24.957289",
   "version": "2.3.3"
  }
 },
 "nbformat": 4,
 "nbformat_minor": 5
}
