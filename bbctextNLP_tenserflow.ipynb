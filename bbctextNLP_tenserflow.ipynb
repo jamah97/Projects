{
 "cells": [
  {
   "cell_type": "markdown",
   "id": "674b52b3",
   "metadata": {},
   "source": [
    "Task: Perform Text Classification on the data"
   ]
  },
  {
   "cell_type": "markdown",
   "id": "cd909392",
   "metadata": {},
   "source": [
    "Table of content \n",
    "1. import libraries\n",
    "2. import Dataset \n",
    "3. EDA \n",
    "4. Split dataset into train and test subsets \n",
    "5. Tokenize Words\n",
    "6. Build and Evaluate model "
   ]
  },
  {
   "cell_type": "code",
   "execution_count": 1,
   "id": "b52582f0",
   "metadata": {},
   "outputs": [],
   "source": [
    "# import libraries\n",
    "import numpy as np\n",
    "import pandas as pd\n",
    "import matplotlib.pyplot as plt\n",
    "import seaborn as sns \n",
    "import tensorflow as tf\n",
    "from tensorflow import keras\n",
    "from tensorflow.keras.layers import Dense, Activation, Dropout\n",
    "from tensorflow.keras.preprocessing.text import Tokenizer\n",
    "from tensorflow.keras.preprocessing.sequence import pad_sequences\n",
    "from sklearn.preprocessing import StandardScaler, LabelEncoder\n",
    "from sklearn.model_selection import train_test_split\n",
    "import warnings\n",
    "warnings.filterwarnings('ignore')\n",
    "warnings.warn('DelftStack')\n",
    "warnings.warn('Do not show this message')"
   ]
  },
  {
   "cell_type": "code",
   "execution_count": 2,
   "id": "900a20cd",
   "metadata": {},
   "outputs": [
    {
     "data": {
      "text/html": [
       "<div>\n",
       "<style scoped>\n",
       "    .dataframe tbody tr th:only-of-type {\n",
       "        vertical-align: middle;\n",
       "    }\n",
       "\n",
       "    .dataframe tbody tr th {\n",
       "        vertical-align: top;\n",
       "    }\n",
       "\n",
       "    .dataframe thead th {\n",
       "        text-align: right;\n",
       "    }\n",
       "</style>\n",
       "<table border=\"1\" class=\"dataframe\">\n",
       "  <thead>\n",
       "    <tr style=\"text-align: right;\">\n",
       "      <th></th>\n",
       "      <th>category</th>\n",
       "      <th>text</th>\n",
       "    </tr>\n",
       "  </thead>\n",
       "  <tbody>\n",
       "    <tr>\n",
       "      <th>0</th>\n",
       "      <td>tech</td>\n",
       "      <td>tv future in the hands of viewers with home th...</td>\n",
       "    </tr>\n",
       "    <tr>\n",
       "      <th>1</th>\n",
       "      <td>business</td>\n",
       "      <td>worldcom boss  left books alone  former worldc...</td>\n",
       "    </tr>\n",
       "    <tr>\n",
       "      <th>2</th>\n",
       "      <td>sport</td>\n",
       "      <td>tigers wary of farrell  gamble  leicester say ...</td>\n",
       "    </tr>\n",
       "    <tr>\n",
       "      <th>3</th>\n",
       "      <td>sport</td>\n",
       "      <td>yeading face newcastle in fa cup premiership s...</td>\n",
       "    </tr>\n",
       "    <tr>\n",
       "      <th>4</th>\n",
       "      <td>entertainment</td>\n",
       "      <td>ocean s twelve raids box office ocean s twelve...</td>\n",
       "    </tr>\n",
       "    <tr>\n",
       "      <th>...</th>\n",
       "      <td>...</td>\n",
       "      <td>...</td>\n",
       "    </tr>\n",
       "    <tr>\n",
       "      <th>2220</th>\n",
       "      <td>business</td>\n",
       "      <td>cars pull down us retail figures us retail sal...</td>\n",
       "    </tr>\n",
       "    <tr>\n",
       "      <th>2221</th>\n",
       "      <td>politics</td>\n",
       "      <td>kilroy unveils immigration policy ex-chatshow ...</td>\n",
       "    </tr>\n",
       "    <tr>\n",
       "      <th>2222</th>\n",
       "      <td>entertainment</td>\n",
       "      <td>rem announce new glasgow concert us band rem h...</td>\n",
       "    </tr>\n",
       "    <tr>\n",
       "      <th>2223</th>\n",
       "      <td>politics</td>\n",
       "      <td>how political squabbles snowball it s become c...</td>\n",
       "    </tr>\n",
       "    <tr>\n",
       "      <th>2224</th>\n",
       "      <td>sport</td>\n",
       "      <td>souness delight at euro progress boss graeme s...</td>\n",
       "    </tr>\n",
       "  </tbody>\n",
       "</table>\n",
       "<p>2225 rows × 2 columns</p>\n",
       "</div>"
      ],
      "text/plain": [
       "           category                                               text\n",
       "0              tech  tv future in the hands of viewers with home th...\n",
       "1          business  worldcom boss  left books alone  former worldc...\n",
       "2             sport  tigers wary of farrell  gamble  leicester say ...\n",
       "3             sport  yeading face newcastle in fa cup premiership s...\n",
       "4     entertainment  ocean s twelve raids box office ocean s twelve...\n",
       "...             ...                                                ...\n",
       "2220       business  cars pull down us retail figures us retail sal...\n",
       "2221       politics  kilroy unveils immigration policy ex-chatshow ...\n",
       "2222  entertainment  rem announce new glasgow concert us band rem h...\n",
       "2223       politics  how political squabbles snowball it s become c...\n",
       "2224          sport  souness delight at euro progress boss graeme s...\n",
       "\n",
       "[2225 rows x 2 columns]"
      ]
     },
     "execution_count": 2,
     "metadata": {},
     "output_type": "execute_result"
    }
   ],
   "source": [
    "# import dataset\n",
    "topic_data = pd.read_csv('bbc-text.csv')\n",
    "topic_data"
   ]
  },
  {
   "cell_type": "code",
   "execution_count": 3,
   "id": "72c75124",
   "metadata": {},
   "outputs": [
    {
     "data": {
      "text/plain": [
       "category    object\n",
       "text        object\n",
       "dtype: object"
      ]
     },
     "execution_count": 3,
     "metadata": {},
     "output_type": "execute_result"
    }
   ],
   "source": [
    "# check data types\n",
    "topic_data.dtypes"
   ]
  },
  {
   "cell_type": "code",
   "execution_count": 4,
   "id": "4e78faa0",
   "metadata": {},
   "outputs": [
    {
     "data": {
      "text/plain": [
       "category    0\n",
       "text        0\n",
       "dtype: int64"
      ]
     },
     "execution_count": 4,
     "metadata": {},
     "output_type": "execute_result"
    }
   ],
   "source": [
    "# check for missing values\n",
    "topic_data.isnull().sum()"
   ]
  },
  {
   "cell_type": "code",
   "execution_count": 5,
   "id": "3ba47b83",
   "metadata": {},
   "outputs": [
    {
     "name": "stdout",
     "output_type": "stream",
     "text": [
      "sport            511\n",
      "business         510\n",
      "politics         417\n",
      "tech             401\n",
      "entertainment    386\n",
      "Name: category, dtype: int64\n"
     ]
    },
    {
     "data": {
      "text/plain": [
       "<AxesSubplot:xlabel='category', ylabel='count'>"
      ]
     },
     "execution_count": 5,
     "metadata": {},
     "output_type": "execute_result"
    },
    {
     "data": {
      "image/png": "[encoded data removed]",
      "text/plain": [
       "<Figure size 720x432 with 1 Axes>"
      ]
     },
     "metadata": {
      "needs_background": "light"
     },
     "output_type": "display_data"
    }
   ],
   "source": [
    "# check value count for dependent column category\n",
    "print(topic_data.category.value_counts())\n",
    "plt.figure(figsize=(10,6))\n",
    "sns.countplot(topic_data['category'])"
   ]
  },
  {
   "cell_type": "code",
   "execution_count": 6,
   "id": "e8627e87",
   "metadata": {},
   "outputs": [
    {
     "name": "stdout",
     "output_type": "stream",
     "text": [
      "Train: 1780\n",
      "Test: 445\n"
     ]
    }
   ],
   "source": [
    "# split data into train and test subsets part1 \n",
    "train_size = int(len(topic_data) * .8)\n",
    "print('Train:', train_size)\n",
    "print('Test:', (len(topic_data))- train_size)"
   ]
  },
  {
   "cell_type": "code",
   "execution_count": 7,
   "id": "14b6cf64",
   "metadata": {},
   "outputs": [],
   "source": [
    "# split data into train and test subsets part2 \n",
    "train_text = topic_data['text'][:train_size]\n",
    "train_category = topic_data['category'][:train_size]\n",
    "\n",
    "test_text = topic_data['text'][train_size:]\n",
    "test_category = topic_data['category'][train_size:]"
   ]
  },
  {
   "cell_type": "code",
   "execution_count": 8,
   "id": "9be0a4d0",
   "metadata": {},
   "outputs": [],
   "source": [
    "V_S = 10000 \n",
    "embedding_dim = 20 # embedding dimensions \n",
    "max_length = 150 # max length in each sequences\n",
    "OOV = \"<OOV>\"\n",
    "\n",
    "tokenizer = Tokenizer(oov_token=OOV, num_words = V_S) # tokenize up to 10000 most common words\n",
    "                                            # oov_token = words not on the the trianing set \n",
    "tokenizer.fit_on_texts(train_text)\n",
    "# fit tokenizer on trainingtext set \n",
    "sequences = tokenizer.texts_to_sequences(train_text)\n",
    "train_text_padded = pad_sequences(sequences, padding='post', maxlen=max_length) \n",
    "\n",
    "# tokenizer on test_text set\n",
    "test_text = tokenizer.texts_to_sequences(test_text)\n",
    "text_text_padded = pad_sequences(test_text, maxlen=max_length)"
   ]
  },
  {
   "cell_type": "code",
   "execution_count": 9,
   "id": "08ffa3ea",
   "metadata": {},
   "outputs": [],
   "source": [
    "# tokenize category column \n",
    "category = topic_data['category']\n",
    "category_tokenizer = Tokenizer()\n",
    "category_tokenizer.fit_on_texts(category)\n",
    "\n",
    "train_category1 = np.array(category_tokenizer.texts_to_sequences(train_category))\n",
    "test_category1 = np.array(category_tokenizer.texts_to_sequences(test_category))"
   ]
  },
  {
   "cell_type": "code",
   "execution_count": 11,
   "id": "048c3174",
   "metadata": {},
   "outputs": [
    {
     "name": "stdout",
     "output_type": "stream",
     "text": [
      "Model: \"sequential\"\n",
      "_________________________________________________________________\n",
      "Layer (type)                 Output Shape              Param #   \n",
      "=================================================================\n",
      "embedding (Embedding)        (None, 150, 20)           200000    \n",
      "_________________________________________________________________\n",
      "global_average_pooling1d (Gl (None, 20)                0         \n",
      "_________________________________________________________________\n",
      "dense (Dense)                (None, 24)                504       \n",
      "_________________________________________________________________\n",
      "dense_1 (Dense)              (None, 6)                 150       \n",
      "=================================================================\n",
      "Total params: 200,654\n",
      "Trainable params: 200,654\n",
      "Non-trainable params: 0\n",
      "_________________________________________________________________\n"
     ]
    },
    {
     "name": "stderr",
     "output_type": "stream",
     "text": [
      "2021-10-08 15:35:15.862793: I tensorflow/compiler/jit/xla_cpu_device.cc:41] Not creating XLA devices, tf_xla_enable_xla_devices not set\n"
     ]
    }
   ],
   "source": [
    "# Build model\n",
    "model = tf.keras.Sequential([\n",
    "    tf.keras.layers.Embedding(V_S, embedding_dim, input_length=max_length),\n",
    "    tf.keras.layers.GlobalAveragePooling1D(),\n",
    "    tf.keras.layers.Dense(24, activation='relu'),\n",
    "    tf.keras.layers.Dense(6, activation='sigmoid')\n",
    "])\n",
    "model.compile(loss='sparse_categorical_crossentropy',optimizer='adam',metrics=['accuracy'])\n",
    "model.summary()"
   ]
  },
  {
   "cell_type": "code",
   "execution_count": 12,
   "id": "7aa550d6",
   "metadata": {},
   "outputs": [
    {
     "name": "stderr",
     "output_type": "stream",
     "text": [
      "2021-10-08 15:35:16.008218: I tensorflow/compiler/mlir/mlir_graph_optimization_pass.cc:116] None of the MLIR optimization passes are enabled (registered 2)\n"
     ]
    },
    {
     "name": "stdout",
     "output_type": "stream",
     "text": [
      "Epoch 1/100\n",
      "56/56 - 2s - loss: 1.7488 - accuracy: 0.2421 - val_loss: 1.6954 - val_accuracy: 0.2382\n",
      "Epoch 2/100\n",
      "56/56 - 0s - loss: 1.6379 - accuracy: 0.2691 - val_loss: 1.5802 - val_accuracy: 0.3528\n",
      "Epoch 3/100\n",
      "56/56 - 0s - loss: 1.5040 - accuracy: 0.4343 - val_loss: 1.4418 - val_accuracy: 0.4517\n",
      "Epoch 4/100\n",
      "56/56 - 0s - loss: 1.3223 - accuracy: 0.4927 - val_loss: 1.2524 - val_accuracy: 0.5551\n",
      "Epoch 5/100\n",
      "56/56 - 0s - loss: 1.0994 - accuracy: 0.6730 - val_loss: 1.0508 - val_accuracy: 0.7011\n",
      "Epoch 6/100\n",
      "56/56 - 0s - loss: 0.8832 - accuracy: 0.7921 - val_loss: 0.8666 - val_accuracy: 0.7708\n",
      "Epoch 7/100\n",
      "56/56 - 0s - loss: 0.6919 - accuracy: 0.8528 - val_loss: 0.7165 - val_accuracy: 0.8607\n",
      "Epoch 8/100\n",
      "56/56 - 0s - loss: 0.5332 - accuracy: 0.9382 - val_loss: 0.5899 - val_accuracy: 0.8921\n",
      "Epoch 9/100\n",
      "56/56 - 0s - loss: 0.4060 - accuracy: 0.9618 - val_loss: 0.4928 - val_accuracy: 0.9101\n",
      "Epoch 10/100\n",
      "56/56 - 0s - loss: 0.3095 - accuracy: 0.9725 - val_loss: 0.4219 - val_accuracy: 0.9124\n",
      "Epoch 11/100\n",
      "56/56 - 0s - loss: 0.2360 - accuracy: 0.9792 - val_loss: 0.3698 - val_accuracy: 0.9191\n",
      "Epoch 12/100\n",
      "56/56 - 0s - loss: 0.1824 - accuracy: 0.9876 - val_loss: 0.3347 - val_accuracy: 0.9213\n",
      "Epoch 13/100\n",
      "56/56 - 0s - loss: 0.1407 - accuracy: 0.9933 - val_loss: 0.2955 - val_accuracy: 0.9326\n",
      "Epoch 14/100\n",
      "56/56 - 0s - loss: 0.1083 - accuracy: 0.9955 - val_loss: 0.2722 - val_accuracy: 0.9236\n",
      "Epoch 15/100\n",
      "56/56 - 0s - loss: 0.0834 - accuracy: 0.9972 - val_loss: 0.2549 - val_accuracy: 0.9258\n",
      "Epoch 16/100\n",
      "56/56 - 0s - loss: 0.0654 - accuracy: 0.9983 - val_loss: 0.2361 - val_accuracy: 0.9326\n",
      "Epoch 17/100\n",
      "56/56 - 0s - loss: 0.0522 - accuracy: 0.9994 - val_loss: 0.2233 - val_accuracy: 0.9371\n",
      "Epoch 18/100\n",
      "56/56 - 0s - loss: 0.0421 - accuracy: 0.9994 - val_loss: 0.2145 - val_accuracy: 0.9371\n",
      "Epoch 19/100\n",
      "56/56 - 0s - loss: 0.0346 - accuracy: 0.9994 - val_loss: 0.2060 - val_accuracy: 0.9416\n",
      "Epoch 20/100\n",
      "56/56 - 0s - loss: 0.0287 - accuracy: 0.9994 - val_loss: 0.1999 - val_accuracy: 0.9416\n",
      "Epoch 21/100\n",
      "56/56 - 0s - loss: 0.0242 - accuracy: 1.0000 - val_loss: 0.1959 - val_accuracy: 0.9393\n",
      "Epoch 22/100\n",
      "56/56 - 0s - loss: 0.0205 - accuracy: 1.0000 - val_loss: 0.1890 - val_accuracy: 0.9416\n",
      "Epoch 23/100\n",
      "56/56 - 0s - loss: 0.0176 - accuracy: 1.0000 - val_loss: 0.1860 - val_accuracy: 0.9393\n",
      "Epoch 24/100\n",
      "56/56 - 0s - loss: 0.0152 - accuracy: 1.0000 - val_loss: 0.1827 - val_accuracy: 0.9393\n",
      "Epoch 25/100\n",
      "56/56 - 0s - loss: 0.0132 - accuracy: 1.0000 - val_loss: 0.1804 - val_accuracy: 0.9393\n",
      "Epoch 26/100\n",
      "56/56 - 0s - loss: 0.0116 - accuracy: 1.0000 - val_loss: 0.1769 - val_accuracy: 0.9393\n",
      "Epoch 27/100\n",
      "56/56 - 0s - loss: 0.0103 - accuracy: 1.0000 - val_loss: 0.1747 - val_accuracy: 0.9393\n",
      "Epoch 28/100\n",
      "56/56 - 0s - loss: 0.0091 - accuracy: 1.0000 - val_loss: 0.1737 - val_accuracy: 0.9393\n",
      "Epoch 29/100\n",
      "56/56 - 0s - loss: 0.0082 - accuracy: 1.0000 - val_loss: 0.1723 - val_accuracy: 0.9393\n",
      "Epoch 30/100\n",
      "56/56 - 0s - loss: 0.0073 - accuracy: 1.0000 - val_loss: 0.1709 - val_accuracy: 0.9416\n",
      "Epoch 31/100\n",
      "56/56 - 0s - loss: 0.0066 - accuracy: 1.0000 - val_loss: 0.1694 - val_accuracy: 0.9416\n",
      "Epoch 32/100\n",
      "56/56 - 0s - loss: 0.0060 - accuracy: 1.0000 - val_loss: 0.1675 - val_accuracy: 0.9416\n",
      "Epoch 33/100\n",
      "56/56 - 0s - loss: 0.0055 - accuracy: 1.0000 - val_loss: 0.1661 - val_accuracy: 0.9416\n",
      "Epoch 34/100\n",
      "56/56 - 0s - loss: 0.0050 - accuracy: 1.0000 - val_loss: 0.1655 - val_accuracy: 0.9416\n",
      "Epoch 35/100\n",
      "56/56 - 0s - loss: 0.0046 - accuracy: 1.0000 - val_loss: 0.1646 - val_accuracy: 0.9416\n",
      "Epoch 36/100\n",
      "56/56 - 0s - loss: 0.0042 - accuracy: 1.0000 - val_loss: 0.1638 - val_accuracy: 0.9416\n",
      "Epoch 37/100\n",
      "56/56 - 0s - loss: 0.0039 - accuracy: 1.0000 - val_loss: 0.1623 - val_accuracy: 0.9416\n",
      "Epoch 38/100\n",
      "56/56 - 0s - loss: 0.0036 - accuracy: 1.0000 - val_loss: 0.1623 - val_accuracy: 0.9416\n",
      "Epoch 39/100\n",
      "56/56 - 0s - loss: 0.0033 - accuracy: 1.0000 - val_loss: 0.1614 - val_accuracy: 0.9416\n",
      "Epoch 40/100\n",
      "56/56 - 0s - loss: 0.0030 - accuracy: 1.0000 - val_loss: 0.1610 - val_accuracy: 0.9416\n",
      "Epoch 41/100\n",
      "56/56 - 0s - loss: 0.0028 - accuracy: 1.0000 - val_loss: 0.1604 - val_accuracy: 0.9416\n",
      "Epoch 42/100\n",
      "56/56 - 0s - loss: 0.0026 - accuracy: 1.0000 - val_loss: 0.1598 - val_accuracy: 0.9416\n",
      "Epoch 43/100\n",
      "56/56 - 0s - loss: 0.0025 - accuracy: 1.0000 - val_loss: 0.1594 - val_accuracy: 0.9416\n",
      "Epoch 44/100\n",
      "56/56 - 0s - loss: 0.0023 - accuracy: 1.0000 - val_loss: 0.1589 - val_accuracy: 0.9416\n",
      "Epoch 45/100\n",
      "56/56 - 0s - loss: 0.0021 - accuracy: 1.0000 - val_loss: 0.1586 - val_accuracy: 0.9416\n",
      "Epoch 46/100\n",
      "56/56 - 0s - loss: 0.0020 - accuracy: 1.0000 - val_loss: 0.1581 - val_accuracy: 0.9416\n",
      "Epoch 47/100\n",
      "56/56 - 0s - loss: 0.0019 - accuracy: 1.0000 - val_loss: 0.1581 - val_accuracy: 0.9416\n",
      "Epoch 48/100\n",
      "56/56 - 0s - loss: 0.0018 - accuracy: 1.0000 - val_loss: 0.1574 - val_accuracy: 0.9438\n",
      "Epoch 49/100\n",
      "56/56 - 0s - loss: 0.0017 - accuracy: 1.0000 - val_loss: 0.1573 - val_accuracy: 0.9393\n",
      "Epoch 50/100\n",
      "56/56 - 0s - loss: 0.0016 - accuracy: 1.0000 - val_loss: 0.1570 - val_accuracy: 0.9438\n",
      "Epoch 51/100\n",
      "56/56 - 1s - loss: 0.0015 - accuracy: 1.0000 - val_loss: 0.1567 - val_accuracy: 0.9416\n",
      "Epoch 52/100\n",
      "56/56 - 0s - loss: 0.0014 - accuracy: 1.0000 - val_loss: 0.1563 - val_accuracy: 0.9416\n",
      "Epoch 53/100\n",
      "56/56 - 0s - loss: 0.0013 - accuracy: 1.0000 - val_loss: 0.1560 - val_accuracy: 0.9416\n",
      "Epoch 54/100\n",
      "56/56 - 0s - loss: 0.0012 - accuracy: 1.0000 - val_loss: 0.1562 - val_accuracy: 0.9438\n",
      "Epoch 55/100\n",
      "56/56 - 0s - loss: 0.0012 - accuracy: 1.0000 - val_loss: 0.1561 - val_accuracy: 0.9438\n",
      "Epoch 56/100\n",
      "56/56 - 0s - loss: 0.0011 - accuracy: 1.0000 - val_loss: 0.1555 - val_accuracy: 0.9438\n",
      "Epoch 57/100\n",
      "56/56 - 0s - loss: 0.0011 - accuracy: 1.0000 - val_loss: 0.1555 - val_accuracy: 0.9438\n",
      "Epoch 58/100\n",
      "56/56 - 0s - loss: 9.9664e-04 - accuracy: 1.0000 - val_loss: 0.1554 - val_accuracy: 0.9438\n",
      "Epoch 59/100\n",
      "56/56 - 0s - loss: 9.4452e-04 - accuracy: 1.0000 - val_loss: 0.1551 - val_accuracy: 0.9438\n",
      "Epoch 60/100\n",
      "56/56 - 0s - loss: 8.9709e-04 - accuracy: 1.0000 - val_loss: 0.1551 - val_accuracy: 0.9438\n",
      "Epoch 61/100\n",
      "56/56 - 0s - loss: 8.5295e-04 - accuracy: 1.0000 - val_loss: 0.1548 - val_accuracy: 0.9438\n",
      "Epoch 62/100\n",
      "56/56 - 1s - loss: 8.0985e-04 - accuracy: 1.0000 - val_loss: 0.1549 - val_accuracy: 0.9438\n",
      "Epoch 63/100\n",
      "56/56 - 0s - loss: 7.7090e-04 - accuracy: 1.0000 - val_loss: 0.1548 - val_accuracy: 0.9438\n",
      "Epoch 64/100\n",
      "56/56 - 0s - loss: 7.3465e-04 - accuracy: 1.0000 - val_loss: 0.1546 - val_accuracy: 0.9438\n",
      "Epoch 65/100\n",
      "56/56 - 0s - loss: 6.9846e-04 - accuracy: 1.0000 - val_loss: 0.1545 - val_accuracy: 0.9438\n",
      "Epoch 66/100\n",
      "56/56 - 0s - loss: 6.6589e-04 - accuracy: 1.0000 - val_loss: 0.1543 - val_accuracy: 0.9438\n",
      "Epoch 67/100\n",
      "56/56 - 0s - loss: 6.3440e-04 - accuracy: 1.0000 - val_loss: 0.1546 - val_accuracy: 0.9438\n",
      "Epoch 68/100\n",
      "56/56 - 0s - loss: 6.0553e-04 - accuracy: 1.0000 - val_loss: 0.1545 - val_accuracy: 0.9438\n",
      "Epoch 69/100\n",
      "56/56 - 0s - loss: 5.7770e-04 - accuracy: 1.0000 - val_loss: 0.1543 - val_accuracy: 0.9438\n",
      "Epoch 70/100\n",
      "56/56 - 0s - loss: 5.5172e-04 - accuracy: 1.0000 - val_loss: 0.1542 - val_accuracy: 0.9438\n",
      "Epoch 71/100\n",
      "56/56 - 0s - loss: 5.2667e-04 - accuracy: 1.0000 - val_loss: 0.1542 - val_accuracy: 0.9438\n",
      "Epoch 72/100\n",
      "56/56 - 0s - loss: 5.0307e-04 - accuracy: 1.0000 - val_loss: 0.1542 - val_accuracy: 0.9438\n",
      "Epoch 73/100\n",
      "56/56 - 0s - loss: 4.8098e-04 - accuracy: 1.0000 - val_loss: 0.1544 - val_accuracy: 0.9438\n",
      "Epoch 74/100\n",
      "56/56 - 0s - loss: 4.6022e-04 - accuracy: 1.0000 - val_loss: 0.1542 - val_accuracy: 0.9438\n",
      "Epoch 75/100\n",
      "56/56 - 0s - loss: 4.4061e-04 - accuracy: 1.0000 - val_loss: 0.1543 - val_accuracy: 0.9438\n",
      "Epoch 76/100\n",
      "56/56 - 0s - loss: 4.2091e-04 - accuracy: 1.0000 - val_loss: 0.1542 - val_accuracy: 0.9438\n",
      "Epoch 77/100\n",
      "56/56 - 0s - loss: 4.0312e-04 - accuracy: 1.0000 - val_loss: 0.1542 - val_accuracy: 0.9438\n",
      "Epoch 78/100\n",
      "56/56 - 0s - loss: 3.8633e-04 - accuracy: 1.0000 - val_loss: 0.1542 - val_accuracy: 0.9438\n",
      "Epoch 79/100\n",
      "56/56 - 0s - loss: 3.6961e-04 - accuracy: 1.0000 - val_loss: 0.1540 - val_accuracy: 0.9438\n",
      "Epoch 80/100\n",
      "56/56 - 0s - loss: 3.5412e-04 - accuracy: 1.0000 - val_loss: 0.1543 - val_accuracy: 0.9438\n",
      "Epoch 81/100\n",
      "56/56 - 0s - loss: 3.3967e-04 - accuracy: 1.0000 - val_loss: 0.1542 - val_accuracy: 0.9438\n",
      "Epoch 82/100\n"
     ]
    },
    {
     "name": "stdout",
     "output_type": "stream",
     "text": [
      "56/56 - 0s - loss: 3.2566e-04 - accuracy: 1.0000 - val_loss: 0.1542 - val_accuracy: 0.9438\n",
      "Epoch 83/100\n",
      "56/56 - 0s - loss: 3.1230e-04 - accuracy: 1.0000 - val_loss: 0.1541 - val_accuracy: 0.9438\n",
      "Epoch 84/100\n",
      "56/56 - 0s - loss: 2.9959e-04 - accuracy: 1.0000 - val_loss: 0.1543 - val_accuracy: 0.9438\n",
      "Epoch 85/100\n",
      "56/56 - 0s - loss: 2.8748e-04 - accuracy: 1.0000 - val_loss: 0.1543 - val_accuracy: 0.9438\n",
      "Epoch 86/100\n",
      "56/56 - 0s - loss: 2.7594e-04 - accuracy: 1.0000 - val_loss: 0.1543 - val_accuracy: 0.9461\n",
      "Epoch 87/100\n",
      "56/56 - 0s - loss: 2.6502e-04 - accuracy: 1.0000 - val_loss: 0.1542 - val_accuracy: 0.9461\n",
      "Epoch 88/100\n",
      "56/56 - 0s - loss: 2.5450e-04 - accuracy: 1.0000 - val_loss: 0.1545 - val_accuracy: 0.9438\n",
      "Epoch 89/100\n",
      "56/56 - 0s - loss: 2.4431e-04 - accuracy: 1.0000 - val_loss: 0.1547 - val_accuracy: 0.9461\n",
      "Epoch 90/100\n",
      "56/56 - 0s - loss: 2.3479e-04 - accuracy: 1.0000 - val_loss: 0.1546 - val_accuracy: 0.9461\n",
      "Epoch 91/100\n",
      "56/56 - 0s - loss: 2.2560e-04 - accuracy: 1.0000 - val_loss: 0.1545 - val_accuracy: 0.9461\n",
      "Epoch 92/100\n",
      "56/56 - 0s - loss: 2.1691e-04 - accuracy: 1.0000 - val_loss: 0.1546 - val_accuracy: 0.9461\n",
      "Epoch 93/100\n",
      "56/56 - 0s - loss: 2.0847e-04 - accuracy: 1.0000 - val_loss: 0.1549 - val_accuracy: 0.9461\n",
      "Epoch 94/100\n",
      "56/56 - 0s - loss: 2.0046e-04 - accuracy: 1.0000 - val_loss: 0.1546 - val_accuracy: 0.9461\n",
      "Epoch 95/100\n",
      "56/56 - 0s - loss: 1.9280e-04 - accuracy: 1.0000 - val_loss: 0.1547 - val_accuracy: 0.9461\n",
      "Epoch 96/100\n",
      "56/56 - 0s - loss: 1.8527e-04 - accuracy: 1.0000 - val_loss: 0.1549 - val_accuracy: 0.9461\n",
      "Epoch 97/100\n",
      "56/56 - 0s - loss: 1.7830e-04 - accuracy: 1.0000 - val_loss: 0.1551 - val_accuracy: 0.9461\n",
      "Epoch 98/100\n",
      "56/56 - 0s - loss: 1.7151e-04 - accuracy: 1.0000 - val_loss: 0.1551 - val_accuracy: 0.9461\n",
      "Epoch 99/100\n",
      "56/56 - 0s - loss: 1.6513e-04 - accuracy: 1.0000 - val_loss: 0.1551 - val_accuracy: 0.9461\n",
      "Epoch 100/100\n",
      "56/56 - 0s - loss: 1.5895e-04 - accuracy: 1.0000 - val_loss: 0.1551 - val_accuracy: 0.9461\n"
     ]
    }
   ],
   "source": [
    "# train model, validate using test set \n",
    "num_epochs = 100\n",
    "batch = 32\n",
    "history = model.fit(train_text_padded, train_category1, epochs=num_epochs, batch_size = batch, \n",
    "                verbose=2, validation_data=(text_text_padded, test_category1))"
   ]
  },
  {
   "cell_type": "code",
   "execution_count": 13,
   "id": "178d0a37",
   "metadata": {},
   "outputs": [
    {
     "data": {
      "image/png": "[encoded data removed]",
      "text/plain": [
       "<Figure size 432x288 with 1 Axes>"
      ]
     },
     "metadata": {
      "needs_background": "light"
     },
     "output_type": "display_data"
    },
    {
     "data": {
      "image/png": "[encoded data removed]",
      "text/plain": [
       "<Figure size 432x288 with 1 Axes>"
      ]
     },
     "metadata": {
      "needs_background": "light"
     },
     "output_type": "display_data"
    }
   ],
   "source": [
    "# graph accuracy and loss\n",
    "def plot_graphs(history, string):\n",
    "  plt.plot(history.history[string])\n",
    "  plt.plot(history.history['val_'+string])\n",
    "  plt.xlabel(\"Epochs\")\n",
    "  plt.ylabel(string)\n",
    "  plt.legend([string, 'val_'+string])\n",
    "  plt.show()\n",
    "  \n",
    "plot_graphs(history, \"accuracy\")\n",
    "plot_graphs(history, \"loss\")"
   ]
  }
 ],
 "metadata": {
  "kernelspec": {
   "display_name": "Python 3.9.5 (tensorflow)",
   "language": "python",
   "name": "tensorflow"
  },
  "language_info": {
   "codemirror_mode": {
    "name": "ipython",
    "version": 3
   },
   "file_extension": ".py",
   "mimetype": "text/x-python",
   "name": "python",
   "nbconvert_exporter": "python",
   "pygments_lexer": "ipython3",
   "version": "3.8.11"
  }
 },
 "nbformat": 4,
 "nbformat_minor": 5
}
