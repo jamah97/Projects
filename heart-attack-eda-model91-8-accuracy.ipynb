{
 "cells": [
  {
   "cell_type": "code",
   "execution_count": 1,
   "id": "62664677",
   "metadata": {
    "_cell_guid": "b1076dfc-b9ad-4769-8c92-a6c4dae69d19",
    "_uuid": "8f2839f25d086af736a60e9eeb907d3b93b6e0e5",
    "execution": {
     "iopub.execute_input": "2022-01-12T20:21:22.489999Z",
     "iopub.status.busy": "2022-01-12T20:21:22.488752Z",
     "iopub.status.idle": "2022-01-12T20:21:22.513111Z",
     "shell.execute_reply": "2022-01-12T20:21:22.512420Z",
     "shell.execute_reply.started": "2022-01-12T20:19:46.720953Z"
    },
    "papermill": {
     "duration": 0.055932,
     "end_time": "2022-01-12T20:21:22.513309",
     "exception": false,
     "start_time": "2022-01-12T20:21:22.457377",
     "status": "completed"
    },
    "tags": []
   },
   "outputs": [
    {
     "name": "stdout",
     "output_type": "stream",
     "text": [
      "/kaggle/input/heart-attack-analysis-prediction-dataset/o2Saturation.csv\n",
      "/kaggle/input/heart-attack-analysis-prediction-dataset/heart.csv\n"
     ]
    }
   ],
   "source": [
    "# This Python 3 environment comes with many helpful analytics libraries installed\n",
    "# It is defined by the kaggle/python Docker image: https://github.com/kaggle/docker-python\n",
    "# For example, here's several helpful packages to load\n",
    "\n",
    "import numpy as np # linear algebra\n",
    "import pandas as pd # data processing, CSV file I/O (e.g. pd.read_csv)\n",
    "\n",
    "# Input data files are available in the read-only \"../input/\" directory\n",
    "# For example, running this (by clicking run or pressing Shift+Enter) will list all files under the input directory\n",
    "\n",
    "import os\n",
    "for dirname, _, filenames in os.walk('/kaggle/input'):\n",
    "    for filename in filenames:\n",
    "        print(os.path.join(dirname, filename))\n",
    "\n",
    "# You can write up to 20GB to the current directory (/kaggle/working/) that gets preserved as output when you create a version using \"Save & Run All\" \n",
    "# You can also write temporary files to /kaggle/temp/, but they won't be saved outside of the current session"
   ]
  },
  {
   "cell_type": "markdown",
   "id": "bda3e972",
   "metadata": {
    "papermill": {
     "duration": 0.027117,
     "end_time": "2022-01-12T20:21:22.568682",
     "exception": false,
     "start_time": "2022-01-12T20:21:22.541565",
     "status": "completed"
    },
    "tags": []
   },
   "source": []
  },
  {
   "cell_type": "markdown",
   "id": "599bad87",
   "metadata": {
    "papermill": {
     "duration": 0.026643,
     "end_time": "2022-01-12T20:21:22.622678",
     "exception": false,
     "start_time": "2022-01-12T20:21:22.596035",
     "status": "completed"
    },
    "tags": []
   },
   "source": [
    "We will use the heart attack dataset containing following parameters, to predict the chances of heart attack in patients:\n",
    "\n",
    "Age : Age of the patient\n",
    "\n",
    "Sex : Sex of the patient\n",
    "\n",
    "exang: exercise induced angina (1 = yes; 0 = no)\n",
    "\n",
    "caa: number of major vessels (0-3)\n",
    "\n",
    "cp : Chest Pain type chest pain type\n",
    "Value 1: typical angina\n",
    "Value 2: atypical angina\n",
    "Value 3: non-anginal pain\n",
    "Value 4: asymptomatic\n",
    "\n",
    "trtbps : resting blood pressure (in mm Hg)\n",
    "\n",
    "chol : cholestoral in mg/dl fetched via BMI sensor\n",
    "\n",
    "fbs : (fasting blood sugar > 120 mg/dl) (1 = true; 0 = false)\n",
    "\n",
    "rest_ecg : resting electrocardiographic results\n",
    "Value 0: normal\n",
    "Value 1: having ST-T wave abnormality (T wave inversions and/or ST elevation or depression of > 0.05 mV)\n",
    "Value 2: showing probable or definite left ventricular hypertrophy by Estes' criteria\n",
    "\n",
    "thalach : maximum heart rate achieved\n",
    "\n",
    "target : 0= less chance of heart attack 1= more chance of heart attack"
   ]
  },
  {
   "cell_type": "code",
   "execution_count": 2,
   "id": "64e846c3",
   "metadata": {
    "execution": {
     "iopub.execute_input": "2022-01-12T20:21:22.683366Z",
     "iopub.status.busy": "2022-01-12T20:21:22.682573Z",
     "iopub.status.idle": "2022-01-12T20:21:29.518754Z",
     "shell.execute_reply": "2022-01-12T20:21:29.518179Z",
     "shell.execute_reply.started": "2022-01-12T20:19:46.751134Z"
    },
    "papermill": {
     "duration": 6.869098,
     "end_time": "2022-01-12T20:21:29.518920",
     "exception": false,
     "start_time": "2022-01-12T20:21:22.649822",
     "status": "completed"
    },
    "tags": []
   },
   "outputs": [],
   "source": [
    "#import the libraries\n",
    "import pandas as pd\n",
    "import numpy as np\n",
    "import matplotlib.pyplot as plt\n",
    "from matplotlib import pyplot\n",
    "import seaborn as sns\n",
    "import tensorflow as tf\n",
    "from tensorflow import keras\n",
    "from sklearn.preprocessing import StandardScaler\n",
    "from sklearn.model_selection import train_test_split"
   ]
  },
  {
   "cell_type": "code",
   "execution_count": 3,
   "id": "d23dccc0",
   "metadata": {
    "execution": {
     "iopub.execute_input": "2022-01-12T20:21:29.579617Z",
     "iopub.status.busy": "2022-01-12T20:21:29.578825Z",
     "iopub.status.idle": "2022-01-12T20:21:29.613453Z",
     "shell.execute_reply": "2022-01-12T20:21:29.613979Z",
     "shell.execute_reply.started": "2022-01-12T20:19:48.880737Z"
    },
    "papermill": {
     "duration": 0.067001,
     "end_time": "2022-01-12T20:21:29.614185",
     "exception": false,
     "start_time": "2022-01-12T20:21:29.547184",
     "status": "completed"
    },
    "tags": []
   },
   "outputs": [
    {
     "data": {
      "text/html": [
       "<div>\n",
       "<style scoped>\n",
       "    .dataframe tbody tr th:only-of-type {\n",
       "        vertical-align: middle;\n",
       "    }\n",
       "\n",
       "    .dataframe tbody tr th {\n",
       "        vertical-align: top;\n",
       "    }\n",
       "\n",
       "    .dataframe thead th {\n",
       "        text-align: right;\n",
       "    }\n",
       "</style>\n",
       "<table border=\"1\" class=\"dataframe\">\n",
       "  <thead>\n",
       "    <tr style=\"text-align: right;\">\n",
       "      <th></th>\n",
       "      <th>age</th>\n",
       "      <th>sex</th>\n",
       "      <th>cp</th>\n",
       "      <th>trtbps</th>\n",
       "      <th>chol</th>\n",
       "      <th>fbs</th>\n",
       "      <th>restecg</th>\n",
       "      <th>thalachh</th>\n",
       "      <th>exng</th>\n",
       "      <th>oldpeak</th>\n",
       "      <th>slp</th>\n",
       "      <th>caa</th>\n",
       "      <th>thall</th>\n",
       "      <th>output</th>\n",
       "    </tr>\n",
       "  </thead>\n",
       "  <tbody>\n",
       "    <tr>\n",
       "      <th>0</th>\n",
       "      <td>63</td>\n",
       "      <td>1</td>\n",
       "      <td>3</td>\n",
       "      <td>145</td>\n",
       "      <td>233</td>\n",
       "      <td>1</td>\n",
       "      <td>0</td>\n",
       "      <td>150</td>\n",
       "      <td>0</td>\n",
       "      <td>2.3</td>\n",
       "      <td>0</td>\n",
       "      <td>0</td>\n",
       "      <td>1</td>\n",
       "      <td>1</td>\n",
       "    </tr>\n",
       "    <tr>\n",
       "      <th>1</th>\n",
       "      <td>37</td>\n",
       "      <td>1</td>\n",
       "      <td>2</td>\n",
       "      <td>130</td>\n",
       "      <td>250</td>\n",
       "      <td>0</td>\n",
       "      <td>1</td>\n",
       "      <td>187</td>\n",
       "      <td>0</td>\n",
       "      <td>3.5</td>\n",
       "      <td>0</td>\n",
       "      <td>0</td>\n",
       "      <td>2</td>\n",
       "      <td>1</td>\n",
       "    </tr>\n",
       "    <tr>\n",
       "      <th>2</th>\n",
       "      <td>41</td>\n",
       "      <td>0</td>\n",
       "      <td>1</td>\n",
       "      <td>130</td>\n",
       "      <td>204</td>\n",
       "      <td>0</td>\n",
       "      <td>0</td>\n",
       "      <td>172</td>\n",
       "      <td>0</td>\n",
       "      <td>1.4</td>\n",
       "      <td>2</td>\n",
       "      <td>0</td>\n",
       "      <td>2</td>\n",
       "      <td>1</td>\n",
       "    </tr>\n",
       "    <tr>\n",
       "      <th>3</th>\n",
       "      <td>56</td>\n",
       "      <td>1</td>\n",
       "      <td>1</td>\n",
       "      <td>120</td>\n",
       "      <td>236</td>\n",
       "      <td>0</td>\n",
       "      <td>1</td>\n",
       "      <td>178</td>\n",
       "      <td>0</td>\n",
       "      <td>0.8</td>\n",
       "      <td>2</td>\n",
       "      <td>0</td>\n",
       "      <td>2</td>\n",
       "      <td>1</td>\n",
       "    </tr>\n",
       "    <tr>\n",
       "      <th>4</th>\n",
       "      <td>57</td>\n",
       "      <td>0</td>\n",
       "      <td>0</td>\n",
       "      <td>120</td>\n",
       "      <td>354</td>\n",
       "      <td>0</td>\n",
       "      <td>1</td>\n",
       "      <td>163</td>\n",
       "      <td>1</td>\n",
       "      <td>0.6</td>\n",
       "      <td>2</td>\n",
       "      <td>0</td>\n",
       "      <td>2</td>\n",
       "      <td>1</td>\n",
       "    </tr>\n",
       "  </tbody>\n",
       "</table>\n",
       "</div>"
      ],
      "text/plain": [
       "   age  sex  cp  trtbps  chol  fbs  restecg  thalachh  exng  oldpeak  slp  \\\n",
       "0   63    1   3     145   233    1        0       150     0      2.3    0   \n",
       "1   37    1   2     130   250    0        1       187     0      3.5    0   \n",
       "2   41    0   1     130   204    0        0       172     0      1.4    2   \n",
       "3   56    1   1     120   236    0        1       178     0      0.8    2   \n",
       "4   57    0   0     120   354    0        1       163     1      0.6    2   \n",
       "\n",
       "   caa  thall  output  \n",
       "0    0      1       1  \n",
       "1    0      2       1  \n",
       "2    0      2       1  \n",
       "3    0      2       1  \n",
       "4    0      2       1  "
      ]
     },
     "execution_count": 3,
     "metadata": {},
     "output_type": "execute_result"
    }
   ],
   "source": [
    "heart_data = pd.read_csv('../input/heart-attack-analysis-prediction-dataset/heart.csv')\n",
    "heart_data.head()"
   ]
  },
  {
   "cell_type": "code",
   "execution_count": 4,
   "id": "bbbfae45",
   "metadata": {
    "execution": {
     "iopub.execute_input": "2022-01-12T20:21:29.674130Z",
     "iopub.status.busy": "2022-01-12T20:21:29.673448Z",
     "iopub.status.idle": "2022-01-12T20:21:29.682959Z",
     "shell.execute_reply": "2022-01-12T20:21:29.682392Z",
     "shell.execute_reply.started": "2022-01-12T20:19:48.907083Z"
    },
    "papermill": {
     "duration": 0.040898,
     "end_time": "2022-01-12T20:21:29.683144",
     "exception": false,
     "start_time": "2022-01-12T20:21:29.642246",
     "status": "completed"
    },
    "tags": []
   },
   "outputs": [
    {
     "data": {
      "text/plain": [
       "age           int64\n",
       "sex           int64\n",
       "cp            int64\n",
       "trtbps        int64\n",
       "chol          int64\n",
       "fbs           int64\n",
       "restecg       int64\n",
       "thalachh      int64\n",
       "exng          int64\n",
       "oldpeak     float64\n",
       "slp           int64\n",
       "caa           int64\n",
       "thall         int64\n",
       "output        int64\n",
       "dtype: object"
      ]
     },
     "execution_count": 4,
     "metadata": {},
     "output_type": "execute_result"
    }
   ],
   "source": [
    "#check datatypes\n",
    "heart_data.dtypes"
   ]
  },
  {
   "cell_type": "code",
   "execution_count": 5,
   "id": "7522b3e1",
   "metadata": {
    "execution": {
     "iopub.execute_input": "2022-01-12T20:21:29.743832Z",
     "iopub.status.busy": "2022-01-12T20:21:29.743190Z",
     "iopub.status.idle": "2022-01-12T20:21:29.750318Z",
     "shell.execute_reply": "2022-01-12T20:21:29.750930Z",
     "shell.execute_reply.started": "2022-01-12T20:19:48.915406Z"
    },
    "papermill": {
     "duration": 0.038437,
     "end_time": "2022-01-12T20:21:29.751125",
     "exception": false,
     "start_time": "2022-01-12T20:21:29.712688",
     "status": "completed"
    },
    "tags": []
   },
   "outputs": [
    {
     "data": {
      "text/plain": [
       "age         0\n",
       "sex         0\n",
       "cp          0\n",
       "trtbps      0\n",
       "chol        0\n",
       "fbs         0\n",
       "restecg     0\n",
       "thalachh    0\n",
       "exng        0\n",
       "oldpeak     0\n",
       "slp         0\n",
       "caa         0\n",
       "thall       0\n",
       "output      0\n",
       "dtype: int64"
      ]
     },
     "execution_count": 5,
     "metadata": {},
     "output_type": "execute_result"
    }
   ],
   "source": [
    "#check for missing values \n",
    "heart_data.isnull().sum()"
   ]
  },
  {
   "cell_type": "markdown",
   "id": "b675e729",
   "metadata": {
    "papermill": {
     "duration": 0.02821,
     "end_time": "2022-01-12T20:21:29.807531",
     "exception": false,
     "start_time": "2022-01-12T20:21:29.779321",
     "status": "completed"
    },
    "tags": []
   },
   "source": [
    "# EDA"
   ]
  },
  {
   "cell_type": "code",
   "execution_count": 6,
   "id": "7b14dece",
   "metadata": {
    "execution": {
     "iopub.execute_input": "2022-01-12T20:21:29.866643Z",
     "iopub.status.busy": "2022-01-12T20:21:29.865990Z",
     "iopub.status.idle": "2022-01-12T20:21:30.109325Z",
     "shell.execute_reply": "2022-01-12T20:21:30.108409Z",
     "shell.execute_reply.started": "2022-01-12T20:19:48.940431Z"
    },
    "papermill": {
     "duration": 0.274081,
     "end_time": "2022-01-12T20:21:30.109562",
     "exception": false,
     "start_time": "2022-01-12T20:21:29.835481",
     "status": "completed"
    },
    "tags": []
   },
   "outputs": [
    {
     "name": "stdout",
     "output_type": "stream",
     "text": [
      "   output\n",
      "1     165\n",
      "0     138\n"
     ]
    },
    {
     "data": {
      "image/png": "[encoded data removed]",
      "text/plain": [
       "<Figure size 1080x432 with 1 Axes>"
      ]
     },
     "metadata": {},
     "output_type": "display_data"
    }
   ],
   "source": [
    "# Output distribution\n",
    "outcome = heart_data['output'].value_counts().to_frame()\n",
    "print(outcome)\n",
    "outcome['output'].plot(kind='pie',\n",
    "                            figsize=(15, 6),\n",
    "                            autopct='%1.1f%%', \n",
    "                            startangle=90, \n",
    "                            labels=None,         \n",
    "                            pctdistance=1.12,\n",
    "                            )\n",
    "\n",
    "plt.title('Outcome Distribution', y=1.2) \n",
    "plt.axis('equal') \n",
    "plt.legend(labels=outcome.index, loc='upper left') \n",
    "plt.show()"
   ]
  },
  {
   "cell_type": "code",
   "execution_count": 7,
   "id": "74fd4acb",
   "metadata": {
    "execution": {
     "iopub.execute_input": "2022-01-12T20:21:30.176665Z",
     "iopub.status.busy": "2022-01-12T20:21:30.176006Z",
     "iopub.status.idle": "2022-01-12T20:21:30.206201Z",
     "shell.execute_reply": "2022-01-12T20:21:30.205303Z",
     "shell.execute_reply.started": "2022-01-12T20:19:49.138458Z"
    },
    "papermill": {
     "duration": 0.062539,
     "end_time": "2022-01-12T20:21:30.206365",
     "exception": false,
     "start_time": "2022-01-12T20:21:30.143826",
     "status": "completed"
    },
    "tags": []
   },
   "outputs": [
    {
     "data": {
      "text/html": [
       "<div>\n",
       "<style scoped>\n",
       "    .dataframe tbody tr th:only-of-type {\n",
       "        vertical-align: middle;\n",
       "    }\n",
       "\n",
       "    .dataframe tbody tr th {\n",
       "        vertical-align: top;\n",
       "    }\n",
       "\n",
       "    .dataframe thead th {\n",
       "        text-align: right;\n",
       "    }\n",
       "</style>\n",
       "<table border=\"1\" class=\"dataframe\">\n",
       "  <thead>\n",
       "    <tr style=\"text-align: right;\">\n",
       "      <th></th>\n",
       "      <th>age</th>\n",
       "      <th>sex</th>\n",
       "      <th>cp</th>\n",
       "      <th>trtbps</th>\n",
       "      <th>chol</th>\n",
       "      <th>fbs</th>\n",
       "      <th>restecg</th>\n",
       "      <th>thalachh</th>\n",
       "      <th>exng</th>\n",
       "      <th>oldpeak</th>\n",
       "      <th>slp</th>\n",
       "      <th>caa</th>\n",
       "      <th>thall</th>\n",
       "      <th>output</th>\n",
       "      <th>AgeG</th>\n",
       "    </tr>\n",
       "  </thead>\n",
       "  <tbody>\n",
       "    <tr>\n",
       "      <th>0</th>\n",
       "      <td>63</td>\n",
       "      <td>1</td>\n",
       "      <td>3</td>\n",
       "      <td>145</td>\n",
       "      <td>233</td>\n",
       "      <td>1</td>\n",
       "      <td>0</td>\n",
       "      <td>150</td>\n",
       "      <td>0</td>\n",
       "      <td>2.3</td>\n",
       "      <td>0</td>\n",
       "      <td>0</td>\n",
       "      <td>1</td>\n",
       "      <td>1</td>\n",
       "      <td>60's</td>\n",
       "    </tr>\n",
       "    <tr>\n",
       "      <th>1</th>\n",
       "      <td>37</td>\n",
       "      <td>1</td>\n",
       "      <td>2</td>\n",
       "      <td>130</td>\n",
       "      <td>250</td>\n",
       "      <td>0</td>\n",
       "      <td>1</td>\n",
       "      <td>187</td>\n",
       "      <td>0</td>\n",
       "      <td>3.5</td>\n",
       "      <td>0</td>\n",
       "      <td>0</td>\n",
       "      <td>2</td>\n",
       "      <td>1</td>\n",
       "      <td>30's</td>\n",
       "    </tr>\n",
       "    <tr>\n",
       "      <th>2</th>\n",
       "      <td>41</td>\n",
       "      <td>0</td>\n",
       "      <td>1</td>\n",
       "      <td>130</td>\n",
       "      <td>204</td>\n",
       "      <td>0</td>\n",
       "      <td>0</td>\n",
       "      <td>172</td>\n",
       "      <td>0</td>\n",
       "      <td>1.4</td>\n",
       "      <td>2</td>\n",
       "      <td>0</td>\n",
       "      <td>2</td>\n",
       "      <td>1</td>\n",
       "      <td>40's</td>\n",
       "    </tr>\n",
       "    <tr>\n",
       "      <th>3</th>\n",
       "      <td>56</td>\n",
       "      <td>1</td>\n",
       "      <td>1</td>\n",
       "      <td>120</td>\n",
       "      <td>236</td>\n",
       "      <td>0</td>\n",
       "      <td>1</td>\n",
       "      <td>178</td>\n",
       "      <td>0</td>\n",
       "      <td>0.8</td>\n",
       "      <td>2</td>\n",
       "      <td>0</td>\n",
       "      <td>2</td>\n",
       "      <td>1</td>\n",
       "      <td>50's</td>\n",
       "    </tr>\n",
       "    <tr>\n",
       "      <th>4</th>\n",
       "      <td>57</td>\n",
       "      <td>0</td>\n",
       "      <td>0</td>\n",
       "      <td>120</td>\n",
       "      <td>354</td>\n",
       "      <td>0</td>\n",
       "      <td>1</td>\n",
       "      <td>163</td>\n",
       "      <td>1</td>\n",
       "      <td>0.6</td>\n",
       "      <td>2</td>\n",
       "      <td>0</td>\n",
       "      <td>2</td>\n",
       "      <td>1</td>\n",
       "      <td>50's</td>\n",
       "    </tr>\n",
       "    <tr>\n",
       "      <th>...</th>\n",
       "      <td>...</td>\n",
       "      <td>...</td>\n",
       "      <td>...</td>\n",
       "      <td>...</td>\n",
       "      <td>...</td>\n",
       "      <td>...</td>\n",
       "      <td>...</td>\n",
       "      <td>...</td>\n",
       "      <td>...</td>\n",
       "      <td>...</td>\n",
       "      <td>...</td>\n",
       "      <td>...</td>\n",
       "      <td>...</td>\n",
       "      <td>...</td>\n",
       "      <td>...</td>\n",
       "    </tr>\n",
       "    <tr>\n",
       "      <th>298</th>\n",
       "      <td>57</td>\n",
       "      <td>0</td>\n",
       "      <td>0</td>\n",
       "      <td>140</td>\n",
       "      <td>241</td>\n",
       "      <td>0</td>\n",
       "      <td>1</td>\n",
       "      <td>123</td>\n",
       "      <td>1</td>\n",
       "      <td>0.2</td>\n",
       "      <td>1</td>\n",
       "      <td>0</td>\n",
       "      <td>3</td>\n",
       "      <td>0</td>\n",
       "      <td>50's</td>\n",
       "    </tr>\n",
       "    <tr>\n",
       "      <th>299</th>\n",
       "      <td>45</td>\n",
       "      <td>1</td>\n",
       "      <td>3</td>\n",
       "      <td>110</td>\n",
       "      <td>264</td>\n",
       "      <td>0</td>\n",
       "      <td>1</td>\n",
       "      <td>132</td>\n",
       "      <td>0</td>\n",
       "      <td>1.2</td>\n",
       "      <td>1</td>\n",
       "      <td>0</td>\n",
       "      <td>3</td>\n",
       "      <td>0</td>\n",
       "      <td>40's</td>\n",
       "    </tr>\n",
       "    <tr>\n",
       "      <th>300</th>\n",
       "      <td>68</td>\n",
       "      <td>1</td>\n",
       "      <td>0</td>\n",
       "      <td>144</td>\n",
       "      <td>193</td>\n",
       "      <td>1</td>\n",
       "      <td>1</td>\n",
       "      <td>141</td>\n",
       "      <td>0</td>\n",
       "      <td>3.4</td>\n",
       "      <td>1</td>\n",
       "      <td>2</td>\n",
       "      <td>3</td>\n",
       "      <td>0</td>\n",
       "      <td>60's</td>\n",
       "    </tr>\n",
       "    <tr>\n",
       "      <th>301</th>\n",
       "      <td>57</td>\n",
       "      <td>1</td>\n",
       "      <td>0</td>\n",
       "      <td>130</td>\n",
       "      <td>131</td>\n",
       "      <td>0</td>\n",
       "      <td>1</td>\n",
       "      <td>115</td>\n",
       "      <td>1</td>\n",
       "      <td>1.2</td>\n",
       "      <td>1</td>\n",
       "      <td>1</td>\n",
       "      <td>3</td>\n",
       "      <td>0</td>\n",
       "      <td>50's</td>\n",
       "    </tr>\n",
       "    <tr>\n",
       "      <th>302</th>\n",
       "      <td>57</td>\n",
       "      <td>0</td>\n",
       "      <td>1</td>\n",
       "      <td>130</td>\n",
       "      <td>236</td>\n",
       "      <td>0</td>\n",
       "      <td>0</td>\n",
       "      <td>174</td>\n",
       "      <td>0</td>\n",
       "      <td>0.0</td>\n",
       "      <td>1</td>\n",
       "      <td>1</td>\n",
       "      <td>2</td>\n",
       "      <td>0</td>\n",
       "      <td>50's</td>\n",
       "    </tr>\n",
       "  </tbody>\n",
       "</table>\n",
       "<p>303 rows × 15 columns</p>\n",
       "</div>"
      ],
      "text/plain": [
       "     age  sex  cp  trtbps  chol  fbs  restecg  thalachh  exng  oldpeak  slp  \\\n",
       "0     63    1   3     145   233    1        0       150     0      2.3    0   \n",
       "1     37    1   2     130   250    0        1       187     0      3.5    0   \n",
       "2     41    0   1     130   204    0        0       172     0      1.4    2   \n",
       "3     56    1   1     120   236    0        1       178     0      0.8    2   \n",
       "4     57    0   0     120   354    0        1       163     1      0.6    2   \n",
       "..   ...  ...  ..     ...   ...  ...      ...       ...   ...      ...  ...   \n",
       "298   57    0   0     140   241    0        1       123     1      0.2    1   \n",
       "299   45    1   3     110   264    0        1       132     0      1.2    1   \n",
       "300   68    1   0     144   193    1        1       141     0      3.4    1   \n",
       "301   57    1   0     130   131    0        1       115     1      1.2    1   \n",
       "302   57    0   1     130   236    0        0       174     0      0.0    1   \n",
       "\n",
       "     caa  thall  output  AgeG  \n",
       "0      0      1       1  60's  \n",
       "1      0      2       1  30's  \n",
       "2      0      2       1  40's  \n",
       "3      0      2       1  50's  \n",
       "4      0      2       1  50's  \n",
       "..   ...    ...     ...   ...  \n",
       "298    0      3       0  50's  \n",
       "299    0      3       0  40's  \n",
       "300    2      3       0  60's  \n",
       "301    1      3       0  50's  \n",
       "302    1      2       0  50's  \n",
       "\n",
       "[303 rows x 15 columns]"
      ]
     },
     "execution_count": 7,
     "metadata": {},
     "output_type": "execute_result"
    }
   ],
   "source": [
    "# Age break Down \n",
    "group_names_age = ['20\\'s', '30\\'s', '40\\'s', '50\\'s', '60\\'s', '70\\'s']\n",
    "heart_data['AgeG'] = pd.cut(heart_data['age'], bins=[20,29,39,49,59,69,79], labels=group_names_age, \n",
    "                            include_lowest=True )\n",
    "\n",
    "heart_data"
   ]
  },
  {
   "cell_type": "code",
   "execution_count": 8,
   "id": "d1b3f44d",
   "metadata": {
    "execution": {
     "iopub.execute_input": "2022-01-12T20:21:30.275597Z",
     "iopub.status.busy": "2022-01-12T20:21:30.274790Z",
     "iopub.status.idle": "2022-01-12T20:21:30.495718Z",
     "shell.execute_reply": "2022-01-12T20:21:30.496247Z",
     "shell.execute_reply.started": "2022-01-12T20:19:49.177183Z"
    },
    "papermill": {
     "duration": 0.259864,
     "end_time": "2022-01-12T20:21:30.496442",
     "exception": false,
     "start_time": "2022-01-12T20:21:30.236578",
     "status": "completed"
    },
    "tags": []
   },
   "outputs": [
    {
     "name": "stdout",
     "output_type": "stream",
     "text": [
      "Age Break Down\n",
      "50's    125\n",
      "60's     80\n",
      "40's     72\n",
      "30's     15\n",
      "70's     10\n",
      "20's      1\n",
      "Name: AgeG, dtype: int64\n"
     ]
    },
    {
     "data": {
      "text/plain": [
       "Text(0.5, 1.0, 'Age Break Down ')"
      ]
     },
     "execution_count": 8,
     "metadata": {},
     "output_type": "execute_result"
    },
    {
     "data": {
      "image/png": "[encoded data removed]",
      "text/plain": [
       "<Figure size 720x576 with 1 Axes>"
      ]
     },
     "metadata": {
      "needs_background": "light"
     },
     "output_type": "display_data"
    }
   ],
   "source": [
    "#Age break down\n",
    "ageG = heart_data.AgeG.value_counts().to_frame()\n",
    "ageG.index\n",
    "\n",
    "print('Age Break Down')\n",
    "print(heart_data.AgeG.value_counts())\n",
    "\n",
    "plt.figure(figsize = (10,8))\n",
    "pyplot.bar(ageG.index, heart_data[\"AgeG\"].value_counts())\n",
    "\n",
    "pyplot.xlabel(\"Age Groups\")\n",
    "pyplot.ylabel(\"count\")\n",
    "pyplot.title(\"Age Break Down \")"
   ]
  },
  {
   "cell_type": "markdown",
   "id": "28b119c2",
   "metadata": {
    "papermill": {
     "duration": 0.031094,
     "end_time": "2022-01-12T20:21:30.558801",
     "exception": false,
     "start_time": "2022-01-12T20:21:30.527707",
     "status": "completed"
    },
    "tags": []
   },
   "source": [
    "The dataset consist largely of people in their 50's, 60's and 40's. "
   ]
  },
  {
   "cell_type": "code",
   "execution_count": 9,
   "id": "4be6f747",
   "metadata": {
    "execution": {
     "iopub.execute_input": "2022-01-12T20:21:30.625192Z",
     "iopub.status.busy": "2022-01-12T20:21:30.624147Z",
     "iopub.status.idle": "2022-01-12T20:21:30.846031Z",
     "shell.execute_reply": "2022-01-12T20:21:30.845246Z",
     "shell.execute_reply.started": "2022-01-12T20:19:49.410056Z"
    },
    "papermill": {
     "duration": 0.25617,
     "end_time": "2022-01-12T20:21:30.846198",
     "exception": false,
     "start_time": "2022-01-12T20:21:30.590028",
     "status": "completed"
    },
    "tags": []
   },
   "outputs": [
    {
     "name": "stderr",
     "output_type": "stream",
     "text": [
      "/opt/conda/lib/python3.7/site-packages/seaborn/_decorators.py:43: FutureWarning: Pass the following variable as a keyword arg: x. From version 0.12, the only valid positional argument will be `data`, and passing other arguments without an explicit keyword will result in an error or misinterpretation.\n",
      "  FutureWarning\n"
     ]
    },
    {
     "name": "stdout",
     "output_type": "stream",
     "text": [
      "Exercise induced angina. 0 = No 1 = Yes \n",
      "\n",
      "0    204\n",
      "1     99\n",
      "Name: exng, dtype: int64\n"
     ]
    },
    {
     "data": {
      "image/png": "[encoded data removed]",
      "text/plain": [
       "<Figure size 720x576 with 1 Axes>"
      ]
     },
     "metadata": {
      "needs_background": "light"
     },
     "output_type": "display_data"
    }
   ],
   "source": [
    "# Exercise induced angina distribution\n",
    "plt.figure(figsize=(10, 8))\n",
    "sns.countplot(heart_data[\"exng\"], palette = 'deep')\n",
    "print('Exercise induced angina. 0 = No 1 = Yes \\n')\n",
    "print(heart_data.exng.value_counts())"
   ]
  },
  {
   "cell_type": "markdown",
   "id": "2c4f1ebd",
   "metadata": {
    "papermill": {
     "duration": 0.032389,
     "end_time": "2022-01-12T20:21:30.912781",
     "exception": false,
     "start_time": "2022-01-12T20:21:30.880392",
     "status": "completed"
    },
    "tags": []
   },
   "source": [
    "1/3 of the dataset participants experience exercise induced angina. "
   ]
  },
  {
   "cell_type": "code",
   "execution_count": 10,
   "id": "b0dd8919",
   "metadata": {
    "execution": {
     "iopub.execute_input": "2022-01-12T20:21:30.984070Z",
     "iopub.status.busy": "2022-01-12T20:21:30.983405Z",
     "iopub.status.idle": "2022-01-12T20:21:31.240520Z",
     "shell.execute_reply": "2022-01-12T20:21:31.239936Z",
     "shell.execute_reply.started": "2022-01-12T20:19:49.606508Z"
    },
    "papermill": {
     "duration": 0.294892,
     "end_time": "2022-01-12T20:21:31.240683",
     "exception": false,
     "start_time": "2022-01-12T20:21:30.945791",
     "status": "completed"
    },
    "tags": []
   },
   "outputs": [
    {
     "name": "stdout",
     "output_type": "stream",
     "text": [
      "Chest Pain type. \n",
      " Value 0: typical angina, Value 1: atypical angina, \n",
      " Value 2: non-anginal pain, Value 3: asymptomatic\n"
     ]
    },
    {
     "data": {
      "text/html": [
       "<div>\n",
       "<style scoped>\n",
       "    .dataframe tbody tr th:only-of-type {\n",
       "        vertical-align: middle;\n",
       "    }\n",
       "\n",
       "    .dataframe tbody tr th {\n",
       "        vertical-align: top;\n",
       "    }\n",
       "\n",
       "    .dataframe thead th {\n",
       "        text-align: right;\n",
       "    }\n",
       "</style>\n",
       "<table border=\"1\" class=\"dataframe\">\n",
       "  <thead>\n",
       "    <tr style=\"text-align: right;\">\n",
       "      <th></th>\n",
       "      <th></th>\n",
       "      <th>output</th>\n",
       "    </tr>\n",
       "    <tr>\n",
       "      <th>cp</th>\n",
       "      <th>output</th>\n",
       "      <th></th>\n",
       "    </tr>\n",
       "  </thead>\n",
       "  <tbody>\n",
       "    <tr>\n",
       "      <th rowspan=\"2\" valign=\"top\">0</th>\n",
       "      <th>0</th>\n",
       "      <td>104</td>\n",
       "    </tr>\n",
       "    <tr>\n",
       "      <th>1</th>\n",
       "      <td>39</td>\n",
       "    </tr>\n",
       "    <tr>\n",
       "      <th rowspan=\"2\" valign=\"top\">1</th>\n",
       "      <th>0</th>\n",
       "      <td>9</td>\n",
       "    </tr>\n",
       "    <tr>\n",
       "      <th>1</th>\n",
       "      <td>41</td>\n",
       "    </tr>\n",
       "    <tr>\n",
       "      <th rowspan=\"2\" valign=\"top\">2</th>\n",
       "      <th>0</th>\n",
       "      <td>18</td>\n",
       "    </tr>\n",
       "    <tr>\n",
       "      <th>1</th>\n",
       "      <td>69</td>\n",
       "    </tr>\n",
       "    <tr>\n",
       "      <th rowspan=\"2\" valign=\"top\">3</th>\n",
       "      <th>0</th>\n",
       "      <td>7</td>\n",
       "    </tr>\n",
       "    <tr>\n",
       "      <th>1</th>\n",
       "      <td>16</td>\n",
       "    </tr>\n",
       "  </tbody>\n",
       "</table>\n",
       "</div>"
      ],
      "text/plain": [
       "           output\n",
       "cp output        \n",
       "0  0          104\n",
       "   1           39\n",
       "1  0            9\n",
       "   1           41\n",
       "2  0           18\n",
       "   1           69\n",
       "3  0            7\n",
       "   1           16"
      ]
     },
     "execution_count": 10,
     "metadata": {},
     "output_type": "execute_result"
    },
    {
     "data": {
      "image/png": "[encoded data removed]",
      "text/plain": [
       "<Figure size 720x576 with 1 Axes>"
      ]
     },
     "metadata": {
      "needs_background": "light"
     },
     "output_type": "display_data"
    }
   ],
   "source": [
    "# Chest Pain type distribution\n",
    "# Value 0: typical angina, Value 1: atypical angina, \n",
    "# Value 2: non-anginal pain, Value 3: asymptomatic\n",
    "plt.figure(figsize=(10, 8))\n",
    "sns.countplot(x ='cp', hue = \"output\", data = heart_data, palette = 'deep')\n",
    "print('Chest Pain type. \\n Value 0: typical angina, Value 1: atypical angina,' ,\n",
    "      '\\n Value 2: non-anginal pain, Value 3: asymptomatic')\n",
    "heart_data.groupby(['cp', 'output'])['output'].count().to_frame()"
   ]
  },
  {
   "cell_type": "code",
   "execution_count": 11,
   "id": "ce8c5024",
   "metadata": {
    "execution": {
     "iopub.execute_input": "2022-01-12T20:21:31.316318Z",
     "iopub.status.busy": "2022-01-12T20:21:31.315180Z",
     "iopub.status.idle": "2022-01-12T20:21:31.501776Z",
     "shell.execute_reply": "2022-01-12T20:21:31.502324Z",
     "shell.execute_reply.started": "2022-01-12T20:19:49.852915Z"
    },
    "papermill": {
     "duration": 0.226715,
     "end_time": "2022-01-12T20:21:31.502509",
     "exception": false,
     "start_time": "2022-01-12T20:21:31.275794",
     "status": "completed"
    },
    "tags": []
   },
   "outputs": [
    {
     "name": "stdout",
     "output_type": "stream",
     "text": [
      "Fasting Blood Sugar > 120 mg/dl. \n",
      " 0 = No 1 = Yes\n",
      "\n",
      "0    258\n",
      "1     45\n",
      "Name: fbs, dtype: int64\n"
     ]
    },
    {
     "name": "stderr",
     "output_type": "stream",
     "text": [
      "/opt/conda/lib/python3.7/site-packages/seaborn/_decorators.py:43: FutureWarning: Pass the following variable as a keyword arg: x. From version 0.12, the only valid positional argument will be `data`, and passing other arguments without an explicit keyword will result in an error or misinterpretation.\n",
      "  FutureWarning\n"
     ]
    },
    {
     "data": {
      "image/png": "[encoded data removed]",
      "text/plain": [
       "<Figure size 720x576 with 1 Axes>"
      ]
     },
     "metadata": {
      "needs_background": "light"
     },
     "output_type": "display_data"
    }
   ],
   "source": [
    "# fasting blood sugar distribution\n",
    "plt.figure(figsize=(10, 8))\n",
    "sns.countplot(heart_data[\"fbs\"], palette = 'deep')\n",
    "print('Fasting Blood Sugar > 120 mg/dl. \\n 0 = No 1 = Yes\\n')\n",
    "print(heart_data.fbs.value_counts())"
   ]
  },
  {
   "cell_type": "markdown",
   "id": "f014abde",
   "metadata": {
    "papermill": {
     "duration": 0.035487,
     "end_time": "2022-01-12T20:21:31.573838",
     "exception": false,
     "start_time": "2022-01-12T20:21:31.538351",
     "status": "completed"
    },
    "tags": []
   },
   "source": [
    "85% of the dataset participants fasting blood sugar is below 120."
   ]
  },
  {
   "cell_type": "code",
   "execution_count": 12,
   "id": "b382dac6",
   "metadata": {
    "execution": {
     "iopub.execute_input": "2022-01-12T20:21:31.657380Z",
     "iopub.status.busy": "2022-01-12T20:21:31.656281Z",
     "iopub.status.idle": "2022-01-12T20:21:31.668335Z",
     "shell.execute_reply": "2022-01-12T20:21:31.668950Z",
     "shell.execute_reply.started": "2022-01-12T20:19:50.039844Z"
    },
    "papermill": {
     "duration": 0.058698,
     "end_time": "2022-01-12T20:21:31.669155",
     "exception": false,
     "start_time": "2022-01-12T20:21:31.610457",
     "status": "completed"
    },
    "tags": []
   },
   "outputs": [
    {
     "data": {
      "text/html": [
       "<div>\n",
       "<style scoped>\n",
       "    .dataframe tbody tr th:only-of-type {\n",
       "        vertical-align: middle;\n",
       "    }\n",
       "\n",
       "    .dataframe tbody tr th {\n",
       "        vertical-align: top;\n",
       "    }\n",
       "\n",
       "    .dataframe thead th {\n",
       "        text-align: right;\n",
       "    }\n",
       "</style>\n",
       "<table border=\"1\" class=\"dataframe\">\n",
       "  <thead>\n",
       "    <tr style=\"text-align: right;\">\n",
       "      <th></th>\n",
       "      <th>trtbps</th>\n",
       "      <th>chol</th>\n",
       "      <th>thalachh</th>\n",
       "      <th>oldpeak</th>\n",
       "    </tr>\n",
       "    <tr>\n",
       "      <th>output</th>\n",
       "      <th></th>\n",
       "      <th></th>\n",
       "      <th></th>\n",
       "      <th></th>\n",
       "    </tr>\n",
       "  </thead>\n",
       "  <tbody>\n",
       "    <tr>\n",
       "      <th>0</th>\n",
       "      <td>134.398551</td>\n",
       "      <td>251.086957</td>\n",
       "      <td>139.101449</td>\n",
       "      <td>1.585507</td>\n",
       "    </tr>\n",
       "    <tr>\n",
       "      <th>1</th>\n",
       "      <td>129.303030</td>\n",
       "      <td>242.230303</td>\n",
       "      <td>158.466667</td>\n",
       "      <td>0.583030</td>\n",
       "    </tr>\n",
       "  </tbody>\n",
       "</table>\n",
       "</div>"
      ],
      "text/plain": [
       "            trtbps        chol    thalachh   oldpeak\n",
       "output                                              \n",
       "0       134.398551  251.086957  139.101449  1.585507\n",
       "1       129.303030  242.230303  158.466667  0.583030"
      ]
     },
     "execution_count": 12,
     "metadata": {},
     "output_type": "execute_result"
    }
   ],
   "source": [
    "# find the mean values based on output for trtbps : resting blood pressure (in mm Hg), \n",
    "# chol : cholestoral in mg/dl fetched via BMI sensor, thalach : maximum heart rate achieved and oldpeak\n",
    "grouped = heart_data.groupby('output').mean()\n",
    "grouped[['trtbps', 'chol', 'thalachh', 'oldpeak']]"
   ]
  },
  {
   "cell_type": "code",
   "execution_count": 13,
   "id": "96ca158f",
   "metadata": {
    "execution": {
     "iopub.execute_input": "2022-01-12T20:21:31.745633Z",
     "iopub.status.busy": "2022-01-12T20:21:31.744583Z",
     "iopub.status.idle": "2022-01-12T20:21:33.520324Z",
     "shell.execute_reply": "2022-01-12T20:21:33.519718Z",
     "shell.execute_reply.started": "2022-01-12T20:19:50.057979Z"
    },
    "papermill": {
     "duration": 1.815349,
     "end_time": "2022-01-12T20:21:33.520551",
     "exception": false,
     "start_time": "2022-01-12T20:21:31.705202",
     "status": "completed"
    },
    "tags": []
   },
   "outputs": [
    {
     "data": {
      "text/plain": [
       "<Figure size 720x576 with 0 Axes>"
      ]
     },
     "metadata": {},
     "output_type": "display_data"
    },
    {
     "data": {
      "image/png": "[encoded data removed]",
      "text/plain": [
       "<Figure size 402.375x360 with 1 Axes>"
      ]
     },
     "metadata": {
      "needs_background": "light"
     },
     "output_type": "display_data"
    },
    {
     "data": {
      "image/png": "[encoded data removed]",
      "text/plain": [
       "<Figure size 402.375x360 with 1 Axes>"
      ]
     },
     "metadata": {
      "needs_background": "light"
     },
     "output_type": "display_data"
    },
    {
     "data": {
      "image/png": "[encoded data removed]",
      "text/plain": [
       "<Figure size 402.375x360 with 1 Axes>"
      ]
     },
     "metadata": {
      "needs_background": "light"
     },
     "output_type": "display_data"
    },
    {
     "data": {
      "image/png": "[encoded data removed]",
      "text/plain": [
       "<Figure size 402.375x360 with 1 Axes>"
      ]
     },
     "metadata": {
      "needs_background": "light"
     },
     "output_type": "display_data"
    }
   ],
   "source": [
    "plt.figure(figsize=(10, 8))\n",
    "varibales = ['trtbps', 'chol', 'thalachh', 'oldpeak']\n",
    "for x in varibales:\n",
    "    sns.displot(x = x, data=heart_data, hue = 'output', kind = 'kde', palette = 'deep')"
   ]
  },
  {
   "cell_type": "code",
   "execution_count": 14,
   "id": "925b6840",
   "metadata": {
    "execution": {
     "iopub.execute_input": "2022-01-12T20:21:33.615114Z",
     "iopub.status.busy": "2022-01-12T20:21:33.614008Z",
     "iopub.status.idle": "2022-01-12T20:21:33.625990Z",
     "shell.execute_reply": "2022-01-12T20:21:33.625363Z",
     "shell.execute_reply.started": "2022-01-12T20:19:51.731940Z"
    },
    "papermill": {
     "duration": 0.064444,
     "end_time": "2022-01-12T20:21:33.626150",
     "exception": false,
     "start_time": "2022-01-12T20:21:33.561706",
     "status": "completed"
    },
    "tags": []
   },
   "outputs": [
    {
     "data": {
      "text/html": [
       "<div>\n",
       "<style scoped>\n",
       "    .dataframe tbody tr th:only-of-type {\n",
       "        vertical-align: middle;\n",
       "    }\n",
       "\n",
       "    .dataframe tbody tr th {\n",
       "        vertical-align: top;\n",
       "    }\n",
       "\n",
       "    .dataframe thead th {\n",
       "        text-align: right;\n",
       "    }\n",
       "</style>\n",
       "<table border=\"1\" class=\"dataframe\">\n",
       "  <thead>\n",
       "    <tr style=\"text-align: right;\">\n",
       "      <th></th>\n",
       "      <th>age</th>\n",
       "      <th>sex</th>\n",
       "      <th>cp</th>\n",
       "      <th>trtbps</th>\n",
       "      <th>chol</th>\n",
       "      <th>fbs</th>\n",
       "      <th>restecg</th>\n",
       "      <th>thalachh</th>\n",
       "      <th>exng</th>\n",
       "      <th>oldpeak</th>\n",
       "      <th>slp</th>\n",
       "      <th>caa</th>\n",
       "      <th>thall</th>\n",
       "      <th>output</th>\n",
       "      <th>AgeG</th>\n",
       "      <th>M/F</th>\n",
       "    </tr>\n",
       "  </thead>\n",
       "  <tbody>\n",
       "    <tr>\n",
       "      <th>0</th>\n",
       "      <td>63</td>\n",
       "      <td>1</td>\n",
       "      <td>3</td>\n",
       "      <td>145</td>\n",
       "      <td>233</td>\n",
       "      <td>1</td>\n",
       "      <td>0</td>\n",
       "      <td>150</td>\n",
       "      <td>0</td>\n",
       "      <td>2.3</td>\n",
       "      <td>0</td>\n",
       "      <td>0</td>\n",
       "      <td>1</td>\n",
       "      <td>1</td>\n",
       "      <td>60's</td>\n",
       "      <td>Male</td>\n",
       "    </tr>\n",
       "    <tr>\n",
       "      <th>1</th>\n",
       "      <td>37</td>\n",
       "      <td>1</td>\n",
       "      <td>2</td>\n",
       "      <td>130</td>\n",
       "      <td>250</td>\n",
       "      <td>0</td>\n",
       "      <td>1</td>\n",
       "      <td>187</td>\n",
       "      <td>0</td>\n",
       "      <td>3.5</td>\n",
       "      <td>0</td>\n",
       "      <td>0</td>\n",
       "      <td>2</td>\n",
       "      <td>1</td>\n",
       "      <td>30's</td>\n",
       "      <td>Male</td>\n",
       "    </tr>\n",
       "    <tr>\n",
       "      <th>2</th>\n",
       "      <td>41</td>\n",
       "      <td>0</td>\n",
       "      <td>1</td>\n",
       "      <td>130</td>\n",
       "      <td>204</td>\n",
       "      <td>0</td>\n",
       "      <td>0</td>\n",
       "      <td>172</td>\n",
       "      <td>0</td>\n",
       "      <td>1.4</td>\n",
       "      <td>2</td>\n",
       "      <td>0</td>\n",
       "      <td>2</td>\n",
       "      <td>1</td>\n",
       "      <td>40's</td>\n",
       "      <td>Female</td>\n",
       "    </tr>\n",
       "    <tr>\n",
       "      <th>3</th>\n",
       "      <td>56</td>\n",
       "      <td>1</td>\n",
       "      <td>1</td>\n",
       "      <td>120</td>\n",
       "      <td>236</td>\n",
       "      <td>0</td>\n",
       "      <td>1</td>\n",
       "      <td>178</td>\n",
       "      <td>0</td>\n",
       "      <td>0.8</td>\n",
       "      <td>2</td>\n",
       "      <td>0</td>\n",
       "      <td>2</td>\n",
       "      <td>1</td>\n",
       "      <td>50's</td>\n",
       "      <td>Male</td>\n",
       "    </tr>\n",
       "    <tr>\n",
       "      <th>4</th>\n",
       "      <td>57</td>\n",
       "      <td>0</td>\n",
       "      <td>0</td>\n",
       "      <td>120</td>\n",
       "      <td>354</td>\n",
       "      <td>0</td>\n",
       "      <td>1</td>\n",
       "      <td>163</td>\n",
       "      <td>1</td>\n",
       "      <td>0.6</td>\n",
       "      <td>2</td>\n",
       "      <td>0</td>\n",
       "      <td>2</td>\n",
       "      <td>1</td>\n",
       "      <td>50's</td>\n",
       "      <td>Female</td>\n",
       "    </tr>\n",
       "  </tbody>\n",
       "</table>\n",
       "</div>"
      ],
      "text/plain": [
       "   age  sex  cp  trtbps  chol  fbs  restecg  thalachh  exng  oldpeak  slp  \\\n",
       "0   63    1   3     145   233    1        0       150     0      2.3    0   \n",
       "1   37    1   2     130   250    0        1       187     0      3.5    0   \n",
       "2   41    0   1     130   204    0        0       172     0      1.4    2   \n",
       "3   56    1   1     120   236    0        1       178     0      0.8    2   \n",
       "4   57    0   0     120   354    0        1       163     1      0.6    2   \n",
       "\n",
       "   caa  thall  output  AgeG     M/F  \n",
       "0    0      1       1  60's    Male  \n",
       "1    0      2       1  30's    Male  \n",
       "2    0      2       1  40's  Female  \n",
       "3    0      2       1  50's    Male  \n",
       "4    0      2       1  50's  Female  "
      ]
     },
     "execution_count": 14,
     "metadata": {},
     "output_type": "execute_result"
    }
   ],
   "source": [
    "# convert age column.  1 to male and 0 to female \n",
    "heart_data['M/F'] = heart_data['sex'].apply(lambda x : 'Male' if x == 1 else 'Female')\n",
    "heart_data.head()"
   ]
  },
  {
   "cell_type": "code",
   "execution_count": 15,
   "id": "436b101a",
   "metadata": {
    "execution": {
     "iopub.execute_input": "2022-01-12T20:21:33.714389Z",
     "iopub.status.busy": "2022-01-12T20:21:33.713307Z",
     "iopub.status.idle": "2022-01-12T20:21:33.920717Z",
     "shell.execute_reply": "2022-01-12T20:21:33.920143Z",
     "shell.execute_reply.started": "2022-01-12T20:19:51.751777Z"
    },
    "papermill": {
     "duration": 0.252736,
     "end_time": "2022-01-12T20:21:33.920871",
     "exception": false,
     "start_time": "2022-01-12T20:21:33.668135",
     "status": "completed"
    },
    "tags": []
   },
   "outputs": [
    {
     "name": "stdout",
     "output_type": "stream",
     "text": [
      "Sex distribution \n",
      "\n",
      "Male      207\n",
      "Female     96\n",
      "Name: M/F, dtype: int64\n"
     ]
    },
    {
     "data": {
      "image/png": "[encoded data removed]",
      "text/plain": [
       "<Figure size 720x576 with 1 Axes>"
      ]
     },
     "metadata": {
      "needs_background": "light"
     },
     "output_type": "display_data"
    }
   ],
   "source": [
    "plt.figure(figsize=(10, 8))\n",
    "print('Sex distribution \\n')\n",
    "sns.countplot(x='M/F', data=heart_data, palette = 'deep')\n",
    "print(heart_data['M/F'].value_counts())"
   ]
  },
  {
   "cell_type": "markdown",
   "id": "dee0dc99",
   "metadata": {
    "papermill": {
     "duration": 0.042029,
     "end_time": "2022-01-12T20:21:34.005383",
     "exception": false,
     "start_time": "2022-01-12T20:21:33.963354",
     "status": "completed"
    },
    "tags": []
   },
   "source": [
    "The dataset has more twice as much males to females."
   ]
  },
  {
   "cell_type": "code",
   "execution_count": 16,
   "id": "d7adb081",
   "metadata": {
    "execution": {
     "iopub.execute_input": "2022-01-12T20:21:34.094533Z",
     "iopub.status.busy": "2022-01-12T20:21:34.093824Z",
     "iopub.status.idle": "2022-01-12T20:21:34.390354Z",
     "shell.execute_reply": "2022-01-12T20:21:34.389703Z",
     "shell.execute_reply.started": "2022-01-12T20:19:51.923258Z"
    },
    "papermill": {
     "duration": 0.342627,
     "end_time": "2022-01-12T20:21:34.390500",
     "exception": false,
     "start_time": "2022-01-12T20:21:34.047873",
     "status": "completed"
    },
    "tags": []
   },
   "outputs": [
    {
     "name": "stdout",
     "output_type": "stream",
     "text": [
      "Age and output distribution.\n",
      "\n"
     ]
    },
    {
     "data": {
      "text/html": [
       "<div>\n",
       "<style scoped>\n",
       "    .dataframe tbody tr th:only-of-type {\n",
       "        vertical-align: middle;\n",
       "    }\n",
       "\n",
       "    .dataframe tbody tr th {\n",
       "        vertical-align: top;\n",
       "    }\n",
       "\n",
       "    .dataframe thead th {\n",
       "        text-align: right;\n",
       "    }\n",
       "</style>\n",
       "<table border=\"1\" class=\"dataframe\">\n",
       "  <thead>\n",
       "    <tr style=\"text-align: right;\">\n",
       "      <th></th>\n",
       "      <th></th>\n",
       "      <th>output</th>\n",
       "    </tr>\n",
       "    <tr>\n",
       "      <th>AgeG</th>\n",
       "      <th>output</th>\n",
       "      <th></th>\n",
       "    </tr>\n",
       "  </thead>\n",
       "  <tbody>\n",
       "    <tr>\n",
       "      <th rowspan=\"2\" valign=\"top\">20's</th>\n",
       "      <th>0</th>\n",
       "      <td>0</td>\n",
       "    </tr>\n",
       "    <tr>\n",
       "      <th>1</th>\n",
       "      <td>1</td>\n",
       "    </tr>\n",
       "    <tr>\n",
       "      <th rowspan=\"2\" valign=\"top\">30's</th>\n",
       "      <th>0</th>\n",
       "      <td>4</td>\n",
       "    </tr>\n",
       "    <tr>\n",
       "      <th>1</th>\n",
       "      <td>11</td>\n",
       "    </tr>\n",
       "    <tr>\n",
       "      <th rowspan=\"2\" valign=\"top\">40's</th>\n",
       "      <th>0</th>\n",
       "      <td>22</td>\n",
       "    </tr>\n",
       "    <tr>\n",
       "      <th>1</th>\n",
       "      <td>50</td>\n",
       "    </tr>\n",
       "    <tr>\n",
       "      <th rowspan=\"2\" valign=\"top\">50's</th>\n",
       "      <th>0</th>\n",
       "      <td>60</td>\n",
       "    </tr>\n",
       "    <tr>\n",
       "      <th>1</th>\n",
       "      <td>65</td>\n",
       "    </tr>\n",
       "    <tr>\n",
       "      <th rowspan=\"2\" valign=\"top\">60's</th>\n",
       "      <th>0</th>\n",
       "      <td>48</td>\n",
       "    </tr>\n",
       "    <tr>\n",
       "      <th>1</th>\n",
       "      <td>32</td>\n",
       "    </tr>\n",
       "    <tr>\n",
       "      <th rowspan=\"2\" valign=\"top\">70's</th>\n",
       "      <th>0</th>\n",
       "      <td>4</td>\n",
       "    </tr>\n",
       "    <tr>\n",
       "      <th>1</th>\n",
       "      <td>6</td>\n",
       "    </tr>\n",
       "  </tbody>\n",
       "</table>\n",
       "</div>"
      ],
      "text/plain": [
       "             output\n",
       "AgeG output        \n",
       "20's 0            0\n",
       "     1            1\n",
       "30's 0            4\n",
       "     1           11\n",
       "40's 0           22\n",
       "     1           50\n",
       "50's 0           60\n",
       "     1           65\n",
       "60's 0           48\n",
       "     1           32\n",
       "70's 0            4\n",
       "     1            6"
      ]
     },
     "execution_count": 16,
     "metadata": {},
     "output_type": "execute_result"
    },
    {
     "data": {
      "image/png": "[encoded data removed]",
      "text/plain": [
       "<Figure size 720x576 with 1 Axes>"
      ]
     },
     "metadata": {
      "needs_background": "light"
     },
     "output_type": "display_data"
    }
   ],
   "source": [
    "#Age and output\n",
    "plt.figure(figsize=(10, 8))\n",
    "print('Age and output distribution.\\n')\n",
    "sns.countplot(x='AgeG', data = heart_data, hue='output', palette = 'deep')\n",
    "heart_data.groupby(['AgeG', 'output'])['output'].count().to_frame()"
   ]
  },
  {
   "cell_type": "code",
   "execution_count": 17,
   "id": "786713fe",
   "metadata": {
    "execution": {
     "iopub.execute_input": "2022-01-12T20:21:34.490954Z",
     "iopub.status.busy": "2022-01-12T20:21:34.489827Z",
     "iopub.status.idle": "2022-01-12T20:21:34.722229Z",
     "shell.execute_reply": "2022-01-12T20:21:34.721631Z",
     "shell.execute_reply.started": "2022-01-12T20:19:52.200567Z"
    },
    "papermill": {
     "duration": 0.286701,
     "end_time": "2022-01-12T20:21:34.722375",
     "exception": false,
     "start_time": "2022-01-12T20:21:34.435674",
     "status": "completed"
    },
    "tags": []
   },
   "outputs": [
    {
     "name": "stdout",
     "output_type": "stream",
     "text": [
      "Sex and output distribution.\n",
      "\n"
     ]
    },
    {
     "data": {
      "text/html": [
       "<div>\n",
       "<style scoped>\n",
       "    .dataframe tbody tr th:only-of-type {\n",
       "        vertical-align: middle;\n",
       "    }\n",
       "\n",
       "    .dataframe tbody tr th {\n",
       "        vertical-align: top;\n",
       "    }\n",
       "\n",
       "    .dataframe thead th {\n",
       "        text-align: right;\n",
       "    }\n",
       "</style>\n",
       "<table border=\"1\" class=\"dataframe\">\n",
       "  <thead>\n",
       "    <tr style=\"text-align: right;\">\n",
       "      <th></th>\n",
       "      <th></th>\n",
       "      <th>output</th>\n",
       "    </tr>\n",
       "    <tr>\n",
       "      <th>M/F</th>\n",
       "      <th>output</th>\n",
       "      <th></th>\n",
       "    </tr>\n",
       "  </thead>\n",
       "  <tbody>\n",
       "    <tr>\n",
       "      <th rowspan=\"2\" valign=\"top\">Female</th>\n",
       "      <th>0</th>\n",
       "      <td>24</td>\n",
       "    </tr>\n",
       "    <tr>\n",
       "      <th>1</th>\n",
       "      <td>72</td>\n",
       "    </tr>\n",
       "    <tr>\n",
       "      <th rowspan=\"2\" valign=\"top\">Male</th>\n",
       "      <th>0</th>\n",
       "      <td>114</td>\n",
       "    </tr>\n",
       "    <tr>\n",
       "      <th>1</th>\n",
       "      <td>93</td>\n",
       "    </tr>\n",
       "  </tbody>\n",
       "</table>\n",
       "</div>"
      ],
      "text/plain": [
       "               output\n",
       "M/F    output        \n",
       "Female 0           24\n",
       "       1           72\n",
       "Male   0          114\n",
       "       1           93"
      ]
     },
     "execution_count": 17,
     "metadata": {},
     "output_type": "execute_result"
    },
    {
     "data": {
      "image/png": "[encoded data removed]",
      "text/plain": [
       "<Figure size 720x576 with 1 Axes>"
      ]
     },
     "metadata": {
      "needs_background": "light"
     },
     "output_type": "display_data"
    }
   ],
   "source": [
    "#Sex and ouput\n",
    "plt.figure(figsize=(10, 8))\n",
    "print('Sex and output distribution.\\n')\n",
    "sns.countplot(x='M/F', data = heart_data, hue = 'output', palette = 'deep')\n",
    "heart_data.groupby(['M/F', 'output'])['output'].count().to_frame()"
   ]
  },
  {
   "cell_type": "markdown",
   "id": "ea3a94ac",
   "metadata": {
    "papermill": {
     "duration": 0.046885,
     "end_time": "2022-01-12T20:21:34.817488",
     "exception": false,
     "start_time": "2022-01-12T20:21:34.770603",
     "status": "completed"
    },
    "tags": []
   },
   "source": [
    "Of the dataset female participants 72/96 or 75% have a output of 1. 1 = more chance of heart attack. \n",
    "In contrast, of the dataset male participants 93/207 or 45% have a output of 1."
   ]
  },
  {
   "cell_type": "code",
   "execution_count": 18,
   "id": "6f705d47",
   "metadata": {
    "execution": {
     "iopub.execute_input": "2022-01-12T20:21:34.917669Z",
     "iopub.status.busy": "2022-01-12T20:21:34.916960Z",
     "iopub.status.idle": "2022-01-12T20:21:35.186557Z",
     "shell.execute_reply": "2022-01-12T20:21:35.185851Z",
     "shell.execute_reply.started": "2022-01-12T20:19:52.416107Z"
    },
    "papermill": {
     "duration": 0.32339,
     "end_time": "2022-01-12T20:21:35.186741",
     "exception": false,
     "start_time": "2022-01-12T20:21:34.863351",
     "status": "completed"
    },
    "tags": []
   },
   "outputs": [
    {
     "name": "stdout",
     "output_type": "stream",
     "text": [
      "Number of major vessels and output distribution.\n",
      "\n"
     ]
    },
    {
     "data": {
      "text/html": [
       "<div>\n",
       "<style scoped>\n",
       "    .dataframe tbody tr th:only-of-type {\n",
       "        vertical-align: middle;\n",
       "    }\n",
       "\n",
       "    .dataframe tbody tr th {\n",
       "        vertical-align: top;\n",
       "    }\n",
       "\n",
       "    .dataframe thead th {\n",
       "        text-align: right;\n",
       "    }\n",
       "</style>\n",
       "<table border=\"1\" class=\"dataframe\">\n",
       "  <thead>\n",
       "    <tr style=\"text-align: right;\">\n",
       "      <th></th>\n",
       "      <th></th>\n",
       "      <th>output</th>\n",
       "    </tr>\n",
       "    <tr>\n",
       "      <th>caa</th>\n",
       "      <th>output</th>\n",
       "      <th></th>\n",
       "    </tr>\n",
       "  </thead>\n",
       "  <tbody>\n",
       "    <tr>\n",
       "      <th rowspan=\"2\" valign=\"top\">0</th>\n",
       "      <th>0</th>\n",
       "      <td>45</td>\n",
       "    </tr>\n",
       "    <tr>\n",
       "      <th>1</th>\n",
       "      <td>130</td>\n",
       "    </tr>\n",
       "    <tr>\n",
       "      <th rowspan=\"2\" valign=\"top\">1</th>\n",
       "      <th>0</th>\n",
       "      <td>44</td>\n",
       "    </tr>\n",
       "    <tr>\n",
       "      <th>1</th>\n",
       "      <td>21</td>\n",
       "    </tr>\n",
       "    <tr>\n",
       "      <th rowspan=\"2\" valign=\"top\">2</th>\n",
       "      <th>0</th>\n",
       "      <td>31</td>\n",
       "    </tr>\n",
       "    <tr>\n",
       "      <th>1</th>\n",
       "      <td>7</td>\n",
       "    </tr>\n",
       "    <tr>\n",
       "      <th rowspan=\"2\" valign=\"top\">3</th>\n",
       "      <th>0</th>\n",
       "      <td>17</td>\n",
       "    </tr>\n",
       "    <tr>\n",
       "      <th>1</th>\n",
       "      <td>3</td>\n",
       "    </tr>\n",
       "    <tr>\n",
       "      <th rowspan=\"2\" valign=\"top\">4</th>\n",
       "      <th>0</th>\n",
       "      <td>1</td>\n",
       "    </tr>\n",
       "    <tr>\n",
       "      <th>1</th>\n",
       "      <td>4</td>\n",
       "    </tr>\n",
       "  </tbody>\n",
       "</table>\n",
       "</div>"
      ],
      "text/plain": [
       "            output\n",
       "caa output        \n",
       "0   0           45\n",
       "    1          130\n",
       "1   0           44\n",
       "    1           21\n",
       "2   0           31\n",
       "    1            7\n",
       "3   0           17\n",
       "    1            3\n",
       "4   0            1\n",
       "    1            4"
      ]
     },
     "execution_count": 18,
     "metadata": {},
     "output_type": "execute_result"
    },
    {
     "data": {
      "image/png": "[encoded data removed]",
      "text/plain": [
       "<Figure size 720x576 with 1 Axes>"
      ]
     },
     "metadata": {
      "needs_background": "light"
     },
     "output_type": "display_data"
    }
   ],
   "source": [
    "#number of major vessels (0-3) and ouput\n",
    "plt.figure(figsize=(10, 8))\n",
    "print('Number of major vessels and output distribution.\\n')\n",
    "sns.countplot(x='caa', data = heart_data, hue = 'output', palette = 'deep')\n",
    "heart_data.groupby(['caa', 'output'])['output'].count().to_frame()"
   ]
  },
  {
   "cell_type": "markdown",
   "id": "a3e480a0",
   "metadata": {
    "papermill": {
     "duration": 0.04796,
     "end_time": "2022-01-12T20:21:35.283437",
     "exception": false,
     "start_time": "2022-01-12T20:21:35.235477",
     "status": "completed"
    },
    "tags": []
   },
   "source": [
    "Of the dataset participants people with 0 major vessels had the greatest risk of a heart attack. \n",
    "The risk of heart attack falls with the increase number of major vessels. "
   ]
  },
  {
   "cell_type": "markdown",
   "id": "fdec8af3",
   "metadata": {
    "papermill": {
     "duration": 0.046996,
     "end_time": "2022-01-12T20:21:35.378419",
     "exception": false,
     "start_time": "2022-01-12T20:21:35.331423",
     "status": "completed"
    },
    "tags": []
   },
   "source": [
    "# Model"
   ]
  },
  {
   "cell_type": "code",
   "execution_count": 19,
   "id": "58f65a99",
   "metadata": {
    "execution": {
     "iopub.execute_input": "2022-01-12T20:21:35.480708Z",
     "iopub.status.busy": "2022-01-12T20:21:35.479909Z",
     "iopub.status.idle": "2022-01-12T20:21:35.482436Z",
     "shell.execute_reply": "2022-01-12T20:21:35.482988Z",
     "shell.execute_reply.started": "2022-01-12T20:19:52.680943Z"
    },
    "papermill": {
     "duration": 0.057595,
     "end_time": "2022-01-12T20:21:35.483178",
     "exception": false,
     "start_time": "2022-01-12T20:21:35.425583",
     "status": "completed"
    },
    "tags": []
   },
   "outputs": [],
   "source": [
    "# feature selection \n",
    "x = heart_data.drop(['output', 'AgeG', 'M/F'], axis=1)\n",
    "y = heart_data['output'].values"
   ]
  },
  {
   "cell_type": "code",
   "execution_count": 20,
   "id": "cac48f03",
   "metadata": {
    "execution": {
     "iopub.execute_input": "2022-01-12T20:21:35.581224Z",
     "iopub.status.busy": "2022-01-12T20:21:35.580513Z",
     "iopub.status.idle": "2022-01-12T20:21:35.588944Z",
     "shell.execute_reply": "2022-01-12T20:21:35.589564Z",
     "shell.execute_reply.started": "2022-01-12T20:19:52.688503Z"
    },
    "papermill": {
     "duration": 0.059161,
     "end_time": "2022-01-12T20:21:35.589749",
     "exception": false,
     "start_time": "2022-01-12T20:21:35.530588",
     "status": "completed"
    },
    "tags": []
   },
   "outputs": [],
   "source": [
    "# feature scaling \n",
    "sc = StandardScaler()\n",
    "X = sc.fit_transform(x)"
   ]
  },
  {
   "cell_type": "code",
   "execution_count": 21,
   "id": "2ef05456",
   "metadata": {
    "execution": {
     "iopub.execute_input": "2022-01-12T20:21:35.691553Z",
     "iopub.status.busy": "2022-01-12T20:21:35.690749Z",
     "iopub.status.idle": "2022-01-12T20:21:35.692728Z",
     "shell.execute_reply": "2022-01-12T20:21:35.693343Z",
     "shell.execute_reply.started": "2022-01-12T20:19:52.704506Z"
    },
    "papermill": {
     "duration": 0.056456,
     "end_time": "2022-01-12T20:21:35.693511",
     "exception": false,
     "start_time": "2022-01-12T20:21:35.637055",
     "status": "completed"
    },
    "tags": []
   },
   "outputs": [],
   "source": [
    "# train and test split \n",
    "X_train,X_test,y_train,y_test = train_test_split(X,y,test_size = 0.20,random_state = 5)"
   ]
  },
  {
   "cell_type": "code",
   "execution_count": 22,
   "id": "04c1188a",
   "metadata": {
    "execution": {
     "iopub.execute_input": "2022-01-12T20:21:35.794033Z",
     "iopub.status.busy": "2022-01-12T20:21:35.793341Z",
     "iopub.status.idle": "2022-01-12T20:21:35.800079Z",
     "shell.execute_reply": "2022-01-12T20:21:35.799406Z",
     "shell.execute_reply.started": "2022-01-12T20:19:52.717859Z"
    },
    "papermill": {
     "duration": 0.058235,
     "end_time": "2022-01-12T20:21:35.800252",
     "exception": false,
     "start_time": "2022-01-12T20:21:35.742017",
     "status": "completed"
    },
    "tags": []
   },
   "outputs": [
    {
     "name": "stdout",
     "output_type": "stream",
     "text": [
      "(242, 13)\n",
      "(61, 13)\n",
      "(242,)\n",
      "(61,)\n"
     ]
    }
   ],
   "source": [
    "# train and test shapes \n",
    "print(X_train.shape)\n",
    "print(X_test.shape)\n",
    "print(y_train.shape)\n",
    "print(y_test.shape)"
   ]
  },
  {
   "cell_type": "code",
   "execution_count": 23,
   "id": "03858a7b",
   "metadata": {
    "execution": {
     "iopub.execute_input": "2022-01-12T20:21:35.903162Z",
     "iopub.status.busy": "2022-01-12T20:21:35.902434Z",
     "iopub.status.idle": "2022-01-12T20:21:37.193994Z",
     "shell.execute_reply": "2022-01-12T20:21:37.193422Z",
     "shell.execute_reply.started": "2022-01-12T20:19:52.729022Z"
    },
    "papermill": {
     "duration": 1.345796,
     "end_time": "2022-01-12T20:21:37.194161",
     "exception": false,
     "start_time": "2022-01-12T20:21:35.848365",
     "status": "completed"
    },
    "tags": []
   },
   "outputs": [],
   "source": [
    "#Stop model training when validation accuracy hits a certian level \n",
    "class myCallback(tf.keras.callbacks.Callback):\n",
    "        def on_epoch_end(self, epoch, logs={}):\n",
    "            if logs.get('val_accuracy') is not None and logs.get('val_accuracy') > 0.91:\n",
    "                print(\"\\nReached greater than 91% accuracy so cancelling training!\")\n",
    "                self.model.stop_training = True"
   ]
  },
  {
   "cell_type": "code",
   "execution_count": 24,
   "id": "72b27356",
   "metadata": {
    "execution": {
     "iopub.execute_input": "2022-01-12T20:21:37.298902Z",
     "iopub.status.busy": "2022-01-12T20:21:37.298117Z",
     "iopub.status.idle": "2022-01-12T20:21:39.839396Z",
     "shell.execute_reply": "2022-01-12T20:21:39.839913Z",
     "shell.execute_reply.started": "2022-01-12T20:20:23.940842Z"
    },
    "papermill": {
     "duration": 2.597966,
     "end_time": "2022-01-12T20:21:39.840122",
     "exception": false,
     "start_time": "2022-01-12T20:21:37.242156",
     "status": "completed"
    },
    "tags": []
   },
   "outputs": [
    {
     "name": "stderr",
     "output_type": "stream",
     "text": [
      "\n",
      "User settings:\n",
      "\n",
      "   KMP_AFFINITY=granularity=fine,verbose,compact,1,0\n",
      "   KMP_BLOCKTIME=0\n",
      "   KMP_DUPLICATE_LIB_OK=True\n",
      "   KMP_INIT_AT_FORK=FALSE\n",
      "   KMP_SETTINGS=1\n",
      "   KMP_WARNINGS=0\n",
      "\n",
      "Effective settings:\n",
      "\n",
      "   KMP_ABORT_DELAY=0\n",
      "   KMP_ADAPTIVE_LOCK_PROPS='1,1024'\n",
      "   KMP_ALIGN_ALLOC=64\n",
      "   KMP_ALL_THREADPRIVATE=128\n",
      "   KMP_ATOMIC_MODE=2\n",
      "   KMP_BLOCKTIME=0\n",
      "   KMP_CPUINFO_FILE: value is not defined\n",
      "   KMP_DETERMINISTIC_REDUCTION=false\n",
      "   KMP_DEVICE_THREAD_LIMIT=2147483647\n",
      "   KMP_DISP_NUM_BUFFERS=7\n",
      "   KMP_DUPLICATE_LIB_OK=true\n",
      "   KMP_ENABLE_TASK_THROTTLING=true\n",
      "   KMP_FORCE_REDUCTION: value is not defined\n",
      "   KMP_FOREIGN_THREADS_THREADPRIVATE=true\n",
      "   KMP_FORKJOIN_BARRIER='2,2'\n",
      "   KMP_FORKJOIN_BARRIER_PATTERN='hyper,hyper'\n",
      "   KMP_GTID_MODE=3\n",
      "   KMP_HANDLE_SIGNALS=false\n",
      "   KMP_HOT_TEAMS_MAX_LEVEL=1\n",
      "   KMP_HOT_TEAMS_MODE=0\n",
      "   KMP_INIT_AT_FORK=true\n",
      "   KMP_LIBRARY=throughput\n",
      "   KMP_LOCK_KIND=queuing\n",
      "   KMP_MALLOC_POOL_INCR=1M\n",
      "   KMP_NUM_LOCKS_IN_BLOCK=1\n",
      "   KMP_PLAIN_BARRIER='2,2'\n",
      "   KMP_PLAIN_BARRIER_PATTERN='hyper,hyper'\n",
      "   KMP_REDUCTION_BARRIER='1,1'\n",
      "   KMP_REDUCTION_BARRIER_PATTERN='hyper,hyper'\n",
      "   KMP_SCHEDULE='static,balanced;guided,iterative'\n",
      "   KMP_SETTINGS=true\n",
      "   KMP_SPIN_BACKOFF_PARAMS='4096,100'\n",
      "   KMP_STACKOFFSET=64\n",
      "   KMP_STACKPAD=0\n",
      "   KMP_STACKSIZE=8M\n",
      "   KMP_STORAGE_MAP=false\n",
      "   KMP_TASKING=2\n",
      "   KMP_TASKLOOP_MIN_TASKS=0\n",
      "   KMP_TASK_STEALING_CONSTRAINT=1\n",
      "   KMP_TEAMS_THREAD_LIMIT=4\n",
      "   KMP_TOPOLOGY_METHOD=all\n",
      "   KMP_USE_YIELD=1\n",
      "   KMP_VERSION=false\n",
      "   KMP_WARNINGS=false\n",
      "   OMP_AFFINITY_FORMAT='OMP: pid %P tid %i thread %n bound to OS proc set {%A}'\n",
      "   OMP_ALLOCATOR=omp_default_mem_alloc\n",
      "   OMP_CANCELLATION=false\n",
      "   OMP_DEFAULT_DEVICE=0\n",
      "   OMP_DISPLAY_AFFINITY=false\n",
      "   OMP_DISPLAY_ENV=false\n",
      "   OMP_DYNAMIC=false\n",
      "   OMP_MAX_ACTIVE_LEVELS=1\n",
      "   OMP_MAX_TASK_PRIORITY=0\n",
      "   OMP_NESTED: deprecated; max-active-levels-var=1\n",
      "   OMP_NUM_THREADS: value is not defined\n",
      "   OMP_PLACES: value is not defined\n",
      "   OMP_PROC_BIND='intel'\n",
      "   OMP_SCHEDULE='static'\n",
      "   OMP_STACKSIZE=8M\n",
      "   OMP_TARGET_OFFLOAD=DEFAULT\n",
      "   OMP_THREAD_LIMIT=2147483647\n",
      "   OMP_WAIT_POLICY=PASSIVE\n",
      "   KMP_AFFINITY='verbose,warnings,respect,granularity=fine,compact,1,0'\n",
      "\n",
      "2022-01-12 20:21:37.349566: I tensorflow/core/common_runtime/process_util.cc:146] Creating new thread pool with default inter op setting: 2. Tune using inter_op_parallelism_threads for best performance.\n",
      "2022-01-12 20:21:37.761714: I tensorflow/compiler/mlir/mlir_graph_optimization_pass.cc:185] None of the MLIR Optimization Passes are enabled (registered 2)\n"
     ]
    },
    {
     "name": "stdout",
     "output_type": "stream",
     "text": [
      "Epoch 1/50\n",
      "4/4 [==============================] - 1s 90ms/step - loss: 0.6999 - accuracy: 0.5413 - val_loss: 0.6734 - val_accuracy: 0.5738\n",
      "Epoch 2/50\n",
      "4/4 [==============================] - 0s 17ms/step - loss: 0.6759 - accuracy: 0.5992 - val_loss: 0.6554 - val_accuracy: 0.5410\n",
      "Epoch 3/50\n",
      "4/4 [==============================] - 0s 16ms/step - loss: 0.6646 - accuracy: 0.5744 - val_loss: 0.6338 - val_accuracy: 0.6721\n",
      "Epoch 4/50\n",
      "4/4 [==============================] - 0s 18ms/step - loss: 0.6514 - accuracy: 0.6198 - val_loss: 0.6041 - val_accuracy: 0.7541\n",
      "Epoch 5/50\n",
      "4/4 [==============================] - 0s 18ms/step - loss: 0.6061 - accuracy: 0.7273 - val_loss: 0.5710 - val_accuracy: 0.8689\n",
      "Epoch 6/50\n",
      "4/4 [==============================] - 0s 18ms/step - loss: 0.5961 - accuracy: 0.7190 - val_loss: 0.5347 - val_accuracy: 0.8689\n",
      "Epoch 7/50\n",
      "4/4 [==============================] - 0s 17ms/step - loss: 0.5607 - accuracy: 0.7810 - val_loss: 0.4977 - val_accuracy: 0.8689\n",
      "Epoch 8/50\n",
      "4/4 [==============================] - 0s 18ms/step - loss: 0.5244 - accuracy: 0.8099 - val_loss: 0.4589 - val_accuracy: 0.8689\n",
      "Epoch 9/50\n",
      "4/4 [==============================] - 0s 17ms/step - loss: 0.5024 - accuracy: 0.7934 - val_loss: 0.4243 - val_accuracy: 0.9016\n",
      "Epoch 10/50\n",
      "4/4 [==============================] - 0s 17ms/step - loss: 0.4771 - accuracy: 0.8264 - val_loss: 0.3936 - val_accuracy: 0.9016\n",
      "Epoch 11/50\n",
      "4/4 [==============================] - 0s 17ms/step - loss: 0.4419 - accuracy: 0.8182 - val_loss: 0.3697 - val_accuracy: 0.9016\n",
      "Epoch 12/50\n",
      "4/4 [==============================] - 0s 18ms/step - loss: 0.4418 - accuracy: 0.7769 - val_loss: 0.3499 - val_accuracy: 0.9016\n",
      "Epoch 13/50\n",
      "4/4 [==============================] - 0s 17ms/step - loss: 0.4106 - accuracy: 0.7975 - val_loss: 0.3357 - val_accuracy: 0.9016\n",
      "Epoch 14/50\n",
      "4/4 [==============================] - 0s 17ms/step - loss: 0.3764 - accuracy: 0.8471 - val_loss: 0.3268 - val_accuracy: 0.9180\n",
      "\n",
      "Reached greater than 91% accuracy so cancelling training!\n"
     ]
    }
   ],
   "source": [
    "# Build model, compile model, train and validate model preformace\n",
    "model = tf.keras.Sequential([\n",
    "  tf.keras.layers.Dense(128, input_dim=13, activation='relu'),\n",
    "  tf.keras.layers.Dropout(.2),\n",
    "  tf.keras.layers.Dense(256, activation='sigmoid'),\n",
    "  tf.keras.layers.Dropout(.2),\n",
    "  tf.keras.layers.Dense(32, activation='sigmoid'),\n",
    "  tf.keras.layers.Dropout(.2),\n",
    "  tf.keras.layers.Dense(1, activation='sigmoid')\n",
    "])\n",
    "\n",
    "callbacks = myCallback()\n",
    "\n",
    "model.compile(optimizer='adam', loss='binary_crossentropy', metrics=['accuracy'])\n",
    "histo = model.fit(X_train, y_train, epochs=50, batch_size=64, callbacks=[callbacks],\n",
    "                  verbose = 1, validation_data=(X_test, y_test))"
   ]
  },
  {
   "cell_type": "code",
   "execution_count": 25,
   "id": "27df4221",
   "metadata": {
    "execution": {
     "iopub.execute_input": "2022-01-12T20:21:39.962491Z",
     "iopub.status.busy": "2022-01-12T20:21:39.961269Z",
     "iopub.status.idle": "2022-01-12T20:21:41.383228Z",
     "shell.execute_reply": "2022-01-12T20:21:41.382656Z",
     "shell.execute_reply.started": "2022-01-12T20:20:34.976711Z"
    },
    "papermill": {
     "duration": 1.48413,
     "end_time": "2022-01-12T20:21:41.383378",
     "exception": false,
     "start_time": "2022-01-12T20:21:39.899248",
     "status": "completed"
    },
    "tags": []
   },
   "outputs": [
    {
     "data": {
      "image/png": "[encoded data removed]",
      "text/plain": [
       "<Figure size 1080x360 with 1 Axes>"
      ]
     },
     "metadata": {
      "needs_background": "light"
     },
     "output_type": "display_data"
    }
   ],
   "source": [
    "# graph model accuracy of training and testing subsets \n",
    "plt.figure(figsize=(15,5))\n",
    "plt.plot(histo.history['accuracy'])\n",
    "plt.plot(histo.history['val_accuracy'])\n",
    "plt.title('Model accuracy')\n",
    "plt.ylabel('Accuracy')\n",
    "plt.xlabel('Epoch')\n",
    "plt.legend(['Train', 'Test'], loc='upper left')\n",
    "plt.show()"
   ]
  },
  {
   "cell_type": "code",
   "execution_count": 26,
   "id": "31f4c309",
   "metadata": {
    "execution": {
     "iopub.execute_input": "2022-01-12T20:21:41.508667Z",
     "iopub.status.busy": "2022-01-12T20:21:41.507572Z",
     "iopub.status.idle": "2022-01-12T20:21:41.766261Z",
     "shell.execute_reply": "2022-01-12T20:21:41.764657Z",
     "shell.execute_reply.started": "2022-01-12T20:20:38.084971Z"
    },
    "papermill": {
     "duration": 0.323225,
     "end_time": "2022-01-12T20:21:41.766432",
     "exception": false,
     "start_time": "2022-01-12T20:21:41.443207",
     "status": "completed"
    },
    "tags": []
   },
   "outputs": [
    {
     "data": {
      "image/png": "[encoded data removed]",
      "text/plain": [
       "<Figure size 1080x360 with 1 Axes>"
      ]
     },
     "metadata": {
      "needs_background": "light"
     },
     "output_type": "display_data"
    }
   ],
   "source": [
    "# graph the loss of both training and testing subsets \n",
    "plt.figure(figsize=(15,5))\n",
    "plt.plot(histo.history['loss']) \n",
    "plt.plot(histo.history['val_loss']) \n",
    "plt.title('Model loss') \n",
    "plt.ylabel('Loss') \n",
    "plt.xlabel('Epoch') \n",
    "plt.legend(['Train', 'Test'], loc='upper left') \n",
    "plt.show()"
   ]
  }
 ],
 "metadata": {
  "kernelspec": {
   "display_name": "Python 3",
   "language": "python",
   "name": "python3"
  },
  "language_info": {
   "codemirror_mode": {
    "name": "ipython",
    "version": 3
   },
   "file_extension": ".py",
   "mimetype": "text/x-python",
   "name": "python",
   "nbconvert_exporter": "python",
   "pygments_lexer": "ipython3",
   "version": "3.7.12"
  },
  "papermill": {
   "default_parameters": {},
   "duration": 33.820895,
   "end_time": "2022-01-12T20:21:44.791034",
   "environment_variables": {},
   "exception": null,
   "input_path": "__notebook__.ipynb",
   "output_path": "__notebook__.ipynb",
   "parameters": {},
   "start_time": "2022-01-12T20:21:10.970139",
   "version": "2.3.3"
  }
 },
 "nbformat": 4,
 "nbformat_minor": 5
}
