{
 "cells": [
  {
   "cell_type": "code",
   "execution_count": 1,
   "id": "44e2406e",
   "metadata": {},
   "outputs": [],
   "source": [
    "## Table of Content \n",
    "\n",
    "# 1. Import Libraries \n",
    "# 2. Import dataset\n",
    "# 3. Check for missing values\n",
    "# 4. Feature selection and split data \n",
    "# 5. Encode and tokenize selected columns \n",
    "# 6. Build model \n",
    "# 7. Train model\n",
    "# 8. Evaluation and prediction"
   ]
  },
  {
   "cell_type": "code",
   "execution_count": 2,
   "id": "c41402f1",
   "metadata": {},
   "outputs": [],
   "source": [
    "# import libraries\n",
    "import numpy as np\n",
    "import pandas as pd\n",
    "import tensorflow as tf\n",
    "from tensorflow import keras\n",
    "from tensorflow.keras.preprocessing.text import Tokenizer\n",
    "from tensorflow.keras import utils\n",
    "from tensorflow.keras.layers import Dense, Activation, Dropout, Embedding\n",
    "from sklearn import preprocessing"
   ]
  },
  {
   "cell_type": "code",
   "execution_count": 3,
   "id": "97086654",
   "metadata": {},
   "outputs": [
    {
     "data": {
      "text/html": [
       "<div>\n",
       "<style scoped>\n",
       "    .dataframe tbody tr th:only-of-type {\n",
       "        vertical-align: middle;\n",
       "    }\n",
       "\n",
       "    .dataframe tbody tr th {\n",
       "        vertical-align: top;\n",
       "    }\n",
       "\n",
       "    .dataframe thead th {\n",
       "        text-align: right;\n",
       "    }\n",
       "</style>\n",
       "<table border=\"1\" class=\"dataframe\">\n",
       "  <thead>\n",
       "    <tr style=\"text-align: right;\">\n",
       "      <th></th>\n",
       "      <th>S. No.</th>\n",
       "      <th>Message_body</th>\n",
       "      <th>Label</th>\n",
       "    </tr>\n",
       "  </thead>\n",
       "  <tbody>\n",
       "    <tr>\n",
       "      <th>0</th>\n",
       "      <td>1</td>\n",
       "      <td>Rofl. Its true to its name</td>\n",
       "      <td>Non-Spam</td>\n",
       "    </tr>\n",
       "    <tr>\n",
       "      <th>1</th>\n",
       "      <td>2</td>\n",
       "      <td>The guy did some bitching but I acted like i'd...</td>\n",
       "      <td>Non-Spam</td>\n",
       "    </tr>\n",
       "    <tr>\n",
       "      <th>2</th>\n",
       "      <td>3</td>\n",
       "      <td>Pity, * was in mood for that. So...any other s...</td>\n",
       "      <td>Non-Spam</td>\n",
       "    </tr>\n",
       "    <tr>\n",
       "      <th>3</th>\n",
       "      <td>4</td>\n",
       "      <td>Will ü b going to esplanade fr home?</td>\n",
       "      <td>Non-Spam</td>\n",
       "    </tr>\n",
       "    <tr>\n",
       "      <th>4</th>\n",
       "      <td>5</td>\n",
       "      <td>This is the 2nd time we have tried 2 contact u...</td>\n",
       "      <td>Spam</td>\n",
       "    </tr>\n",
       "    <tr>\n",
       "      <th>...</th>\n",
       "      <td>...</td>\n",
       "      <td>...</td>\n",
       "      <td>...</td>\n",
       "    </tr>\n",
       "    <tr>\n",
       "      <th>952</th>\n",
       "      <td>953</td>\n",
       "      <td>hows my favourite person today? r u workin har...</td>\n",
       "      <td>Non-Spam</td>\n",
       "    </tr>\n",
       "    <tr>\n",
       "      <th>953</th>\n",
       "      <td>954</td>\n",
       "      <td>How much you got for cleaning</td>\n",
       "      <td>Non-Spam</td>\n",
       "    </tr>\n",
       "    <tr>\n",
       "      <th>954</th>\n",
       "      <td>955</td>\n",
       "      <td>Sorry da. I gone mad so many pending works wha...</td>\n",
       "      <td>Non-Spam</td>\n",
       "    </tr>\n",
       "    <tr>\n",
       "      <th>955</th>\n",
       "      <td>956</td>\n",
       "      <td>Wat time ü finish?</td>\n",
       "      <td>Non-Spam</td>\n",
       "    </tr>\n",
       "    <tr>\n",
       "      <th>956</th>\n",
       "      <td>957</td>\n",
       "      <td>Just glad to be talking to you.</td>\n",
       "      <td>Non-Spam</td>\n",
       "    </tr>\n",
       "  </tbody>\n",
       "</table>\n",
       "<p>957 rows × 3 columns</p>\n",
       "</div>"
      ],
      "text/plain": [
       "     S. No.                                       Message_body     Label\n",
       "0         1                         Rofl. Its true to its name  Non-Spam\n",
       "1         2  The guy did some bitching but I acted like i'd...  Non-Spam\n",
       "2         3  Pity, * was in mood for that. So...any other s...  Non-Spam\n",
       "3         4               Will ü b going to esplanade fr home?  Non-Spam\n",
       "4         5  This is the 2nd time we have tried 2 contact u...      Spam\n",
       "..      ...                                                ...       ...\n",
       "952     953  hows my favourite person today? r u workin har...  Non-Spam\n",
       "953     954                      How much you got for cleaning  Non-Spam\n",
       "954     955  Sorry da. I gone mad so many pending works wha...  Non-Spam\n",
       "955     956                                 Wat time ü finish?  Non-Spam\n",
       "956     957                    Just glad to be talking to you.  Non-Spam\n",
       "\n",
       "[957 rows x 3 columns]"
      ]
     },
     "execution_count": 3,
     "metadata": {},
     "output_type": "execute_result"
    }
   ],
   "source": [
    "# import dataset\n",
    "sms_data = pd.read_csv('SMS.csv', encoding='unicode_escape')\n",
    "sms_data"
   ]
  },
  {
   "cell_type": "code",
   "execution_count": 4,
   "id": "259cc889",
   "metadata": {},
   "outputs": [
    {
     "data": {
      "text/plain": [
       "S. No.          0\n",
       "Message_body    0\n",
       "Label           0\n",
       "dtype: int64"
      ]
     },
     "execution_count": 4,
     "metadata": {},
     "output_type": "execute_result"
    }
   ],
   "source": [
    "#check for missing values\n",
    "sms_data.isnull().sum()"
   ]
  },
  {
   "cell_type": "code",
   "execution_count": 5,
   "id": "7cc349b2",
   "metadata": {},
   "outputs": [
    {
     "name": "stdout",
     "output_type": "stream",
     "text": [
      "Train: 765\n",
      "Test: 192\n"
     ]
    }
   ],
   "source": [
    "# split data into train and test subsets part 1 \n",
    "train_size = int(len(sms_data) * .8)\n",
    "print('Train:', train_size)\n",
    "print('Test:', (len(sms_data))- train_size)"
   ]
  },
  {
   "cell_type": "code",
   "execution_count": 6,
   "id": "2b597c3c",
   "metadata": {},
   "outputs": [],
   "source": [
    "# split data into train and test subsets part 2\n",
    "train_mb = sms_data['Message_body'][:train_size]\n",
    "train_label = sms_data['Label'][:train_size]\n",
    "\n",
    "test_mb = sms_data['Message_body'][train_size:]\n",
    "test_label = sms_data['Label'][train_size:]"
   ]
  },
  {
   "cell_type": "code",
   "execution_count": 7,
   "id": "fe00696d",
   "metadata": {},
   "outputs": [],
   "source": [
    "# encode sms_data['Label'] column \n",
    "endcoder = preprocessing.LabelEncoder()\n",
    "endcoder.fit(train_label)\n",
    "train_label2 = endcoder.transform(train_label)\n",
    "test_label2 = endcoder.transform(test_label)"
   ]
  },
  {
   "cell_type": "code",
   "execution_count": 8,
   "id": "2b60a3bf",
   "metadata": {},
   "outputs": [],
   "source": [
    "# convert encode sms_data['Label'] column to one hot rep categories \n",
    "num_c = np.max(train_label2) + 1\n",
    "train_label2 = utils.to_categorical(train_label2, num_c)\n",
    "test_label2 = utils.to_categorical(test_label2, num_c)"
   ]
  },
  {
   "cell_type": "code",
   "execution_count": 9,
   "id": "dd8e06c0",
   "metadata": {},
   "outputs": [],
   "source": [
    "# tokenize each word in the sms_data['Message_body'] column \n",
    "# up to 1000 words \n",
    "max_words = 1000\n",
    "tokenizer = Tokenizer(num_words = max_words, oov_token=\"<00V>\")\n",
    "tokenizer.fit_on_texts(train_mb)\n",
    "train_mb2 = tokenizer.texts_to_matrix(train_mb)\n",
    "test_mb2 = tokenizer.texts_to_matrix(test_mb)"
   ]
  },
  {
   "cell_type": "code",
   "execution_count": 10,
   "id": "fa5bfb77",
   "metadata": {},
   "outputs": [],
   "source": [
    "# build model\n",
    "model = tf.keras.Sequential()\n",
    "model.add(Dense(100, input_shape=(max_words,)))\n",
    "model.add(Activation('relu'))\n",
    "model.add(Dropout(0.5))\n",
    "model.add(Dense(num_c))\n",
    "model.add(Activation('softmax'))\n",
    "\n",
    "model.compile(loss='binary_crossentropy', \n",
    "              optimizer='adam', \n",
    "              metrics=['accuracy'])"
   ]
  },
  {
   "cell_type": "code",
   "execution_count": 11,
   "id": "2ff61a08",
   "metadata": {},
   "outputs": [
    {
     "name": "stdout",
     "output_type": "stream",
     "text": [
      "Epoch 1/7\n",
      "22/22 [==============================] - 2s 68ms/step - loss: 0.6497 - accuracy: 0.7318 - val_loss: 0.5118 - val_accuracy: 0.8701\n",
      "Epoch 2/7\n",
      "22/22 [==============================] - 0s 6ms/step - loss: 0.4649 - accuracy: 0.8829 - val_loss: 0.3664 - val_accuracy: 0.8701\n",
      "Epoch 3/7\n",
      "22/22 [==============================] - 0s 5ms/step - loss: 0.3211 - accuracy: 0.8949 - val_loss: 0.2709 - val_accuracy: 0.8961\n",
      "Epoch 4/7\n",
      "22/22 [==============================] - 0s 6ms/step - loss: 0.2405 - accuracy: 0.9153 - val_loss: 0.2031 - val_accuracy: 0.9481\n",
      "Epoch 5/7\n",
      "22/22 [==============================] - 0s 5ms/step - loss: 0.1922 - accuracy: 0.9509 - val_loss: 0.1528 - val_accuracy: 0.9740\n",
      "Epoch 6/7\n",
      "22/22 [==============================] - 0s 5ms/step - loss: 0.1304 - accuracy: 0.9715 - val_loss: 0.1166 - val_accuracy: 0.9740\n",
      "Epoch 7/7\n",
      "22/22 [==============================] - 0s 5ms/step - loss: 0.0898 - accuracy: 0.9782 - val_loss: 0.0953 - val_accuracy: 0.9870\n"
     ]
    }
   ],
   "source": [
    "# train model\n",
    "epochs = 7 \n",
    "\n",
    "history = model.fit(train_mb2, train_label2, epochs = epochs, verbose = 1,validation_split= 0.1)\n"
   ]
  },
  {
   "cell_type": "code",
   "execution_count": 12,
   "id": "b7694b1c",
   "metadata": {},
   "outputs": [
    {
     "name": "stdout",
     "output_type": "stream",
     "text": [
      "6/6 [==============================] - 0s 3ms/step - loss: 0.1297 - accuracy: 0.9740\n",
      "Accuracy score of: 0.9739583134651184\n"
     ]
    }
   ],
   "source": [
    "# evaluation \n",
    "score = model.evaluate(test_mb2, test_label2, verbose = 1)\n",
    "print('Accuracy score of:',score[1])"
   ]
  },
  {
   "cell_type": "code",
   "execution_count": 13,
   "id": "430cd11a",
   "metadata": {},
   "outputs": [
    {
     "name": "stdout",
     "output_type": "stream",
     "text": [
      "The guy at the car shop who was flirting with me got my phon ...\n",
      "Actual Label: Non-Spam\n",
      "Predicted Label: Non-Spam\n",
      "\n",
      "its cool but tyler had to take off so we're gonna buy for hi ...\n",
      "Actual Label: Non-Spam\n",
      "Predicted Label: Non-Spam\n",
      "\n",
      "I dont know why she.s not getting your messages ...\n",
      "Actual Label: Non-Spam\n",
      "Predicted Label: Non-Spam\n",
      "\n",
      "Just come home. I don't want u to be miserable ...\n",
      "Actual Label: Non-Spam\n",
      "Predicted Label: Non-Spam\n",
      "\n",
      "Santa calling! Would your little ones like a call from Santa ...\n",
      "Actual Label: Spam\n",
      "Predicted Label: Spam\n",
      "\n",
      "URGENT This is our 2nd attempt to contact U. Your £900 prize ...\n",
      "Actual Label: Spam\n",
      "Predicted Label: Spam\n",
      "\n",
      "Saw Guys and Dolls last night with Patrick Swayze it was gre ...\n",
      "Actual Label: Non-Spam\n",
      "Predicted Label: Non-Spam\n",
      "\n",
      "Sorry that was my uncle. I.ll keep in touch ...\n",
      "Actual Label: Non-Spam\n",
      "Predicted Label: Non-Spam\n",
      "\n",
      "Or u ask they all if next sat can a not. If all of them can  ...\n",
      "Actual Label: Non-Spam\n",
      "Predicted Label: Non-Spam\n",
      "\n",
      "Gd luck 4 ur exams :-) ...\n",
      "Actual Label: Non-Spam\n",
      "Predicted Label: Non-Spam\n",
      "\n",
      "Send me your resume:-) ...\n",
      "Actual Label: Non-Spam\n",
      "Predicted Label: Non-Spam\n",
      "\n",
      "Yup. Izzit still raining heavily cos i'm in e mrt i can't c  ...\n",
      "Actual Label: Non-Spam\n",
      "Predicted Label: Non-Spam\n",
      "\n",
      "We're on the opposite side from where we dropped you off ...\n",
      "Actual Label: Non-Spam\n",
      "Predicted Label: Non-Spam\n",
      "\n",
      "Thanx. Yup we coming back on sun. Finish dinner going back 2 ...\n",
      "Actual Label: Non-Spam\n",
      "Predicted Label: Non-Spam\n",
      "\n",
      "Ü thk of wat to eat tonight. ...\n",
      "Actual Label: Non-Spam\n",
      "Predicted Label: Non-Spam\n",
      "\n",
      "Holy living christ what is taking you so long ...\n",
      "Actual Label: Non-Spam\n",
      "Predicted Label: Non-Spam\n",
      "\n",
      "Urgent -call 09066649731from Landline. Your complimentary 4* ...\n",
      "Actual Label: Spam\n",
      "Predicted Label: Spam\n",
      "\n",
      "Indeed and by the way it was either or - not both ! ...\n",
      "Actual Label: Non-Spam\n",
      "Predicted Label: Non-Spam\n",
      "\n",
      "Especially since i talk about boston all up in my personal s ...\n",
      "Actual Label: Non-Spam\n",
      "Predicted Label: Non-Spam\n",
      "\n",
      "Call me, i am senthil from hsbc. ...\n",
      "Actual Label: Non-Spam\n",
      "Predicted Label: Non-Spam\n",
      "\n"
     ]
    }
   ],
   "source": [
    "# prediction \n",
    "text_labels = endcoder.classes_\n",
    "\n",
    "for x in range(20):\n",
    "    pred = model.predict(np.array([test_mb2[x]]))\n",
    "    prediction = text_labels[np.argmax(pred)]\n",
    "    print(test_mb.iloc[x][:60], '...')\n",
    "    print('Actual Label:',test_label.iloc[x][:20])\n",
    "    print('Predicted Label:', prediction + '\\n')"
   ]
  },
  {
   "cell_type": "code",
   "execution_count": null,
   "id": "a080463a",
   "metadata": {},
   "outputs": [],
   "source": []
  }
 ],
 "metadata": {
  "kernelspec": {
   "display_name": "Python 3.9.5 (tensorflow)",
   "language": "python",
   "name": "tensorflow"
  },
  "language_info": {
   "codemirror_mode": {
    "name": "ipython",
    "version": 3
   },
   "file_extension": ".py",
   "mimetype": "text/x-python",
   "name": "python",
   "nbconvert_exporter": "python",
   "pygments_lexer": "ipython3",
   "version": "3.8.11"
  }
 },
 "nbformat": 4,
 "nbformat_minor": 5
}
